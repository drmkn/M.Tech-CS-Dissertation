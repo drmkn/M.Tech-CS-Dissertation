{
 "cells": [
  {
   "cell_type": "code",
   "execution_count": 1,
   "id": "470b0957",
   "metadata": {},
   "outputs": [
    {
     "name": "stderr",
     "output_type": "stream",
     "text": [
      "/home/saptarshi/anaconda3/envs/Dhruv/lib/python3.12/site-packages/tqdm/auto.py:21: TqdmWarning: IProgress not found. Please update jupyter and ipywidgets. See https://ipywidgets.readthedocs.io/en/stable/user_install.html\n",
      "  from .autonotebook import tqdm as notebook_tqdm\n"
     ]
    }
   ],
   "source": [
    "%reset -f\n",
    "%load_ext autoreload\n",
    "%autoreload 2\n",
    "# import sys\n",
    "# sys.path.append('/home/saptarshi/Dhruv/Dissertation/ICC/')\n",
    "from generate_attributions import *\n",
    "from utils import CONFIG,compute_pgu_pgi_sums,evaluate_exp,PREFIX"
   ]
  },
  {
   "cell_type": "markdown",
   "id": "8aa845c1",
   "metadata": {},
   "source": [
    "## German Credit Dataset"
   ]
  },
  {
   "cell_type": "code",
   "execution_count": 19,
   "id": "c2e8843d",
   "metadata": {},
   "outputs": [],
   "source": [
    "config = CONFIG['german']\n",
    "mlp_path = PREFIX + 'models/german_mlp/german_mlp_seed_10/logs/version_1/checkpoints/epoch=62-step=819.ckpt'\n",
    "scm_path = PREFIX + 'models/german_nf/german_nf_seed_20/logs/version_0/checkpoints/epoch=509-step=6630.ckpt'\n",
    "mlp_model = MLPLightning.load_from_checkpoint(mlp_path,model = MLP(config['num_features'],config['hidden_layers_mlp'],classification=config['classification']))\n",
    "scm_model = CausalNF.load_from_checkpoint(scm_path,flow = flow(config['num_features'],config['gd_adjacency'],config['hidden_layers_flow']))"
   ]
  },
  {
   "cell_type": "code",
   "execution_count": null,
   "id": "2f3cbfff",
   "metadata": {},
   "outputs": [],
   "source": [
    "##generate attributions\n",
    "ge_dict, time_dict, global_explanations = generate_global_exps(config,mlp_model,scm_model)"
   ]
  },
  {
   "cell_type": "code",
   "execution_count": 20,
   "id": "a7a49264",
   "metadata": {},
   "outputs": [
    {
     "data": {
      "application/vnd.plotly.v1+json": {
       "config": {
        "plotlyServerURL": "https://plot.ly"
       },
       "data": [
        {
         "marker": {
          "color": "#E69F00",
          "line": {
           "width": 0.05
          }
         },
         "name": "IG",
         "type": "bar",
         "width": 0.06,
         "x": [
          "gender",
          "age",
          "credit amount",
          "repayment duration"
         ],
         "y": {
          "bdata": "SuWSZab2wj9tJeMbWWfLPzCbKPDfTc0/DK0wRxAq2j8=",
          "dtype": "f8"
         }
        },
        {
         "marker": {
          "color": "#56B4E9",
          "line": {
           "width": 0.05
          }
         },
         "name": "IxG",
         "type": "bar",
         "width": 0.06,
         "x": [
          "gender",
          "age",
          "credit amount",
          "repayment duration"
         ],
         "y": {
          "bdata": "TouObFX92D/E0hLV4CLbP2CS7K9M6cY/IzAWmtnIej8=",
          "dtype": "f8"
         }
        },
        {
         "marker": {
          "color": "#009E73",
          "line": {
           "width": 0.05
          }
         },
         "name": "SG",
         "type": "bar",
         "width": 0.06,
         "x": [
          "gender",
          "age",
          "credit amount",
          "repayment duration"
         ],
         "y": {
          "bdata": "3O/RfI6kzj9Lrkd6lNDRPxtfep+6pq0/4w1g80wo2z8=",
          "dtype": "f8"
         }
        },
        {
         "marker": {
          "color": "#F5C710",
          "line": {
           "width": 0.05
          }
         },
         "name": "SHAP",
         "type": "bar",
         "width": 0.06,
         "x": [
          "gender",
          "age",
          "credit amount",
          "repayment duration"
         ],
         "y": {
          "bdata": "ePopeyoT1D+s3l3r+VXRPxobECYfEJU/LSUXp9lF2T8=",
          "dtype": "f8"
         }
        },
        {
         "marker": {
          "color": "#0072B2",
          "line": {
           "width": 0.05
          }
         },
         "name": "LIME",
         "type": "bar",
         "width": 0.06,
         "x": [
          "gender",
          "age",
          "credit amount",
          "repayment duration"
         ],
         "y": {
          "bdata": "dh/7EJcb0D/vzoySFjnSP82k8ZkJR44/dYSoDxq53D8=",
          "dtype": "f8"
         }
        },
        {
         "marker": {
          "color": "#999999",
          "line": {
           "width": 0.05
          }
         },
         "name": "SP LIME",
         "type": "bar",
         "width": 0.06,
         "x": [
          "gender",
          "age",
          "credit amount",
          "repayment duration"
         ],
         "y": {
          "bdata": "7bAee9kpzD/Tdt4sbqbNP36e+/JbaZ4/HNloNqOY4D8=",
          "dtype": "f8"
         }
        },
        {
         "marker": {
          "color": "#000000",
          "line": {
           "width": 0.05
          }
         },
         "name": "PFI",
         "type": "bar",
         "width": 0.06,
         "x": [
          "gender",
          "age",
          "credit amount",
          "repayment duration"
         ],
         "y": {
          "bdata": "AAAAAOOKzT8AAABAherNPwAAAKDL8Mk/AAAAwOVM1T8=",
          "dtype": "f8"
         }
        },
        {
         "marker": {
          "color": "#D55E00",
          "line": {
           "width": 0.05
          }
         },
         "name": "ICC TOPO",
         "type": "bar",
         "width": 0.06,
         "x": [
          "gender",
          "age",
          "credit amount",
          "repayment duration"
         ],
         "y": {
          "bdata": "AAAAwNlQ1D8AAAAAKe/DPwAAACADBro/AAAAABE22z8=",
          "dtype": "f8"
         }
        },
        {
         "marker": {
          "color": "#CC79A7",
          "line": {
           "width": 0.05
          }
         },
         "name": "ICC SHAP",
         "type": "bar",
         "width": 0.06,
         "x": [
          "gender",
          "age",
          "credit amount",
          "repayment duration"
         ],
         "y": {
          "bdata": "AAAAADqY1T8AAADgsJHGPwAAAADEMbk/AAAAwHzS2D8=",
          "dtype": "f8"
         }
        }
       ],
       "layout": {
        "bargap": 0.45,
        "bargroupgap": 1,
        "barmode": "group",
        "font": {
         "size": 14
        },
        "legend": {
         "font": {
          "color": "black",
          "family": "Times New Roman",
          "size": 25
         },
         "title": {
          "font": {
           "color": "black",
           "family": "Times New Roman",
           "size": 25
          },
          "text": "Method"
         }
        },
        "plot_bgcolor": "rgba(0,0,0,0)",
        "showlegend": true,
        "template": {
         "data": {
          "bar": [
           {
            "error_x": {
             "color": "#2a3f5f"
            },
            "error_y": {
             "color": "#2a3f5f"
            },
            "marker": {
             "line": {
              "color": "#E5ECF6",
              "width": 0.5
             },
             "pattern": {
              "fillmode": "overlay",
              "size": 10,
              "solidity": 0.2
             }
            },
            "type": "bar"
           }
          ],
          "barpolar": [
           {
            "marker": {
             "line": {
              "color": "#E5ECF6",
              "width": 0.5
             },
             "pattern": {
              "fillmode": "overlay",
              "size": 10,
              "solidity": 0.2
             }
            },
            "type": "barpolar"
           }
          ],
          "carpet": [
           {
            "aaxis": {
             "endlinecolor": "#2a3f5f",
             "gridcolor": "white",
             "linecolor": "white",
             "minorgridcolor": "white",
             "startlinecolor": "#2a3f5f"
            },
            "baxis": {
             "endlinecolor": "#2a3f5f",
             "gridcolor": "white",
             "linecolor": "white",
             "minorgridcolor": "white",
             "startlinecolor": "#2a3f5f"
            },
            "type": "carpet"
           }
          ],
          "choropleth": [
           {
            "colorbar": {
             "outlinewidth": 0,
             "ticks": ""
            },
            "type": "choropleth"
           }
          ],
          "contour": [
           {
            "colorbar": {
             "outlinewidth": 0,
             "ticks": ""
            },
            "colorscale": [
             [
              0,
              "#0d0887"
             ],
             [
              0.1111111111111111,
              "#46039f"
             ],
             [
              0.2222222222222222,
              "#7201a8"
             ],
             [
              0.3333333333333333,
              "#9c179e"
             ],
             [
              0.4444444444444444,
              "#bd3786"
             ],
             [
              0.5555555555555556,
              "#d8576b"
             ],
             [
              0.6666666666666666,
              "#ed7953"
             ],
             [
              0.7777777777777778,
              "#fb9f3a"
             ],
             [
              0.8888888888888888,
              "#fdca26"
             ],
             [
              1,
              "#f0f921"
             ]
            ],
            "type": "contour"
           }
          ],
          "contourcarpet": [
           {
            "colorbar": {
             "outlinewidth": 0,
             "ticks": ""
            },
            "type": "contourcarpet"
           }
          ],
          "heatmap": [
           {
            "colorbar": {
             "outlinewidth": 0,
             "ticks": ""
            },
            "colorscale": [
             [
              0,
              "#0d0887"
             ],
             [
              0.1111111111111111,
              "#46039f"
             ],
             [
              0.2222222222222222,
              "#7201a8"
             ],
             [
              0.3333333333333333,
              "#9c179e"
             ],
             [
              0.4444444444444444,
              "#bd3786"
             ],
             [
              0.5555555555555556,
              "#d8576b"
             ],
             [
              0.6666666666666666,
              "#ed7953"
             ],
             [
              0.7777777777777778,
              "#fb9f3a"
             ],
             [
              0.8888888888888888,
              "#fdca26"
             ],
             [
              1,
              "#f0f921"
             ]
            ],
            "type": "heatmap"
           }
          ],
          "histogram": [
           {
            "marker": {
             "pattern": {
              "fillmode": "overlay",
              "size": 10,
              "solidity": 0.2
             }
            },
            "type": "histogram"
           }
          ],
          "histogram2d": [
           {
            "colorbar": {
             "outlinewidth": 0,
             "ticks": ""
            },
            "colorscale": [
             [
              0,
              "#0d0887"
             ],
             [
              0.1111111111111111,
              "#46039f"
             ],
             [
              0.2222222222222222,
              "#7201a8"
             ],
             [
              0.3333333333333333,
              "#9c179e"
             ],
             [
              0.4444444444444444,
              "#bd3786"
             ],
             [
              0.5555555555555556,
              "#d8576b"
             ],
             [
              0.6666666666666666,
              "#ed7953"
             ],
             [
              0.7777777777777778,
              "#fb9f3a"
             ],
             [
              0.8888888888888888,
              "#fdca26"
             ],
             [
              1,
              "#f0f921"
             ]
            ],
            "type": "histogram2d"
           }
          ],
          "histogram2dcontour": [
           {
            "colorbar": {
             "outlinewidth": 0,
             "ticks": ""
            },
            "colorscale": [
             [
              0,
              "#0d0887"
             ],
             [
              0.1111111111111111,
              "#46039f"
             ],
             [
              0.2222222222222222,
              "#7201a8"
             ],
             [
              0.3333333333333333,
              "#9c179e"
             ],
             [
              0.4444444444444444,
              "#bd3786"
             ],
             [
              0.5555555555555556,
              "#d8576b"
             ],
             [
              0.6666666666666666,
              "#ed7953"
             ],
             [
              0.7777777777777778,
              "#fb9f3a"
             ],
             [
              0.8888888888888888,
              "#fdca26"
             ],
             [
              1,
              "#f0f921"
             ]
            ],
            "type": "histogram2dcontour"
           }
          ],
          "mesh3d": [
           {
            "colorbar": {
             "outlinewidth": 0,
             "ticks": ""
            },
            "type": "mesh3d"
           }
          ],
          "parcoords": [
           {
            "line": {
             "colorbar": {
              "outlinewidth": 0,
              "ticks": ""
             }
            },
            "type": "parcoords"
           }
          ],
          "pie": [
           {
            "automargin": true,
            "type": "pie"
           }
          ],
          "scatter": [
           {
            "fillpattern": {
             "fillmode": "overlay",
             "size": 10,
             "solidity": 0.2
            },
            "type": "scatter"
           }
          ],
          "scatter3d": [
           {
            "line": {
             "colorbar": {
              "outlinewidth": 0,
              "ticks": ""
             }
            },
            "marker": {
             "colorbar": {
              "outlinewidth": 0,
              "ticks": ""
             }
            },
            "type": "scatter3d"
           }
          ],
          "scattercarpet": [
           {
            "marker": {
             "colorbar": {
              "outlinewidth": 0,
              "ticks": ""
             }
            },
            "type": "scattercarpet"
           }
          ],
          "scattergeo": [
           {
            "marker": {
             "colorbar": {
              "outlinewidth": 0,
              "ticks": ""
             }
            },
            "type": "scattergeo"
           }
          ],
          "scattergl": [
           {
            "marker": {
             "colorbar": {
              "outlinewidth": 0,
              "ticks": ""
             }
            },
            "type": "scattergl"
           }
          ],
          "scattermap": [
           {
            "marker": {
             "colorbar": {
              "outlinewidth": 0,
              "ticks": ""
             }
            },
            "type": "scattermap"
           }
          ],
          "scattermapbox": [
           {
            "marker": {
             "colorbar": {
              "outlinewidth": 0,
              "ticks": ""
             }
            },
            "type": "scattermapbox"
           }
          ],
          "scatterpolar": [
           {
            "marker": {
             "colorbar": {
              "outlinewidth": 0,
              "ticks": ""
             }
            },
            "type": "scatterpolar"
           }
          ],
          "scatterpolargl": [
           {
            "marker": {
             "colorbar": {
              "outlinewidth": 0,
              "ticks": ""
             }
            },
            "type": "scatterpolargl"
           }
          ],
          "scatterternary": [
           {
            "marker": {
             "colorbar": {
              "outlinewidth": 0,
              "ticks": ""
             }
            },
            "type": "scatterternary"
           }
          ],
          "surface": [
           {
            "colorbar": {
             "outlinewidth": 0,
             "ticks": ""
            },
            "colorscale": [
             [
              0,
              "#0d0887"
             ],
             [
              0.1111111111111111,
              "#46039f"
             ],
             [
              0.2222222222222222,
              "#7201a8"
             ],
             [
              0.3333333333333333,
              "#9c179e"
             ],
             [
              0.4444444444444444,
              "#bd3786"
             ],
             [
              0.5555555555555556,
              "#d8576b"
             ],
             [
              0.6666666666666666,
              "#ed7953"
             ],
             [
              0.7777777777777778,
              "#fb9f3a"
             ],
             [
              0.8888888888888888,
              "#fdca26"
             ],
             [
              1,
              "#f0f921"
             ]
            ],
            "type": "surface"
           }
          ],
          "table": [
           {
            "cells": {
             "fill": {
              "color": "#EBF0F8"
             },
             "line": {
              "color": "white"
             }
            },
            "header": {
             "fill": {
              "color": "#C8D4E3"
             },
             "line": {
              "color": "white"
             }
            },
            "type": "table"
           }
          ]
         },
         "layout": {
          "annotationdefaults": {
           "arrowcolor": "#2a3f5f",
           "arrowhead": 0,
           "arrowwidth": 1
          },
          "autotypenumbers": "strict",
          "coloraxis": {
           "colorbar": {
            "outlinewidth": 0,
            "ticks": ""
           }
          },
          "colorscale": {
           "diverging": [
            [
             0,
             "#8e0152"
            ],
            [
             0.1,
             "#c51b7d"
            ],
            [
             0.2,
             "#de77ae"
            ],
            [
             0.3,
             "#f1b6da"
            ],
            [
             0.4,
             "#fde0ef"
            ],
            [
             0.5,
             "#f7f7f7"
            ],
            [
             0.6,
             "#e6f5d0"
            ],
            [
             0.7,
             "#b8e186"
            ],
            [
             0.8,
             "#7fbc41"
            ],
            [
             0.9,
             "#4d9221"
            ],
            [
             1,
             "#276419"
            ]
           ],
           "sequential": [
            [
             0,
             "#0d0887"
            ],
            [
             0.1111111111111111,
             "#46039f"
            ],
            [
             0.2222222222222222,
             "#7201a8"
            ],
            [
             0.3333333333333333,
             "#9c179e"
            ],
            [
             0.4444444444444444,
             "#bd3786"
            ],
            [
             0.5555555555555556,
             "#d8576b"
            ],
            [
             0.6666666666666666,
             "#ed7953"
            ],
            [
             0.7777777777777778,
             "#fb9f3a"
            ],
            [
             0.8888888888888888,
             "#fdca26"
            ],
            [
             1,
             "#f0f921"
            ]
           ],
           "sequentialminus": [
            [
             0,
             "#0d0887"
            ],
            [
             0.1111111111111111,
             "#46039f"
            ],
            [
             0.2222222222222222,
             "#7201a8"
            ],
            [
             0.3333333333333333,
             "#9c179e"
            ],
            [
             0.4444444444444444,
             "#bd3786"
            ],
            [
             0.5555555555555556,
             "#d8576b"
            ],
            [
             0.6666666666666666,
             "#ed7953"
            ],
            [
             0.7777777777777778,
             "#fb9f3a"
            ],
            [
             0.8888888888888888,
             "#fdca26"
            ],
            [
             1,
             "#f0f921"
            ]
           ]
          },
          "colorway": [
           "#636efa",
           "#EF553B",
           "#00cc96",
           "#ab63fa",
           "#FFA15A",
           "#19d3f3",
           "#FF6692",
           "#B6E880",
           "#FF97FF",
           "#FECB52"
          ],
          "font": {
           "color": "#2a3f5f"
          },
          "geo": {
           "bgcolor": "white",
           "lakecolor": "white",
           "landcolor": "#E5ECF6",
           "showlakes": true,
           "showland": true,
           "subunitcolor": "white"
          },
          "hoverlabel": {
           "align": "left"
          },
          "hovermode": "closest",
          "mapbox": {
           "style": "light"
          },
          "paper_bgcolor": "white",
          "plot_bgcolor": "#E5ECF6",
          "polar": {
           "angularaxis": {
            "gridcolor": "white",
            "linecolor": "white",
            "ticks": ""
           },
           "bgcolor": "#E5ECF6",
           "radialaxis": {
            "gridcolor": "white",
            "linecolor": "white",
            "ticks": ""
           }
          },
          "scene": {
           "xaxis": {
            "backgroundcolor": "#E5ECF6",
            "gridcolor": "white",
            "gridwidth": 2,
            "linecolor": "white",
            "showbackground": true,
            "ticks": "",
            "zerolinecolor": "white"
           },
           "yaxis": {
            "backgroundcolor": "#E5ECF6",
            "gridcolor": "white",
            "gridwidth": 2,
            "linecolor": "white",
            "showbackground": true,
            "ticks": "",
            "zerolinecolor": "white"
           },
           "zaxis": {
            "backgroundcolor": "#E5ECF6",
            "gridcolor": "white",
            "gridwidth": 2,
            "linecolor": "white",
            "showbackground": true,
            "ticks": "",
            "zerolinecolor": "white"
           }
          },
          "shapedefaults": {
           "line": {
            "color": "#2a3f5f"
           }
          },
          "ternary": {
           "aaxis": {
            "gridcolor": "white",
            "linecolor": "white",
            "ticks": ""
           },
           "baxis": {
            "gridcolor": "white",
            "linecolor": "white",
            "ticks": ""
           },
           "bgcolor": "#E5ECF6",
           "caxis": {
            "gridcolor": "white",
            "linecolor": "white",
            "ticks": ""
           }
          },
          "title": {
           "x": 0.05
          },
          "xaxis": {
           "automargin": true,
           "gridcolor": "white",
           "linecolor": "white",
           "ticks": "",
           "title": {
            "standoff": 15
           },
           "zerolinecolor": "white",
           "zerolinewidth": 2
          },
          "yaxis": {
           "automargin": true,
           "gridcolor": "white",
           "linecolor": "white",
           "ticks": "",
           "title": {
            "standoff": 15
           },
           "zerolinecolor": "white",
           "zerolinewidth": 2
          }
         }
        },
        "xaxis": {
         "linecolor": "lightgray",
         "range": [
          -0.5,
          3.5
         ],
         "showgrid": false,
         "tickcolor": "lightgray",
         "tickfont": {
          "color": "black",
          "family": "Times New Roman",
          "size": 26
         },
         "tickmode": "array",
         "ticktext": [
          "gender",
          "age",
          "credit amount",
          "repayment duration"
         ],
         "tickvals": [
          0,
          1,
          2,
          3
         ]
        },
        "yaxis": {
         "dtick": 0.1,
         "gridcolor": "lightgray",
         "linecolor": "lightgray",
         "range": [
          0,
          0.9
         ],
         "showgrid": true,
         "tickcolor": "lightgray",
         "tickfont": {
          "color": "black",
          "family": "Times New Roman",
          "size": 25
         },
         "ticks": "outside",
         "title": {
          "font": {
           "color": "black",
           "family": "Times New Roman",
           "size": 25
          },
          "text": "Attributions"
         }
        }
       }
      }
     },
     "metadata": {},
     "output_type": "display_data"
    }
   ],
   "source": [
    "# Load JSON\n",
    "with open(PREFIX + \"attributions/german/attribution.json\", \"r\") as f:\n",
    "    data = json.load(f)\n",
    "global_explanations = data['global_explanations']    \n",
    "generate_attr_plot(global_explanations,config)"
   ]
  },
  {
   "cell_type": "code",
   "execution_count": 21,
   "id": "58f8dd3e",
   "metadata": {},
   "outputs": [
    {
     "name": "stdout",
     "output_type": "stream",
     "text": [
      "{'ig': {'pgu': {'k=1': [0.4411274194717407], 'k=2': [0.43863216042518616], 'k=3': [0.43636706471443176], 'k=4': [0.43407464027404785]}, 'pgi': {'k=1': [0.002333749318495393], 'k=2': [0.004829013720154762], 'k=3': [0.00709407078102231], 'k=4': [0.009386534802615643]}}, 'itg': {'pgu': {'k=1': [0.441196084022522], 'k=2': [0.43890365958213806], 'k=3': [0.4364084005355835], 'k=4': [0.43407464027404785]}, 'pgi': {'k=1': [0.002265057060867548], 'k=2': [0.004557520616799593], 'k=3': [0.007052785251289606], 'k=4': [0.009386534802615643]}}, 'sg': {'pgu': {'k=1': [0.4411274194717407], 'k=2': [0.4388623535633087], 'k=3': [0.4365698993206024], 'k=4': [0.43407464027404785]}, 'pgi': {'k=1': [0.002333749318495393], 'k=2': [0.0045988066121935844], 'k=3': [0.006891269702464342], 'k=4': [0.009386534802615643]}}, 'shap': {'pgu': {'k=1': [0.4411274194717407], 'k=2': [0.4388349652290344], 'k=3': [0.4365698993206024], 'k=4': [0.43407464027404785]}, 'pgi': {'k=1': [0.002333749318495393], 'k=2': [0.004626212641596794], 'k=3': [0.006891269702464342], 'k=4': [0.009386534802615643]}}, 'lime': {'pgu': {'k=1': [0.4411274194717407], 'k=2': [0.4388623535633087], 'k=3': [0.4365698993206024], 'k=4': [0.43407464027404785]}, 'pgi': {'k=1': [0.002333749318495393], 'k=2': [0.0045988066121935844], 'k=3': [0.006891269702464342], 'k=4': [0.009386534802615643]}}, 'sp_lime': {'pgu': {'k=1': [0.4411686956882477], 'k=2': [0.43890365958213806], 'k=3': [0.4364084005355835], 'k=4': [0.43407464027404785]}, 'pgi': {'k=1': [0.002292463555932045], 'k=2': [0.004557520616799593], 'k=3': [0.007052785251289606], 'k=4': [0.009386534802615643]}}, 'pfi': {'pgu': {'k=1': [0.4411274194717407], 'k=2': [0.4388623535633087], 'k=3': [0.4365698993206024], 'k=4': [0.43407464027404785]}, 'pgi': {'k=1': [0.002333749318495393], 'k=2': [0.0045988066121935844], 'k=3': [0.006891269702464342], 'k=4': [0.009386534802615643]}}, 'icc_topo': {'pgu': {'k=1': [0.4411274194717407], 'k=2': [0.4388349652290344], 'k=3': [0.4365698993206024], 'k=4': [0.43407464027404785]}, 'pgi': {'k=1': [0.002333749318495393], 'k=2': [0.004626212641596794], 'k=3': [0.006891269702464342], 'k=4': [0.009386534802615643]}}, 'icc_shap': {'pgu': {'k=1': [0.4411274194717407], 'k=2': [0.4388349652290344], 'k=3': [0.4365698993206024], 'k=4': [0.43407464027404785]}, 'pgi': {'k=1': [0.002333749318495393], 'k=2': [0.004626212641596794], 'k=3': [0.006891269702464342], 'k=4': [0.009386534802615643]}}}\n",
      "ig: PGU Sum = 1.750201, PGI Sum = 0.023643\n",
      "itg: PGU Sum = 1.750583, PGI Sum = 0.023262\n",
      "sg: PGU Sum = 1.750634, PGI Sum = 0.023210\n",
      "shap: PGU Sum = 1.750607, PGI Sum = 0.023238\n",
      "lime: PGU Sum = 1.750634, PGI Sum = 0.023210\n",
      "sp_lime: PGU Sum = 1.750555, PGI Sum = 0.023289\n",
      "pfi: PGU Sum = 1.750634, PGI Sum = 0.023210\n",
      "icc_topo: PGU Sum = 1.750607, PGI Sum = 0.023238\n",
      "icc_shap: PGU Sum = 1.750607, PGI Sum = 0.023238\n"
     ]
    }
   ],
   "source": [
    "ge_dict = data[\"ge_dict\"]\n",
    "evaluation_metrics = evaluate_exp(ge_dict,config,mlp_model)\n",
    "print(evaluation_metrics)\n",
    "# Display the results\n",
    "agg_scores = compute_pgu_pgi_sums(evaluation_metrics)\n",
    "for method, scores in agg_scores.items():\n",
    "    print(f\"{method}: PGU Sum = {scores['pgu_sum']:.6f}, PGI Sum = {scores['pgi_sum']:.6f}\")\n"
   ]
  },
  {
   "cell_type": "markdown",
   "id": "bd98ca54",
   "metadata": {},
   "source": [
    "## Lung Cancer Dataset"
   ]
  },
  {
   "cell_type": "code",
   "execution_count": 12,
   "id": "12bfa2e6",
   "metadata": {},
   "outputs": [],
   "source": [
    "config = CONFIG['cancer']\n",
    "mlp_path = PREFIX + 'models/cancer_mlp/cancer_mlp_seed_20/logs/version_0/checkpoints/epoch=62-step=2394.ckpt'\n",
    "scm_path = PREFIX + 'models/cancer_nf/cancer_nf_seed_10/logs/version_0/checkpoints/epoch=203-step=7752.ckpt'\n",
    "mlp_model = MLPLightning.load_from_checkpoint(mlp_path,model = MLP(config['num_features'],config['hidden_layers_mlp'],classification=config['classification']))\n",
    "scm_model = CausalNF.load_from_checkpoint(scm_path,flow = flow(config['num_features'],config['gd_adjacency'],config['hidden_layers_flow']))"
   ]
  },
  {
   "cell_type": "code",
   "execution_count": null,
   "id": "92dd6e64",
   "metadata": {},
   "outputs": [],
   "source": [
    "##generate attributions\n",
    "ge_dict, time_dict, global_explanations = generate_global_exps(config,mlp_model,scm_model)"
   ]
  },
  {
   "cell_type": "code",
   "execution_count": 13,
   "id": "be50d952",
   "metadata": {},
   "outputs": [
    {
     "data": {
      "application/vnd.plotly.v1+json": {
       "config": {
        "plotlyServerURL": "https://plot.ly"
       },
       "data": [
        {
         "marker": {
          "color": "#E69F00",
          "line": {
           "width": 0.05
          }
         },
         "name": "IG",
         "type": "bar",
         "width": 0.06,
         "x": [
          "asia",
          "tub",
          "smoke",
          "lung",
          "bronc",
          "either",
          "xray"
         ],
         "y": {
          "bdata": "yiHh3kCHuT9jSft79XmEPx1qA8qnMrs/rv7x1NnYtz+yk2OdQtnkPxL4fjxi+no/bf6Kh4fIoD8=",
          "dtype": "f8"
         }
        },
        {
         "marker": {
          "color": "#56B4E9",
          "line": {
           "width": 0.05
          }
         },
         "name": "IxG",
         "type": "bar",
         "width": 0.06,
         "x": [
          "asia",
          "tub",
          "smoke",
          "lung",
          "bronc",
          "either",
          "xray"
         ],
         "y": {
          "bdata": "JxFtDWnDmD/6vUQ3xaK2P2K3lGYBPMA/CYcqeLa7yz8DMQz7KxVFP3ooqBwM/8o/5cWmjStF1T8=",
          "dtype": "f8"
         }
        },
        {
         "marker": {
          "color": "#009E73",
          "line": {
           "width": 0.05
          }
         },
         "name": "SG",
         "type": "bar",
         "width": 0.06,
         "x": [
          "asia",
          "tub",
          "smoke",
          "lung",
          "bronc",
          "either",
          "xray"
         ],
         "y": {
          "bdata": "khQugkL4kj/26c/Q4FbCP/kRblciHbk/QCEb8AfM0z8LmZfqopaCPyOfmzCKdMk/R++3c4GFzD8=",
          "dtype": "f8"
         }
        },
        {
         "marker": {
          "color": "#F5C710",
          "line": {
           "width": 0.05
          }
         },
         "name": "SHAP",
         "type": "bar",
         "width": 0.06,
         "x": [
          "asia",
          "tub",
          "smoke",
          "lung",
          "bronc",
          "either",
          "xray"
         ],
         "y": {
          "bdata": "EGREKSgNsD8H14N1KHRRP5qumuZ5Z6c/lsB9lhyL0j8K2naGy2/QP2IgjtT2bMQ//sRUEt6Zxz8=",
          "dtype": "f8"
         }
        },
        {
         "marker": {
          "color": "#0072B2",
          "line": {
           "width": 0.05
          }
         },
         "name": "LIME",
         "type": "bar",
         "width": 0.06,
         "x": [
          "asia",
          "tub",
          "smoke",
          "lung",
          "bronc",
          "either",
          "xray"
         ],
         "y": {
          "bdata": "k4WV6DZEmT86c7P3S2P7Pq3ajrZ/drA/max5rQGGpj/jByXnIfDnP2cBUtoCo7A/4WOq4FKfqz8=",
          "dtype": "f8"
         }
        },
        {
         "marker": {
          "color": "#999999",
          "line": {
           "width": 0.05
          }
         },
         "name": "SP LIME",
         "type": "bar",
         "width": 0.06,
         "x": [
          "asia",
          "tub",
          "smoke",
          "lung",
          "bronc",
          "either",
          "xray"
         ],
         "y": {
          "bdata": "m1v4crlymT/2CBTrOeiQP8PLIOTfuao/hqA8RqjtiT+NbisKGYDpP3cWOPZcn7E/K4hFmOO5nD8=",
          "dtype": "f8"
         }
        },
        {
         "marker": {
          "color": "#000000",
          "line": {
           "width": 0.05
          }
         },
         "name": "PFI",
         "type": "bar",
         "width": 0.06,
         "x": [
          "asia",
          "tub",
          "smoke",
          "lung",
          "bronc",
          "either",
          "xray"
         ],
         "y": {
          "bdata": "AAAAwMPepj8AAAAgCxakPwAAAICBlbE/AAAAgGg3vD8AAACgqVDjPwAAAADH37E/AAAAgJlTsD8=",
          "dtype": "f8"
         }
        },
        {
         "marker": {
          "color": "#D55E00",
          "line": {
           "width": 0.05
          }
         },
         "name": "ICC TOPO",
         "type": "bar",
         "width": 0.06,
         "x": [
          "asia",
          "tub",
          "smoke",
          "lung",
          "bronc",
          "either",
          "xray"
         ],
         "y": {
          "bdata": "AAAAoDrmWz8AAAAglTZhPwAAACCo/3Y/AAAAoJQegj8AAACASLHuPwAAACDay4M/AAAAoBk9fD8=",
          "dtype": "f8"
         }
        },
        {
         "marker": {
          "color": "#CC79A7",
          "line": {
           "width": 0.05
          }
         },
         "name": "ICC SHAP",
         "type": "bar",
         "width": 0.06,
         "x": [
          "asia",
          "tub",
          "smoke",
          "lung",
          "bronc",
          "either",
          "xray"
         ],
         "y": {
          "bdata": "AAAAwFWUYT8AAACgrT1iPwAAAKADoYI/AAAAYJNjij8AAABAaJPuPwAAAIAVfX4/AAAAgA0ncz8=",
          "dtype": "f8"
         }
        }
       ],
       "layout": {
        "bargap": 0.45,
        "bargroupgap": 1,
        "barmode": "group",
        "font": {
         "size": 14
        },
        "legend": {
         "font": {
          "color": "black",
          "family": "Times New Roman",
          "size": 25
         },
         "title": {
          "font": {
           "color": "black",
           "family": "Times New Roman",
           "size": 25
          },
          "text": "Method"
         }
        },
        "plot_bgcolor": "rgba(0,0,0,0)",
        "showlegend": true,
        "template": {
         "data": {
          "bar": [
           {
            "error_x": {
             "color": "#2a3f5f"
            },
            "error_y": {
             "color": "#2a3f5f"
            },
            "marker": {
             "line": {
              "color": "#E5ECF6",
              "width": 0.5
             },
             "pattern": {
              "fillmode": "overlay",
              "size": 10,
              "solidity": 0.2
             }
            },
            "type": "bar"
           }
          ],
          "barpolar": [
           {
            "marker": {
             "line": {
              "color": "#E5ECF6",
              "width": 0.5
             },
             "pattern": {
              "fillmode": "overlay",
              "size": 10,
              "solidity": 0.2
             }
            },
            "type": "barpolar"
           }
          ],
          "carpet": [
           {
            "aaxis": {
             "endlinecolor": "#2a3f5f",
             "gridcolor": "white",
             "linecolor": "white",
             "minorgridcolor": "white",
             "startlinecolor": "#2a3f5f"
            },
            "baxis": {
             "endlinecolor": "#2a3f5f",
             "gridcolor": "white",
             "linecolor": "white",
             "minorgridcolor": "white",
             "startlinecolor": "#2a3f5f"
            },
            "type": "carpet"
           }
          ],
          "choropleth": [
           {
            "colorbar": {
             "outlinewidth": 0,
             "ticks": ""
            },
            "type": "choropleth"
           }
          ],
          "contour": [
           {
            "colorbar": {
             "outlinewidth": 0,
             "ticks": ""
            },
            "colorscale": [
             [
              0,
              "#0d0887"
             ],
             [
              0.1111111111111111,
              "#46039f"
             ],
             [
              0.2222222222222222,
              "#7201a8"
             ],
             [
              0.3333333333333333,
              "#9c179e"
             ],
             [
              0.4444444444444444,
              "#bd3786"
             ],
             [
              0.5555555555555556,
              "#d8576b"
             ],
             [
              0.6666666666666666,
              "#ed7953"
             ],
             [
              0.7777777777777778,
              "#fb9f3a"
             ],
             [
              0.8888888888888888,
              "#fdca26"
             ],
             [
              1,
              "#f0f921"
             ]
            ],
            "type": "contour"
           }
          ],
          "contourcarpet": [
           {
            "colorbar": {
             "outlinewidth": 0,
             "ticks": ""
            },
            "type": "contourcarpet"
           }
          ],
          "heatmap": [
           {
            "colorbar": {
             "outlinewidth": 0,
             "ticks": ""
            },
            "colorscale": [
             [
              0,
              "#0d0887"
             ],
             [
              0.1111111111111111,
              "#46039f"
             ],
             [
              0.2222222222222222,
              "#7201a8"
             ],
             [
              0.3333333333333333,
              "#9c179e"
             ],
             [
              0.4444444444444444,
              "#bd3786"
             ],
             [
              0.5555555555555556,
              "#d8576b"
             ],
             [
              0.6666666666666666,
              "#ed7953"
             ],
             [
              0.7777777777777778,
              "#fb9f3a"
             ],
             [
              0.8888888888888888,
              "#fdca26"
             ],
             [
              1,
              "#f0f921"
             ]
            ],
            "type": "heatmap"
           }
          ],
          "histogram": [
           {
            "marker": {
             "pattern": {
              "fillmode": "overlay",
              "size": 10,
              "solidity": 0.2
             }
            },
            "type": "histogram"
           }
          ],
          "histogram2d": [
           {
            "colorbar": {
             "outlinewidth": 0,
             "ticks": ""
            },
            "colorscale": [
             [
              0,
              "#0d0887"
             ],
             [
              0.1111111111111111,
              "#46039f"
             ],
             [
              0.2222222222222222,
              "#7201a8"
             ],
             [
              0.3333333333333333,
              "#9c179e"
             ],
             [
              0.4444444444444444,
              "#bd3786"
             ],
             [
              0.5555555555555556,
              "#d8576b"
             ],
             [
              0.6666666666666666,
              "#ed7953"
             ],
             [
              0.7777777777777778,
              "#fb9f3a"
             ],
             [
              0.8888888888888888,
              "#fdca26"
             ],
             [
              1,
              "#f0f921"
             ]
            ],
            "type": "histogram2d"
           }
          ],
          "histogram2dcontour": [
           {
            "colorbar": {
             "outlinewidth": 0,
             "ticks": ""
            },
            "colorscale": [
             [
              0,
              "#0d0887"
             ],
             [
              0.1111111111111111,
              "#46039f"
             ],
             [
              0.2222222222222222,
              "#7201a8"
             ],
             [
              0.3333333333333333,
              "#9c179e"
             ],
             [
              0.4444444444444444,
              "#bd3786"
             ],
             [
              0.5555555555555556,
              "#d8576b"
             ],
             [
              0.6666666666666666,
              "#ed7953"
             ],
             [
              0.7777777777777778,
              "#fb9f3a"
             ],
             [
              0.8888888888888888,
              "#fdca26"
             ],
             [
              1,
              "#f0f921"
             ]
            ],
            "type": "histogram2dcontour"
           }
          ],
          "mesh3d": [
           {
            "colorbar": {
             "outlinewidth": 0,
             "ticks": ""
            },
            "type": "mesh3d"
           }
          ],
          "parcoords": [
           {
            "line": {
             "colorbar": {
              "outlinewidth": 0,
              "ticks": ""
             }
            },
            "type": "parcoords"
           }
          ],
          "pie": [
           {
            "automargin": true,
            "type": "pie"
           }
          ],
          "scatter": [
           {
            "fillpattern": {
             "fillmode": "overlay",
             "size": 10,
             "solidity": 0.2
            },
            "type": "scatter"
           }
          ],
          "scatter3d": [
           {
            "line": {
             "colorbar": {
              "outlinewidth": 0,
              "ticks": ""
             }
            },
            "marker": {
             "colorbar": {
              "outlinewidth": 0,
              "ticks": ""
             }
            },
            "type": "scatter3d"
           }
          ],
          "scattercarpet": [
           {
            "marker": {
             "colorbar": {
              "outlinewidth": 0,
              "ticks": ""
             }
            },
            "type": "scattercarpet"
           }
          ],
          "scattergeo": [
           {
            "marker": {
             "colorbar": {
              "outlinewidth": 0,
              "ticks": ""
             }
            },
            "type": "scattergeo"
           }
          ],
          "scattergl": [
           {
            "marker": {
             "colorbar": {
              "outlinewidth": 0,
              "ticks": ""
             }
            },
            "type": "scattergl"
           }
          ],
          "scattermap": [
           {
            "marker": {
             "colorbar": {
              "outlinewidth": 0,
              "ticks": ""
             }
            },
            "type": "scattermap"
           }
          ],
          "scattermapbox": [
           {
            "marker": {
             "colorbar": {
              "outlinewidth": 0,
              "ticks": ""
             }
            },
            "type": "scattermapbox"
           }
          ],
          "scatterpolar": [
           {
            "marker": {
             "colorbar": {
              "outlinewidth": 0,
              "ticks": ""
             }
            },
            "type": "scatterpolar"
           }
          ],
          "scatterpolargl": [
           {
            "marker": {
             "colorbar": {
              "outlinewidth": 0,
              "ticks": ""
             }
            },
            "type": "scatterpolargl"
           }
          ],
          "scatterternary": [
           {
            "marker": {
             "colorbar": {
              "outlinewidth": 0,
              "ticks": ""
             }
            },
            "type": "scatterternary"
           }
          ],
          "surface": [
           {
            "colorbar": {
             "outlinewidth": 0,
             "ticks": ""
            },
            "colorscale": [
             [
              0,
              "#0d0887"
             ],
             [
              0.1111111111111111,
              "#46039f"
             ],
             [
              0.2222222222222222,
              "#7201a8"
             ],
             [
              0.3333333333333333,
              "#9c179e"
             ],
             [
              0.4444444444444444,
              "#bd3786"
             ],
             [
              0.5555555555555556,
              "#d8576b"
             ],
             [
              0.6666666666666666,
              "#ed7953"
             ],
             [
              0.7777777777777778,
              "#fb9f3a"
             ],
             [
              0.8888888888888888,
              "#fdca26"
             ],
             [
              1,
              "#f0f921"
             ]
            ],
            "type": "surface"
           }
          ],
          "table": [
           {
            "cells": {
             "fill": {
              "color": "#EBF0F8"
             },
             "line": {
              "color": "white"
             }
            },
            "header": {
             "fill": {
              "color": "#C8D4E3"
             },
             "line": {
              "color": "white"
             }
            },
            "type": "table"
           }
          ]
         },
         "layout": {
          "annotationdefaults": {
           "arrowcolor": "#2a3f5f",
           "arrowhead": 0,
           "arrowwidth": 1
          },
          "autotypenumbers": "strict",
          "coloraxis": {
           "colorbar": {
            "outlinewidth": 0,
            "ticks": ""
           }
          },
          "colorscale": {
           "diverging": [
            [
             0,
             "#8e0152"
            ],
            [
             0.1,
             "#c51b7d"
            ],
            [
             0.2,
             "#de77ae"
            ],
            [
             0.3,
             "#f1b6da"
            ],
            [
             0.4,
             "#fde0ef"
            ],
            [
             0.5,
             "#f7f7f7"
            ],
            [
             0.6,
             "#e6f5d0"
            ],
            [
             0.7,
             "#b8e186"
            ],
            [
             0.8,
             "#7fbc41"
            ],
            [
             0.9,
             "#4d9221"
            ],
            [
             1,
             "#276419"
            ]
           ],
           "sequential": [
            [
             0,
             "#0d0887"
            ],
            [
             0.1111111111111111,
             "#46039f"
            ],
            [
             0.2222222222222222,
             "#7201a8"
            ],
            [
             0.3333333333333333,
             "#9c179e"
            ],
            [
             0.4444444444444444,
             "#bd3786"
            ],
            [
             0.5555555555555556,
             "#d8576b"
            ],
            [
             0.6666666666666666,
             "#ed7953"
            ],
            [
             0.7777777777777778,
             "#fb9f3a"
            ],
            [
             0.8888888888888888,
             "#fdca26"
            ],
            [
             1,
             "#f0f921"
            ]
           ],
           "sequentialminus": [
            [
             0,
             "#0d0887"
            ],
            [
             0.1111111111111111,
             "#46039f"
            ],
            [
             0.2222222222222222,
             "#7201a8"
            ],
            [
             0.3333333333333333,
             "#9c179e"
            ],
            [
             0.4444444444444444,
             "#bd3786"
            ],
            [
             0.5555555555555556,
             "#d8576b"
            ],
            [
             0.6666666666666666,
             "#ed7953"
            ],
            [
             0.7777777777777778,
             "#fb9f3a"
            ],
            [
             0.8888888888888888,
             "#fdca26"
            ],
            [
             1,
             "#f0f921"
            ]
           ]
          },
          "colorway": [
           "#636efa",
           "#EF553B",
           "#00cc96",
           "#ab63fa",
           "#FFA15A",
           "#19d3f3",
           "#FF6692",
           "#B6E880",
           "#FF97FF",
           "#FECB52"
          ],
          "font": {
           "color": "#2a3f5f"
          },
          "geo": {
           "bgcolor": "white",
           "lakecolor": "white",
           "landcolor": "#E5ECF6",
           "showlakes": true,
           "showland": true,
           "subunitcolor": "white"
          },
          "hoverlabel": {
           "align": "left"
          },
          "hovermode": "closest",
          "mapbox": {
           "style": "light"
          },
          "paper_bgcolor": "white",
          "plot_bgcolor": "#E5ECF6",
          "polar": {
           "angularaxis": {
            "gridcolor": "white",
            "linecolor": "white",
            "ticks": ""
           },
           "bgcolor": "#E5ECF6",
           "radialaxis": {
            "gridcolor": "white",
            "linecolor": "white",
            "ticks": ""
           }
          },
          "scene": {
           "xaxis": {
            "backgroundcolor": "#E5ECF6",
            "gridcolor": "white",
            "gridwidth": 2,
            "linecolor": "white",
            "showbackground": true,
            "ticks": "",
            "zerolinecolor": "white"
           },
           "yaxis": {
            "backgroundcolor": "#E5ECF6",
            "gridcolor": "white",
            "gridwidth": 2,
            "linecolor": "white",
            "showbackground": true,
            "ticks": "",
            "zerolinecolor": "white"
           },
           "zaxis": {
            "backgroundcolor": "#E5ECF6",
            "gridcolor": "white",
            "gridwidth": 2,
            "linecolor": "white",
            "showbackground": true,
            "ticks": "",
            "zerolinecolor": "white"
           }
          },
          "shapedefaults": {
           "line": {
            "color": "#2a3f5f"
           }
          },
          "ternary": {
           "aaxis": {
            "gridcolor": "white",
            "linecolor": "white",
            "ticks": ""
           },
           "baxis": {
            "gridcolor": "white",
            "linecolor": "white",
            "ticks": ""
           },
           "bgcolor": "#E5ECF6",
           "caxis": {
            "gridcolor": "white",
            "linecolor": "white",
            "ticks": ""
           }
          },
          "title": {
           "x": 0.05
          },
          "xaxis": {
           "automargin": true,
           "gridcolor": "white",
           "linecolor": "white",
           "ticks": "",
           "title": {
            "standoff": 15
           },
           "zerolinecolor": "white",
           "zerolinewidth": 2
          },
          "yaxis": {
           "automargin": true,
           "gridcolor": "white",
           "linecolor": "white",
           "ticks": "",
           "title": {
            "standoff": 15
           },
           "zerolinecolor": "white",
           "zerolinewidth": 2
          }
         }
        },
        "xaxis": {
         "linecolor": "lightgray",
         "range": [
          -0.5,
          6.5
         ],
         "showgrid": false,
         "tickcolor": "lightgray",
         "tickfont": {
          "color": "black",
          "family": "Times New Roman",
          "size": 26
         },
         "tickmode": "array",
         "ticktext": [
          "asia",
          "tub",
          "smoke",
          "lung",
          "bronc",
          "either",
          "xray"
         ],
         "tickvals": [
          0,
          1,
          2,
          3,
          4,
          5,
          6
         ]
        },
        "yaxis": {
         "dtick": 0.1,
         "gridcolor": "lightgray",
         "linecolor": "lightgray",
         "range": [
          0,
          0.9
         ],
         "showgrid": true,
         "tickcolor": "lightgray",
         "tickfont": {
          "color": "black",
          "family": "Times New Roman",
          "size": 25
         },
         "ticks": "outside",
         "title": {
          "font": {
           "color": "black",
           "family": "Times New Roman",
           "size": 25
          },
          "text": "Attributions"
         }
        }
       }
      }
     },
     "metadata": {},
     "output_type": "display_data"
    }
   ],
   "source": [
    "# Load JSON\n",
    "with open(PREFIX +\"attributions/cancer/attribution.json\", \"r\") as f:\n",
    "    data = json.load(f)\n",
    "global_explanations = data['global_explanations']    \n",
    "generate_attr_plot(global_explanations,config)"
   ]
  },
  {
   "cell_type": "code",
   "execution_count": 15,
   "id": "cd182777",
   "metadata": {},
   "outputs": [
    {
     "name": "stdout",
     "output_type": "stream",
     "text": [
      "{'ig': {'pgu': {'k=1': [0.3789944648742676], 'k=2': [0.3784336447715759], 'k=3': [0.3771854341030121], 'k=4': [0.3767695724964142], 'k=5': [0.37668517231941223], 'k=6': [0.376009464263916], 'k=7': [0.3759033679962158]}, 'pgi': {'k=1': [0.00047934026224538684], 'k=2': [0.0010401711333543062], 'k=3': [0.002288374351337552], 'k=4': [0.0027042520232498646], 'k=5': [0.00278864661231637], 'k=6': [0.0034643590915948153], 'k=7': [0.0035704609472304583]}}, 'itg': {'pgu': {'k=1': [0.3793894052505493], 'k=2': [0.3789735436439514], 'k=3': [0.3788674473762512], 'k=4': [0.3783065974712372], 'k=5': [0.37763088941574097], 'k=6': [0.3763827085494995], 'k=7': [0.3759033679962158]}, 'pgi': {'k=1': [8.439431258011609e-05], 'k=2': [0.0005002720863558352], 'k=3': [0.0006063737673684955], 'k=4': [0.001167204580269754], 'k=5': [0.001842917175963521], 'k=6': [0.0030911206267774105], 'k=7': [0.0035704609472304583]}}, 'sg': {'pgu': {'k=1': [0.379057914018631], 'k=2': [0.3789735436439514], 'k=3': [0.3788674473762512], 'k=4': [0.378191739320755], 'k=5': [0.37763088941574097], 'k=6': [0.3763827085494995], 'k=7': [0.3759033679962158]}, 'pgi': {'k=1': [0.00041587778832763433], 'k=2': [0.0005002720863558352], 'k=3': [0.0006063737673684955], 'k=4': [0.0012820864794775844], 'k=5': [0.001842917175963521], 'k=6': [0.0030911206267774105], 'k=7': [0.0035704609472304583]}}, 'shap': {'pgu': {'k=1': [0.379057914018631], 'k=2': [0.3785786032676697], 'k=3': [0.37849417328834534], 'k=4': [0.37838807702064514], 'k=5': [0.3771398961544037], 'k=6': [0.37657907605171204], 'k=7': [0.3759033679962158]}, 'pgi': {'k=1': [0.00041587778832763433], 'k=2': [0.0008952180505730212], 'k=3': [0.000979612348601222], 'k=4': [0.0010857139714062214], 'k=5': [0.0023339171893894672], 'k=6': [0.0028947480022907257], 'k=7': [0.0035704609472304583]}}, 'lime': {'pgu': {'k=1': [0.3789944648742676], 'k=2': [0.3788883686065674], 'k=3': [0.37832754850387573], 'k=4': [0.3782431185245514], 'k=5': [0.3778272569179535], 'k=6': [0.37657907605171204], 'k=7': [0.3759033679962158]}, 'pgi': {'k=1': [0.00047934026224538684], 'k=2': [0.0005854418850503862], 'k=3': [0.0011462727561593056], 'k=4': [0.0012306669959798455], 'k=5': [0.0016465447843074799], 'k=6': [0.0028947480022907257], 'k=7': [0.0035704609472304583]}}, 'sp_lime': {'pgu': {'k=1': [0.3782255947589874], 'k=2': [0.3775498569011688], 'k=3': [0.37698906660079956], 'k=4': [0.3765731751918793], 'k=5': [0.37609386444091797], 'k=6': [0.3759877383708954], 'k=7': [0.3759033679962158]}, 'pgi': {'k=1': [0.0012482032179832458], 'k=2': [0.0019239159300923347], 'k=3': [0.002484746742993593], 'k=4': [0.0029006246477365494], 'k=5': [0.0033799647353589535], 'k=6': [0.0034860665909945965], 'k=7': [0.0035704609472304583]}}, 'pfi': {'pgu': {'k=1': [0.3789944648742676], 'k=2': [0.3785786032676697], 'k=3': [0.3784725069999695], 'k=4': [0.37791165709495544], 'k=5': [0.3778272569179535], 'k=6': [0.37657907605171204], 'k=7': [0.3759033679962158]}, 'pgi': {'k=1': [0.00047934026224538684], 'k=2': [0.0008952180505730212], 'k=3': [0.0010013197315856814], 'k=4': [0.00156215054448694], 'k=5': [0.0016465447843074799], 'k=6': [0.0028947480022907257], 'k=7': [0.0035704609472304583]}}, 'icc_topo': {'pgu': {'k=1': [0.3789944648742676], 'k=2': [0.3788883686065674], 'k=3': [0.3784725069999695], 'k=4': [0.37838807702064514], 'k=5': [0.3778272569179535], 'k=6': [0.3771515488624573], 'k=7': [0.3759033679962158]}, 'pgi': {'k=1': [0.00047934026224538684], 'k=2': [0.0005854418850503862], 'k=3': [0.0010013197315856814], 'k=4': [0.0010857139714062214], 'k=5': [0.0016465447843074799], 'k=6': [0.0023222577292472124], 'k=7': [0.0035704609472304583]}}, 'icc_shap': {'pgu': {'k=1': [0.3789944648742676], 'k=2': [0.3785786032676697], 'k=3': [0.37801775336265564], 'k=4': [0.37791165709495544], 'k=5': [0.3778272569179535], 'k=6': [0.3771515488624573], 'k=7': [0.3759033679962158]}, 'pgi': {'k=1': [0.00047934026224538684], 'k=2': [0.0008952180505730212], 'k=3': [0.0014560489216819406], 'k=4': [0.00156215054448694], 'k=5': [0.0016465447843074799], 'k=6': [0.0023222577292472124], 'k=7': [0.0035704609472304583]}}}\n",
      "ig: PGU Sum = 2.639981, PGI Sum = 0.016336\n",
      "itg: PGU Sum = 2.645454, PGI Sum = 0.010863\n",
      "sg: PGU Sum = 2.645008, PGI Sum = 0.011309\n",
      "shap: PGU Sum = 2.644141, PGI Sum = 0.012176\n",
      "lime: PGU Sum = 2.644763, PGI Sum = 0.011553\n",
      "sp_lime: PGU Sum = 2.637323, PGI Sum = 0.018994\n",
      "pfi: PGU Sum = 2.644267, PGI Sum = 0.012050\n",
      "icc_topo: PGU Sum = 2.645626, PGI Sum = 0.010691\n",
      "icc_shap: PGU Sum = 2.644385, PGI Sum = 0.011932\n"
     ]
    }
   ],
   "source": [
    "# Call the function\n",
    "ge_dict = data[\"ge_dict\"]\n",
    "evaluation_metrics = evaluate_exp(ge_dict,config,mlp_model)\n",
    "print(evaluation_metrics)\n",
    "# Display the results\n",
    "agg_scores = compute_pgu_pgi_sums(evaluation_metrics)\n",
    "for method, scores in agg_scores.items():\n",
    "    print(f\"{method}: PGU Sum = {scores['pgu_sum']:.6f}, PGI Sum = {scores['pgi_sum']:.6f}\")"
   ]
  },
  {
   "cell_type": "markdown",
   "id": "1314c3c3",
   "metadata": {},
   "source": [
    "## Test"
   ]
  },
  {
   "cell_type": "code",
   "execution_count": 2,
   "id": "9cdf7d7f",
   "metadata": {},
   "outputs": [
    {
     "name": "stdout",
     "output_type": "stream",
     "text": [
      "Max Iterations:  100\n",
      "Starting Iteration:  1\n",
      "Max Iterations:  100\n",
      "Starting Iteration:  1\n",
      "Max Iterations:  100\n",
      "Starting Iteration:  1\n",
      "Max Iterations:  100\n",
      "Starting Iteration:  1\n",
      "Max Iterations:  100\n",
      "Starting Iteration:  1\n"
     ]
    }
   ],
   "source": [
    "config = CONFIG['syn']\n",
    "mlp_path = '/home/dhruv/Files/Thesis/Dissertation/Code/models/syn_ann/syn_ann_seed_10/logs/version_0/checkpoints/epoch=161-step=5184.ckpt'\n",
    "scm_path = '/home/dhruv/Files/Thesis/Dissertation/Code/models/syn_nf/syn_nf_seed_10/logs/version_0/checkpoints/epoch=19-step=640.ckpt'\n",
    "mlp_model = MLPLightning.load_from_checkpoint(mlp_path,model = MLP(config['num_features'],config['hidden_layers_ann'],classification=False))\n",
    "scm_model = CausalNF.load_from_checkpoint(scm_path,flow = flow(config['num_features'],config['gd_adjacency'],config['hidden_layers_flow']))\n",
    "ge_dict, evaluation_metrics, time_dict, global_explanations = generate_global_exps(config,mlp_model,scm_model)"
   ]
  },
  {
   "cell_type": "code",
   "execution_count": 3,
   "id": "d8d7c267",
   "metadata": {},
   "outputs": [
    {
     "data": {
      "text/plain": [
       "{'ig': {'W': [0.008685602410414437],\n",
       "  'Z': [0.5541948194138167],\n",
       "  'X': [0.4371195781757688]},\n",
       " 'itg': {'W': [0.008485306748260027],\n",
       "  'Z': [0.497316907775009],\n",
       "  'X': [0.49419778547673104]},\n",
       " 'sg': {'W': [0.13136424456458626],\n",
       "  'Z': [0.3860659244300918],\n",
       "  'X': [0.48256983100532197]},\n",
       " 'shap': {'W': [0.5803365821763931],\n",
       "  'Z': [0.3543153621348831],\n",
       "  'X': [0.06534805568872387]},\n",
       " 'lime': {'W': [0.2837432524861816],\n",
       "  'Z': [0.293367905107146],\n",
       "  'X': [0.4228888424066725]},\n",
       " 'sp_lime': {'X': [0.41602805243460733],\n",
       "  'W': [0.2947343644233361],\n",
       "  'Z': [0.2892375831420565]},\n",
       " 'pfi': {'W': [0.2555289566516876],\n",
       "  'Z': [0.2728649377822876],\n",
       "  'X': [0.47160604596138]},\n",
       " 'icc_topo': {'W': [0.07992755621671677],\n",
       "  'Z': [0.6083893179893494],\n",
       "  'X': [0.31013962626457214]},\n",
       " 'icc_shap': {'W': [0.1287594437599182],\n",
       "  'Z': [0.6630550622940063],\n",
       "  'X': [0.20664207637310028]}}"
      ]
     },
     "execution_count": 3,
     "metadata": {},
     "output_type": "execute_result"
    }
   ],
   "source": [
    "ge_dict"
   ]
  },
  {
   "cell_type": "code",
   "execution_count": 9,
   "id": "0d220fd6",
   "metadata": {},
   "outputs": [
    {
     "data": {
      "application/vnd.plotly.v1+json": {
       "config": {
        "plotlyServerURL": "https://plot.ly"
       },
       "data": [
        {
         "marker": {
          "color": "#E69F00",
          "line": {
           "width": 0.05
          }
         },
         "name": "IG",
         "type": "bar",
         "width": 0.06,
         "x": [
          "W",
          "Z",
          "X"
         ],
         "y": {
          "bdata": "X+tj0sHJgT/I1h/G9rvhPxMzLWXE+ds/",
          "dtype": "f8"
         }
        },
        {
         "marker": {
          "color": "#56B4E9",
          "line": {
           "width": 0.05
          }
         },
         "name": "IxG",
         "type": "bar",
         "width": 0.06,
         "x": [
          "W",
          "Z",
          "X"
         ],
         "y": {
          "bdata": "G6rXl75ggT+HDqlLCtTfPyk0mL/voN8/",
          "dtype": "f8"
         }
        },
        {
         "marker": {
          "color": "#009E73",
          "line": {
           "width": 0.05
          }
         },
         "name": "SG",
         "type": "bar",
         "width": 0.06,
         "x": [
          "W",
          "Z",
          "X"
         ],
         "y": {
          "bdata": "62IiJ4vQwD9+vuHZTbXYPw0QjZJs4t4/",
          "dtype": "f8"
         }
        },
        {
         "marker": {
          "color": "#F5C710",
          "line": {
           "width": 0.05
          }
         },
         "name": "SHAP",
         "type": "bar",
         "width": 0.06,
         "x": [
          "W",
          "Z",
          "X"
         ],
         "y": {
          "bdata": "PtcjBh6S4j/4vTVXGq3WPzROCnKmurA/",
          "dtype": "f8"
         }
        },
        {
         "marker": {
          "color": "#0072B2",
          "line": {
           "width": 0.05
          }
         },
         "name": "LIME",
         "type": "bar",
         "width": 0.06,
         "x": [
          "W",
          "Z",
          "X"
         ],
         "y": {
          "bdata": "cOJ4ddko0j/3ZYgtisbSP5u3/lycENs/",
          "dtype": "f8"
         }
        },
        {
         "marker": {
          "color": "#999999",
          "line": {
           "width": 0.05
          }
         },
         "name": "SP LIME",
         "type": "bar",
         "width": 0.06,
         "x": [
          "W",
          "Z",
          "X"
         ],
         "y": {
          "bdata": "IigNhu3c0j8yoRda3oLSP6s22x80oNo/",
          "dtype": "f8"
         }
        },
        {
         "marker": {
          "color": "#000000",
          "line": {
           "width": 0.05
          }
         },
         "name": "PFI",
         "type": "bar",
         "width": 0.06,
         "x": [
          "W",
          "Z",
          "X"
         ],
         "y": {
          "bdata": "AAAAIJZa0D8AAACAnnbRPwAAACDLLt4/",
          "dtype": "f8"
         }
        },
        {
         "marker": {
          "color": "#D55E00",
          "line": {
           "width": 0.05
          }
         },
         "name": "ICC TOPO",
         "type": "bar",
         "width": 0.06,
         "x": [
          "W",
          "Z",
          "X"
         ],
         "y": {
          "bdata": "AAAA4CF2tD8AAADg7HfjPwAAAOBT2dM/",
          "dtype": "f8"
         }
        },
        {
         "marker": {
          "color": "#CC79A7",
          "line": {
           "width": 0.05
          }
         },
         "name": "ICC SHAP",
         "type": "bar",
         "width": 0.06,
         "x": [
          "W",
          "Z",
          "X"
         ],
         "y": {
          "bdata": "AAAAgDB7wD8AAABAvzflPwAAAGA/c8o/",
          "dtype": "f8"
         }
        }
       ],
       "layout": {
        "bargap": 0.45,
        "bargroupgap": 1,
        "barmode": "group",
        "font": {
         "size": 14
        },
        "legend": {
         "font": {
          "color": "black",
          "family": "Times New Roman",
          "size": 25
         },
         "title": {
          "font": {
           "color": "black",
           "family": "Times New Roman",
           "size": 25
          },
          "text": "Method"
         }
        },
        "plot_bgcolor": "rgba(0,0,0,0)",
        "showlegend": true,
        "template": {
         "data": {
          "bar": [
           {
            "error_x": {
             "color": "#2a3f5f"
            },
            "error_y": {
             "color": "#2a3f5f"
            },
            "marker": {
             "line": {
              "color": "#E5ECF6",
              "width": 0.5
             },
             "pattern": {
              "fillmode": "overlay",
              "size": 10,
              "solidity": 0.2
             }
            },
            "type": "bar"
           }
          ],
          "barpolar": [
           {
            "marker": {
             "line": {
              "color": "#E5ECF6",
              "width": 0.5
             },
             "pattern": {
              "fillmode": "overlay",
              "size": 10,
              "solidity": 0.2
             }
            },
            "type": "barpolar"
           }
          ],
          "carpet": [
           {
            "aaxis": {
             "endlinecolor": "#2a3f5f",
             "gridcolor": "white",
             "linecolor": "white",
             "minorgridcolor": "white",
             "startlinecolor": "#2a3f5f"
            },
            "baxis": {
             "endlinecolor": "#2a3f5f",
             "gridcolor": "white",
             "linecolor": "white",
             "minorgridcolor": "white",
             "startlinecolor": "#2a3f5f"
            },
            "type": "carpet"
           }
          ],
          "choropleth": [
           {
            "colorbar": {
             "outlinewidth": 0,
             "ticks": ""
            },
            "type": "choropleth"
           }
          ],
          "contour": [
           {
            "colorbar": {
             "outlinewidth": 0,
             "ticks": ""
            },
            "colorscale": [
             [
              0,
              "#0d0887"
             ],
             [
              0.1111111111111111,
              "#46039f"
             ],
             [
              0.2222222222222222,
              "#7201a8"
             ],
             [
              0.3333333333333333,
              "#9c179e"
             ],
             [
              0.4444444444444444,
              "#bd3786"
             ],
             [
              0.5555555555555556,
              "#d8576b"
             ],
             [
              0.6666666666666666,
              "#ed7953"
             ],
             [
              0.7777777777777778,
              "#fb9f3a"
             ],
             [
              0.8888888888888888,
              "#fdca26"
             ],
             [
              1,
              "#f0f921"
             ]
            ],
            "type": "contour"
           }
          ],
          "contourcarpet": [
           {
            "colorbar": {
             "outlinewidth": 0,
             "ticks": ""
            },
            "type": "contourcarpet"
           }
          ],
          "heatmap": [
           {
            "colorbar": {
             "outlinewidth": 0,
             "ticks": ""
            },
            "colorscale": [
             [
              0,
              "#0d0887"
             ],
             [
              0.1111111111111111,
              "#46039f"
             ],
             [
              0.2222222222222222,
              "#7201a8"
             ],
             [
              0.3333333333333333,
              "#9c179e"
             ],
             [
              0.4444444444444444,
              "#bd3786"
             ],
             [
              0.5555555555555556,
              "#d8576b"
             ],
             [
              0.6666666666666666,
              "#ed7953"
             ],
             [
              0.7777777777777778,
              "#fb9f3a"
             ],
             [
              0.8888888888888888,
              "#fdca26"
             ],
             [
              1,
              "#f0f921"
             ]
            ],
            "type": "heatmap"
           }
          ],
          "histogram": [
           {
            "marker": {
             "pattern": {
              "fillmode": "overlay",
              "size": 10,
              "solidity": 0.2
             }
            },
            "type": "histogram"
           }
          ],
          "histogram2d": [
           {
            "colorbar": {
             "outlinewidth": 0,
             "ticks": ""
            },
            "colorscale": [
             [
              0,
              "#0d0887"
             ],
             [
              0.1111111111111111,
              "#46039f"
             ],
             [
              0.2222222222222222,
              "#7201a8"
             ],
             [
              0.3333333333333333,
              "#9c179e"
             ],
             [
              0.4444444444444444,
              "#bd3786"
             ],
             [
              0.5555555555555556,
              "#d8576b"
             ],
             [
              0.6666666666666666,
              "#ed7953"
             ],
             [
              0.7777777777777778,
              "#fb9f3a"
             ],
             [
              0.8888888888888888,
              "#fdca26"
             ],
             [
              1,
              "#f0f921"
             ]
            ],
            "type": "histogram2d"
           }
          ],
          "histogram2dcontour": [
           {
            "colorbar": {
             "outlinewidth": 0,
             "ticks": ""
            },
            "colorscale": [
             [
              0,
              "#0d0887"
             ],
             [
              0.1111111111111111,
              "#46039f"
             ],
             [
              0.2222222222222222,
              "#7201a8"
             ],
             [
              0.3333333333333333,
              "#9c179e"
             ],
             [
              0.4444444444444444,
              "#bd3786"
             ],
             [
              0.5555555555555556,
              "#d8576b"
             ],
             [
              0.6666666666666666,
              "#ed7953"
             ],
             [
              0.7777777777777778,
              "#fb9f3a"
             ],
             [
              0.8888888888888888,
              "#fdca26"
             ],
             [
              1,
              "#f0f921"
             ]
            ],
            "type": "histogram2dcontour"
           }
          ],
          "mesh3d": [
           {
            "colorbar": {
             "outlinewidth": 0,
             "ticks": ""
            },
            "type": "mesh3d"
           }
          ],
          "parcoords": [
           {
            "line": {
             "colorbar": {
              "outlinewidth": 0,
              "ticks": ""
             }
            },
            "type": "parcoords"
           }
          ],
          "pie": [
           {
            "automargin": true,
            "type": "pie"
           }
          ],
          "scatter": [
           {
            "fillpattern": {
             "fillmode": "overlay",
             "size": 10,
             "solidity": 0.2
            },
            "type": "scatter"
           }
          ],
          "scatter3d": [
           {
            "line": {
             "colorbar": {
              "outlinewidth": 0,
              "ticks": ""
             }
            },
            "marker": {
             "colorbar": {
              "outlinewidth": 0,
              "ticks": ""
             }
            },
            "type": "scatter3d"
           }
          ],
          "scattercarpet": [
           {
            "marker": {
             "colorbar": {
              "outlinewidth": 0,
              "ticks": ""
             }
            },
            "type": "scattercarpet"
           }
          ],
          "scattergeo": [
           {
            "marker": {
             "colorbar": {
              "outlinewidth": 0,
              "ticks": ""
             }
            },
            "type": "scattergeo"
           }
          ],
          "scattergl": [
           {
            "marker": {
             "colorbar": {
              "outlinewidth": 0,
              "ticks": ""
             }
            },
            "type": "scattergl"
           }
          ],
          "scattermap": [
           {
            "marker": {
             "colorbar": {
              "outlinewidth": 0,
              "ticks": ""
             }
            },
            "type": "scattermap"
           }
          ],
          "scattermapbox": [
           {
            "marker": {
             "colorbar": {
              "outlinewidth": 0,
              "ticks": ""
             }
            },
            "type": "scattermapbox"
           }
          ],
          "scatterpolar": [
           {
            "marker": {
             "colorbar": {
              "outlinewidth": 0,
              "ticks": ""
             }
            },
            "type": "scatterpolar"
           }
          ],
          "scatterpolargl": [
           {
            "marker": {
             "colorbar": {
              "outlinewidth": 0,
              "ticks": ""
             }
            },
            "type": "scatterpolargl"
           }
          ],
          "scatterternary": [
           {
            "marker": {
             "colorbar": {
              "outlinewidth": 0,
              "ticks": ""
             }
            },
            "type": "scatterternary"
           }
          ],
          "surface": [
           {
            "colorbar": {
             "outlinewidth": 0,
             "ticks": ""
            },
            "colorscale": [
             [
              0,
              "#0d0887"
             ],
             [
              0.1111111111111111,
              "#46039f"
             ],
             [
              0.2222222222222222,
              "#7201a8"
             ],
             [
              0.3333333333333333,
              "#9c179e"
             ],
             [
              0.4444444444444444,
              "#bd3786"
             ],
             [
              0.5555555555555556,
              "#d8576b"
             ],
             [
              0.6666666666666666,
              "#ed7953"
             ],
             [
              0.7777777777777778,
              "#fb9f3a"
             ],
             [
              0.8888888888888888,
              "#fdca26"
             ],
             [
              1,
              "#f0f921"
             ]
            ],
            "type": "surface"
           }
          ],
          "table": [
           {
            "cells": {
             "fill": {
              "color": "#EBF0F8"
             },
             "line": {
              "color": "white"
             }
            },
            "header": {
             "fill": {
              "color": "#C8D4E3"
             },
             "line": {
              "color": "white"
             }
            },
            "type": "table"
           }
          ]
         },
         "layout": {
          "annotationdefaults": {
           "arrowcolor": "#2a3f5f",
           "arrowhead": 0,
           "arrowwidth": 1
          },
          "autotypenumbers": "strict",
          "coloraxis": {
           "colorbar": {
            "outlinewidth": 0,
            "ticks": ""
           }
          },
          "colorscale": {
           "diverging": [
            [
             0,
             "#8e0152"
            ],
            [
             0.1,
             "#c51b7d"
            ],
            [
             0.2,
             "#de77ae"
            ],
            [
             0.3,
             "#f1b6da"
            ],
            [
             0.4,
             "#fde0ef"
            ],
            [
             0.5,
             "#f7f7f7"
            ],
            [
             0.6,
             "#e6f5d0"
            ],
            [
             0.7,
             "#b8e186"
            ],
            [
             0.8,
             "#7fbc41"
            ],
            [
             0.9,
             "#4d9221"
            ],
            [
             1,
             "#276419"
            ]
           ],
           "sequential": [
            [
             0,
             "#0d0887"
            ],
            [
             0.1111111111111111,
             "#46039f"
            ],
            [
             0.2222222222222222,
             "#7201a8"
            ],
            [
             0.3333333333333333,
             "#9c179e"
            ],
            [
             0.4444444444444444,
             "#bd3786"
            ],
            [
             0.5555555555555556,
             "#d8576b"
            ],
            [
             0.6666666666666666,
             "#ed7953"
            ],
            [
             0.7777777777777778,
             "#fb9f3a"
            ],
            [
             0.8888888888888888,
             "#fdca26"
            ],
            [
             1,
             "#f0f921"
            ]
           ],
           "sequentialminus": [
            [
             0,
             "#0d0887"
            ],
            [
             0.1111111111111111,
             "#46039f"
            ],
            [
             0.2222222222222222,
             "#7201a8"
            ],
            [
             0.3333333333333333,
             "#9c179e"
            ],
            [
             0.4444444444444444,
             "#bd3786"
            ],
            [
             0.5555555555555556,
             "#d8576b"
            ],
            [
             0.6666666666666666,
             "#ed7953"
            ],
            [
             0.7777777777777778,
             "#fb9f3a"
            ],
            [
             0.8888888888888888,
             "#fdca26"
            ],
            [
             1,
             "#f0f921"
            ]
           ]
          },
          "colorway": [
           "#636efa",
           "#EF553B",
           "#00cc96",
           "#ab63fa",
           "#FFA15A",
           "#19d3f3",
           "#FF6692",
           "#B6E880",
           "#FF97FF",
           "#FECB52"
          ],
          "font": {
           "color": "#2a3f5f"
          },
          "geo": {
           "bgcolor": "white",
           "lakecolor": "white",
           "landcolor": "#E5ECF6",
           "showlakes": true,
           "showland": true,
           "subunitcolor": "white"
          },
          "hoverlabel": {
           "align": "left"
          },
          "hovermode": "closest",
          "mapbox": {
           "style": "light"
          },
          "paper_bgcolor": "white",
          "plot_bgcolor": "#E5ECF6",
          "polar": {
           "angularaxis": {
            "gridcolor": "white",
            "linecolor": "white",
            "ticks": ""
           },
           "bgcolor": "#E5ECF6",
           "radialaxis": {
            "gridcolor": "white",
            "linecolor": "white",
            "ticks": ""
           }
          },
          "scene": {
           "xaxis": {
            "backgroundcolor": "#E5ECF6",
            "gridcolor": "white",
            "gridwidth": 2,
            "linecolor": "white",
            "showbackground": true,
            "ticks": "",
            "zerolinecolor": "white"
           },
           "yaxis": {
            "backgroundcolor": "#E5ECF6",
            "gridcolor": "white",
            "gridwidth": 2,
            "linecolor": "white",
            "showbackground": true,
            "ticks": "",
            "zerolinecolor": "white"
           },
           "zaxis": {
            "backgroundcolor": "#E5ECF6",
            "gridcolor": "white",
            "gridwidth": 2,
            "linecolor": "white",
            "showbackground": true,
            "ticks": "",
            "zerolinecolor": "white"
           }
          },
          "shapedefaults": {
           "line": {
            "color": "#2a3f5f"
           }
          },
          "ternary": {
           "aaxis": {
            "gridcolor": "white",
            "linecolor": "white",
            "ticks": ""
           },
           "baxis": {
            "gridcolor": "white",
            "linecolor": "white",
            "ticks": ""
           },
           "bgcolor": "#E5ECF6",
           "caxis": {
            "gridcolor": "white",
            "linecolor": "white",
            "ticks": ""
           }
          },
          "title": {
           "x": 0.05
          },
          "xaxis": {
           "automargin": true,
           "gridcolor": "white",
           "linecolor": "white",
           "ticks": "",
           "title": {
            "standoff": 15
           },
           "zerolinecolor": "white",
           "zerolinewidth": 2
          },
          "yaxis": {
           "automargin": true,
           "gridcolor": "white",
           "linecolor": "white",
           "ticks": "",
           "title": {
            "standoff": 15
           },
           "zerolinecolor": "white",
           "zerolinewidth": 2
          }
         }
        },
        "xaxis": {
         "linecolor": "lightgray",
         "range": [
          -0.5,
          2.5
         ],
         "showgrid": false,
         "tickcolor": "lightgray",
         "tickfont": {
          "color": "black",
          "family": "Times New Roman",
          "size": 26
         },
         "tickmode": "array",
         "ticktext": [
          "W",
          "Z",
          "X"
         ],
         "tickvals": [
          0,
          1,
          2
         ]
        },
        "yaxis": {
         "dtick": 0.1,
         "gridcolor": "lightgray",
         "linecolor": "lightgray",
         "range": [
          0,
          0.9
         ],
         "showgrid": true,
         "tickcolor": "lightgray",
         "tickfont": {
          "color": "black",
          "family": "Times New Roman",
          "size": 25
         },
         "ticks": "outside",
         "title": {
          "font": {
           "color": "black",
           "family": "Times New Roman",
           "size": 25
          },
          "text": "Attributions"
         }
        }
       }
      }
     },
     "metadata": {},
     "output_type": "display_data"
    }
   ],
   "source": [
    "generate_attr_plot(global_explanations,config)"
   ]
  },
  {
   "cell_type": "code",
   "execution_count": 7,
   "id": "3964b8ca",
   "metadata": {},
   "outputs": [
    {
     "name": "stdout",
     "output_type": "stream",
     "text": [
      "ig: PGU Sum = 0.128419, PGI Sum = 0.000436\n",
      "itg: PGU Sum = 0.128419, PGI Sum = 0.000436\n",
      "sg: PGU Sum = 0.128418, PGI Sum = 0.000437\n",
      "shap: PGU Sum = 0.128420, PGI Sum = 0.000435\n",
      "lime: PGU Sum = 0.128418, PGI Sum = 0.000437\n",
      "sp_lime: PGU Sum = 0.128420, PGI Sum = 0.000435\n",
      "pfi: PGU Sum = 0.128418, PGI Sum = 0.000437\n",
      "icc_topo: PGU Sum = 0.128419, PGI Sum = 0.000436\n",
      "icc_shap: PGU Sum = 0.128419, PGI Sum = 0.000436\n"
     ]
    }
   ],
   "source": [
    "# Load JSON\n",
    "with open(\"/home/dhruv/Files/Thesis/Dissertation/Code/attributions/syn/attribution.json\", \"r\") as f:\n",
    "    data = json.load(f)\n",
    "\n",
    "# Call the function\n",
    "summary = compute_pgu_pgi_sums(data[\"evaluation_metrics\"])\n",
    "\n",
    "# Display the results\n",
    "for method, scores in summary.items():\n",
    "    print(f\"{method}: PGU Sum = {scores['pgu_sum']:.6f}, PGI Sum = {scores['pgi_sum']:.6f}\")\n"
   ]
  }
 ],
 "metadata": {
  "kernelspec": {
   "display_name": "Dhruv",
   "language": "python",
   "name": "python3"
  },
  "language_info": {
   "codemirror_mode": {
    "name": "ipython",
    "version": 3
   },
   "file_extension": ".py",
   "mimetype": "text/x-python",
   "name": "python",
   "nbconvert_exporter": "python",
   "pygments_lexer": "ipython3",
   "version": "3.12.2"
  }
 },
 "nbformat": 4,
 "nbformat_minor": 5
}
