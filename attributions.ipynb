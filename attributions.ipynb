{
 "cells": [
  {
   "cell_type": "code",
   "execution_count": 1,
   "id": "470b0957",
   "metadata": {},
   "outputs": [
    {
     "name": "stderr",
     "output_type": "stream",
     "text": [
      "/home/saptarshi/anaconda3/envs/Dhruv/lib/python3.12/site-packages/tqdm/auto.py:21: TqdmWarning: IProgress not found. Please update jupyter and ipywidgets. See https://ipywidgets.readthedocs.io/en/stable/user_install.html\n",
      "  from .autonotebook import tqdm as notebook_tqdm\n"
     ]
    }
   ],
   "source": [
    "%reset -f\n",
    "%load_ext autoreload\n",
    "%autoreload 2\n",
    "# import sys\n",
    "# sys.path.append('/home/saptarshi/Dhruv/Dissertation/ICC/')\n",
    "from generate_attributions import *\n",
    "from utils import CONFIG,compute_pgu_pgi_sums,evaluate_exp,PREFIX,compute_auc,compute_pgu_pgi_sums"
   ]
  },
  {
   "cell_type": "markdown",
   "id": "8aa845c1",
   "metadata": {},
   "source": [
    "## German Credit Dataset"
   ]
  },
  {
   "cell_type": "code",
   "execution_count": 2,
   "id": "c2e8843d",
   "metadata": {},
   "outputs": [],
   "source": [
    "config = CONFIG['german']\n",
    "mlp_path = PREFIX + 'models/german_mlp/german_mlp_seed_20/logs/version_2/checkpoints/epoch=69-step=910.ckpt'\n",
    "scm_path = PREFIX + 'models/german_nf/german_nf_seed_20/logs/version_1/checkpoints/epoch=4-step=65.ckpt'\n",
    "mlp_model = MLPLightning.load_from_checkpoint(mlp_path,model = MLP(config['num_features'],config['hidden_layers_mlp'],classification=config['classification']))\n",
    "scm_model = CausalNF.load_from_checkpoint(scm_path,flow = flow(config['num_features'],config['gd_adjacency'],config['hidden_layers_flow']))"
   ]
  },
  {
   "cell_type": "code",
   "execution_count": 3,
   "id": "2f3cbfff",
   "metadata": {},
   "outputs": [
    {
     "name": "stdout",
     "output_type": "stream",
     "text": [
      "Max Iterations:  100\n",
      "Starting Iteration:  1\n",
      "Max Iterations:  100\n",
      "Starting Iteration:  1\n",
      "Max Iterations:  100\n",
      "Starting Iteration:  1\n",
      "Max Iterations:  100\n",
      "Starting Iteration:  1\n",
      "Max Iterations:  100\n",
      "Starting Iteration:  1\n"
     ]
    }
   ],
   "source": [
    "##generate attributions\n",
    "ge_dict, time_dict, global_explanations = generate_global_exps(config,mlp_model.to('cpu'),scm_model.to('cpu'))"
   ]
  },
  {
   "cell_type": "code",
   "execution_count": 4,
   "id": "a7a49264",
   "metadata": {},
   "outputs": [
    {
     "data": {
      "application/vnd.plotly.v1+json": {
       "config": {
        "plotlyServerURL": "https://plot.ly"
       },
       "data": [
        {
         "marker": {
          "color": "#E69F00",
          "line": {
           "width": 0.05
          }
         },
         "name": "IG",
         "type": "bar",
         "width": 0.06,
         "x": [
          "gender",
          "age",
          "credit amount",
          "repayment duration"
         ],
         "y": {
          "bdata": "LPorxLS4cz/NVvZJ76fMP+4YaKvJUNU/xAuM3FsM3D8=",
          "dtype": "f8"
         }
        },
        {
         "marker": {
          "color": "#56B4E9",
          "line": {
           "width": 0.05
          }
         },
         "name": "IxG",
         "type": "bar",
         "width": 0.06,
         "x": [
          "gender",
          "age",
          "credit amount",
          "repayment duration"
         ],
         "y": {
          "bdata": "Sdqbk3M50T9YjNos+HbPP8WLENSjbaU/Es5021td3D8=",
          "dtype": "f8"
         }
        },
        {
         "marker": {
          "color": "#009E73",
          "line": {
           "width": 0.05
          }
         },
         "name": "SG",
         "type": "bar",
         "width": 0.06,
         "x": [
          "gender",
          "age",
          "credit amount",
          "repayment duration"
         ],
         "y": {
          "bdata": "N/tjgR1S0j+ym1RszbzJPwdWO0ndEG0/I6DvBq1K4D8=",
          "dtype": "f8"
         }
        },
        {
         "marker": {
          "color": "#F5C710",
          "line": {
           "width": 0.05
          }
         },
         "name": "SHAP",
         "type": "bar",
         "width": 0.06,
         "x": [
          "gender",
          "age",
          "credit amount",
          "repayment duration"
         ],
         "y": {
          "bdata": "pCPDBECfmj/NrZz20q/XP+DqO8uJssU/iCp5I/TM2z8=",
          "dtype": "f8"
         }
        },
        {
         "marker": {
          "color": "#0072B2",
          "line": {
           "width": 0.05
          }
         },
         "name": "LIME",
         "type": "bar",
         "width": 0.06,
         "x": [
          "gender",
          "age",
          "credit amount",
          "repayment duration"
         ],
         "y": {
          "bdata": "ot98Wa5wyj/t/WTB/kDKP5Hc72qY3r0/FRrTV4Mv3j8=",
          "dtype": "f8"
         }
        },
        {
         "marker": {
          "color": "#999999",
          "line": {
           "width": 0.05
          }
         },
         "name": "SP LIME",
         "type": "bar",
         "width": 0.06,
         "x": [
          "gender",
          "age",
          "credit amount",
          "repayment duration"
         ],
         "y": {
          "bdata": "hYNCHY0GxT/z/EBcBI7HP0TiqPc3jsE/Uee0o0134D8=",
          "dtype": "f8"
         }
        },
        {
         "marker": {
          "color": "#000000",
          "line": {
           "width": 0.05
          }
         },
         "name": "PFI",
         "type": "bar",
         "width": 0.06,
         "x": [
          "gender",
          "age",
          "credit amount",
          "repayment duration"
         ],
         "y": {
          "bdata": "AAAAgH8pyj8AAABgVbXJPwAAAEAyd88/AAAAwPxU1j8=",
          "dtype": "f8"
         }
        },
        {
         "marker": {
          "color": "#D55E00",
          "line": {
           "width": 0.05
          }
         },
         "name": "ICC TOPO",
         "type": "bar",
         "width": 0.06,
         "x": [
          "gender",
          "age",
          "credit amount",
          "repayment duration"
         ],
         "y": {
          "bdata": "AAAA4NjVrj8AAABAFQegPwAAAMBZ47A/AAAA4MX16j8=",
          "dtype": "f8"
         }
        },
        {
         "marker": {
          "color": "#CC79A7",
          "line": {
           "width": 0.05
          }
         },
         "name": "ICC SHAP",
         "type": "bar",
         "width": 0.06,
         "x": [
          "gender",
          "age",
          "credit amount",
          "repayment duration"
         ],
         "y": {
          "bdata": "AAAAQBjmsD8AAACA+4WiPwAAAAC4mLM/AAAAYMZH6j8=",
          "dtype": "f8"
         }
        }
       ],
       "layout": {
        "bargap": 0.45,
        "bargroupgap": 1,
        "barmode": "group",
        "font": {
         "size": 14
        },
        "legend": {
         "font": {
          "color": "black",
          "family": "Times New Roman",
          "size": 25
         },
         "title": {
          "font": {
           "color": "black",
           "family": "Times New Roman",
           "size": 25
          },
          "text": "Method"
         }
        },
        "plot_bgcolor": "rgba(0,0,0,0)",
        "showlegend": true,
        "template": {
         "data": {
          "bar": [
           {
            "error_x": {
             "color": "#2a3f5f"
            },
            "error_y": {
             "color": "#2a3f5f"
            },
            "marker": {
             "line": {
              "color": "#E5ECF6",
              "width": 0.5
             },
             "pattern": {
              "fillmode": "overlay",
              "size": 10,
              "solidity": 0.2
             }
            },
            "type": "bar"
           }
          ],
          "barpolar": [
           {
            "marker": {
             "line": {
              "color": "#E5ECF6",
              "width": 0.5
             },
             "pattern": {
              "fillmode": "overlay",
              "size": 10,
              "solidity": 0.2
             }
            },
            "type": "barpolar"
           }
          ],
          "carpet": [
           {
            "aaxis": {
             "endlinecolor": "#2a3f5f",
             "gridcolor": "white",
             "linecolor": "white",
             "minorgridcolor": "white",
             "startlinecolor": "#2a3f5f"
            },
            "baxis": {
             "endlinecolor": "#2a3f5f",
             "gridcolor": "white",
             "linecolor": "white",
             "minorgridcolor": "white",
             "startlinecolor": "#2a3f5f"
            },
            "type": "carpet"
           }
          ],
          "choropleth": [
           {
            "colorbar": {
             "outlinewidth": 0,
             "ticks": ""
            },
            "type": "choropleth"
           }
          ],
          "contour": [
           {
            "colorbar": {
             "outlinewidth": 0,
             "ticks": ""
            },
            "colorscale": [
             [
              0,
              "#0d0887"
             ],
             [
              0.1111111111111111,
              "#46039f"
             ],
             [
              0.2222222222222222,
              "#7201a8"
             ],
             [
              0.3333333333333333,
              "#9c179e"
             ],
             [
              0.4444444444444444,
              "#bd3786"
             ],
             [
              0.5555555555555556,
              "#d8576b"
             ],
             [
              0.6666666666666666,
              "#ed7953"
             ],
             [
              0.7777777777777778,
              "#fb9f3a"
             ],
             [
              0.8888888888888888,
              "#fdca26"
             ],
             [
              1,
              "#f0f921"
             ]
            ],
            "type": "contour"
           }
          ],
          "contourcarpet": [
           {
            "colorbar": {
             "outlinewidth": 0,
             "ticks": ""
            },
            "type": "contourcarpet"
           }
          ],
          "heatmap": [
           {
            "colorbar": {
             "outlinewidth": 0,
             "ticks": ""
            },
            "colorscale": [
             [
              0,
              "#0d0887"
             ],
             [
              0.1111111111111111,
              "#46039f"
             ],
             [
              0.2222222222222222,
              "#7201a8"
             ],
             [
              0.3333333333333333,
              "#9c179e"
             ],
             [
              0.4444444444444444,
              "#bd3786"
             ],
             [
              0.5555555555555556,
              "#d8576b"
             ],
             [
              0.6666666666666666,
              "#ed7953"
             ],
             [
              0.7777777777777778,
              "#fb9f3a"
             ],
             [
              0.8888888888888888,
              "#fdca26"
             ],
             [
              1,
              "#f0f921"
             ]
            ],
            "type": "heatmap"
           }
          ],
          "histogram": [
           {
            "marker": {
             "pattern": {
              "fillmode": "overlay",
              "size": 10,
              "solidity": 0.2
             }
            },
            "type": "histogram"
           }
          ],
          "histogram2d": [
           {
            "colorbar": {
             "outlinewidth": 0,
             "ticks": ""
            },
            "colorscale": [
             [
              0,
              "#0d0887"
             ],
             [
              0.1111111111111111,
              "#46039f"
             ],
             [
              0.2222222222222222,
              "#7201a8"
             ],
             [
              0.3333333333333333,
              "#9c179e"
             ],
             [
              0.4444444444444444,
              "#bd3786"
             ],
             [
              0.5555555555555556,
              "#d8576b"
             ],
             [
              0.6666666666666666,
              "#ed7953"
             ],
             [
              0.7777777777777778,
              "#fb9f3a"
             ],
             [
              0.8888888888888888,
              "#fdca26"
             ],
             [
              1,
              "#f0f921"
             ]
            ],
            "type": "histogram2d"
           }
          ],
          "histogram2dcontour": [
           {
            "colorbar": {
             "outlinewidth": 0,
             "ticks": ""
            },
            "colorscale": [
             [
              0,
              "#0d0887"
             ],
             [
              0.1111111111111111,
              "#46039f"
             ],
             [
              0.2222222222222222,
              "#7201a8"
             ],
             [
              0.3333333333333333,
              "#9c179e"
             ],
             [
              0.4444444444444444,
              "#bd3786"
             ],
             [
              0.5555555555555556,
              "#d8576b"
             ],
             [
              0.6666666666666666,
              "#ed7953"
             ],
             [
              0.7777777777777778,
              "#fb9f3a"
             ],
             [
              0.8888888888888888,
              "#fdca26"
             ],
             [
              1,
              "#f0f921"
             ]
            ],
            "type": "histogram2dcontour"
           }
          ],
          "mesh3d": [
           {
            "colorbar": {
             "outlinewidth": 0,
             "ticks": ""
            },
            "type": "mesh3d"
           }
          ],
          "parcoords": [
           {
            "line": {
             "colorbar": {
              "outlinewidth": 0,
              "ticks": ""
             }
            },
            "type": "parcoords"
           }
          ],
          "pie": [
           {
            "automargin": true,
            "type": "pie"
           }
          ],
          "scatter": [
           {
            "fillpattern": {
             "fillmode": "overlay",
             "size": 10,
             "solidity": 0.2
            },
            "type": "scatter"
           }
          ],
          "scatter3d": [
           {
            "line": {
             "colorbar": {
              "outlinewidth": 0,
              "ticks": ""
             }
            },
            "marker": {
             "colorbar": {
              "outlinewidth": 0,
              "ticks": ""
             }
            },
            "type": "scatter3d"
           }
          ],
          "scattercarpet": [
           {
            "marker": {
             "colorbar": {
              "outlinewidth": 0,
              "ticks": ""
             }
            },
            "type": "scattercarpet"
           }
          ],
          "scattergeo": [
           {
            "marker": {
             "colorbar": {
              "outlinewidth": 0,
              "ticks": ""
             }
            },
            "type": "scattergeo"
           }
          ],
          "scattergl": [
           {
            "marker": {
             "colorbar": {
              "outlinewidth": 0,
              "ticks": ""
             }
            },
            "type": "scattergl"
           }
          ],
          "scattermap": [
           {
            "marker": {
             "colorbar": {
              "outlinewidth": 0,
              "ticks": ""
             }
            },
            "type": "scattermap"
           }
          ],
          "scattermapbox": [
           {
            "marker": {
             "colorbar": {
              "outlinewidth": 0,
              "ticks": ""
             }
            },
            "type": "scattermapbox"
           }
          ],
          "scatterpolar": [
           {
            "marker": {
             "colorbar": {
              "outlinewidth": 0,
              "ticks": ""
             }
            },
            "type": "scatterpolar"
           }
          ],
          "scatterpolargl": [
           {
            "marker": {
             "colorbar": {
              "outlinewidth": 0,
              "ticks": ""
             }
            },
            "type": "scatterpolargl"
           }
          ],
          "scatterternary": [
           {
            "marker": {
             "colorbar": {
              "outlinewidth": 0,
              "ticks": ""
             }
            },
            "type": "scatterternary"
           }
          ],
          "surface": [
           {
            "colorbar": {
             "outlinewidth": 0,
             "ticks": ""
            },
            "colorscale": [
             [
              0,
              "#0d0887"
             ],
             [
              0.1111111111111111,
              "#46039f"
             ],
             [
              0.2222222222222222,
              "#7201a8"
             ],
             [
              0.3333333333333333,
              "#9c179e"
             ],
             [
              0.4444444444444444,
              "#bd3786"
             ],
             [
              0.5555555555555556,
              "#d8576b"
             ],
             [
              0.6666666666666666,
              "#ed7953"
             ],
             [
              0.7777777777777778,
              "#fb9f3a"
             ],
             [
              0.8888888888888888,
              "#fdca26"
             ],
             [
              1,
              "#f0f921"
             ]
            ],
            "type": "surface"
           }
          ],
          "table": [
           {
            "cells": {
             "fill": {
              "color": "#EBF0F8"
             },
             "line": {
              "color": "white"
             }
            },
            "header": {
             "fill": {
              "color": "#C8D4E3"
             },
             "line": {
              "color": "white"
             }
            },
            "type": "table"
           }
          ]
         },
         "layout": {
          "annotationdefaults": {
           "arrowcolor": "#2a3f5f",
           "arrowhead": 0,
           "arrowwidth": 1
          },
          "autotypenumbers": "strict",
          "coloraxis": {
           "colorbar": {
            "outlinewidth": 0,
            "ticks": ""
           }
          },
          "colorscale": {
           "diverging": [
            [
             0,
             "#8e0152"
            ],
            [
             0.1,
             "#c51b7d"
            ],
            [
             0.2,
             "#de77ae"
            ],
            [
             0.3,
             "#f1b6da"
            ],
            [
             0.4,
             "#fde0ef"
            ],
            [
             0.5,
             "#f7f7f7"
            ],
            [
             0.6,
             "#e6f5d0"
            ],
            [
             0.7,
             "#b8e186"
            ],
            [
             0.8,
             "#7fbc41"
            ],
            [
             0.9,
             "#4d9221"
            ],
            [
             1,
             "#276419"
            ]
           ],
           "sequential": [
            [
             0,
             "#0d0887"
            ],
            [
             0.1111111111111111,
             "#46039f"
            ],
            [
             0.2222222222222222,
             "#7201a8"
            ],
            [
             0.3333333333333333,
             "#9c179e"
            ],
            [
             0.4444444444444444,
             "#bd3786"
            ],
            [
             0.5555555555555556,
             "#d8576b"
            ],
            [
             0.6666666666666666,
             "#ed7953"
            ],
            [
             0.7777777777777778,
             "#fb9f3a"
            ],
            [
             0.8888888888888888,
             "#fdca26"
            ],
            [
             1,
             "#f0f921"
            ]
           ],
           "sequentialminus": [
            [
             0,
             "#0d0887"
            ],
            [
             0.1111111111111111,
             "#46039f"
            ],
            [
             0.2222222222222222,
             "#7201a8"
            ],
            [
             0.3333333333333333,
             "#9c179e"
            ],
            [
             0.4444444444444444,
             "#bd3786"
            ],
            [
             0.5555555555555556,
             "#d8576b"
            ],
            [
             0.6666666666666666,
             "#ed7953"
            ],
            [
             0.7777777777777778,
             "#fb9f3a"
            ],
            [
             0.8888888888888888,
             "#fdca26"
            ],
            [
             1,
             "#f0f921"
            ]
           ]
          },
          "colorway": [
           "#636efa",
           "#EF553B",
           "#00cc96",
           "#ab63fa",
           "#FFA15A",
           "#19d3f3",
           "#FF6692",
           "#B6E880",
           "#FF97FF",
           "#FECB52"
          ],
          "font": {
           "color": "#2a3f5f"
          },
          "geo": {
           "bgcolor": "white",
           "lakecolor": "white",
           "landcolor": "#E5ECF6",
           "showlakes": true,
           "showland": true,
           "subunitcolor": "white"
          },
          "hoverlabel": {
           "align": "left"
          },
          "hovermode": "closest",
          "mapbox": {
           "style": "light"
          },
          "paper_bgcolor": "white",
          "plot_bgcolor": "#E5ECF6",
          "polar": {
           "angularaxis": {
            "gridcolor": "white",
            "linecolor": "white",
            "ticks": ""
           },
           "bgcolor": "#E5ECF6",
           "radialaxis": {
            "gridcolor": "white",
            "linecolor": "white",
            "ticks": ""
           }
          },
          "scene": {
           "xaxis": {
            "backgroundcolor": "#E5ECF6",
            "gridcolor": "white",
            "gridwidth": 2,
            "linecolor": "white",
            "showbackground": true,
            "ticks": "",
            "zerolinecolor": "white"
           },
           "yaxis": {
            "backgroundcolor": "#E5ECF6",
            "gridcolor": "white",
            "gridwidth": 2,
            "linecolor": "white",
            "showbackground": true,
            "ticks": "",
            "zerolinecolor": "white"
           },
           "zaxis": {
            "backgroundcolor": "#E5ECF6",
            "gridcolor": "white",
            "gridwidth": 2,
            "linecolor": "white",
            "showbackground": true,
            "ticks": "",
            "zerolinecolor": "white"
           }
          },
          "shapedefaults": {
           "line": {
            "color": "#2a3f5f"
           }
          },
          "ternary": {
           "aaxis": {
            "gridcolor": "white",
            "linecolor": "white",
            "ticks": ""
           },
           "baxis": {
            "gridcolor": "white",
            "linecolor": "white",
            "ticks": ""
           },
           "bgcolor": "#E5ECF6",
           "caxis": {
            "gridcolor": "white",
            "linecolor": "white",
            "ticks": ""
           }
          },
          "title": {
           "x": 0.05
          },
          "xaxis": {
           "automargin": true,
           "gridcolor": "white",
           "linecolor": "white",
           "ticks": "",
           "title": {
            "standoff": 15
           },
           "zerolinecolor": "white",
           "zerolinewidth": 2
          },
          "yaxis": {
           "automargin": true,
           "gridcolor": "white",
           "linecolor": "white",
           "ticks": "",
           "title": {
            "standoff": 15
           },
           "zerolinecolor": "white",
           "zerolinewidth": 2
          }
         }
        },
        "xaxis": {
         "linecolor": "lightgray",
         "range": [
          -0.5,
          3.5
         ],
         "showgrid": false,
         "tickcolor": "lightgray",
         "tickfont": {
          "color": "black",
          "family": "Times New Roman",
          "size": 26
         },
         "tickmode": "array",
         "ticktext": [
          "gender",
          "age",
          "credit amount",
          "repayment duration"
         ],
         "tickvals": [
          0,
          1,
          2,
          3
         ]
        },
        "yaxis": {
         "dtick": 0.1,
         "gridcolor": "lightgray",
         "linecolor": "lightgray",
         "range": [
          0,
          0.9
         ],
         "showgrid": true,
         "tickcolor": "lightgray",
         "tickfont": {
          "color": "black",
          "family": "Times New Roman",
          "size": 25
         },
         "ticks": "outside",
         "title": {
          "font": {
           "color": "black",
           "family": "Times New Roman",
           "size": 25
          },
          "text": "Attributions"
         }
        }
       }
      }
     },
     "metadata": {},
     "output_type": "display_data"
    }
   ],
   "source": [
    "# Load JSON\n",
    "with open(PREFIX + \"attributions/german/attribution.json\", \"r\") as f:\n",
    "    data = json.load(f)\n",
    "global_explanations = data['global_explanations']    \n",
    "generate_attr_plot(global_explanations,config)"
   ]
  },
  {
   "cell_type": "code",
   "execution_count": 5,
   "id": "58f8dd3e",
   "metadata": {},
   "outputs": [
    {
     "name": "stdout",
     "output_type": "stream",
     "text": [
      "{'ig': {'pgi': {'k=1': [0.2830989360809326], 'k=2': [0.4306480884552002], 'k=3': [0.46335849165916443], 'k=4': [0.43975138664245605]}, 'pgu': {'k=1': [0.37558430433273315], 'k=2': [0.21566297113895416], 'k=3': [0.09970998764038086], 'k=4': [1.5497953143039922e-08]}}, 'itg': {'pgi': {'k=1': [0.28236231207847595], 'k=2': [0.27740761637687683], 'k=3': [0.3334360122680664], 'k=4': [0.4400385916233063]}, 'pgu': {'k=1': [0.3758302330970764], 'k=2': [0.4095053970813751], 'k=3': [0.3630222976207733], 'k=4': [1.5497953143039922e-08]}}, 'sg': {'pgi': {'k=1': [0.2828744649887085], 'k=2': [0.2777245044708252], 'k=3': [0.33314022421836853], 'k=4': [0.4391506314277649]}, 'pgu': {'k=1': [0.37507522106170654], 'k=2': [0.41054055094718933], 'k=3': [0.3635151982307434], 'k=4': [1.5497953143039922e-08]}}, 'shap': {'pgi': {'k=1': [0.2824847102165222], 'k=2': [0.3496708571910858], 'k=3': [0.4640233516693115], 'k=4': [0.43965113162994385]}, 'pgu': {'k=1': [0.37487170100212097], 'k=2': [0.32217350602149963], 'k=3': [0.09995284676551819], 'k=4': [1.5497953143039922e-08]}}, 'lime': {'pgi': {'k=1': [0.28327056765556335], 'k=2': [0.2784925401210785], 'k=3': [0.3321671187877655], 'k=4': [0.4389682412147522]}, 'pgu': {'k=1': [0.375906765460968], 'k=2': [0.41005244851112366], 'k=3': [0.36266422271728516], 'k=4': [1.5497953143039922e-08]}}, 'sp_lime': {'pgi': {'k=1': [0.09982626140117645], 'k=2': [0.2159051150083542], 'k=3': [0.37584030628204346], 'k=4': [0.4392227530479431]}, 'pgu': {'k=1': [0.46318092942237854], 'k=2': [0.4313305616378784], 'k=3': [0.28361132740974426], 'k=4': [1.5497953143039922e-08]}}, 'pfi': {'pgi': {'k=1': [0.28304824233055115], 'k=2': [0.43035149574279785], 'k=3': [0.4079150855541229], 'k=4': [0.43966323137283325]}, 'pgu': {'k=1': [0.37534573674201965], 'k=2': [0.21584583818912506], 'k=3': [0.209223210811615], 'k=4': [1.5497953143039922e-08]}}, 'icc_topo': {'pgi': {'k=1': [0.2827128469944], 'k=2': [0.43121328949928284], 'k=3': [0.4081813395023346], 'k=4': [0.43872299790382385]}, 'pgu': {'k=1': [0.37571215629577637], 'k=2': [0.21598941087722778], 'k=3': [0.2091110348701477], 'k=4': [1.5497953143039922e-08]}}, 'icc_shap': {'pgi': {'k=1': [0.28347012400627136], 'k=2': [0.43059787154197693], 'k=3': [0.4075271189212799], 'k=4': [0.43969908356666565]}, 'pgu': {'k=1': [0.3753834664821625], 'k=2': [0.21546827256679535], 'k=3': [0.2090017944574356], 'k=4': [1.5497953143039922e-08]}}}\n",
      "ig: PGU Sum = 0.690957, PGI Sum = 1.616857\n",
      "itg: PGU Sum = 1.148358, PGI Sum = 1.333245\n",
      "sg: PGU Sum = 1.149131, PGI Sum = 1.332890\n",
      "shap: PGU Sum = 0.796998, PGI Sum = 1.535830\n",
      "lime: PGU Sum = 1.148623, PGI Sum = 1.332898\n",
      "sp_lime: PGU Sum = 1.178123, PGI Sum = 1.130794\n",
      "pfi: PGU Sum = 0.800415, PGI Sum = 1.560978\n",
      "icc_topo: PGU Sum = 0.800813, PGI Sum = 1.560830\n",
      "icc_shap: PGU Sum = 0.799854, PGI Sum = 1.561294\n"
     ]
    }
   ],
   "source": [
    "ge_dict = data[\"ge_dict\"]\n",
    "evaluation_metrics = evaluate_exp(ge_dict,config,mlp_model.to('cpu'))\n",
    "print(evaluation_metrics)\n",
    "# Display the results\n",
    "agg_scores = compute_pgu_pgi_sums(evaluation_metrics)\n",
    "for method, scores in agg_scores.items():\n",
    "    print(f\"{method}: PGU Sum = {scores['pgu_sum']:.6f}, PGI Sum = {scores['pgi_sum']:.6f}\")\n"
   ]
  },
  {
   "cell_type": "code",
   "execution_count": 6,
   "id": "f3ab98aa",
   "metadata": {},
   "outputs": [
    {
     "name": "stdout",
     "output_type": "stream",
     "text": [
      "ig: PGI AUC = 0.418477, PGU AUC = 0.167722\n",
      "itg: PGI AUC = 0.324015, PGU AUC = 0.320148\n",
      "sg: PGI AUC = 0.323959, PGU AUC = 0.320531\n",
      "shap: PGI AUC = 0.391587, PGU AUC = 0.203187\n",
      "lime: PGI AUC = 0.323926, PGU AUC = 0.320223\n",
      "sp_lime: PGI AUC = 0.287090, PGU AUC = 0.315511\n",
      "pfi: PGI AUC = 0.399874, PGU AUC = 0.204247\n",
      "icc_topo: PGI AUC = 0.400038, PGU AUC = 0.204319\n",
      "icc_shap: PGI AUC = 0.399903, PGU AUC = 0.204054\n"
     ]
    }
   ],
   "source": [
    "auc_results = compute_auc(evaluation_metrics,config)\n",
    "\n",
    "# Print results nicely\n",
    "for method, vals in auc_results.items():\n",
    "    print(f\"{method}: PGI AUC = {vals['pgi_auc']:.6f}, PGU AUC = {vals['pgu_auc']:.6f}\")\n"
   ]
  },
  {
   "cell_type": "markdown",
   "id": "bd98ca54",
   "metadata": {},
   "source": [
    "## Lung Cancer Dataset"
   ]
  },
  {
   "cell_type": "code",
   "execution_count": 2,
   "id": "12bfa2e6",
   "metadata": {},
   "outputs": [],
   "source": [
    "config = CONFIG['cancer']\n",
    "mlp_path = PREFIX + 'models/cancer_mlp/cancer_mlp_seed_20/logs/version_1/checkpoints/epoch=62-step=2394.ckpt'\n",
    "scm_path = PREFIX + 'models/cancer_nf/cancer_nf_seed_30/logs/version_1/checkpoints/epoch=143-step=5472.ckpt'\n",
    "mlp_model = MLPLightning.load_from_checkpoint(mlp_path,model = MLP(config['num_features'],config['hidden_layers_mlp'],classification=config['classification']))\n",
    "scm_model = CausalNF.load_from_checkpoint(scm_path,flow = flow(config['num_features'],config['gd_adjacency'],config['hidden_layers_flow']))"
   ]
  },
  {
   "cell_type": "code",
   "execution_count": 3,
   "id": "92dd6e64",
   "metadata": {},
   "outputs": [
    {
     "name": "stdout",
     "output_type": "stream",
     "text": [
      "Max Iterations:  100\n",
      "Starting Iteration:  1\n",
      "Max Iterations:  100\n",
      "Starting Iteration:  1\n",
      "Max Iterations:  100\n",
      "Starting Iteration:  1\n",
      "Max Iterations:  100\n",
      "Starting Iteration:  1\n",
      "Max Iterations:  100\n",
      "Starting Iteration:  1\n"
     ]
    }
   ],
   "source": [
    "##generate attributions\n",
    "ge_dict, time_dict, global_explanations = generate_global_exps(config,mlp_model.to('cpu'),scm_model.to('cpu'))"
   ]
  },
  {
   "cell_type": "code",
   "execution_count": 4,
   "id": "be50d952",
   "metadata": {},
   "outputs": [
    {
     "data": {
      "application/vnd.plotly.v1+json": {
       "config": {
        "plotlyServerURL": "https://plot.ly"
       },
       "data": [
        {
         "marker": {
          "color": "#E69F00",
          "line": {
           "width": 0.05
          }
         },
         "name": "IG",
         "type": "bar",
         "width": 0.06,
         "x": [
          "asia",
          "tub",
          "smoke",
          "lung",
          "bronc",
          "either",
          "xray"
         ],
         "y": {
          "bdata": "z0jOMXJCsz/g5GZoHxGzP4EqRfIb0I4/tDXmH+YmuT/ThTd4S/nkP5MFJVn274M/DCi7Oipjsj8=",
          "dtype": "f8"
         }
        },
        {
         "marker": {
          "color": "#56B4E9",
          "line": {
           "width": 0.05
          }
         },
         "name": "IxG",
         "type": "bar",
         "width": 0.06,
         "x": [
          "asia",
          "tub",
          "smoke",
          "lung",
          "bronc",
          "either",
          "xray"
         ],
         "y": {
          "bdata": "TJVZanVa0D/rDKYTG2LEP/Yty7oZNKw/3FW1BRjL0j80n9cewalIP/IQZdrlWMk/x6IVCNBQoz8=",
          "dtype": "f8"
         }
        },
        {
         "marker": {
          "color": "#009E73",
          "line": {
           "width": 0.05
          }
         },
         "name": "SG",
         "type": "bar",
         "width": 0.06,
         "x": [
          "asia",
          "tub",
          "smoke",
          "lung",
          "bronc",
          "either",
          "xray"
         ],
         "y": {
          "bdata": "rLRCeqw+tz9MOuArW3hkP7uKeTxzeLg/5JJBcM8u2D//nwkxRSxSP5luvFyvTMg/xrdQ8OcDzz8=",
          "dtype": "f8"
         }
        },
        {
         "marker": {
          "color": "#F5C710",
          "line": {
           "width": 0.05
          }
         },
         "name": "SHAP",
         "type": "bar",
         "width": 0.06,
         "x": [
          "asia",
          "tub",
          "smoke",
          "lung",
          "bronc",
          "either",
          "xray"
         ],
         "y": {
          "bdata": "PMiQGyylsD/EmXHs/UpEP49FjkaJ1KY/Ya3X9Xmo0j+ch2I0BmHQP3D/fz690cQ/ei+zDz//xj8=",
          "dtype": "f8"
         }
        },
        {
         "marker": {
          "color": "#0072B2",
          "line": {
           "width": 0.05
          }
         },
         "name": "LIME",
         "type": "bar",
         "width": 0.06,
         "x": [
          "asia",
          "tub",
          "smoke",
          "lung",
          "bronc",
          "either",
          "xray"
         ],
         "y": {
          "bdata": "gdY/rJP1oz8CCSVP4bKOP7rijZVl5q8/4NO85v8Lmz+mUu38QvLnPxBnaMFLR7A/KaJkJYc+pz8=",
          "dtype": "f8"
         }
        },
        {
         "marker": {
          "color": "#999999",
          "line": {
           "width": 0.05
          }
         },
         "name": "SP LIME",
         "type": "bar",
         "width": 0.06,
         "x": [
          "asia",
          "tub",
          "smoke",
          "lung",
          "bronc",
          "either",
          "xray"
         ],
         "y": {
          "bdata": "9k0kTYpFmj+KJLVS0baPPy8gW0nngqo/4edzncSHiz/1/aA5ennpP8wCobrmrLE/jiFtCXoynT8=",
          "dtype": "f8"
         }
        },
        {
         "marker": {
          "color": "#000000",
          "line": {
           "width": 0.05
          }
         },
         "name": "PFI",
         "type": "bar",
         "width": 0.06,
         "x": [
          "asia",
          "tub",
          "smoke",
          "lung",
          "bronc",
          "either",
          "xray"
         ],
         "y": {
          "bdata": "AAAAQInTpj8AAABgJzikPwAAAAAPgrE/AAAAAJwcvD8AAABgQlXjPwAAAIAM97E/AAAAIFs6sD8=",
          "dtype": "f8"
         }
        },
        {
         "marker": {
          "color": "#D55E00",
          "line": {
           "width": 0.05
          }
         },
         "name": "ICC TOPO",
         "type": "bar",
         "width": 0.06,
         "x": [
          "asia",
          "tub",
          "smoke",
          "lung",
          "bronc",
          "either",
          "xray"
         ],
         "y": {
          "bdata": "AAAAgCwnXD8AAAAgrMNgPwAAAAChLXs/AAAAAOl2iT8AAABgbVXuPwAAAABxAYc/AAAAQOFWhz8=",
          "dtype": "f8"
         }
        },
        {
         "marker": {
          "color": "#CC79A7",
          "line": {
           "width": 0.05
          }
         },
         "name": "ICC SHAP",
         "type": "bar",
         "width": 0.06,
         "x": [
          "asia",
          "tub",
          "smoke",
          "lung",
          "bronc",
          "either",
          "xray"
         ],
         "y": {
          "bdata": "AAAAANclYz8AAACAwsxiPwAAAIAVvYU/AAAAYE65kT8AAAAAUDTuPwAAAMD3BIM/AAAAQN5jfz8=",
          "dtype": "f8"
         }
        }
       ],
       "layout": {
        "bargap": 0.45,
        "bargroupgap": 1,
        "barmode": "group",
        "font": {
         "size": 14
        },
        "legend": {
         "font": {
          "color": "black",
          "family": "Times New Roman",
          "size": 25
         },
         "title": {
          "font": {
           "color": "black",
           "family": "Times New Roman",
           "size": 25
          },
          "text": "Method"
         }
        },
        "plot_bgcolor": "rgba(0,0,0,0)",
        "showlegend": true,
        "template": {
         "data": {
          "bar": [
           {
            "error_x": {
             "color": "#2a3f5f"
            },
            "error_y": {
             "color": "#2a3f5f"
            },
            "marker": {
             "line": {
              "color": "#E5ECF6",
              "width": 0.5
             },
             "pattern": {
              "fillmode": "overlay",
              "size": 10,
              "solidity": 0.2
             }
            },
            "type": "bar"
           }
          ],
          "barpolar": [
           {
            "marker": {
             "line": {
              "color": "#E5ECF6",
              "width": 0.5
             },
             "pattern": {
              "fillmode": "overlay",
              "size": 10,
              "solidity": 0.2
             }
            },
            "type": "barpolar"
           }
          ],
          "carpet": [
           {
            "aaxis": {
             "endlinecolor": "#2a3f5f",
             "gridcolor": "white",
             "linecolor": "white",
             "minorgridcolor": "white",
             "startlinecolor": "#2a3f5f"
            },
            "baxis": {
             "endlinecolor": "#2a3f5f",
             "gridcolor": "white",
             "linecolor": "white",
             "minorgridcolor": "white",
             "startlinecolor": "#2a3f5f"
            },
            "type": "carpet"
           }
          ],
          "choropleth": [
           {
            "colorbar": {
             "outlinewidth": 0,
             "ticks": ""
            },
            "type": "choropleth"
           }
          ],
          "contour": [
           {
            "colorbar": {
             "outlinewidth": 0,
             "ticks": ""
            },
            "colorscale": [
             [
              0,
              "#0d0887"
             ],
             [
              0.1111111111111111,
              "#46039f"
             ],
             [
              0.2222222222222222,
              "#7201a8"
             ],
             [
              0.3333333333333333,
              "#9c179e"
             ],
             [
              0.4444444444444444,
              "#bd3786"
             ],
             [
              0.5555555555555556,
              "#d8576b"
             ],
             [
              0.6666666666666666,
              "#ed7953"
             ],
             [
              0.7777777777777778,
              "#fb9f3a"
             ],
             [
              0.8888888888888888,
              "#fdca26"
             ],
             [
              1,
              "#f0f921"
             ]
            ],
            "type": "contour"
           }
          ],
          "contourcarpet": [
           {
            "colorbar": {
             "outlinewidth": 0,
             "ticks": ""
            },
            "type": "contourcarpet"
           }
          ],
          "heatmap": [
           {
            "colorbar": {
             "outlinewidth": 0,
             "ticks": ""
            },
            "colorscale": [
             [
              0,
              "#0d0887"
             ],
             [
              0.1111111111111111,
              "#46039f"
             ],
             [
              0.2222222222222222,
              "#7201a8"
             ],
             [
              0.3333333333333333,
              "#9c179e"
             ],
             [
              0.4444444444444444,
              "#bd3786"
             ],
             [
              0.5555555555555556,
              "#d8576b"
             ],
             [
              0.6666666666666666,
              "#ed7953"
             ],
             [
              0.7777777777777778,
              "#fb9f3a"
             ],
             [
              0.8888888888888888,
              "#fdca26"
             ],
             [
              1,
              "#f0f921"
             ]
            ],
            "type": "heatmap"
           }
          ],
          "histogram": [
           {
            "marker": {
             "pattern": {
              "fillmode": "overlay",
              "size": 10,
              "solidity": 0.2
             }
            },
            "type": "histogram"
           }
          ],
          "histogram2d": [
           {
            "colorbar": {
             "outlinewidth": 0,
             "ticks": ""
            },
            "colorscale": [
             [
              0,
              "#0d0887"
             ],
             [
              0.1111111111111111,
              "#46039f"
             ],
             [
              0.2222222222222222,
              "#7201a8"
             ],
             [
              0.3333333333333333,
              "#9c179e"
             ],
             [
              0.4444444444444444,
              "#bd3786"
             ],
             [
              0.5555555555555556,
              "#d8576b"
             ],
             [
              0.6666666666666666,
              "#ed7953"
             ],
             [
              0.7777777777777778,
              "#fb9f3a"
             ],
             [
              0.8888888888888888,
              "#fdca26"
             ],
             [
              1,
              "#f0f921"
             ]
            ],
            "type": "histogram2d"
           }
          ],
          "histogram2dcontour": [
           {
            "colorbar": {
             "outlinewidth": 0,
             "ticks": ""
            },
            "colorscale": [
             [
              0,
              "#0d0887"
             ],
             [
              0.1111111111111111,
              "#46039f"
             ],
             [
              0.2222222222222222,
              "#7201a8"
             ],
             [
              0.3333333333333333,
              "#9c179e"
             ],
             [
              0.4444444444444444,
              "#bd3786"
             ],
             [
              0.5555555555555556,
              "#d8576b"
             ],
             [
              0.6666666666666666,
              "#ed7953"
             ],
             [
              0.7777777777777778,
              "#fb9f3a"
             ],
             [
              0.8888888888888888,
              "#fdca26"
             ],
             [
              1,
              "#f0f921"
             ]
            ],
            "type": "histogram2dcontour"
           }
          ],
          "mesh3d": [
           {
            "colorbar": {
             "outlinewidth": 0,
             "ticks": ""
            },
            "type": "mesh3d"
           }
          ],
          "parcoords": [
           {
            "line": {
             "colorbar": {
              "outlinewidth": 0,
              "ticks": ""
             }
            },
            "type": "parcoords"
           }
          ],
          "pie": [
           {
            "automargin": true,
            "type": "pie"
           }
          ],
          "scatter": [
           {
            "fillpattern": {
             "fillmode": "overlay",
             "size": 10,
             "solidity": 0.2
            },
            "type": "scatter"
           }
          ],
          "scatter3d": [
           {
            "line": {
             "colorbar": {
              "outlinewidth": 0,
              "ticks": ""
             }
            },
            "marker": {
             "colorbar": {
              "outlinewidth": 0,
              "ticks": ""
             }
            },
            "type": "scatter3d"
           }
          ],
          "scattercarpet": [
           {
            "marker": {
             "colorbar": {
              "outlinewidth": 0,
              "ticks": ""
             }
            },
            "type": "scattercarpet"
           }
          ],
          "scattergeo": [
           {
            "marker": {
             "colorbar": {
              "outlinewidth": 0,
              "ticks": ""
             }
            },
            "type": "scattergeo"
           }
          ],
          "scattergl": [
           {
            "marker": {
             "colorbar": {
              "outlinewidth": 0,
              "ticks": ""
             }
            },
            "type": "scattergl"
           }
          ],
          "scattermap": [
           {
            "marker": {
             "colorbar": {
              "outlinewidth": 0,
              "ticks": ""
             }
            },
            "type": "scattermap"
           }
          ],
          "scattermapbox": [
           {
            "marker": {
             "colorbar": {
              "outlinewidth": 0,
              "ticks": ""
             }
            },
            "type": "scattermapbox"
           }
          ],
          "scatterpolar": [
           {
            "marker": {
             "colorbar": {
              "outlinewidth": 0,
              "ticks": ""
             }
            },
            "type": "scatterpolar"
           }
          ],
          "scatterpolargl": [
           {
            "marker": {
             "colorbar": {
              "outlinewidth": 0,
              "ticks": ""
             }
            },
            "type": "scatterpolargl"
           }
          ],
          "scatterternary": [
           {
            "marker": {
             "colorbar": {
              "outlinewidth": 0,
              "ticks": ""
             }
            },
            "type": "scatterternary"
           }
          ],
          "surface": [
           {
            "colorbar": {
             "outlinewidth": 0,
             "ticks": ""
            },
            "colorscale": [
             [
              0,
              "#0d0887"
             ],
             [
              0.1111111111111111,
              "#46039f"
             ],
             [
              0.2222222222222222,
              "#7201a8"
             ],
             [
              0.3333333333333333,
              "#9c179e"
             ],
             [
              0.4444444444444444,
              "#bd3786"
             ],
             [
              0.5555555555555556,
              "#d8576b"
             ],
             [
              0.6666666666666666,
              "#ed7953"
             ],
             [
              0.7777777777777778,
              "#fb9f3a"
             ],
             [
              0.8888888888888888,
              "#fdca26"
             ],
             [
              1,
              "#f0f921"
             ]
            ],
            "type": "surface"
           }
          ],
          "table": [
           {
            "cells": {
             "fill": {
              "color": "#EBF0F8"
             },
             "line": {
              "color": "white"
             }
            },
            "header": {
             "fill": {
              "color": "#C8D4E3"
             },
             "line": {
              "color": "white"
             }
            },
            "type": "table"
           }
          ]
         },
         "layout": {
          "annotationdefaults": {
           "arrowcolor": "#2a3f5f",
           "arrowhead": 0,
           "arrowwidth": 1
          },
          "autotypenumbers": "strict",
          "coloraxis": {
           "colorbar": {
            "outlinewidth": 0,
            "ticks": ""
           }
          },
          "colorscale": {
           "diverging": [
            [
             0,
             "#8e0152"
            ],
            [
             0.1,
             "#c51b7d"
            ],
            [
             0.2,
             "#de77ae"
            ],
            [
             0.3,
             "#f1b6da"
            ],
            [
             0.4,
             "#fde0ef"
            ],
            [
             0.5,
             "#f7f7f7"
            ],
            [
             0.6,
             "#e6f5d0"
            ],
            [
             0.7,
             "#b8e186"
            ],
            [
             0.8,
             "#7fbc41"
            ],
            [
             0.9,
             "#4d9221"
            ],
            [
             1,
             "#276419"
            ]
           ],
           "sequential": [
            [
             0,
             "#0d0887"
            ],
            [
             0.1111111111111111,
             "#46039f"
            ],
            [
             0.2222222222222222,
             "#7201a8"
            ],
            [
             0.3333333333333333,
             "#9c179e"
            ],
            [
             0.4444444444444444,
             "#bd3786"
            ],
            [
             0.5555555555555556,
             "#d8576b"
            ],
            [
             0.6666666666666666,
             "#ed7953"
            ],
            [
             0.7777777777777778,
             "#fb9f3a"
            ],
            [
             0.8888888888888888,
             "#fdca26"
            ],
            [
             1,
             "#f0f921"
            ]
           ],
           "sequentialminus": [
            [
             0,
             "#0d0887"
            ],
            [
             0.1111111111111111,
             "#46039f"
            ],
            [
             0.2222222222222222,
             "#7201a8"
            ],
            [
             0.3333333333333333,
             "#9c179e"
            ],
            [
             0.4444444444444444,
             "#bd3786"
            ],
            [
             0.5555555555555556,
             "#d8576b"
            ],
            [
             0.6666666666666666,
             "#ed7953"
            ],
            [
             0.7777777777777778,
             "#fb9f3a"
            ],
            [
             0.8888888888888888,
             "#fdca26"
            ],
            [
             1,
             "#f0f921"
            ]
           ]
          },
          "colorway": [
           "#636efa",
           "#EF553B",
           "#00cc96",
           "#ab63fa",
           "#FFA15A",
           "#19d3f3",
           "#FF6692",
           "#B6E880",
           "#FF97FF",
           "#FECB52"
          ],
          "font": {
           "color": "#2a3f5f"
          },
          "geo": {
           "bgcolor": "white",
           "lakecolor": "white",
           "landcolor": "#E5ECF6",
           "showlakes": true,
           "showland": true,
           "subunitcolor": "white"
          },
          "hoverlabel": {
           "align": "left"
          },
          "hovermode": "closest",
          "mapbox": {
           "style": "light"
          },
          "paper_bgcolor": "white",
          "plot_bgcolor": "#E5ECF6",
          "polar": {
           "angularaxis": {
            "gridcolor": "white",
            "linecolor": "white",
            "ticks": ""
           },
           "bgcolor": "#E5ECF6",
           "radialaxis": {
            "gridcolor": "white",
            "linecolor": "white",
            "ticks": ""
           }
          },
          "scene": {
           "xaxis": {
            "backgroundcolor": "#E5ECF6",
            "gridcolor": "white",
            "gridwidth": 2,
            "linecolor": "white",
            "showbackground": true,
            "ticks": "",
            "zerolinecolor": "white"
           },
           "yaxis": {
            "backgroundcolor": "#E5ECF6",
            "gridcolor": "white",
            "gridwidth": 2,
            "linecolor": "white",
            "showbackground": true,
            "ticks": "",
            "zerolinecolor": "white"
           },
           "zaxis": {
            "backgroundcolor": "#E5ECF6",
            "gridcolor": "white",
            "gridwidth": 2,
            "linecolor": "white",
            "showbackground": true,
            "ticks": "",
            "zerolinecolor": "white"
           }
          },
          "shapedefaults": {
           "line": {
            "color": "#2a3f5f"
           }
          },
          "ternary": {
           "aaxis": {
            "gridcolor": "white",
            "linecolor": "white",
            "ticks": ""
           },
           "baxis": {
            "gridcolor": "white",
            "linecolor": "white",
            "ticks": ""
           },
           "bgcolor": "#E5ECF6",
           "caxis": {
            "gridcolor": "white",
            "linecolor": "white",
            "ticks": ""
           }
          },
          "title": {
           "x": 0.05
          },
          "xaxis": {
           "automargin": true,
           "gridcolor": "white",
           "linecolor": "white",
           "ticks": "",
           "title": {
            "standoff": 15
           },
           "zerolinecolor": "white",
           "zerolinewidth": 2
          },
          "yaxis": {
           "automargin": true,
           "gridcolor": "white",
           "linecolor": "white",
           "ticks": "",
           "title": {
            "standoff": 15
           },
           "zerolinecolor": "white",
           "zerolinewidth": 2
          }
         }
        },
        "xaxis": {
         "linecolor": "lightgray",
         "range": [
          -0.5,
          6.5
         ],
         "showgrid": false,
         "tickcolor": "lightgray",
         "tickfont": {
          "color": "black",
          "family": "Times New Roman",
          "size": 26
         },
         "tickmode": "array",
         "ticktext": [
          "asia",
          "tub",
          "smoke",
          "lung",
          "bronc",
          "either",
          "xray"
         ],
         "tickvals": [
          0,
          1,
          2,
          3,
          4,
          5,
          6
         ]
        },
        "yaxis": {
         "dtick": 0.1,
         "gridcolor": "lightgray",
         "linecolor": "lightgray",
         "range": [
          0,
          0.9
         ],
         "showgrid": true,
         "tickcolor": "lightgray",
         "tickfont": {
          "color": "black",
          "family": "Times New Roman",
          "size": 25
         },
         "ticks": "outside",
         "title": {
          "font": {
           "color": "black",
           "family": "Times New Roman",
           "size": 25
          },
          "text": "Attributions"
         }
        }
       }
      }
     },
     "metadata": {},
     "output_type": "display_data"
    }
   ],
   "source": [
    "# Load JSON\n",
    "with open(PREFIX +\"attributions/cancer/attribution.json\", \"r\") as f:\n",
    "    data = json.load(f)\n",
    "global_explanations = data['global_explanations']    \n",
    "generate_attr_plot(global_explanations,config)"
   ]
  },
  {
   "cell_type": "code",
   "execution_count": 5,
   "id": "cd182777",
   "metadata": {},
   "outputs": [
    {
     "name": "stdout",
     "output_type": "stream",
     "text": [
      "{'ig': {'pgi': {'k=1': [0.29168957471847534], 'k=2': [0.39374619722366333], 'k=3': [0.4133373498916626], 'k=4': [0.4331468343734741], 'k=5': [0.4573965072631836], 'k=6': [0.4600899815559387], 'k=7': [0.4664827585220337]}, 'pgu': {'k=1': [0.41728970408439636], 'k=2': [0.37399086356163025], 'k=3': [0.3353593349456787], 'k=4': [0.2630678713321686], 'k=5': [0.18692538142204285], 'k=6': [0.13758708536624908], 'k=7': [1.732276899701901e-08]}}, 'itg': {'pgi': {'k=1': [0.21348309516906738], 'k=2': [0.26927709579467773], 'k=3': [0.30948853492736816], 'k=4': [0.36291149258613586], 'k=5': [0.3860889673233032], 'k=6': [0.41737279295921326], 'k=7': [0.46694397926330566]}, 'pgu': {'k=1': [0.43707275390625], 'k=2': [0.4191991686820984], 'k=3': [0.39881840348243713], 'k=4': [0.3656461536884308], 'k=5': [0.35873544216156006], 'k=6': [0.2920694053173065], 'k=7': [1.732276899701901e-08]}}, 'sg': {'pgi': {'k=1': [0.21435168385505676], 'k=2': [0.29874715209007263], 'k=3': [0.3291412889957428], 'k=4': [0.3509398102760315], 'k=5': [0.3834865391254425], 'k=6': [0.4174617528915405], 'k=7': [0.46638157963752747]}, 'pgu': {'k=1': [0.4379355311393738], 'k=2': [0.4132550060749054], 'k=3': [0.3833787143230438], 'k=4': [0.3743545413017273], 'k=5': [0.34129443764686584], 'k=6': [0.2910573184490204], 'k=7': [1.732276899701901e-08]}}, 'shap': {'pgi': {'k=1': [0.21372868120670319], 'k=2': [0.3933236598968506], 'k=3': [0.42442071437835693], 'k=4': [0.43736591935157776], 'k=5': [0.45209476351737976], 'k=6': [0.45328378677368164], 'k=7': [0.4673217236995697]}, 'pgu': {'k=1': [0.4374527037143707], 'k=2': [0.3737059533596039], 'k=3': [0.3342647850513458], 'k=4': [0.29462718963623047], 'k=5': [0.22790758311748505], 'k=6': [0.16813215613365173], 'k=7': [1.732276899701901e-08]}}, 'lime': {'pgi': {'k=1': [0.2919442057609558], 'k=2': [0.3464854061603546], 'k=3': [0.3531654477119446], 'k=4': [0.39172011613845825], 'k=5': [0.41507694125175476], 'k=6': [0.45338690280914307], 'k=7': [0.46729400753974915]}, 'pgu': {'k=1': [0.417334645986557], 'k=2': [0.40655821561813354], 'k=3': [0.3886092007160187], 'k=4': [0.33603399991989136], 'k=5': [0.2995589077472687], 'k=6': [0.16770263016223907], 'k=7': [1.732276899701901e-08]}}, 'sp_lime': {'pgi': {'k=1': [0.12430079281330109], 'k=2': [0.244385227560997], 'k=3': [0.29518362879753113], 'k=4': [0.3672561049461365], 'k=5': [0.4366944432258606], 'k=6': [0.4496760070323944], 'k=7': [0.46696940064430237]}, 'pgu': {'k=1': [0.45600414276123047], 'k=2': [0.44051992893218994], 'k=3': [0.43753835558891296], 'k=4': [0.38599488139152527], 'k=5': [0.22501564025878906], 'k=6': [0.14519773423671722], 'k=7': [1.732276899701901e-08]}}, 'pfi': {'pgi': {'k=1': [0.2911508083343506], 'k=2': [0.3940140902996063], 'k=3': [0.41190817952156067], 'k=4': [0.4148930013179779], 'k=5': [0.44006866216659546], 'k=6': [0.45363155007362366], 'k=7': [0.4667074680328369]}, 'pgu': {'k=1': [0.417526513338089], 'k=2': [0.37385478615760803], 'k=3': [0.3491036593914032], 'k=4': [0.31864798069000244], 'k=5': [0.24415253102779388], 'k=6': [0.16795602440834045], 'k=7': [1.732276899701901e-08]}}, 'icc_topo': {'pgi': {'k=1': [0.29112809896469116], 'k=2': [0.39407992362976074], 'k=3': [0.42454832792282104], 'k=4': [0.4373420178890228], 'k=5': [0.44075796008110046], 'k=6': [0.4564797878265381], 'k=7': [0.4669635593891144]}, 'pgu': {'k=1': [0.417196661233902], 'k=2': [0.3742092251777649], 'k=3': [0.33458805084228516], 'k=4': [0.29493963718414307], 'k=5': [0.24425071477890015], 'k=6': [0.12371018528938293], 'k=7': [1.732276899701901e-08]}}, 'icc_shap': {'pgi': {'k=1': [0.2911381721496582], 'k=2': [0.3938542306423187], 'k=3': [0.39780935645103455], 'k=4': [0.4151858389377594], 'k=5': [0.4401145875453949], 'k=6': [0.45367318391799927], 'k=7': [0.46726441383361816]}, 'pgu': {'k=1': [0.41739994287490845], 'k=2': [0.373224675655365], 'k=3': [0.34884926676750183], 'k=4': [0.3179752826690674], 'k=5': [0.2446761280298233], 'k=6': [0.1676398366689682], 'k=7': [1.732276899701901e-08]}}}\n",
      "ig: PGU Sum = 1.714220, PGI Sum = 2.915889\n",
      "itg: PGU Sum = 2.271541, PGI Sum = 2.425566\n",
      "sg: PGU Sum = 2.241276, PGI Sum = 2.460510\n",
      "shap: PGU Sum = 1.836090, PGI Sum = 2.841539\n",
      "lime: PGU Sum = 2.015798, PGI Sum = 2.719073\n",
      "sp_lime: PGU Sum = 2.090271, PGI Sum = 2.384466\n",
      "pfi: PGU Sum = 1.871242, PGI Sum = 2.872374\n",
      "icc_topo: PGU Sum = 1.788894, PGI Sum = 2.911300\n",
      "icc_shap: PGU Sum = 1.869765, PGI Sum = 2.859040\n"
     ]
    }
   ],
   "source": [
    "# Call the function\n",
    "ge_dict = data[\"ge_dict\"]\n",
    "evaluation_metrics = evaluate_exp(ge_dict,config,mlp_model.to('cpu'))\n",
    "print(evaluation_metrics)\n",
    "# Display the results\n",
    "agg_scores = compute_pgu_pgi_sums(evaluation_metrics)\n",
    "for method, scores in agg_scores.items():\n",
    "    print(f\"{method}: PGU Sum = {scores['pgu_sum']:.6f}, PGI Sum = {scores['pgi_sum']:.6f}\")"
   ]
  },
  {
   "cell_type": "code",
   "execution_count": 7,
   "id": "d0f10a47",
   "metadata": {},
   "outputs": [
    {
     "name": "stdout",
     "output_type": "stream",
     "text": [
      "ig: PGI AUC = 0.422801, PGU AUC = 0.250929\n",
      "itg: PGI AUC = 0.347559, PGU AUC = 0.342167\n",
      "sg: PGI AUC = 0.353357, PGU AUC = 0.337051\n",
      "shap: PGI AUC = 0.416836, PGU AUC = 0.269561\n",
      "lime: PGI AUC = 0.389909, PGU AUC = 0.301188\n",
      "sp_lime: PGI AUC = 0.348138, PGU AUC = 0.310378\n",
      "pfi: PGI AUC = 0.415574, PGU AUC = 0.277080\n",
      "icc_topo: PGI AUC = 0.422042, PGU AUC = 0.263383\n",
      "icc_shap: PGI AUC = 0.413306, PGU AUC = 0.276844\n"
     ]
    }
   ],
   "source": [
    "auc_results = compute_auc(evaluation_metrics,config)\n",
    "for method, vals in auc_results.items():\n",
    "    print(f\"{method}: PGI AUC = {vals['pgi_auc']:.6f}, PGU AUC = {vals['pgu_auc']:.6f}\")\n"
   ]
  },
  {
   "cell_type": "markdown",
   "id": "5786275b",
   "metadata": {},
   "source": [
    "## Synthetic Data"
   ]
  },
  {
   "cell_type": "code",
   "execution_count": 2,
   "id": "3188a479",
   "metadata": {},
   "outputs": [],
   "source": [
    "config = CONFIG['syn']\n",
    "mlp_path = PREFIX + 'models/syn_mlp/syn_mlp_seed_20/logs/version_3/checkpoints/epoch=12-step=416.ckpt'\n",
    "scm_path = PREFIX + 'models/syn_nf/syn_nf_seed_20/logs/version_1/checkpoints/epoch=3-step=128.ckpt'\n",
    "mlp_model = MLPLightning.load_from_checkpoint(mlp_path,model = MLP(config['num_features'],config['hidden_layers_mlp'],classification=config['classification']))\n",
    "scm_model = CausalNF.load_from_checkpoint(scm_path,flow = flow(config['num_features'],config['gd_adjacency'],config['hidden_layers_flow']))"
   ]
  },
  {
   "cell_type": "code",
   "execution_count": 3,
   "id": "eb04e8ba",
   "metadata": {},
   "outputs": [
    {
     "name": "stdout",
     "output_type": "stream",
     "text": [
      "Max Iterations:  100\n",
      "Starting Iteration:  1\n",
      "Max Iterations:  100\n",
      "Starting Iteration:  1\n",
      "Max Iterations:  100\n",
      "Starting Iteration:  1\n",
      "Max Iterations:  100\n",
      "Starting Iteration:  1\n",
      "Max Iterations:  100\n",
      "Starting Iteration:  1\n"
     ]
    }
   ],
   "source": [
    "##generate attributions\n",
    "ge_dict, time_dict, global_explanations = generate_global_exps(config,mlp_model.to('cpu'),scm_model.to('cpu'))"
   ]
  },
  {
   "cell_type": "code",
   "execution_count": 9,
   "id": "7e0f586e",
   "metadata": {},
   "outputs": [
    {
     "data": {
      "application/vnd.plotly.v1+json": {
       "config": {
        "plotlyServerURL": "https://plot.ly"
       },
       "data": [
        {
         "marker": {
          "color": "#E69F00",
          "line": {
           "width": 0.05
          }
         },
         "name": "IG",
         "type": "bar",
         "width": 0.06,
         "x": [
          "P",
          "Q",
          "R"
         ],
         "y": {
          "bdata": "QmVPMJ9Xoj+aUG8HBjrmPyNyFwsAQdE/",
          "dtype": "f8"
         }
        },
        {
         "marker": {
          "color": "#56B4E9",
          "line": {
           "width": 0.05
          }
         },
         "name": "IxG",
         "type": "bar",
         "width": 0.06,
         "x": [
          "P",
          "Q",
          "R"
         ],
         "y": {
          "bdata": "1th0VygW2j/6AsYAme2FP4l7QnA1neI/",
          "dtype": "f8"
         }
        },
        {
         "marker": {
          "color": "#009E73",
          "line": {
           "width": 0.05
          }
         },
         "name": "SG",
         "type": "bar",
         "width": 0.06,
         "x": [
          "P",
          "Q",
          "R"
         ],
         "y": {
          "bdata": "AWabAwU/kD/z1+l2SPziP7mZ8sF+A9k/",
          "dtype": "f8"
         }
        },
        {
         "marker": {
          "color": "#F5C710",
          "line": {
           "width": 0.05
          }
         },
         "name": "SHAP",
         "type": "bar",
         "width": 0.06,
         "x": [
          "P",
          "Q",
          "R"
         ],
         "y": {
          "bdata": "8ulI+Gwubj/HaIIniCziP6CcCteSats/",
          "dtype": "f8"
         }
        },
        {
         "marker": {
          "color": "#0072B2",
          "line": {
           "width": 0.05
          }
         },
         "name": "LIME",
         "type": "bar",
         "width": 0.06,
         "x": [
          "P",
          "Q",
          "R"
         ],
         "y": {
          "bdata": "je5QTxERtz833NaLp0bmP9sX/CjZXMs/",
          "dtype": "f8"
         }
        },
        {
         "marker": {
          "color": "#999999",
          "line": {
           "width": 0.05
          }
         },
         "name": "SP LIME",
         "type": "bar",
         "width": 0.06,
         "x": [
          "P",
          "Q",
          "R"
         ],
         "y": {
          "bdata": "4hZXiaKYyD/eqXuolgrhP9MgXWqBntE/",
          "dtype": "f8"
         }
        },
        {
         "marker": {
          "color": "#000000",
          "line": {
           "width": 0.05
          }
         },
         "name": "PFI",
         "type": "bar",
         "width": 0.06,
         "x": [
          "P",
          "Q",
          "R"
         ],
         "y": {
          "bdata": "AAAAIIPs0D8AAACgNZLhPwAAAEAj3sc/",
          "dtype": "f8"
         }
        },
        {
         "marker": {
          "color": "#D55E00",
          "line": {
           "width": 0.05
          }
         },
         "name": "ICC TOPO",
         "type": "bar",
         "width": 0.06,
         "x": [
          "P",
          "Q",
          "R"
         ],
         "y": {
          "bdata": "AAAAgIlApj8AAADA6u3gPwAAACAZXNs/",
          "dtype": "f8"
         }
        },
        {
         "marker": {
          "color": "#CC79A7",
          "line": {
           "width": 0.05
          }
         },
         "name": "ICC SHAP",
         "type": "bar",
         "width": 0.06,
         "x": [
          "P",
          "Q",
          "R"
         ],
         "y": {
          "bdata": "AAAAwMSSwD8AAABg8WrgPwAAAOC64NY/",
          "dtype": "f8"
         }
        }
       ],
       "layout": {
        "bargap": 0.45,
        "bargroupgap": 1,
        "barmode": "group",
        "font": {
         "size": 14
        },
        "legend": {
         "font": {
          "color": "black",
          "family": "Times New Roman",
          "size": 25
         },
         "title": {
          "font": {
           "color": "black",
           "family": "Times New Roman",
           "size": 25
          },
          "text": "Method"
         }
        },
        "plot_bgcolor": "rgba(0,0,0,0)",
        "showlegend": true,
        "template": {
         "data": {
          "bar": [
           {
            "error_x": {
             "color": "#2a3f5f"
            },
            "error_y": {
             "color": "#2a3f5f"
            },
            "marker": {
             "line": {
              "color": "#E5ECF6",
              "width": 0.5
             },
             "pattern": {
              "fillmode": "overlay",
              "size": 10,
              "solidity": 0.2
             }
            },
            "type": "bar"
           }
          ],
          "barpolar": [
           {
            "marker": {
             "line": {
              "color": "#E5ECF6",
              "width": 0.5
             },
             "pattern": {
              "fillmode": "overlay",
              "size": 10,
              "solidity": 0.2
             }
            },
            "type": "barpolar"
           }
          ],
          "carpet": [
           {
            "aaxis": {
             "endlinecolor": "#2a3f5f",
             "gridcolor": "white",
             "linecolor": "white",
             "minorgridcolor": "white",
             "startlinecolor": "#2a3f5f"
            },
            "baxis": {
             "endlinecolor": "#2a3f5f",
             "gridcolor": "white",
             "linecolor": "white",
             "minorgridcolor": "white",
             "startlinecolor": "#2a3f5f"
            },
            "type": "carpet"
           }
          ],
          "choropleth": [
           {
            "colorbar": {
             "outlinewidth": 0,
             "ticks": ""
            },
            "type": "choropleth"
           }
          ],
          "contour": [
           {
            "colorbar": {
             "outlinewidth": 0,
             "ticks": ""
            },
            "colorscale": [
             [
              0,
              "#0d0887"
             ],
             [
              0.1111111111111111,
              "#46039f"
             ],
             [
              0.2222222222222222,
              "#7201a8"
             ],
             [
              0.3333333333333333,
              "#9c179e"
             ],
             [
              0.4444444444444444,
              "#bd3786"
             ],
             [
              0.5555555555555556,
              "#d8576b"
             ],
             [
              0.6666666666666666,
              "#ed7953"
             ],
             [
              0.7777777777777778,
              "#fb9f3a"
             ],
             [
              0.8888888888888888,
              "#fdca26"
             ],
             [
              1,
              "#f0f921"
             ]
            ],
            "type": "contour"
           }
          ],
          "contourcarpet": [
           {
            "colorbar": {
             "outlinewidth": 0,
             "ticks": ""
            },
            "type": "contourcarpet"
           }
          ],
          "heatmap": [
           {
            "colorbar": {
             "outlinewidth": 0,
             "ticks": ""
            },
            "colorscale": [
             [
              0,
              "#0d0887"
             ],
             [
              0.1111111111111111,
              "#46039f"
             ],
             [
              0.2222222222222222,
              "#7201a8"
             ],
             [
              0.3333333333333333,
              "#9c179e"
             ],
             [
              0.4444444444444444,
              "#bd3786"
             ],
             [
              0.5555555555555556,
              "#d8576b"
             ],
             [
              0.6666666666666666,
              "#ed7953"
             ],
             [
              0.7777777777777778,
              "#fb9f3a"
             ],
             [
              0.8888888888888888,
              "#fdca26"
             ],
             [
              1,
              "#f0f921"
             ]
            ],
            "type": "heatmap"
           }
          ],
          "histogram": [
           {
            "marker": {
             "pattern": {
              "fillmode": "overlay",
              "size": 10,
              "solidity": 0.2
             }
            },
            "type": "histogram"
           }
          ],
          "histogram2d": [
           {
            "colorbar": {
             "outlinewidth": 0,
             "ticks": ""
            },
            "colorscale": [
             [
              0,
              "#0d0887"
             ],
             [
              0.1111111111111111,
              "#46039f"
             ],
             [
              0.2222222222222222,
              "#7201a8"
             ],
             [
              0.3333333333333333,
              "#9c179e"
             ],
             [
              0.4444444444444444,
              "#bd3786"
             ],
             [
              0.5555555555555556,
              "#d8576b"
             ],
             [
              0.6666666666666666,
              "#ed7953"
             ],
             [
              0.7777777777777778,
              "#fb9f3a"
             ],
             [
              0.8888888888888888,
              "#fdca26"
             ],
             [
              1,
              "#f0f921"
             ]
            ],
            "type": "histogram2d"
           }
          ],
          "histogram2dcontour": [
           {
            "colorbar": {
             "outlinewidth": 0,
             "ticks": ""
            },
            "colorscale": [
             [
              0,
              "#0d0887"
             ],
             [
              0.1111111111111111,
              "#46039f"
             ],
             [
              0.2222222222222222,
              "#7201a8"
             ],
             [
              0.3333333333333333,
              "#9c179e"
             ],
             [
              0.4444444444444444,
              "#bd3786"
             ],
             [
              0.5555555555555556,
              "#d8576b"
             ],
             [
              0.6666666666666666,
              "#ed7953"
             ],
             [
              0.7777777777777778,
              "#fb9f3a"
             ],
             [
              0.8888888888888888,
              "#fdca26"
             ],
             [
              1,
              "#f0f921"
             ]
            ],
            "type": "histogram2dcontour"
           }
          ],
          "mesh3d": [
           {
            "colorbar": {
             "outlinewidth": 0,
             "ticks": ""
            },
            "type": "mesh3d"
           }
          ],
          "parcoords": [
           {
            "line": {
             "colorbar": {
              "outlinewidth": 0,
              "ticks": ""
             }
            },
            "type": "parcoords"
           }
          ],
          "pie": [
           {
            "automargin": true,
            "type": "pie"
           }
          ],
          "scatter": [
           {
            "fillpattern": {
             "fillmode": "overlay",
             "size": 10,
             "solidity": 0.2
            },
            "type": "scatter"
           }
          ],
          "scatter3d": [
           {
            "line": {
             "colorbar": {
              "outlinewidth": 0,
              "ticks": ""
             }
            },
            "marker": {
             "colorbar": {
              "outlinewidth": 0,
              "ticks": ""
             }
            },
            "type": "scatter3d"
           }
          ],
          "scattercarpet": [
           {
            "marker": {
             "colorbar": {
              "outlinewidth": 0,
              "ticks": ""
             }
            },
            "type": "scattercarpet"
           }
          ],
          "scattergeo": [
           {
            "marker": {
             "colorbar": {
              "outlinewidth": 0,
              "ticks": ""
             }
            },
            "type": "scattergeo"
           }
          ],
          "scattergl": [
           {
            "marker": {
             "colorbar": {
              "outlinewidth": 0,
              "ticks": ""
             }
            },
            "type": "scattergl"
           }
          ],
          "scattermap": [
           {
            "marker": {
             "colorbar": {
              "outlinewidth": 0,
              "ticks": ""
             }
            },
            "type": "scattermap"
           }
          ],
          "scattermapbox": [
           {
            "marker": {
             "colorbar": {
              "outlinewidth": 0,
              "ticks": ""
             }
            },
            "type": "scattermapbox"
           }
          ],
          "scatterpolar": [
           {
            "marker": {
             "colorbar": {
              "outlinewidth": 0,
              "ticks": ""
             }
            },
            "type": "scatterpolar"
           }
          ],
          "scatterpolargl": [
           {
            "marker": {
             "colorbar": {
              "outlinewidth": 0,
              "ticks": ""
             }
            },
            "type": "scatterpolargl"
           }
          ],
          "scatterternary": [
           {
            "marker": {
             "colorbar": {
              "outlinewidth": 0,
              "ticks": ""
             }
            },
            "type": "scatterternary"
           }
          ],
          "surface": [
           {
            "colorbar": {
             "outlinewidth": 0,
             "ticks": ""
            },
            "colorscale": [
             [
              0,
              "#0d0887"
             ],
             [
              0.1111111111111111,
              "#46039f"
             ],
             [
              0.2222222222222222,
              "#7201a8"
             ],
             [
              0.3333333333333333,
              "#9c179e"
             ],
             [
              0.4444444444444444,
              "#bd3786"
             ],
             [
              0.5555555555555556,
              "#d8576b"
             ],
             [
              0.6666666666666666,
              "#ed7953"
             ],
             [
              0.7777777777777778,
              "#fb9f3a"
             ],
             [
              0.8888888888888888,
              "#fdca26"
             ],
             [
              1,
              "#f0f921"
             ]
            ],
            "type": "surface"
           }
          ],
          "table": [
           {
            "cells": {
             "fill": {
              "color": "#EBF0F8"
             },
             "line": {
              "color": "white"
             }
            },
            "header": {
             "fill": {
              "color": "#C8D4E3"
             },
             "line": {
              "color": "white"
             }
            },
            "type": "table"
           }
          ]
         },
         "layout": {
          "annotationdefaults": {
           "arrowcolor": "#2a3f5f",
           "arrowhead": 0,
           "arrowwidth": 1
          },
          "autotypenumbers": "strict",
          "coloraxis": {
           "colorbar": {
            "outlinewidth": 0,
            "ticks": ""
           }
          },
          "colorscale": {
           "diverging": [
            [
             0,
             "#8e0152"
            ],
            [
             0.1,
             "#c51b7d"
            ],
            [
             0.2,
             "#de77ae"
            ],
            [
             0.3,
             "#f1b6da"
            ],
            [
             0.4,
             "#fde0ef"
            ],
            [
             0.5,
             "#f7f7f7"
            ],
            [
             0.6,
             "#e6f5d0"
            ],
            [
             0.7,
             "#b8e186"
            ],
            [
             0.8,
             "#7fbc41"
            ],
            [
             0.9,
             "#4d9221"
            ],
            [
             1,
             "#276419"
            ]
           ],
           "sequential": [
            [
             0,
             "#0d0887"
            ],
            [
             0.1111111111111111,
             "#46039f"
            ],
            [
             0.2222222222222222,
             "#7201a8"
            ],
            [
             0.3333333333333333,
             "#9c179e"
            ],
            [
             0.4444444444444444,
             "#bd3786"
            ],
            [
             0.5555555555555556,
             "#d8576b"
            ],
            [
             0.6666666666666666,
             "#ed7953"
            ],
            [
             0.7777777777777778,
             "#fb9f3a"
            ],
            [
             0.8888888888888888,
             "#fdca26"
            ],
            [
             1,
             "#f0f921"
            ]
           ],
           "sequentialminus": [
            [
             0,
             "#0d0887"
            ],
            [
             0.1111111111111111,
             "#46039f"
            ],
            [
             0.2222222222222222,
             "#7201a8"
            ],
            [
             0.3333333333333333,
             "#9c179e"
            ],
            [
             0.4444444444444444,
             "#bd3786"
            ],
            [
             0.5555555555555556,
             "#d8576b"
            ],
            [
             0.6666666666666666,
             "#ed7953"
            ],
            [
             0.7777777777777778,
             "#fb9f3a"
            ],
            [
             0.8888888888888888,
             "#fdca26"
            ],
            [
             1,
             "#f0f921"
            ]
           ]
          },
          "colorway": [
           "#636efa",
           "#EF553B",
           "#00cc96",
           "#ab63fa",
           "#FFA15A",
           "#19d3f3",
           "#FF6692",
           "#B6E880",
           "#FF97FF",
           "#FECB52"
          ],
          "font": {
           "color": "#2a3f5f"
          },
          "geo": {
           "bgcolor": "white",
           "lakecolor": "white",
           "landcolor": "#E5ECF6",
           "showlakes": true,
           "showland": true,
           "subunitcolor": "white"
          },
          "hoverlabel": {
           "align": "left"
          },
          "hovermode": "closest",
          "mapbox": {
           "style": "light"
          },
          "paper_bgcolor": "white",
          "plot_bgcolor": "#E5ECF6",
          "polar": {
           "angularaxis": {
            "gridcolor": "white",
            "linecolor": "white",
            "ticks": ""
           },
           "bgcolor": "#E5ECF6",
           "radialaxis": {
            "gridcolor": "white",
            "linecolor": "white",
            "ticks": ""
           }
          },
          "scene": {
           "xaxis": {
            "backgroundcolor": "#E5ECF6",
            "gridcolor": "white",
            "gridwidth": 2,
            "linecolor": "white",
            "showbackground": true,
            "ticks": "",
            "zerolinecolor": "white"
           },
           "yaxis": {
            "backgroundcolor": "#E5ECF6",
            "gridcolor": "white",
            "gridwidth": 2,
            "linecolor": "white",
            "showbackground": true,
            "ticks": "",
            "zerolinecolor": "white"
           },
           "zaxis": {
            "backgroundcolor": "#E5ECF6",
            "gridcolor": "white",
            "gridwidth": 2,
            "linecolor": "white",
            "showbackground": true,
            "ticks": "",
            "zerolinecolor": "white"
           }
          },
          "shapedefaults": {
           "line": {
            "color": "#2a3f5f"
           }
          },
          "ternary": {
           "aaxis": {
            "gridcolor": "white",
            "linecolor": "white",
            "ticks": ""
           },
           "baxis": {
            "gridcolor": "white",
            "linecolor": "white",
            "ticks": ""
           },
           "bgcolor": "#E5ECF6",
           "caxis": {
            "gridcolor": "white",
            "linecolor": "white",
            "ticks": ""
           }
          },
          "title": {
           "x": 0.05
          },
          "xaxis": {
           "automargin": true,
           "gridcolor": "white",
           "linecolor": "white",
           "ticks": "",
           "title": {
            "standoff": 15
           },
           "zerolinecolor": "white",
           "zerolinewidth": 2
          },
          "yaxis": {
           "automargin": true,
           "gridcolor": "white",
           "linecolor": "white",
           "ticks": "",
           "title": {
            "standoff": 15
           },
           "zerolinecolor": "white",
           "zerolinewidth": 2
          }
         }
        },
        "xaxis": {
         "linecolor": "lightgray",
         "range": [
          -0.5,
          2.5
         ],
         "showgrid": false,
         "tickcolor": "lightgray",
         "tickfont": {
          "color": "black",
          "family": "Times New Roman",
          "size": 26
         },
         "tickmode": "array",
         "ticktext": [
          "P",
          "Q",
          "R"
         ],
         "tickvals": [
          0,
          1,
          2
         ]
        },
        "yaxis": {
         "dtick": 0.1,
         "gridcolor": "lightgray",
         "linecolor": "lightgray",
         "range": [
          0,
          0.9
         ],
         "showgrid": true,
         "tickcolor": "lightgray",
         "tickfont": {
          "color": "black",
          "family": "Times New Roman",
          "size": 25
         },
         "ticks": "outside",
         "title": {
          "font": {
           "color": "black",
           "family": "Times New Roman",
           "size": 25
          },
          "text": "Attributions"
         }
        }
       }
      }
     },
     "metadata": {},
     "output_type": "display_data"
    }
   ],
   "source": [
    "# Load JSON\n",
    "with open(PREFIX +\"attributions/syn/attribution.json\", \"r\") as f:\n",
    "    data = json.load(f)\n",
    "global_explanations = data['global_explanations']    \n",
    "generate_attr_plot(global_explanations,config)"
   ]
  },
  {
   "cell_type": "code",
   "execution_count": 10,
   "id": "65d7e825",
   "metadata": {},
   "outputs": [
    {
     "name": "stdout",
     "output_type": "stream",
     "text": [
      "{'ig': {'pgi': {'k=1': [0.029777446761727333], 'k=2': [0.04713110998272896], 'k=3': [0.06602025032043457]}, 'pgu': {'k=1': [0.044813379645347595], 'k=2': [0.024564575403928757], 'k=3': [1.8179417082819782e-08]}}, 'itg': {'pgi': {'k=1': [0.02531259134411812], 'k=2': [0.044942617416381836], 'k=3': [0.0658622682094574]}, 'pgu': {'k=1': [0.04934872314333916], 'k=2': [0.029689406976103783], 'k=3': [1.8179417082819782e-08]}}, 'sg': {'pgi': {'k=1': [0.029701614752411842], 'k=2': [0.047080982476472855], 'k=3': [0.06585939228534698]}, 'pgu': {'k=1': [0.04492420703172684], 'k=2': [0.024594595655798912], 'k=3': [1.8179417082819782e-08]}}, 'shap': {'pgi': {'k=1': [0.029781628400087357], 'k=2': [0.047010328620672226], 'k=3': [0.06585140526294708]}, 'pgu': {'k=1': [0.04497193172574043], 'k=2': [0.024589834734797478], 'k=3': [1.8179417082819782e-08]}}, 'lime': {'pgi': {'k=1': [0.029750090092420578], 'k=2': [0.0470273420214653], 'k=3': [0.06585081666707993]}, 'pgu': {'k=1': [0.04483410343527794], 'k=2': [0.024545134976506233], 'k=3': [1.8179417082819782e-08]}}, 'sp_lime': {'pgi': {'k=1': [0.024551553651690483], 'k=2': [0.04937727749347687], 'k=3': [0.06600834429264069]}, 'pgu': {'k=1': [0.04716623201966286], 'k=2': [0.025259120389819145], 'k=3': [1.8179417082819782e-08]}}, 'pfi': {'pgi': {'k=1': [0.02972613088786602], 'k=2': [0.04939653351902962], 'k=3': [0.06590568274259567]}, 'pgu': {'k=1': [0.044972170144319534], 'k=2': [0.025190358981490135], 'k=3': [1.8179417082819782e-08]}}, 'icc_topo': {'pgi': {'k=1': [0.02977736108005047], 'k=2': [0.04710318148136139], 'k=3': [0.06585302948951721]}, 'pgu': {'k=1': [0.0448426716029644], 'k=2': [0.024661630392074585], 'k=3': [1.8179417082819782e-08]}}, 'icc_shap': {'pgi': {'k=1': [0.029645875096321106], 'k=2': [0.04701615124940872], 'k=3': [0.06585043668746948]}, 'pgu': {'k=1': [0.04493570700287819], 'k=2': [0.02449365332722664], 'k=3': [1.8179417082819782e-08]}}}\n",
      "ig: PGU Sum = 0.069378, PGI Sum = 0.142929\n",
      "itg: PGU Sum = 0.079038, PGI Sum = 0.136117\n",
      "sg: PGU Sum = 0.069519, PGI Sum = 0.142642\n",
      "shap: PGU Sum = 0.069562, PGI Sum = 0.142643\n",
      "lime: PGU Sum = 0.069379, PGI Sum = 0.142628\n",
      "sp_lime: PGU Sum = 0.072425, PGI Sum = 0.139937\n",
      "pfi: PGU Sum = 0.070163, PGI Sum = 0.145028\n",
      "icc_topo: PGU Sum = 0.069504, PGI Sum = 0.142734\n",
      "icc_shap: PGU Sum = 0.069429, PGI Sum = 0.142512\n"
     ]
    }
   ],
   "source": [
    "# Call the function\n",
    "ge_dict = data[\"ge_dict\"]\n",
    "evaluation_metrics = evaluate_exp(ge_dict,config,mlp_model.to('cpu'))\n",
    "print(evaluation_metrics)\n",
    "# Display the results\n",
    "agg_scores = compute_pgu_pgi_sums(evaluation_metrics)\n",
    "for method, scores in agg_scores.items():\n",
    "    print(f\"{method}: PGU Sum = {scores['pgu_sum']:.6f}, PGI Sum = {scores['pgi_sum']:.6f}\")"
   ]
  },
  {
   "cell_type": "code",
   "execution_count": 11,
   "id": "0e7113c6",
   "metadata": {},
   "outputs": [
    {
     "name": "stdout",
     "output_type": "stream",
     "text": [
      "ig: PGI AUC = 0.047515, PGU AUC = 0.023486\n",
      "itg: PGI AUC = 0.045265, PGU AUC = 0.027182\n",
      "sg: PGI AUC = 0.047431, PGU AUC = 0.023528\n",
      "shap: PGI AUC = 0.047413, PGU AUC = 0.023538\n",
      "lime: PGI AUC = 0.047414, PGU AUC = 0.023481\n",
      "sp_lime: PGI AUC = 0.047329, PGU AUC = 0.024421\n",
      "pfi: PGI AUC = 0.048606, PGU AUC = 0.023838\n",
      "icc_topo: PGI AUC = 0.047459, PGU AUC = 0.023541\n",
      "icc_shap: PGI AUC = 0.047382, PGU AUC = 0.023481\n"
     ]
    }
   ],
   "source": [
    "auc_results = compute_auc(evaluation_metrics,config)\n",
    "for method, vals in auc_results.items():\n",
    "    print(f\"{method}: PGI AUC = {vals['pgi_auc']:.6f}, PGU AUC = {vals['pgu_auc']:.6f}\")\n"
   ]
  },
  {
   "cell_type": "markdown",
   "id": "1314c3c3",
   "metadata": {},
   "source": [
    "## Test"
   ]
  },
  {
   "cell_type": "code",
   "execution_count": 2,
   "id": "9cdf7d7f",
   "metadata": {},
   "outputs": [
    {
     "name": "stdout",
     "output_type": "stream",
     "text": [
      "Max Iterations:  100\n",
      "Starting Iteration:  1\n",
      "Max Iterations:  100\n",
      "Starting Iteration:  1\n",
      "Max Iterations:  100\n",
      "Starting Iteration:  1\n",
      "Max Iterations:  100\n",
      "Starting Iteration:  1\n",
      "Max Iterations:  100\n",
      "Starting Iteration:  1\n"
     ]
    }
   ],
   "source": [
    "config = CONFIG['syn']\n",
    "mlp_path = '/home/dhruv/Files/Thesis/Dissertation/Code/models/syn_ann/syn_ann_seed_10/logs/version_0/checkpoints/epoch=161-step=5184.ckpt'\n",
    "scm_path = '/home/dhruv/Files/Thesis/Dissertation/Code/models/syn_nf/syn_nf_seed_10/logs/version_0/checkpoints/epoch=19-step=640.ckpt'\n",
    "mlp_model = MLPLightning.load_from_checkpoint(mlp_path,model = MLP(config['num_features'],config['hidden_layers_ann'],classification=False))\n",
    "scm_model = CausalNF.load_from_checkpoint(scm_path,flow = flow(config['num_features'],config['gd_adjacency'],config['hidden_layers_flow']))\n",
    "ge_dict, evaluation_metrics, time_dict, global_explanations = generate_global_exps(config,mlp_model,scm_model)"
   ]
  },
  {
   "cell_type": "code",
   "execution_count": 3,
   "id": "d8d7c267",
   "metadata": {},
   "outputs": [
    {
     "data": {
      "text/plain": [
       "{'ig': {'W': [0.008685602410414437],\n",
       "  'Z': [0.5541948194138167],\n",
       "  'X': [0.4371195781757688]},\n",
       " 'itg': {'W': [0.008485306748260027],\n",
       "  'Z': [0.497316907775009],\n",
       "  'X': [0.49419778547673104]},\n",
       " 'sg': {'W': [0.13136424456458626],\n",
       "  'Z': [0.3860659244300918],\n",
       "  'X': [0.48256983100532197]},\n",
       " 'shap': {'W': [0.5803365821763931],\n",
       "  'Z': [0.3543153621348831],\n",
       "  'X': [0.06534805568872387]},\n",
       " 'lime': {'W': [0.2837432524861816],\n",
       "  'Z': [0.293367905107146],\n",
       "  'X': [0.4228888424066725]},\n",
       " 'sp_lime': {'X': [0.41602805243460733],\n",
       "  'W': [0.2947343644233361],\n",
       "  'Z': [0.2892375831420565]},\n",
       " 'pfi': {'W': [0.2555289566516876],\n",
       "  'Z': [0.2728649377822876],\n",
       "  'X': [0.47160604596138]},\n",
       " 'icc_topo': {'W': [0.07992755621671677],\n",
       "  'Z': [0.6083893179893494],\n",
       "  'X': [0.31013962626457214]},\n",
       " 'icc_shap': {'W': [0.1287594437599182],\n",
       "  'Z': [0.6630550622940063],\n",
       "  'X': [0.20664207637310028]}}"
      ]
     },
     "execution_count": 3,
     "metadata": {},
     "output_type": "execute_result"
    }
   ],
   "source": [
    "ge_dict"
   ]
  },
  {
   "cell_type": "code",
   "execution_count": 9,
   "id": "0d220fd6",
   "metadata": {},
   "outputs": [
    {
     "data": {
      "application/vnd.plotly.v1+json": {
       "config": {
        "plotlyServerURL": "https://plot.ly"
       },
       "data": [
        {
         "marker": {
          "color": "#E69F00",
          "line": {
           "width": 0.05
          }
         },
         "name": "IG",
         "type": "bar",
         "width": 0.06,
         "x": [
          "W",
          "Z",
          "X"
         ],
         "y": {
          "bdata": "X+tj0sHJgT/I1h/G9rvhPxMzLWXE+ds/",
          "dtype": "f8"
         }
        },
        {
         "marker": {
          "color": "#56B4E9",
          "line": {
           "width": 0.05
          }
         },
         "name": "IxG",
         "type": "bar",
         "width": 0.06,
         "x": [
          "W",
          "Z",
          "X"
         ],
         "y": {
          "bdata": "G6rXl75ggT+HDqlLCtTfPyk0mL/voN8/",
          "dtype": "f8"
         }
        },
        {
         "marker": {
          "color": "#009E73",
          "line": {
           "width": 0.05
          }
         },
         "name": "SG",
         "type": "bar",
         "width": 0.06,
         "x": [
          "W",
          "Z",
          "X"
         ],
         "y": {
          "bdata": "62IiJ4vQwD9+vuHZTbXYPw0QjZJs4t4/",
          "dtype": "f8"
         }
        },
        {
         "marker": {
          "color": "#F5C710",
          "line": {
           "width": 0.05
          }
         },
         "name": "SHAP",
         "type": "bar",
         "width": 0.06,
         "x": [
          "W",
          "Z",
          "X"
         ],
         "y": {
          "bdata": "PtcjBh6S4j/4vTVXGq3WPzROCnKmurA/",
          "dtype": "f8"
         }
        },
        {
         "marker": {
          "color": "#0072B2",
          "line": {
           "width": 0.05
          }
         },
         "name": "LIME",
         "type": "bar",
         "width": 0.06,
         "x": [
          "W",
          "Z",
          "X"
         ],
         "y": {
          "bdata": "cOJ4ddko0j/3ZYgtisbSP5u3/lycENs/",
          "dtype": "f8"
         }
        },
        {
         "marker": {
          "color": "#999999",
          "line": {
           "width": 0.05
          }
         },
         "name": "SP LIME",
         "type": "bar",
         "width": 0.06,
         "x": [
          "W",
          "Z",
          "X"
         ],
         "y": {
          "bdata": "IigNhu3c0j8yoRda3oLSP6s22x80oNo/",
          "dtype": "f8"
         }
        },
        {
         "marker": {
          "color": "#000000",
          "line": {
           "width": 0.05
          }
         },
         "name": "PFI",
         "type": "bar",
         "width": 0.06,
         "x": [
          "W",
          "Z",
          "X"
         ],
         "y": {
          "bdata": "AAAAIJZa0D8AAACAnnbRPwAAACDLLt4/",
          "dtype": "f8"
         }
        },
        {
         "marker": {
          "color": "#D55E00",
          "line": {
           "width": 0.05
          }
         },
         "name": "ICC TOPO",
         "type": "bar",
         "width": 0.06,
         "x": [
          "W",
          "Z",
          "X"
         ],
         "y": {
          "bdata": "AAAA4CF2tD8AAADg7HfjPwAAAOBT2dM/",
          "dtype": "f8"
         }
        },
        {
         "marker": {
          "color": "#CC79A7",
          "line": {
           "width": 0.05
          }
         },
         "name": "ICC SHAP",
         "type": "bar",
         "width": 0.06,
         "x": [
          "W",
          "Z",
          "X"
         ],
         "y": {
          "bdata": "AAAAgDB7wD8AAABAvzflPwAAAGA/c8o/",
          "dtype": "f8"
         }
        }
       ],
       "layout": {
        "bargap": 0.45,
        "bargroupgap": 1,
        "barmode": "group",
        "font": {
         "size": 14
        },
        "legend": {
         "font": {
          "color": "black",
          "family": "Times New Roman",
          "size": 25
         },
         "title": {
          "font": {
           "color": "black",
           "family": "Times New Roman",
           "size": 25
          },
          "text": "Method"
         }
        },
        "plot_bgcolor": "rgba(0,0,0,0)",
        "showlegend": true,
        "template": {
         "data": {
          "bar": [
           {
            "error_x": {
             "color": "#2a3f5f"
            },
            "error_y": {
             "color": "#2a3f5f"
            },
            "marker": {
             "line": {
              "color": "#E5ECF6",
              "width": 0.5
             },
             "pattern": {
              "fillmode": "overlay",
              "size": 10,
              "solidity": 0.2
             }
            },
            "type": "bar"
           }
          ],
          "barpolar": [
           {
            "marker": {
             "line": {
              "color": "#E5ECF6",
              "width": 0.5
             },
             "pattern": {
              "fillmode": "overlay",
              "size": 10,
              "solidity": 0.2
             }
            },
            "type": "barpolar"
           }
          ],
          "carpet": [
           {
            "aaxis": {
             "endlinecolor": "#2a3f5f",
             "gridcolor": "white",
             "linecolor": "white",
             "minorgridcolor": "white",
             "startlinecolor": "#2a3f5f"
            },
            "baxis": {
             "endlinecolor": "#2a3f5f",
             "gridcolor": "white",
             "linecolor": "white",
             "minorgridcolor": "white",
             "startlinecolor": "#2a3f5f"
            },
            "type": "carpet"
           }
          ],
          "choropleth": [
           {
            "colorbar": {
             "outlinewidth": 0,
             "ticks": ""
            },
            "type": "choropleth"
           }
          ],
          "contour": [
           {
            "colorbar": {
             "outlinewidth": 0,
             "ticks": ""
            },
            "colorscale": [
             [
              0,
              "#0d0887"
             ],
             [
              0.1111111111111111,
              "#46039f"
             ],
             [
              0.2222222222222222,
              "#7201a8"
             ],
             [
              0.3333333333333333,
              "#9c179e"
             ],
             [
              0.4444444444444444,
              "#bd3786"
             ],
             [
              0.5555555555555556,
              "#d8576b"
             ],
             [
              0.6666666666666666,
              "#ed7953"
             ],
             [
              0.7777777777777778,
              "#fb9f3a"
             ],
             [
              0.8888888888888888,
              "#fdca26"
             ],
             [
              1,
              "#f0f921"
             ]
            ],
            "type": "contour"
           }
          ],
          "contourcarpet": [
           {
            "colorbar": {
             "outlinewidth": 0,
             "ticks": ""
            },
            "type": "contourcarpet"
           }
          ],
          "heatmap": [
           {
            "colorbar": {
             "outlinewidth": 0,
             "ticks": ""
            },
            "colorscale": [
             [
              0,
              "#0d0887"
             ],
             [
              0.1111111111111111,
              "#46039f"
             ],
             [
              0.2222222222222222,
              "#7201a8"
             ],
             [
              0.3333333333333333,
              "#9c179e"
             ],
             [
              0.4444444444444444,
              "#bd3786"
             ],
             [
              0.5555555555555556,
              "#d8576b"
             ],
             [
              0.6666666666666666,
              "#ed7953"
             ],
             [
              0.7777777777777778,
              "#fb9f3a"
             ],
             [
              0.8888888888888888,
              "#fdca26"
             ],
             [
              1,
              "#f0f921"
             ]
            ],
            "type": "heatmap"
           }
          ],
          "histogram": [
           {
            "marker": {
             "pattern": {
              "fillmode": "overlay",
              "size": 10,
              "solidity": 0.2
             }
            },
            "type": "histogram"
           }
          ],
          "histogram2d": [
           {
            "colorbar": {
             "outlinewidth": 0,
             "ticks": ""
            },
            "colorscale": [
             [
              0,
              "#0d0887"
             ],
             [
              0.1111111111111111,
              "#46039f"
             ],
             [
              0.2222222222222222,
              "#7201a8"
             ],
             [
              0.3333333333333333,
              "#9c179e"
             ],
             [
              0.4444444444444444,
              "#bd3786"
             ],
             [
              0.5555555555555556,
              "#d8576b"
             ],
             [
              0.6666666666666666,
              "#ed7953"
             ],
             [
              0.7777777777777778,
              "#fb9f3a"
             ],
             [
              0.8888888888888888,
              "#fdca26"
             ],
             [
              1,
              "#f0f921"
             ]
            ],
            "type": "histogram2d"
           }
          ],
          "histogram2dcontour": [
           {
            "colorbar": {
             "outlinewidth": 0,
             "ticks": ""
            },
            "colorscale": [
             [
              0,
              "#0d0887"
             ],
             [
              0.1111111111111111,
              "#46039f"
             ],
             [
              0.2222222222222222,
              "#7201a8"
             ],
             [
              0.3333333333333333,
              "#9c179e"
             ],
             [
              0.4444444444444444,
              "#bd3786"
             ],
             [
              0.5555555555555556,
              "#d8576b"
             ],
             [
              0.6666666666666666,
              "#ed7953"
             ],
             [
              0.7777777777777778,
              "#fb9f3a"
             ],
             [
              0.8888888888888888,
              "#fdca26"
             ],
             [
              1,
              "#f0f921"
             ]
            ],
            "type": "histogram2dcontour"
           }
          ],
          "mesh3d": [
           {
            "colorbar": {
             "outlinewidth": 0,
             "ticks": ""
            },
            "type": "mesh3d"
           }
          ],
          "parcoords": [
           {
            "line": {
             "colorbar": {
              "outlinewidth": 0,
              "ticks": ""
             }
            },
            "type": "parcoords"
           }
          ],
          "pie": [
           {
            "automargin": true,
            "type": "pie"
           }
          ],
          "scatter": [
           {
            "fillpattern": {
             "fillmode": "overlay",
             "size": 10,
             "solidity": 0.2
            },
            "type": "scatter"
           }
          ],
          "scatter3d": [
           {
            "line": {
             "colorbar": {
              "outlinewidth": 0,
              "ticks": ""
             }
            },
            "marker": {
             "colorbar": {
              "outlinewidth": 0,
              "ticks": ""
             }
            },
            "type": "scatter3d"
           }
          ],
          "scattercarpet": [
           {
            "marker": {
             "colorbar": {
              "outlinewidth": 0,
              "ticks": ""
             }
            },
            "type": "scattercarpet"
           }
          ],
          "scattergeo": [
           {
            "marker": {
             "colorbar": {
              "outlinewidth": 0,
              "ticks": ""
             }
            },
            "type": "scattergeo"
           }
          ],
          "scattergl": [
           {
            "marker": {
             "colorbar": {
              "outlinewidth": 0,
              "ticks": ""
             }
            },
            "type": "scattergl"
           }
          ],
          "scattermap": [
           {
            "marker": {
             "colorbar": {
              "outlinewidth": 0,
              "ticks": ""
             }
            },
            "type": "scattermap"
           }
          ],
          "scattermapbox": [
           {
            "marker": {
             "colorbar": {
              "outlinewidth": 0,
              "ticks": ""
             }
            },
            "type": "scattermapbox"
           }
          ],
          "scatterpolar": [
           {
            "marker": {
             "colorbar": {
              "outlinewidth": 0,
              "ticks": ""
             }
            },
            "type": "scatterpolar"
           }
          ],
          "scatterpolargl": [
           {
            "marker": {
             "colorbar": {
              "outlinewidth": 0,
              "ticks": ""
             }
            },
            "type": "scatterpolargl"
           }
          ],
          "scatterternary": [
           {
            "marker": {
             "colorbar": {
              "outlinewidth": 0,
              "ticks": ""
             }
            },
            "type": "scatterternary"
           }
          ],
          "surface": [
           {
            "colorbar": {
             "outlinewidth": 0,
             "ticks": ""
            },
            "colorscale": [
             [
              0,
              "#0d0887"
             ],
             [
              0.1111111111111111,
              "#46039f"
             ],
             [
              0.2222222222222222,
              "#7201a8"
             ],
             [
              0.3333333333333333,
              "#9c179e"
             ],
             [
              0.4444444444444444,
              "#bd3786"
             ],
             [
              0.5555555555555556,
              "#d8576b"
             ],
             [
              0.6666666666666666,
              "#ed7953"
             ],
             [
              0.7777777777777778,
              "#fb9f3a"
             ],
             [
              0.8888888888888888,
              "#fdca26"
             ],
             [
              1,
              "#f0f921"
             ]
            ],
            "type": "surface"
           }
          ],
          "table": [
           {
            "cells": {
             "fill": {
              "color": "#EBF0F8"
             },
             "line": {
              "color": "white"
             }
            },
            "header": {
             "fill": {
              "color": "#C8D4E3"
             },
             "line": {
              "color": "white"
             }
            },
            "type": "table"
           }
          ]
         },
         "layout": {
          "annotationdefaults": {
           "arrowcolor": "#2a3f5f",
           "arrowhead": 0,
           "arrowwidth": 1
          },
          "autotypenumbers": "strict",
          "coloraxis": {
           "colorbar": {
            "outlinewidth": 0,
            "ticks": ""
           }
          },
          "colorscale": {
           "diverging": [
            [
             0,
             "#8e0152"
            ],
            [
             0.1,
             "#c51b7d"
            ],
            [
             0.2,
             "#de77ae"
            ],
            [
             0.3,
             "#f1b6da"
            ],
            [
             0.4,
             "#fde0ef"
            ],
            [
             0.5,
             "#f7f7f7"
            ],
            [
             0.6,
             "#e6f5d0"
            ],
            [
             0.7,
             "#b8e186"
            ],
            [
             0.8,
             "#7fbc41"
            ],
            [
             0.9,
             "#4d9221"
            ],
            [
             1,
             "#276419"
            ]
           ],
           "sequential": [
            [
             0,
             "#0d0887"
            ],
            [
             0.1111111111111111,
             "#46039f"
            ],
            [
             0.2222222222222222,
             "#7201a8"
            ],
            [
             0.3333333333333333,
             "#9c179e"
            ],
            [
             0.4444444444444444,
             "#bd3786"
            ],
            [
             0.5555555555555556,
             "#d8576b"
            ],
            [
             0.6666666666666666,
             "#ed7953"
            ],
            [
             0.7777777777777778,
             "#fb9f3a"
            ],
            [
             0.8888888888888888,
             "#fdca26"
            ],
            [
             1,
             "#f0f921"
            ]
           ],
           "sequentialminus": [
            [
             0,
             "#0d0887"
            ],
            [
             0.1111111111111111,
             "#46039f"
            ],
            [
             0.2222222222222222,
             "#7201a8"
            ],
            [
             0.3333333333333333,
             "#9c179e"
            ],
            [
             0.4444444444444444,
             "#bd3786"
            ],
            [
             0.5555555555555556,
             "#d8576b"
            ],
            [
             0.6666666666666666,
             "#ed7953"
            ],
            [
             0.7777777777777778,
             "#fb9f3a"
            ],
            [
             0.8888888888888888,
             "#fdca26"
            ],
            [
             1,
             "#f0f921"
            ]
           ]
          },
          "colorway": [
           "#636efa",
           "#EF553B",
           "#00cc96",
           "#ab63fa",
           "#FFA15A",
           "#19d3f3",
           "#FF6692",
           "#B6E880",
           "#FF97FF",
           "#FECB52"
          ],
          "font": {
           "color": "#2a3f5f"
          },
          "geo": {
           "bgcolor": "white",
           "lakecolor": "white",
           "landcolor": "#E5ECF6",
           "showlakes": true,
           "showland": true,
           "subunitcolor": "white"
          },
          "hoverlabel": {
           "align": "left"
          },
          "hovermode": "closest",
          "mapbox": {
           "style": "light"
          },
          "paper_bgcolor": "white",
          "plot_bgcolor": "#E5ECF6",
          "polar": {
           "angularaxis": {
            "gridcolor": "white",
            "linecolor": "white",
            "ticks": ""
           },
           "bgcolor": "#E5ECF6",
           "radialaxis": {
            "gridcolor": "white",
            "linecolor": "white",
            "ticks": ""
           }
          },
          "scene": {
           "xaxis": {
            "backgroundcolor": "#E5ECF6",
            "gridcolor": "white",
            "gridwidth": 2,
            "linecolor": "white",
            "showbackground": true,
            "ticks": "",
            "zerolinecolor": "white"
           },
           "yaxis": {
            "backgroundcolor": "#E5ECF6",
            "gridcolor": "white",
            "gridwidth": 2,
            "linecolor": "white",
            "showbackground": true,
            "ticks": "",
            "zerolinecolor": "white"
           },
           "zaxis": {
            "backgroundcolor": "#E5ECF6",
            "gridcolor": "white",
            "gridwidth": 2,
            "linecolor": "white",
            "showbackground": true,
            "ticks": "",
            "zerolinecolor": "white"
           }
          },
          "shapedefaults": {
           "line": {
            "color": "#2a3f5f"
           }
          },
          "ternary": {
           "aaxis": {
            "gridcolor": "white",
            "linecolor": "white",
            "ticks": ""
           },
           "baxis": {
            "gridcolor": "white",
            "linecolor": "white",
            "ticks": ""
           },
           "bgcolor": "#E5ECF6",
           "caxis": {
            "gridcolor": "white",
            "linecolor": "white",
            "ticks": ""
           }
          },
          "title": {
           "x": 0.05
          },
          "xaxis": {
           "automargin": true,
           "gridcolor": "white",
           "linecolor": "white",
           "ticks": "",
           "title": {
            "standoff": 15
           },
           "zerolinecolor": "white",
           "zerolinewidth": 2
          },
          "yaxis": {
           "automargin": true,
           "gridcolor": "white",
           "linecolor": "white",
           "ticks": "",
           "title": {
            "standoff": 15
           },
           "zerolinecolor": "white",
           "zerolinewidth": 2
          }
         }
        },
        "xaxis": {
         "linecolor": "lightgray",
         "range": [
          -0.5,
          2.5
         ],
         "showgrid": false,
         "tickcolor": "lightgray",
         "tickfont": {
          "color": "black",
          "family": "Times New Roman",
          "size": 26
         },
         "tickmode": "array",
         "ticktext": [
          "W",
          "Z",
          "X"
         ],
         "tickvals": [
          0,
          1,
          2
         ]
        },
        "yaxis": {
         "dtick": 0.1,
         "gridcolor": "lightgray",
         "linecolor": "lightgray",
         "range": [
          0,
          0.9
         ],
         "showgrid": true,
         "tickcolor": "lightgray",
         "tickfont": {
          "color": "black",
          "family": "Times New Roman",
          "size": 25
         },
         "ticks": "outside",
         "title": {
          "font": {
           "color": "black",
           "family": "Times New Roman",
           "size": 25
          },
          "text": "Attributions"
         }
        }
       }
      }
     },
     "metadata": {},
     "output_type": "display_data"
    }
   ],
   "source": [
    "generate_attr_plot(global_explanations,config)"
   ]
  },
  {
   "cell_type": "code",
   "execution_count": 7,
   "id": "3964b8ca",
   "metadata": {},
   "outputs": [
    {
     "name": "stdout",
     "output_type": "stream",
     "text": [
      "ig: PGU Sum = 0.128419, PGI Sum = 0.000436\n",
      "itg: PGU Sum = 0.128419, PGI Sum = 0.000436\n",
      "sg: PGU Sum = 0.128418, PGI Sum = 0.000437\n",
      "shap: PGU Sum = 0.128420, PGI Sum = 0.000435\n",
      "lime: PGU Sum = 0.128418, PGI Sum = 0.000437\n",
      "sp_lime: PGU Sum = 0.128420, PGI Sum = 0.000435\n",
      "pfi: PGU Sum = 0.128418, PGI Sum = 0.000437\n",
      "icc_topo: PGU Sum = 0.128419, PGI Sum = 0.000436\n",
      "icc_shap: PGU Sum = 0.128419, PGI Sum = 0.000436\n"
     ]
    }
   ],
   "source": [
    "# Load JSON\n",
    "with open(\"/home/dhruv/Files/Thesis/Dissertation/Code/attributions/syn/attribution.json\", \"r\") as f:\n",
    "    data = json.load(f)\n",
    "\n",
    "# Call the function\n",
    "summary = compute_pgu_pgi_sums(data[\"evaluation_metrics\"])\n",
    "\n",
    "# Display the results\n",
    "for method, scores in summary.items():\n",
    "    print(f\"{method}: PGU Sum = {scores['pgu_sum']:.6f}, PGI Sum = {scores['pgi_sum']:.6f}\")\n"
   ]
  }
 ],
 "metadata": {
  "kernelspec": {
   "display_name": "Dhruv",
   "language": "python",
   "name": "python3"
  },
  "language_info": {
   "codemirror_mode": {
    "name": "ipython",
    "version": 3
   },
   "file_extension": ".py",
   "mimetype": "text/x-python",
   "name": "python",
   "nbconvert_exporter": "python",
   "pygments_lexer": "ipython3",
   "version": "3.12.2"
  }
 },
 "nbformat": 4,
 "nbformat_minor": 5
}
