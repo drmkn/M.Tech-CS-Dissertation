{
 "cells": [
  {
   "cell_type": "code",
   "execution_count": 1,
   "id": "470b0957",
   "metadata": {},
   "outputs": [
    {
     "name": "stderr",
     "output_type": "stream",
     "text": [
      "/home/saptarshi/anaconda3/envs/Dhruv/lib/python3.12/site-packages/tqdm/auto.py:21: TqdmWarning: IProgress not found. Please update jupyter and ipywidgets. See https://ipywidgets.readthedocs.io/en/stable/user_install.html\n",
      "  from .autonotebook import tqdm as notebook_tqdm\n"
     ]
    }
   ],
   "source": [
    "%reset -f\n",
    "%load_ext autoreload\n",
    "%autoreload 2\n",
    "# import sys\n",
    "# sys.path.append('/home/saptarshi/Dhruv/Dissertation/ICC/')\n",
    "from generate_attributions import *\n",
    "from utils import CONFIG,evaluate_exp,PREFIX,aggregate_auc_or_sum"
   ]
  },
  {
   "cell_type": "markdown",
   "id": "8aa845c1",
   "metadata": {},
   "source": [
    "## German Credit Dataset"
   ]
  },
  {
   "cell_type": "code",
   "execution_count": 2,
   "id": "c2e8843d",
   "metadata": {},
   "outputs": [],
   "source": [
    "config = CONFIG['german']\n",
    "mlp_path = PREFIX + 'models/german_mlp/german_mlp_seed_1/logs/version_2/checkpoints/epoch=8-step=108.ckpt'\n",
    "scm_path = PREFIX + 'models/german_nf/german_nf_seed_2/logs/version_0/checkpoints/epoch=131-step=1584.ckpt'\n",
    "mlp_model = MLPLightning.load_from_checkpoint(mlp_path,model = MLP(config['num_features'],config['hidden_layers_mlp'],classification=config['classification']))\n",
    "scm_model = CausalNF.load_from_checkpoint(scm_path,flow = flow(config['num_features'],config['gd_adjacency'],config['hidden_layers_flow']))"
   ]
  },
  {
   "cell_type": "code",
   "execution_count": 3,
   "id": "2f3cbfff",
   "metadata": {},
   "outputs": [
    {
     "name": "stdout",
     "output_type": "stream",
     "text": [
      "Max Iterations:  100\n",
      "Starting Iteration:  1\n",
      "Max Iterations:  100\n",
      "Starting Iteration:  1\n",
      "Max Iterations:  100\n",
      "Starting Iteration:  1\n",
      "Max Iterations:  100\n",
      "Starting Iteration:  1\n",
      "Max Iterations:  100\n",
      "Starting Iteration:  1\n"
     ]
    }
   ],
   "source": [
    "##generate attributions\n",
    "ge_dict, time_dict, global_explanations = generate_global_exps(config,mlp_model.to('cpu'),scm_model.to('cpu'))"
   ]
  },
  {
   "cell_type": "code",
   "execution_count": 4,
   "id": "a7a49264",
   "metadata": {},
   "outputs": [
    {
     "data": {
      "application/vnd.plotly.v1+json": {
       "config": {
        "plotlyServerURL": "https://plot.ly"
       },
       "data": [
        {
         "marker": {
          "color": "#75bea7",
          "line": {
           "width": 0.05
          }
         },
         "name": "SHAP",
         "type": "bar",
         "width": 0.06,
         "x": [
          "gender",
          "age",
          "credit amount",
          "repayment duration"
         ],
         "y": {
          "bdata": "6De9j8Ya2T86BRoOduGUPw41Loqx0bE/Qc1q1lqR4D8=",
          "dtype": "f8"
         }
        },
        {
         "marker": {
          "color": "#ef6128",
          "line": {
           "width": 0.05
          }
         },
         "name": "LIME",
         "type": "bar",
         "width": 0.06,
         "x": [
          "gender",
          "age",
          "credit amount",
          "repayment duration"
         ],
         "y": {
          "bdata": "jr3yPPhjwz/LfHMSHrbNP7dqsgA+6sA/d63z19X93j8=",
          "dtype": "f8"
         }
        },
        {
         "marker": {
          "color": "#5f5d5d",
          "line": {
           "width": 0.05
          }
         },
         "name": "SP LIME",
         "type": "bar",
         "width": 0.06,
         "x": [
          "gender",
          "age",
          "credit amount",
          "repayment duration"
         ],
         "y": {
          "bdata": "eRfgiZZBwz9eHMp8l4bQP5VGzbGFILw/QobS0XvQ3j8=",
          "dtype": "f8"
         }
        },
        {
         "marker": {
          "color": "#AA7A33",
          "line": {
           "width": 0.05
          }
         },
         "name": "PFI",
         "type": "bar",
         "width": 0.06,
         "x": [
          "gender",
          "age",
          "credit amount",
          "repayment duration"
         ],
         "y": {
          "bdata": "AAAAQKHgwz8AAACA6YzKPwAAAAA5db4/AAAAQPaV4D8=",
          "dtype": "f8"
         }
        },
        {
         "marker": {
          "color": "#df52a9",
          "line": {
           "width": 0.05
          }
         },
         "name": "IG",
         "type": "bar",
         "width": 0.06,
         "x": [
          "gender",
          "age",
          "credit amount",
          "repayment duration"
         ],
         "y": {
          "bdata": "gvx2sMqrvT+fSlfukKLRP9oznJeOasQ/Vdy8GTW93D8=",
          "dtype": "f8"
         }
        },
        {
         "marker": {
          "color": "#92dc1d",
          "line": {
           "width": 0.05
          }
         },
         "name": "SG",
         "type": "bar",
         "width": 0.06,
         "x": [
          "gender",
          "age",
          "credit amount",
          "repayment duration"
         ],
         "y": {
          "bdata": "Z0kx/CDtwT8M2zJ24KvQP8nVOfEIFMQ/XZUXk4pT3D8=",
          "dtype": "f8"
         }
        },
        {
         "marker": {
          "color": "#e6cf6a",
          "line": {
           "width": 0.05
          }
         },
         "name": "IxG",
         "type": "bar",
         "width": 0.06,
         "x": [
          "gender",
          "age",
          "credit amount",
          "repayment duration"
         ],
         "y": {
          "bdata": "Vnvqm9/X2D8MdiQFupCSP7vYce/gSKo/GIHqUvxa4T8=",
          "dtype": "f8"
         }
        },
        {
         "marker": {
          "color": "#435d97",
          "line": {
           "width": 0.05
          }
         },
         "name": "ICC TOPO",
         "type": "bar",
         "width": 0.06,
         "x": [
          "gender",
          "age",
          "credit amount",
          "repayment duration"
         ],
         "y": {
          "bdata": "AAAAoOcttD8AAABgZgjBPwAAAACg9Z4/AAAAgHxA6D8=",
          "dtype": "f8"
         }
        },
        {
         "marker": {
          "color": "#56B4E9",
          "line": {
           "width": 0.05
          }
         },
         "name": "ICC SHAP",
         "type": "bar",
         "width": 0.06,
         "x": [
          "gender",
          "age",
          "credit amount",
          "repayment duration"
         ],
         "y": {
          "bdata": "AAAAgDivtj8AAAAgy4bEPwAAAOA+pJU/AAAAYERb5z8=",
          "dtype": "f8"
         }
        }
       ],
       "layout": {
        "bargap": 0.45,
        "bargroupgap": 1,
        "barmode": "group",
        "font": {
         "size": 14
        },
        "legend": {
         "font": {
          "color": "black",
          "family": "Times New Roman",
          "size": 25
         },
         "title": {
          "font": {
           "color": "black",
           "family": "Times New Roman",
           "size": 25
          },
          "text": "Method"
         }
        },
        "plot_bgcolor": "rgba(0,0,0,0)",
        "showlegend": false,
        "template": {
         "data": {
          "bar": [
           {
            "error_x": {
             "color": "#2a3f5f"
            },
            "error_y": {
             "color": "#2a3f5f"
            },
            "marker": {
             "line": {
              "color": "#E5ECF6",
              "width": 0.5
             },
             "pattern": {
              "fillmode": "overlay",
              "size": 10,
              "solidity": 0.2
             }
            },
            "type": "bar"
           }
          ],
          "barpolar": [
           {
            "marker": {
             "line": {
              "color": "#E5ECF6",
              "width": 0.5
             },
             "pattern": {
              "fillmode": "overlay",
              "size": 10,
              "solidity": 0.2
             }
            },
            "type": "barpolar"
           }
          ],
          "carpet": [
           {
            "aaxis": {
             "endlinecolor": "#2a3f5f",
             "gridcolor": "white",
             "linecolor": "white",
             "minorgridcolor": "white",
             "startlinecolor": "#2a3f5f"
            },
            "baxis": {
             "endlinecolor": "#2a3f5f",
             "gridcolor": "white",
             "linecolor": "white",
             "minorgridcolor": "white",
             "startlinecolor": "#2a3f5f"
            },
            "type": "carpet"
           }
          ],
          "choropleth": [
           {
            "colorbar": {
             "outlinewidth": 0,
             "ticks": ""
            },
            "type": "choropleth"
           }
          ],
          "contour": [
           {
            "colorbar": {
             "outlinewidth": 0,
             "ticks": ""
            },
            "colorscale": [
             [
              0,
              "#0d0887"
             ],
             [
              0.1111111111111111,
              "#46039f"
             ],
             [
              0.2222222222222222,
              "#7201a8"
             ],
             [
              0.3333333333333333,
              "#9c179e"
             ],
             [
              0.4444444444444444,
              "#bd3786"
             ],
             [
              0.5555555555555556,
              "#d8576b"
             ],
             [
              0.6666666666666666,
              "#ed7953"
             ],
             [
              0.7777777777777778,
              "#fb9f3a"
             ],
             [
              0.8888888888888888,
              "#fdca26"
             ],
             [
              1,
              "#f0f921"
             ]
            ],
            "type": "contour"
           }
          ],
          "contourcarpet": [
           {
            "colorbar": {
             "outlinewidth": 0,
             "ticks": ""
            },
            "type": "contourcarpet"
           }
          ],
          "heatmap": [
           {
            "colorbar": {
             "outlinewidth": 0,
             "ticks": ""
            },
            "colorscale": [
             [
              0,
              "#0d0887"
             ],
             [
              0.1111111111111111,
              "#46039f"
             ],
             [
              0.2222222222222222,
              "#7201a8"
             ],
             [
              0.3333333333333333,
              "#9c179e"
             ],
             [
              0.4444444444444444,
              "#bd3786"
             ],
             [
              0.5555555555555556,
              "#d8576b"
             ],
             [
              0.6666666666666666,
              "#ed7953"
             ],
             [
              0.7777777777777778,
              "#fb9f3a"
             ],
             [
              0.8888888888888888,
              "#fdca26"
             ],
             [
              1,
              "#f0f921"
             ]
            ],
            "type": "heatmap"
           }
          ],
          "histogram": [
           {
            "marker": {
             "pattern": {
              "fillmode": "overlay",
              "size": 10,
              "solidity": 0.2
             }
            },
            "type": "histogram"
           }
          ],
          "histogram2d": [
           {
            "colorbar": {
             "outlinewidth": 0,
             "ticks": ""
            },
            "colorscale": [
             [
              0,
              "#0d0887"
             ],
             [
              0.1111111111111111,
              "#46039f"
             ],
             [
              0.2222222222222222,
              "#7201a8"
             ],
             [
              0.3333333333333333,
              "#9c179e"
             ],
             [
              0.4444444444444444,
              "#bd3786"
             ],
             [
              0.5555555555555556,
              "#d8576b"
             ],
             [
              0.6666666666666666,
              "#ed7953"
             ],
             [
              0.7777777777777778,
              "#fb9f3a"
             ],
             [
              0.8888888888888888,
              "#fdca26"
             ],
             [
              1,
              "#f0f921"
             ]
            ],
            "type": "histogram2d"
           }
          ],
          "histogram2dcontour": [
           {
            "colorbar": {
             "outlinewidth": 0,
             "ticks": ""
            },
            "colorscale": [
             [
              0,
              "#0d0887"
             ],
             [
              0.1111111111111111,
              "#46039f"
             ],
             [
              0.2222222222222222,
              "#7201a8"
             ],
             [
              0.3333333333333333,
              "#9c179e"
             ],
             [
              0.4444444444444444,
              "#bd3786"
             ],
             [
              0.5555555555555556,
              "#d8576b"
             ],
             [
              0.6666666666666666,
              "#ed7953"
             ],
             [
              0.7777777777777778,
              "#fb9f3a"
             ],
             [
              0.8888888888888888,
              "#fdca26"
             ],
             [
              1,
              "#f0f921"
             ]
            ],
            "type": "histogram2dcontour"
           }
          ],
          "mesh3d": [
           {
            "colorbar": {
             "outlinewidth": 0,
             "ticks": ""
            },
            "type": "mesh3d"
           }
          ],
          "parcoords": [
           {
            "line": {
             "colorbar": {
              "outlinewidth": 0,
              "ticks": ""
             }
            },
            "type": "parcoords"
           }
          ],
          "pie": [
           {
            "automargin": true,
            "type": "pie"
           }
          ],
          "scatter": [
           {
            "fillpattern": {
             "fillmode": "overlay",
             "size": 10,
             "solidity": 0.2
            },
            "type": "scatter"
           }
          ],
          "scatter3d": [
           {
            "line": {
             "colorbar": {
              "outlinewidth": 0,
              "ticks": ""
             }
            },
            "marker": {
             "colorbar": {
              "outlinewidth": 0,
              "ticks": ""
             }
            },
            "type": "scatter3d"
           }
          ],
          "scattercarpet": [
           {
            "marker": {
             "colorbar": {
              "outlinewidth": 0,
              "ticks": ""
             }
            },
            "type": "scattercarpet"
           }
          ],
          "scattergeo": [
           {
            "marker": {
             "colorbar": {
              "outlinewidth": 0,
              "ticks": ""
             }
            },
            "type": "scattergeo"
           }
          ],
          "scattergl": [
           {
            "marker": {
             "colorbar": {
              "outlinewidth": 0,
              "ticks": ""
             }
            },
            "type": "scattergl"
           }
          ],
          "scattermap": [
           {
            "marker": {
             "colorbar": {
              "outlinewidth": 0,
              "ticks": ""
             }
            },
            "type": "scattermap"
           }
          ],
          "scattermapbox": [
           {
            "marker": {
             "colorbar": {
              "outlinewidth": 0,
              "ticks": ""
             }
            },
            "type": "scattermapbox"
           }
          ],
          "scatterpolar": [
           {
            "marker": {
             "colorbar": {
              "outlinewidth": 0,
              "ticks": ""
             }
            },
            "type": "scatterpolar"
           }
          ],
          "scatterpolargl": [
           {
            "marker": {
             "colorbar": {
              "outlinewidth": 0,
              "ticks": ""
             }
            },
            "type": "scatterpolargl"
           }
          ],
          "scatterternary": [
           {
            "marker": {
             "colorbar": {
              "outlinewidth": 0,
              "ticks": ""
             }
            },
            "type": "scatterternary"
           }
          ],
          "surface": [
           {
            "colorbar": {
             "outlinewidth": 0,
             "ticks": ""
            },
            "colorscale": [
             [
              0,
              "#0d0887"
             ],
             [
              0.1111111111111111,
              "#46039f"
             ],
             [
              0.2222222222222222,
              "#7201a8"
             ],
             [
              0.3333333333333333,
              "#9c179e"
             ],
             [
              0.4444444444444444,
              "#bd3786"
             ],
             [
              0.5555555555555556,
              "#d8576b"
             ],
             [
              0.6666666666666666,
              "#ed7953"
             ],
             [
              0.7777777777777778,
              "#fb9f3a"
             ],
             [
              0.8888888888888888,
              "#fdca26"
             ],
             [
              1,
              "#f0f921"
             ]
            ],
            "type": "surface"
           }
          ],
          "table": [
           {
            "cells": {
             "fill": {
              "color": "#EBF0F8"
             },
             "line": {
              "color": "white"
             }
            },
            "header": {
             "fill": {
              "color": "#C8D4E3"
             },
             "line": {
              "color": "white"
             }
            },
            "type": "table"
           }
          ]
         },
         "layout": {
          "annotationdefaults": {
           "arrowcolor": "#2a3f5f",
           "arrowhead": 0,
           "arrowwidth": 1
          },
          "autotypenumbers": "strict",
          "coloraxis": {
           "colorbar": {
            "outlinewidth": 0,
            "ticks": ""
           }
          },
          "colorscale": {
           "diverging": [
            [
             0,
             "#8e0152"
            ],
            [
             0.1,
             "#c51b7d"
            ],
            [
             0.2,
             "#de77ae"
            ],
            [
             0.3,
             "#f1b6da"
            ],
            [
             0.4,
             "#fde0ef"
            ],
            [
             0.5,
             "#f7f7f7"
            ],
            [
             0.6,
             "#e6f5d0"
            ],
            [
             0.7,
             "#b8e186"
            ],
            [
             0.8,
             "#7fbc41"
            ],
            [
             0.9,
             "#4d9221"
            ],
            [
             1,
             "#276419"
            ]
           ],
           "sequential": [
            [
             0,
             "#0d0887"
            ],
            [
             0.1111111111111111,
             "#46039f"
            ],
            [
             0.2222222222222222,
             "#7201a8"
            ],
            [
             0.3333333333333333,
             "#9c179e"
            ],
            [
             0.4444444444444444,
             "#bd3786"
            ],
            [
             0.5555555555555556,
             "#d8576b"
            ],
            [
             0.6666666666666666,
             "#ed7953"
            ],
            [
             0.7777777777777778,
             "#fb9f3a"
            ],
            [
             0.8888888888888888,
             "#fdca26"
            ],
            [
             1,
             "#f0f921"
            ]
           ],
           "sequentialminus": [
            [
             0,
             "#0d0887"
            ],
            [
             0.1111111111111111,
             "#46039f"
            ],
            [
             0.2222222222222222,
             "#7201a8"
            ],
            [
             0.3333333333333333,
             "#9c179e"
            ],
            [
             0.4444444444444444,
             "#bd3786"
            ],
            [
             0.5555555555555556,
             "#d8576b"
            ],
            [
             0.6666666666666666,
             "#ed7953"
            ],
            [
             0.7777777777777778,
             "#fb9f3a"
            ],
            [
             0.8888888888888888,
             "#fdca26"
            ],
            [
             1,
             "#f0f921"
            ]
           ]
          },
          "colorway": [
           "#636efa",
           "#EF553B",
           "#00cc96",
           "#ab63fa",
           "#FFA15A",
           "#19d3f3",
           "#FF6692",
           "#B6E880",
           "#FF97FF",
           "#FECB52"
          ],
          "font": {
           "color": "#2a3f5f"
          },
          "geo": {
           "bgcolor": "white",
           "lakecolor": "white",
           "landcolor": "#E5ECF6",
           "showlakes": true,
           "showland": true,
           "subunitcolor": "white"
          },
          "hoverlabel": {
           "align": "left"
          },
          "hovermode": "closest",
          "mapbox": {
           "style": "light"
          },
          "paper_bgcolor": "white",
          "plot_bgcolor": "#E5ECF6",
          "polar": {
           "angularaxis": {
            "gridcolor": "white",
            "linecolor": "white",
            "ticks": ""
           },
           "bgcolor": "#E5ECF6",
           "radialaxis": {
            "gridcolor": "white",
            "linecolor": "white",
            "ticks": ""
           }
          },
          "scene": {
           "xaxis": {
            "backgroundcolor": "#E5ECF6",
            "gridcolor": "white",
            "gridwidth": 2,
            "linecolor": "white",
            "showbackground": true,
            "ticks": "",
            "zerolinecolor": "white"
           },
           "yaxis": {
            "backgroundcolor": "#E5ECF6",
            "gridcolor": "white",
            "gridwidth": 2,
            "linecolor": "white",
            "showbackground": true,
            "ticks": "",
            "zerolinecolor": "white"
           },
           "zaxis": {
            "backgroundcolor": "#E5ECF6",
            "gridcolor": "white",
            "gridwidth": 2,
            "linecolor": "white",
            "showbackground": true,
            "ticks": "",
            "zerolinecolor": "white"
           }
          },
          "shapedefaults": {
           "line": {
            "color": "#2a3f5f"
           }
          },
          "ternary": {
           "aaxis": {
            "gridcolor": "white",
            "linecolor": "white",
            "ticks": ""
           },
           "baxis": {
            "gridcolor": "white",
            "linecolor": "white",
            "ticks": ""
           },
           "bgcolor": "#E5ECF6",
           "caxis": {
            "gridcolor": "white",
            "linecolor": "white",
            "ticks": ""
           }
          },
          "title": {
           "x": 0.05
          },
          "xaxis": {
           "automargin": true,
           "gridcolor": "white",
           "linecolor": "white",
           "ticks": "",
           "title": {
            "standoff": 15
           },
           "zerolinecolor": "white",
           "zerolinewidth": 2
          },
          "yaxis": {
           "automargin": true,
           "gridcolor": "white",
           "linecolor": "white",
           "ticks": "",
           "title": {
            "standoff": 15
           },
           "zerolinecolor": "white",
           "zerolinewidth": 2
          }
         }
        },
        "xaxis": {
         "linecolor": "lightgray",
         "range": [
          -0.5,
          3.5
         ],
         "showgrid": false,
         "tickcolor": "lightgray",
         "tickfont": {
          "color": "black",
          "family": "Times New Roman",
          "size": 26
         },
         "tickmode": "array",
         "ticktext": [
          "gender",
          "age",
          "credit amount",
          "repayment duration"
         ],
         "tickvals": [
          0,
          1,
          2,
          3
         ]
        },
        "yaxis": {
         "dtick": 0.1,
         "gridcolor": "lightgray",
         "linecolor": "lightgray",
         "range": [
          0,
          0.9
         ],
         "showgrid": true,
         "tickcolor": "lightgray",
         "tickfont": {
          "color": "black",
          "family": "Times New Roman",
          "size": 25
         },
         "ticks": "outside",
         "title": {
          "font": {
           "color": "black",
           "family": "Times New Roman",
           "size": 25
          }
         }
        }
       }
      }
     },
     "metadata": {},
     "output_type": "display_data"
    }
   ],
   "source": [
    "# Load JSON\n",
    "with open(PREFIX + \"attributions/german/attribution.json\", \"r\") as f:\n",
    "    data = json.load(f)\n",
    "global_explanations = data['global_explanations']    \n",
    "generate_attr_plot(global_explanations,config)"
   ]
  },
  {
   "cell_type": "code",
   "execution_count": 5,
   "id": "58f8dd3e",
   "metadata": {},
   "outputs": [
    {
     "name": "stdout",
     "output_type": "stream",
     "text": [
      "{'shap': {'pgi': {'k=1': [0.19491274654865265], 'k=2': [0.19204384088516235], 'k=3': [0.2049812376499176], 'k=4': [0.21626795828342438]}, 'pgu': {'k=1': [0.1549122929573059], 'k=2': [0.15142714977264404], 'k=3': [0.12340263277292252], 'k=4': [1.3307929869199597e-08]}}, 'lime': {'pgi': {'k=1': [0.19496303796768188], 'k=2': [0.2080094814300537], 'k=3': [0.20657356083393097], 'k=4': [0.2166593223810196]}, 'pgu': {'k=1': [0.1554212123155594], 'k=2': [0.11097069829702377], 'k=3': [0.10050679743289948], 'k=4': [1.3307929869199597e-08]}}, 'sp_lime': {'pgi': {'k=1': [0.049393996596336365], 'k=2': [0.12943805754184723], 'k=3': [0.15528345108032227], 'k=4': [0.21556030213832855]}, 'pgu': {'k=1': [0.2171909362077713], 'k=2': [0.2058209478855133], 'k=3': [0.19505777955055237], 'k=4': [1.3307929869199597e-08]}}, 'pfi': {'pgi': {'k=1': [0.19496329128742218], 'k=2': [0.20834073424339294], 'k=3': [0.20540250837802887], 'k=4': [0.21636861562728882]}, 'pgu': {'k=1': [0.1546029895544052], 'k=2': [0.11036761105060577], 'k=3': [0.10028381645679474], 'k=4': [1.3307929869199597e-08]}}, 'ig': {'pgi': {'k=1': [0.1942167431116104], 'k=2': [0.20795582234859467], 'k=3': [0.2167602777481079], 'k=4': [0.21515235304832458]}, 'pgu': {'k=1': [0.1550084948539734], 'k=2': [0.11060725897550583], 'k=3': [0.04933720454573631], 'k=4': [1.3307929869199597e-08]}}, 'sg': {'pgi': {'k=1': [0.1940927356481552], 'k=2': [0.2076881378889084], 'k=3': [0.21727719902992249], 'k=4': [0.21574492752552032]}, 'pgu': {'k=1': [0.1550859808921814], 'k=2': [0.11070503294467926], 'k=3': [0.04960248991847038], 'k=4': [1.3307929869199597e-08]}}, 'itg': {'pgi': {'k=1': [0.1944221705198288], 'k=2': [0.19200922548770905], 'k=3': [0.20501524209976196], 'k=4': [0.21579594910144806]}, 'pgu': {'k=1': [0.1555223912000656], 'k=2': [0.1509978473186493], 'k=3': [0.1239531859755516], 'k=4': [1.3307929869199597e-08]}}, 'icc_topo': {'pgi': {'k=1': [0.19471187889575958], 'k=2': [0.20848752558231354], 'k=3': [0.20584343373775482], 'k=4': [0.21606867015361786]}, 'pgu': {'k=1': [0.15506505966186523], 'k=2': [0.11056691408157349], 'k=3': [0.10024671256542206], 'k=4': [1.3307929869199597e-08]}}, 'icc_shap': {'pgi': {'k=1': [0.19434601068496704], 'k=2': [0.20887987315654755], 'k=3': [0.20683956146240234], 'k=4': [0.21675728261470795]}, 'pgu': {'k=1': [0.15494011342525482], 'k=2': [0.1107739731669426], 'k=3': [0.10019752383232117], 'k=4': [1.3307929869199597e-08]}}}\n"
     ]
    }
   ],
   "source": [
    "ge_dict = data[\"ge_dict\"]\n",
    "evaluation_metrics,evaluation_metrics_per_sample = evaluate_exp(ge_dict,config,mlp_model.to('cpu'))\n",
    "print(evaluation_metrics)\n"
   ]
  },
  {
   "cell_type": "code",
   "execution_count": 6,
   "id": "f3ab98aa",
   "metadata": {},
   "outputs": [
    {
     "name": "stdout",
     "output_type": "stream",
     "text": [
      "shap: PGI AUC = 0.20087180342939168 +- 0.0014981356752109313, PGU AUC = 0.1174286470727788 +- 0.0012102381016898787\n",
      "lime: PGI AUC = 0.20679806808630624 +- 0.0016253140962905446, PGU AUC = 0.09639603282014529 +- 0.0007411487271259391\n",
      "sp_lime: PGI AUC = 0.1390662154638105 +- 0.001371466182046619, PGU AUC = 0.16982473250892427 +- 0.0012320390312792414\n",
      "pfi: PGI AUC = 0.20646971940994266 +- 0.0016532002439635526, PGU AUC = 0.09598431014352377 +- 0.0007502488550474473\n",
      "ig: PGI AUC = 0.20980021715164182 +- 0.001550731180675957, PGU AUC = 0.0791495736134756 +- 0.001119795943068326\n",
      "sg: PGI AUC = 0.2099614021513197 +- 0.0015415080799846613, PGU AUC = 0.07928350388796793 +- 0.0011117206208845329\n",
      "itg: PGI AUC = 0.20071117848157885 +- 0.0015044153044758183, PGU AUC = 0.11757074190510645 +- 0.0012173906568362348\n",
      "icc_topo: PGI AUC = 0.2065737467010816 +- 0.0016288987205346351, PGU AUC = 0.09611538277732 +- 0.0007307946573111239\n",
      "icc_shap: PGI AUC = 0.20709035164780085 +- 0.0016652616603875033, PGU AUC = 0.09614719445506732 +- 0.0007566524021105349\n"
     ]
    }
   ],
   "source": [
    "auc_results,auc_show,sum_results,sum_show = aggregate_auc_or_sum(evaluation_metrics_per_sample,config)\n",
    "\n",
    "# Print results nicely\n",
    "for method, vals in auc_show.items():\n",
    "    print(f\"{method}: PGI AUC = {vals['pgi_auc']}, PGU AUC = {vals['pgu_auc']}\")\n"
   ]
  },
  {
   "cell_type": "code",
   "execution_count": 7,
   "id": "db808448",
   "metadata": {},
   "outputs": [
    {
     "name": "stdout",
     "output_type": "stream",
     "text": [
      "shap: PGI SUM = 0.8082056641578674 +- 0.006054817619377324, PGU SUM = 0.42974212765693665 +- 0.004195135181656868\n",
      "lime: PGI SUM = 0.826205313205719 +- 0.006423072814231208, PGU SUM = 0.36689871549606323 +- 0.0027777243451784866\n",
      "sp_lime: PGI SUM = 0.5496758222579956 +- 0.005527411029848834, PGU SUM = 0.618069589138031 +- 0.004354852634243401\n",
      "pfi: PGI SUM = 0.8250751495361328 +- 0.006469566821853766, PGU SUM = 0.3652544319629669 +- 0.002794645857137835\n",
      "ig: PGI SUM = 0.83408522605896 +- 0.006200288723537771, PGU SUM = 0.3149529695510864 +- 0.003921527850530308\n",
      "sg: PGI SUM = 0.83480304479599 +- 0.006201021770054561, PGU SUM = 0.3153935372829437 +- 0.0038838407428443142\n",
      "itg: PGI SUM = 0.8072425723075867 +- 0.006055576216063163, PGU SUM = 0.4304734170436859 +- 0.004206025332877039\n",
      "icc_topo: PGI SUM = 0.8251115679740906 +- 0.006406349620250676, PGU SUM = 0.3658786714076996 +- 0.002750904576061727\n",
      "icc_shap: PGI SUM = 0.8268226385116577 +- 0.006543757821063798, PGU SUM = 0.36591166257858276 +- 0.0028442390394324128\n"
     ]
    }
   ],
   "source": [
    "for method, vals in sum_show.items():\n",
    "    print(f\"{method}: PGI SUM = {vals['pgi_sum']}, PGU SUM = {vals['pgu_sum']}\")"
   ]
  },
  {
   "cell_type": "markdown",
   "id": "bd98ca54",
   "metadata": {},
   "source": [
    "## Lung Cancer Dataset"
   ]
  },
  {
   "cell_type": "code",
   "execution_count": 2,
   "id": "12bfa2e6",
   "metadata": {},
   "outputs": [],
   "source": [
    "config = CONFIG['cancer']\n",
    "mlp_path = PREFIX + 'models/cancer_mlp/cancer_mlp_seed_3/logs/version_0/checkpoints/epoch=39-step=4720.ckpt'\n",
    "scm_path = PREFIX + 'models/cancer_nf/cancer_nf_seed_2/logs/version_0/checkpoints/epoch=58-step=6962.ckpt'\n",
    "mlp_model = MLPLightning.load_from_checkpoint(mlp_path,model = MLP(config['num_features'],config['hidden_layers_mlp'],classification=config['classification']))\n",
    "scm_model = CausalNF.load_from_checkpoint(scm_path,flow = flow(config['num_features'],config['gd_adjacency'],config['hidden_layers_flow']))"
   ]
  },
  {
   "cell_type": "code",
   "execution_count": 9,
   "id": "92dd6e64",
   "metadata": {},
   "outputs": [
    {
     "name": "stdout",
     "output_type": "stream",
     "text": [
      "Max Iterations:  100\n",
      "Starting Iteration:  1\n",
      "Max Iterations:  100\n",
      "Starting Iteration:  1\n",
      "Max Iterations:  100\n",
      "Starting Iteration:  1\n",
      "Max Iterations:  100\n",
      "Starting Iteration:  1\n",
      "Max Iterations:  100\n",
      "Starting Iteration:  1\n"
     ]
    }
   ],
   "source": [
    "##generate attributions\n",
    "ge_dict, time_dict, global_explanations = generate_global_exps(config,mlp_model.to('cpu'),scm_model.to('cpu'))"
   ]
  },
  {
   "cell_type": "code",
   "execution_count": 14,
   "id": "be50d952",
   "metadata": {},
   "outputs": [
    {
     "data": {
      "application/vnd.plotly.v1+json": {
       "config": {
        "plotlyServerURL": "https://plot.ly"
       },
       "data": [
        {
         "marker": {
          "color": "#75bea7",
          "line": {
           "width": 0.05
          }
         },
         "name": "SHAP",
         "type": "bar",
         "width": 0.06,
         "x": [
          "asia",
          "tub",
          "smoke",
          "lung",
          "bronc",
          "either",
          "xray"
         ],
         "y": {
          "bdata": "l9pgUx99vz85YmJDZr7JP7hOYRszfsU/ylLgPtaK0D+0CYDs56NiP3hzxIIWRL0/SwK3mI8CwT8=",
          "dtype": "f8"
         }
        },
        {
         "marker": {
          "color": "#ef6128",
          "line": {
           "width": 0.05
          }
         },
         "name": "LIME",
         "type": "bar",
         "width": 0.06,
         "x": [
          "asia",
          "tub",
          "smoke",
          "lung",
          "bronc",
          "either",
          "xray"
         ],
         "y": {
          "bdata": "jNmnoqSnlz/7WWN4XOidP0hvZYbnh7Q/rGWCfdVheT9e/B76hvfnP8oeLlubp7E/lTezXU80pj8=",
          "dtype": "f8"
         }
        },
        {
         "marker": {
          "color": "#5f5d5d",
          "line": {
           "width": 0.05
          }
         },
         "name": "SP LIME",
         "type": "bar",
         "width": 0.06,
         "x": [
          "asia",
          "tub",
          "smoke",
          "lung",
          "bronc",
          "either",
          "xray"
         ],
         "y": {
          "bdata": "2GpKU6fumj80InTXTCOQP5Tc/485KqU/TZATZmxrkT8VsT22Kq7pP0Ru8t6ZsK8/IZXJ5NADoj8=",
          "dtype": "f8"
         }
        },
        {
         "marker": {
          "color": "#AA7A33",
          "line": {
           "width": 0.05
          }
         },
         "name": "PFI",
         "type": "bar",
         "width": 0.06,
         "x": [
          "asia",
          "tub",
          "smoke",
          "lung",
          "bronc",
          "either",
          "xray"
         ],
         "y": {
          "bdata": "AAAAIFbLpz8AAAAAV9ejPwAAAEBTg7E/AAAAYC9KuD8AAACAho7jPwAAACBDPrM/AAAAYK+usD8=",
          "dtype": "f8"
         }
        },
        {
         "marker": {
          "color": "#df52a9",
          "line": {
           "width": 0.05
          }
         },
         "name": "IG",
         "type": "bar",
         "width": 0.06,
         "x": [
          "asia",
          "tub",
          "smoke",
          "lung",
          "bronc",
          "either",
          "xray"
         ],
         "y": {
          "bdata": "z0jOMXJCsz/g5GZoHxGzP4EqRfIb0I4/tDXmH+YmuT/ThTd4S/nkP5MFJVn274M/DCi7Oipjsj8=",
          "dtype": "f8"
         }
        },
        {
         "marker": {
          "color": "#92dc1d",
          "line": {
           "width": 0.05
          }
         },
         "name": "SG",
         "type": "bar",
         "width": 0.06,
         "x": [
          "asia",
          "tub",
          "smoke",
          "lung",
          "bronc",
          "either",
          "xray"
         ],
         "y": {
          "bdata": "daWMjzgghz+zsdaoNIHDP3R+AfH3/bU/Ss1eQzaf0z8fuD5/72ZzP9l6IIEB/Ms/ibnXUSY4zD8=",
          "dtype": "f8"
         }
        },
        {
         "marker": {
          "color": "#e6cf6a",
          "line": {
           "width": 0.05
          }
         },
         "name": "IxG",
         "type": "bar",
         "width": 0.06,
         "x": [
          "asia",
          "tub",
          "smoke",
          "lung",
          "bronc",
          "either",
          "xray"
         ],
         "y": {
          "bdata": "TJVZanVa0D/rDKYTG2LEP/Yty7oZNKw/3FW1BRjL0j80n9cewalIP/IQZdrlWMk/x6IVCNBQoz8=",
          "dtype": "f8"
         }
        },
        {
         "marker": {
          "color": "#435d97",
          "line": {
           "width": 0.05
          }
         },
         "name": "ICC TOPO",
         "type": "bar",
         "width": 0.06,
         "x": [
          "asia",
          "tub",
          "smoke",
          "lung",
          "bronc",
          "either",
          "xray"
         ],
         "y": {
          "bdata": "AAAAgI3lZz8AAADANb5dPwAAAKBOwkc/AAAA4H7okj8AAAAg/2HuPwAAAGAwe4U/AAAAIBv2jz8=",
          "dtype": "f8"
         }
        },
        {
         "marker": {
          "color": "#56B4E9",
          "line": {
           "width": 0.05
          }
         },
         "name": "ICC SHAP",
         "type": "bar",
         "width": 0.06,
         "x": [
          "asia",
          "tub",
          "smoke",
          "lung",
          "bronc",
          "either",
          "xray"
         ],
         "y": {
          "bdata": "AAAAQPw/ZD8AAABAfF5mPwAAACCIJoA/AAAAwMunlT8AAACAejXuPwAAACCxO38/AAAAwOGXhT8=",
          "dtype": "f8"
         }
        }
       ],
       "layout": {
        "bargap": 0.45,
        "bargroupgap": 1,
        "barmode": "group",
        "font": {
         "size": 14
        },
        "legend": {
         "font": {
          "color": "black",
          "family": "Times New Roman",
          "size": 25
         },
         "title": {
          "font": {
           "color": "black",
           "family": "Times New Roman",
           "size": 25
          },
          "text": "Method"
         }
        },
        "plot_bgcolor": "rgba(0,0,0,0)",
        "showlegend": false,
        "template": {
         "data": {
          "bar": [
           {
            "error_x": {
             "color": "#2a3f5f"
            },
            "error_y": {
             "color": "#2a3f5f"
            },
            "marker": {
             "line": {
              "color": "#E5ECF6",
              "width": 0.5
             },
             "pattern": {
              "fillmode": "overlay",
              "size": 10,
              "solidity": 0.2
             }
            },
            "type": "bar"
           }
          ],
          "barpolar": [
           {
            "marker": {
             "line": {
              "color": "#E5ECF6",
              "width": 0.5
             },
             "pattern": {
              "fillmode": "overlay",
              "size": 10,
              "solidity": 0.2
             }
            },
            "type": "barpolar"
           }
          ],
          "carpet": [
           {
            "aaxis": {
             "endlinecolor": "#2a3f5f",
             "gridcolor": "white",
             "linecolor": "white",
             "minorgridcolor": "white",
             "startlinecolor": "#2a3f5f"
            },
            "baxis": {
             "endlinecolor": "#2a3f5f",
             "gridcolor": "white",
             "linecolor": "white",
             "minorgridcolor": "white",
             "startlinecolor": "#2a3f5f"
            },
            "type": "carpet"
           }
          ],
          "choropleth": [
           {
            "colorbar": {
             "outlinewidth": 0,
             "ticks": ""
            },
            "type": "choropleth"
           }
          ],
          "contour": [
           {
            "colorbar": {
             "outlinewidth": 0,
             "ticks": ""
            },
            "colorscale": [
             [
              0,
              "#0d0887"
             ],
             [
              0.1111111111111111,
              "#46039f"
             ],
             [
              0.2222222222222222,
              "#7201a8"
             ],
             [
              0.3333333333333333,
              "#9c179e"
             ],
             [
              0.4444444444444444,
              "#bd3786"
             ],
             [
              0.5555555555555556,
              "#d8576b"
             ],
             [
              0.6666666666666666,
              "#ed7953"
             ],
             [
              0.7777777777777778,
              "#fb9f3a"
             ],
             [
              0.8888888888888888,
              "#fdca26"
             ],
             [
              1,
              "#f0f921"
             ]
            ],
            "type": "contour"
           }
          ],
          "contourcarpet": [
           {
            "colorbar": {
             "outlinewidth": 0,
             "ticks": ""
            },
            "type": "contourcarpet"
           }
          ],
          "heatmap": [
           {
            "colorbar": {
             "outlinewidth": 0,
             "ticks": ""
            },
            "colorscale": [
             [
              0,
              "#0d0887"
             ],
             [
              0.1111111111111111,
              "#46039f"
             ],
             [
              0.2222222222222222,
              "#7201a8"
             ],
             [
              0.3333333333333333,
              "#9c179e"
             ],
             [
              0.4444444444444444,
              "#bd3786"
             ],
             [
              0.5555555555555556,
              "#d8576b"
             ],
             [
              0.6666666666666666,
              "#ed7953"
             ],
             [
              0.7777777777777778,
              "#fb9f3a"
             ],
             [
              0.8888888888888888,
              "#fdca26"
             ],
             [
              1,
              "#f0f921"
             ]
            ],
            "type": "heatmap"
           }
          ],
          "histogram": [
           {
            "marker": {
             "pattern": {
              "fillmode": "overlay",
              "size": 10,
              "solidity": 0.2
             }
            },
            "type": "histogram"
           }
          ],
          "histogram2d": [
           {
            "colorbar": {
             "outlinewidth": 0,
             "ticks": ""
            },
            "colorscale": [
             [
              0,
              "#0d0887"
             ],
             [
              0.1111111111111111,
              "#46039f"
             ],
             [
              0.2222222222222222,
              "#7201a8"
             ],
             [
              0.3333333333333333,
              "#9c179e"
             ],
             [
              0.4444444444444444,
              "#bd3786"
             ],
             [
              0.5555555555555556,
              "#d8576b"
             ],
             [
              0.6666666666666666,
              "#ed7953"
             ],
             [
              0.7777777777777778,
              "#fb9f3a"
             ],
             [
              0.8888888888888888,
              "#fdca26"
             ],
             [
              1,
              "#f0f921"
             ]
            ],
            "type": "histogram2d"
           }
          ],
          "histogram2dcontour": [
           {
            "colorbar": {
             "outlinewidth": 0,
             "ticks": ""
            },
            "colorscale": [
             [
              0,
              "#0d0887"
             ],
             [
              0.1111111111111111,
              "#46039f"
             ],
             [
              0.2222222222222222,
              "#7201a8"
             ],
             [
              0.3333333333333333,
              "#9c179e"
             ],
             [
              0.4444444444444444,
              "#bd3786"
             ],
             [
              0.5555555555555556,
              "#d8576b"
             ],
             [
              0.6666666666666666,
              "#ed7953"
             ],
             [
              0.7777777777777778,
              "#fb9f3a"
             ],
             [
              0.8888888888888888,
              "#fdca26"
             ],
             [
              1,
              "#f0f921"
             ]
            ],
            "type": "histogram2dcontour"
           }
          ],
          "mesh3d": [
           {
            "colorbar": {
             "outlinewidth": 0,
             "ticks": ""
            },
            "type": "mesh3d"
           }
          ],
          "parcoords": [
           {
            "line": {
             "colorbar": {
              "outlinewidth": 0,
              "ticks": ""
             }
            },
            "type": "parcoords"
           }
          ],
          "pie": [
           {
            "automargin": true,
            "type": "pie"
           }
          ],
          "scatter": [
           {
            "fillpattern": {
             "fillmode": "overlay",
             "size": 10,
             "solidity": 0.2
            },
            "type": "scatter"
           }
          ],
          "scatter3d": [
           {
            "line": {
             "colorbar": {
              "outlinewidth": 0,
              "ticks": ""
             }
            },
            "marker": {
             "colorbar": {
              "outlinewidth": 0,
              "ticks": ""
             }
            },
            "type": "scatter3d"
           }
          ],
          "scattercarpet": [
           {
            "marker": {
             "colorbar": {
              "outlinewidth": 0,
              "ticks": ""
             }
            },
            "type": "scattercarpet"
           }
          ],
          "scattergeo": [
           {
            "marker": {
             "colorbar": {
              "outlinewidth": 0,
              "ticks": ""
             }
            },
            "type": "scattergeo"
           }
          ],
          "scattergl": [
           {
            "marker": {
             "colorbar": {
              "outlinewidth": 0,
              "ticks": ""
             }
            },
            "type": "scattergl"
           }
          ],
          "scattermap": [
           {
            "marker": {
             "colorbar": {
              "outlinewidth": 0,
              "ticks": ""
             }
            },
            "type": "scattermap"
           }
          ],
          "scattermapbox": [
           {
            "marker": {
             "colorbar": {
              "outlinewidth": 0,
              "ticks": ""
             }
            },
            "type": "scattermapbox"
           }
          ],
          "scatterpolar": [
           {
            "marker": {
             "colorbar": {
              "outlinewidth": 0,
              "ticks": ""
             }
            },
            "type": "scatterpolar"
           }
          ],
          "scatterpolargl": [
           {
            "marker": {
             "colorbar": {
              "outlinewidth": 0,
              "ticks": ""
             }
            },
            "type": "scatterpolargl"
           }
          ],
          "scatterternary": [
           {
            "marker": {
             "colorbar": {
              "outlinewidth": 0,
              "ticks": ""
             }
            },
            "type": "scatterternary"
           }
          ],
          "surface": [
           {
            "colorbar": {
             "outlinewidth": 0,
             "ticks": ""
            },
            "colorscale": [
             [
              0,
              "#0d0887"
             ],
             [
              0.1111111111111111,
              "#46039f"
             ],
             [
              0.2222222222222222,
              "#7201a8"
             ],
             [
              0.3333333333333333,
              "#9c179e"
             ],
             [
              0.4444444444444444,
              "#bd3786"
             ],
             [
              0.5555555555555556,
              "#d8576b"
             ],
             [
              0.6666666666666666,
              "#ed7953"
             ],
             [
              0.7777777777777778,
              "#fb9f3a"
             ],
             [
              0.8888888888888888,
              "#fdca26"
             ],
             [
              1,
              "#f0f921"
             ]
            ],
            "type": "surface"
           }
          ],
          "table": [
           {
            "cells": {
             "fill": {
              "color": "#EBF0F8"
             },
             "line": {
              "color": "white"
             }
            },
            "header": {
             "fill": {
              "color": "#C8D4E3"
             },
             "line": {
              "color": "white"
             }
            },
            "type": "table"
           }
          ]
         },
         "layout": {
          "annotationdefaults": {
           "arrowcolor": "#2a3f5f",
           "arrowhead": 0,
           "arrowwidth": 1
          },
          "autotypenumbers": "strict",
          "coloraxis": {
           "colorbar": {
            "outlinewidth": 0,
            "ticks": ""
           }
          },
          "colorscale": {
           "diverging": [
            [
             0,
             "#8e0152"
            ],
            [
             0.1,
             "#c51b7d"
            ],
            [
             0.2,
             "#de77ae"
            ],
            [
             0.3,
             "#f1b6da"
            ],
            [
             0.4,
             "#fde0ef"
            ],
            [
             0.5,
             "#f7f7f7"
            ],
            [
             0.6,
             "#e6f5d0"
            ],
            [
             0.7,
             "#b8e186"
            ],
            [
             0.8,
             "#7fbc41"
            ],
            [
             0.9,
             "#4d9221"
            ],
            [
             1,
             "#276419"
            ]
           ],
           "sequential": [
            [
             0,
             "#0d0887"
            ],
            [
             0.1111111111111111,
             "#46039f"
            ],
            [
             0.2222222222222222,
             "#7201a8"
            ],
            [
             0.3333333333333333,
             "#9c179e"
            ],
            [
             0.4444444444444444,
             "#bd3786"
            ],
            [
             0.5555555555555556,
             "#d8576b"
            ],
            [
             0.6666666666666666,
             "#ed7953"
            ],
            [
             0.7777777777777778,
             "#fb9f3a"
            ],
            [
             0.8888888888888888,
             "#fdca26"
            ],
            [
             1,
             "#f0f921"
            ]
           ],
           "sequentialminus": [
            [
             0,
             "#0d0887"
            ],
            [
             0.1111111111111111,
             "#46039f"
            ],
            [
             0.2222222222222222,
             "#7201a8"
            ],
            [
             0.3333333333333333,
             "#9c179e"
            ],
            [
             0.4444444444444444,
             "#bd3786"
            ],
            [
             0.5555555555555556,
             "#d8576b"
            ],
            [
             0.6666666666666666,
             "#ed7953"
            ],
            [
             0.7777777777777778,
             "#fb9f3a"
            ],
            [
             0.8888888888888888,
             "#fdca26"
            ],
            [
             1,
             "#f0f921"
            ]
           ]
          },
          "colorway": [
           "#636efa",
           "#EF553B",
           "#00cc96",
           "#ab63fa",
           "#FFA15A",
           "#19d3f3",
           "#FF6692",
           "#B6E880",
           "#FF97FF",
           "#FECB52"
          ],
          "font": {
           "color": "#2a3f5f"
          },
          "geo": {
           "bgcolor": "white",
           "lakecolor": "white",
           "landcolor": "#E5ECF6",
           "showlakes": true,
           "showland": true,
           "subunitcolor": "white"
          },
          "hoverlabel": {
           "align": "left"
          },
          "hovermode": "closest",
          "mapbox": {
           "style": "light"
          },
          "paper_bgcolor": "white",
          "plot_bgcolor": "#E5ECF6",
          "polar": {
           "angularaxis": {
            "gridcolor": "white",
            "linecolor": "white",
            "ticks": ""
           },
           "bgcolor": "#E5ECF6",
           "radialaxis": {
            "gridcolor": "white",
            "linecolor": "white",
            "ticks": ""
           }
          },
          "scene": {
           "xaxis": {
            "backgroundcolor": "#E5ECF6",
            "gridcolor": "white",
            "gridwidth": 2,
            "linecolor": "white",
            "showbackground": true,
            "ticks": "",
            "zerolinecolor": "white"
           },
           "yaxis": {
            "backgroundcolor": "#E5ECF6",
            "gridcolor": "white",
            "gridwidth": 2,
            "linecolor": "white",
            "showbackground": true,
            "ticks": "",
            "zerolinecolor": "white"
           },
           "zaxis": {
            "backgroundcolor": "#E5ECF6",
            "gridcolor": "white",
            "gridwidth": 2,
            "linecolor": "white",
            "showbackground": true,
            "ticks": "",
            "zerolinecolor": "white"
           }
          },
          "shapedefaults": {
           "line": {
            "color": "#2a3f5f"
           }
          },
          "ternary": {
           "aaxis": {
            "gridcolor": "white",
            "linecolor": "white",
            "ticks": ""
           },
           "baxis": {
            "gridcolor": "white",
            "linecolor": "white",
            "ticks": ""
           },
           "bgcolor": "#E5ECF6",
           "caxis": {
            "gridcolor": "white",
            "linecolor": "white",
            "ticks": ""
           }
          },
          "title": {
           "x": 0.05
          },
          "xaxis": {
           "automargin": true,
           "gridcolor": "white",
           "linecolor": "white",
           "ticks": "",
           "title": {
            "standoff": 15
           },
           "zerolinecolor": "white",
           "zerolinewidth": 2
          },
          "yaxis": {
           "automargin": true,
           "gridcolor": "white",
           "linecolor": "white",
           "ticks": "",
           "title": {
            "standoff": 15
           },
           "zerolinecolor": "white",
           "zerolinewidth": 2
          }
         }
        },
        "xaxis": {
         "linecolor": "lightgray",
         "range": [
          -0.5,
          6.5
         ],
         "showgrid": false,
         "tickcolor": "lightgray",
         "tickfont": {
          "color": "black",
          "family": "Times New Roman",
          "size": 26
         },
         "tickmode": "array",
         "ticktext": [
          "asia",
          "tub",
          "smoke",
          "lung",
          "bronc",
          "either",
          "xray"
         ],
         "tickvals": [
          0,
          1,
          2,
          3,
          4,
          5,
          6
         ]
        },
        "yaxis": {
         "dtick": 0.1,
         "gridcolor": "lightgray",
         "linecolor": "lightgray",
         "range": [
          0,
          0.9
         ],
         "showgrid": true,
         "tickcolor": "lightgray",
         "tickfont": {
          "color": "black",
          "family": "Times New Roman",
          "size": 25
         },
         "ticks": "outside",
         "title": {
          "font": {
           "color": "black",
           "family": "Times New Roman",
           "size": 25
          }
         }
        }
       }
      }
     },
     "metadata": {},
     "output_type": "display_data"
    }
   ],
   "source": [
    "# Load JSON\n",
    "with open(PREFIX +\"attributions/cancer/attribution.json\", \"r\") as f:\n",
    "    data = json.load(f)\n",
    "global_explanations = data['global_explanations']    \n",
    "generate_attr_plot(global_explanations,config)"
   ]
  },
  {
   "cell_type": "code",
   "execution_count": 11,
   "id": "cd182777",
   "metadata": {},
   "outputs": [
    {
     "name": "stdout",
     "output_type": "stream",
     "text": [
      "{'shap': {'pgi': {'k=1': [0.2134249359369278], 'k=2': [0.29935744404792786], 'k=3': [0.3327498733997345], 'k=4': [0.3791840672492981], 'k=5': [0.4066338837146759], 'k=6': [0.41710737347602844], 'k=7': [0.46727004647254944]}, 'pgu': {'k=1': [0.4375058114528656], 'k=2': [0.4146712124347687], 'k=3': [0.41035526990890503], 'k=4': [0.37464219331741333], 'k=5': [0.3473282754421234], 'k=6': [0.29170188307762146], 'k=7': [1.732276899701901e-08]}}, 'lime': {'pgi': {'k=1': [0.29096922278404236], 'k=2': [0.30258649587631226], 'k=3': [0.353669136762619], 'k=4': [0.3920283615589142], 'k=5': [0.419399619102478], 'k=6': [0.43815872073173523], 'k=7': [0.46740299463272095]}, 'pgu': {'k=1': [0.4173593521118164], 'k=2': [0.40230390429496765], 'k=3': [0.387849897146225], 'k=4': [0.3360205590724945], 'k=5': [0.2688675820827484], 'k=6': [0.21395662426948547], 'k=7': [1.732276899701901e-08]}}, 'sp_lime': {'pgi': {'k=1': [0.1240033432841301], 'k=2': [0.2449956238269806], 'k=3': [0.29447701573371887], 'k=4': [0.36644184589385986], 'k=5': [0.43684738874435425], 'k=6': [0.45040446519851685], 'k=7': [0.46676522493362427]}, 'pgu': {'k=1': [0.45701858401298523], 'k=2': [0.4404570460319519], 'k=3': [0.43729567527770996], 'k=4': [0.3862830102443695], 'k=5': [0.2254229038953781], 'k=6': [0.14526598155498505], 'k=7': [1.732276899701901e-08]}}, 'pfi': {'pgi': {'k=1': [0.29206231236457825], 'k=2': [0.39385998249053955], 'k=3': [0.4124484658241272], 'k=4': [0.415763795375824], 'k=5': [0.4406464099884033], 'k=6': [0.45382604002952576], 'k=7': [0.46716856956481934]}, 'pgu': {'k=1': [0.41702303290367126], 'k=2': [0.3735170364379883], 'k=3': [0.34885933995246887], 'k=4': [0.3180195093154907], 'k=5': [0.2440957874059677], 'k=6': [0.16772960126399994], 'k=7': [1.732276899701901e-08]}}, 'ig': {'pgi': {'k=1': [0.2912409007549286], 'k=2': [0.3933330178260803], 'k=3': [0.41277992725372314], 'k=4': [0.43269413709640503], 'k=5': [0.4577041566371918], 'k=6': [0.4597095847129822], 'k=7': [0.4672994911670685]}, 'pgu': {'k=1': [0.4180368483066559], 'k=2': [0.37352603673934937], 'k=3': [0.3351251482963562], 'k=4': [0.2630324065685272], 'k=5': [0.18662463128566742], 'k=6': [0.13742883503437042], 'k=7': [1.732276899701901e-08]}}, 'sg': {'pgi': {'k=1': [0.21414940059185028], 'k=2': [0.298022985458374], 'k=3': [0.32879403233528137], 'k=4': [0.3756304383277893], 'k=5': [0.3937638998031616], 'k=6': [0.4171917140483856], 'k=7': [0.46685612201690674]}, 'pgu': {'k=1': [0.43744754791259766], 'k=2': [0.4124237895011902], 'k=3': [0.3833785355091095], 'k=4': [0.34388068318367004], 'k=5': [0.3313802182674408], 'k=6': [0.2915467321872711], 'k=7': [1.732276899701901e-08]}}, 'itg': {'pgi': {'k=1': [0.21403838694095612], 'k=2': [0.26871931552886963], 'k=3': [0.31011465191841125], 'k=4': [0.3628411889076233], 'k=5': [0.38607656955718994], 'k=6': [0.41701215505599976], 'k=7': [0.46797677874565125]}, 'pgu': {'k=1': [0.4373762011528015], 'k=2': [0.41980230808258057], 'k=3': [0.3993366062641144], 'k=4': [0.36506322026252747], 'k=5': [0.35898828506469727], 'k=6': [0.29156622290611267], 'k=7': [1.732276899701901e-08]}}, 'icc_topo': {'pgi': {'k=1': [0.2912916839122772], 'k=2': [0.3935859203338623], 'k=3': [0.42425623536109924], 'k=4': [0.43754491209983826], 'k=5': [0.4506014585494995], 'k=6': [0.46532994508743286], 'k=7': [0.46644994616508484]}, 'pgu': {'k=1': [0.41768524050712585], 'k=2': [0.3734237253665924], 'k=3': [0.3348981738090515], 'k=4': [0.2949686050415039], 'k=5': [0.22787298262119293], 'k=6': [0.08631150424480438], 'k=7': [1.732276899701901e-08]}}, 'icc_shap': {'pgi': {'k=1': [0.29111549258232117], 'k=2': [0.3936963379383087], 'k=3': [0.4241105616092682], 'k=4': [0.4283827841281891], 'k=5': [0.440483957529068], 'k=6': [0.456503301858902], 'k=7': [0.4678518772125244]}, 'pgu': {'k=1': [0.41690918803215027], 'k=2': [0.37358519434928894], 'k=3': [0.3349387049674988], 'k=4': [0.2983075678348541], 'k=5': [0.2440960705280304], 'k=6': [0.12490132451057434], 'k=7': [1.732276899701901e-08]}}}\n"
     ]
    }
   ],
   "source": [
    "ge_dict = data[\"ge_dict\"]\n",
    "evaluation_metrics,evaluation_metrics_per_sample = evaluate_exp(ge_dict,config,mlp_model.to('cpu'))\n",
    "print(evaluation_metrics)\n"
   ]
  },
  {
   "cell_type": "code",
   "execution_count": 12,
   "id": "d0f10a47",
   "metadata": {},
   "outputs": [
    {
     "name": "stdout",
     "output_type": "stream",
     "text": [
      "shap: PGI AUC = 0.3625633541329039 +- 0.005434405297235846, PGU AUC = 0.3429086207996847 +- 0.003786609893473744\n",
      "lime: PGI AUC = 0.3808380662197144 +- 0.004233050825645996, PGU AUC = 0.30294636474404896 +- 0.0048819548680504475\n",
      "sp_lime: PGI AUC = 0.3480917841608688 +- 0.004916477859525521, PGU AUC = 0.3105389919873819 +- 0.0038085373972594114\n",
      "pfi: PGI AUC = 0.41602669455111024 +- 0.005130484205305648, PGU AUC = 0.27678879071744933 +- 0.004258752647857307\n",
      "ig: PGI AUC = 0.422581837479439 +- 0.005494635877927833, PGU AUC = 0.25079258081322126 +- 0.0032929148033632965\n",
      "sg: PGI AUC = 0.3589843003017207 +- 0.005542195933280121, PGU AUC = 0.3302222847351287 +- 0.0037773637735847966\n",
      "itg: PGI AUC = 0.34762859535351803 +- 0.0054549638024604325, PGU AUC = 0.34224078832828025 +- 0.003782746217289304\n",
      "icc_topo: PGI AUC = 0.42503153905065527 +- 0.005425998826980188, PGU AUC = 0.2543862634777583 +- 0.0033561569825395553\n",
      "icc_shap: PGI AUC = 0.42044343039807347 +- 0.005222422671933947, PGU AUC = 0.2640472442660636 +- 0.00404238605649609\n"
     ]
    }
   ],
   "source": [
    "auc_results,auc_show,sum_results,sum_show = aggregate_auc_or_sum(evaluation_metrics_per_sample,config)\n",
    "\n",
    "# Print results nicely\n",
    "for method, vals in auc_show.items():\n",
    "    print(f\"{method}: PGI AUC = {vals['pgi_auc']}, PGU AUC = {vals['pgu_auc']}\")\n"
   ]
  },
  {
   "cell_type": "code",
   "execution_count": 13,
   "id": "049d49e6",
   "metadata": {},
   "outputs": [
    {
     "name": "stdout",
     "output_type": "stream",
     "text": [
      "shap: PGI SUM = 2.5157275199890137 +- 0.03761018707705641, PGU SUM = 2.2762045860290527 +- 0.02577621504553081\n",
      "lime: PGI SUM = 2.6642143726348877 +- 0.029630891182910676, PGU SUM = 2.026357889175415 +- 0.032575742833868854\n",
      "sp_lime: PGI SUM = 2.3839352130889893 +- 0.033556874192084724, PGU SUM = 2.0917434692382812 +- 0.025993595883807546\n",
      "pfi: PGI SUM = 2.8757758140563965 +- 0.03499480850602114, PGU SUM = 1.8692442178726196 +- 0.028746006094831144\n",
      "ig: PGI SUM = 2.9147613048553467 +- 0.03718131167278216, PGU SUM = 1.7137739658355713 +- 0.02292105178798616\n",
      "sg: PGI SUM = 2.49440860748291 +- 0.03826398426950129, PGU SUM = 2.2000572681427 +- 0.02565349150021045\n",
      "itg: PGI SUM = 2.426779270172119 +- 0.03775068623998722, PGU SUM = 2.2721328735351562 +- 0.025723693631361903\n",
      "icc_topo: PGI SUM = 2.929060220718384 +- 0.036736378595597384, PGU SUM = 1.7351601123809814 +- 0.02327675880814974\n",
      "icc_shap: PGI SUM = 2.902144193649292 +- 0.03555577828428349, PGU SUM = 1.7927380800247192 +- 0.027451904632549193\n"
     ]
    }
   ],
   "source": [
    "for method, vals in sum_show.items():\n",
    "    print(f\"{method}: PGI SUM = {vals['pgi_sum']}, PGU SUM = {vals['pgu_sum']}\")"
   ]
  },
  {
   "cell_type": "markdown",
   "id": "5786275b",
   "metadata": {},
   "source": [
    "## Synthetic Data"
   ]
  },
  {
   "cell_type": "code",
   "execution_count": 9,
   "id": "3188a479",
   "metadata": {},
   "outputs": [],
   "source": [
    "config = CONFIG['syn']\n",
    "mlp_path = PREFIX + 'models/syn_mlp/syn_mlp_seed_1/logs/version_4/checkpoints/epoch=75-step=8968.ckpt'\n",
    "scm_path = PREFIX + 'models/syn_nf/syn_nf_seed_1/logs/version_5/checkpoints/epoch=50-step=6018.ckpt'\n",
    "mlp_model = MLPLightning.load_from_checkpoint(mlp_path,model = MLP(config['num_features'],config['hidden_layers_mlp'],classification=config['classification']))\n",
    "scm_model = CausalNF.load_from_checkpoint(scm_path,flow = flow(config['num_features'],config['gd_adjacency'],config['hidden_layers_flow']))"
   ]
  },
  {
   "cell_type": "code",
   "execution_count": 3,
   "id": "eb04e8ba",
   "metadata": {},
   "outputs": [
    {
     "name": "stdout",
     "output_type": "stream",
     "text": [
      "Max Iterations:  100\n",
      "Starting Iteration:  1\n",
      "Max Iterations:  100\n",
      "Starting Iteration:  1\n",
      "Max Iterations:  100\n",
      "Starting Iteration:  1\n",
      "Max Iterations:  100\n",
      "Starting Iteration:  1\n",
      "Max Iterations:  100\n",
      "Starting Iteration:  1\n"
     ]
    }
   ],
   "source": [
    "##generate attributions\n",
    "ge_dict, time_dict, global_explanations = generate_global_exps(config,mlp_model.to('cpu'),scm_model.to('cpu'))"
   ]
  },
  {
   "cell_type": "code",
   "execution_count": 10,
   "id": "7e0f586e",
   "metadata": {},
   "outputs": [
    {
     "data": {
      "application/vnd.plotly.v1+json": {
       "config": {
        "plotlyServerURL": "https://plot.ly"
       },
       "data": [
        {
         "marker": {
          "color": "#75bea7",
          "line": {
           "width": 0.05
          }
         },
         "name": "SHAP",
         "type": "bar",
         "width": 0.06,
         "x": [
          "P",
          "Q",
          "R"
         ],
         "y": {
          "bdata": "ZYgmCtSy4T8G7JE2Ij9oP2DLRafZadw/",
          "dtype": "f8"
         }
        },
        {
         "marker": {
          "color": "#ef6128",
          "line": {
           "width": 0.05
          }
         },
         "name": "LIME",
         "type": "bar",
         "width": 0.06,
         "x": [
          "P",
          "Q",
          "R"
         ],
         "y": {
          "bdata": "qyiiqnyW1T+HWkyKjOnkP89IpBhIzYI/",
          "dtype": "f8"
         }
        },
        {
         "marker": {
          "color": "#5f5d5d",
          "line": {
           "width": 0.05
          }
         },
         "name": "SP LIME",
         "type": "bar",
         "width": 0.06,
         "x": [
          "P",
          "Q",
          "R"
         ],
         "y": {
          "bdata": "flrbMWNp5D+0aLY8u5LQP0GJS375abo/",
          "dtype": "f8"
         }
        },
        {
         "marker": {
          "color": "#AA7A33",
          "line": {
           "width": 0.05
          }
         },
         "name": "PFI",
         "type": "bar",
         "width": 0.06,
         "x": [
          "P",
          "Q",
          "R"
         ],
         "y": {
          "bdata": "AAAAYD1Q2j8AAADg7cncPwAAAMCpy8E/",
          "dtype": "f8"
         }
        },
        {
         "marker": {
          "color": "#df52a9",
          "line": {
           "width": 0.05
          }
         },
         "name": "IG",
         "type": "bar",
         "width": 0.06,
         "x": [
          "P",
          "Q",
          "R"
         ],
         "y": {
          "bdata": "ByujyjHt3j/AJyFaawNwPy0o+kNgaeA/",
          "dtype": "f8"
         }
        },
        {
         "marker": {
          "color": "#92dc1d",
          "line": {
           "width": 0.05
          }
         },
         "name": "SG",
         "type": "bar",
         "width": 0.06,
         "x": [
          "P",
          "Q",
          "R"
         ],
         "y": {
          "bdata": "9+/KnmE13j9Q8vhBDH9pPxKPWCTQy+A/",
          "dtype": "f8"
         }
        },
        {
         "marker": {
          "color": "#e6cf6a",
          "line": {
           "width": 0.05
          }
         },
         "name": "IxG",
         "type": "bar",
         "width": 0.06,
         "x": [
          "P",
          "Q",
          "R"
         ],
         "y": {
          "bdata": "o+tWJmqk2z90JlqrryniPzTrjukFbUA/",
          "dtype": "f8"
         }
        },
        {
         "marker": {
          "color": "#435d97",
          "line": {
           "width": 0.05
          }
         },
         "name": "ICC TOPO",
         "type": "bar",
         "width": 0.06,
         "x": [
          "P",
          "Q",
          "R"
         ],
         "y": {
          "bdata": "AAAAoNjVmz4AAABAbMziPwAAAGDV9dY/",
          "dtype": "f8"
         }
        },
        {
         "marker": {
          "color": "#56B4E9",
          "line": {
           "width": 0.05
          }
         },
         "name": "ICC SHAP",
         "type": "bar",
         "width": 0.06,
         "x": [
          "P",
          "Q",
          "R"
         ],
         "y": {
          "bdata": "AAAAQNuftD8AAABAVwnlPwAAAOA2o8k/",
          "dtype": "f8"
         }
        }
       ],
       "layout": {
        "bargap": 0.45,
        "bargroupgap": 1,
        "barmode": "group",
        "font": {
         "size": 14
        },
        "legend": {
         "font": {
          "color": "black",
          "family": "Times New Roman",
          "size": 25
         },
         "title": {
          "font": {
           "color": "black",
           "family": "Times New Roman",
           "size": 25
          },
          "text": "Method"
         }
        },
        "plot_bgcolor": "rgba(0,0,0,0)",
        "showlegend": false,
        "template": {
         "data": {
          "bar": [
           {
            "error_x": {
             "color": "#2a3f5f"
            },
            "error_y": {
             "color": "#2a3f5f"
            },
            "marker": {
             "line": {
              "color": "#E5ECF6",
              "width": 0.5
             },
             "pattern": {
              "fillmode": "overlay",
              "size": 10,
              "solidity": 0.2
             }
            },
            "type": "bar"
           }
          ],
          "barpolar": [
           {
            "marker": {
             "line": {
              "color": "#E5ECF6",
              "width": 0.5
             },
             "pattern": {
              "fillmode": "overlay",
              "size": 10,
              "solidity": 0.2
             }
            },
            "type": "barpolar"
           }
          ],
          "carpet": [
           {
            "aaxis": {
             "endlinecolor": "#2a3f5f",
             "gridcolor": "white",
             "linecolor": "white",
             "minorgridcolor": "white",
             "startlinecolor": "#2a3f5f"
            },
            "baxis": {
             "endlinecolor": "#2a3f5f",
             "gridcolor": "white",
             "linecolor": "white",
             "minorgridcolor": "white",
             "startlinecolor": "#2a3f5f"
            },
            "type": "carpet"
           }
          ],
          "choropleth": [
           {
            "colorbar": {
             "outlinewidth": 0,
             "ticks": ""
            },
            "type": "choropleth"
           }
          ],
          "contour": [
           {
            "colorbar": {
             "outlinewidth": 0,
             "ticks": ""
            },
            "colorscale": [
             [
              0,
              "#0d0887"
             ],
             [
              0.1111111111111111,
              "#46039f"
             ],
             [
              0.2222222222222222,
              "#7201a8"
             ],
             [
              0.3333333333333333,
              "#9c179e"
             ],
             [
              0.4444444444444444,
              "#bd3786"
             ],
             [
              0.5555555555555556,
              "#d8576b"
             ],
             [
              0.6666666666666666,
              "#ed7953"
             ],
             [
              0.7777777777777778,
              "#fb9f3a"
             ],
             [
              0.8888888888888888,
              "#fdca26"
             ],
             [
              1,
              "#f0f921"
             ]
            ],
            "type": "contour"
           }
          ],
          "contourcarpet": [
           {
            "colorbar": {
             "outlinewidth": 0,
             "ticks": ""
            },
            "type": "contourcarpet"
           }
          ],
          "heatmap": [
           {
            "colorbar": {
             "outlinewidth": 0,
             "ticks": ""
            },
            "colorscale": [
             [
              0,
              "#0d0887"
             ],
             [
              0.1111111111111111,
              "#46039f"
             ],
             [
              0.2222222222222222,
              "#7201a8"
             ],
             [
              0.3333333333333333,
              "#9c179e"
             ],
             [
              0.4444444444444444,
              "#bd3786"
             ],
             [
              0.5555555555555556,
              "#d8576b"
             ],
             [
              0.6666666666666666,
              "#ed7953"
             ],
             [
              0.7777777777777778,
              "#fb9f3a"
             ],
             [
              0.8888888888888888,
              "#fdca26"
             ],
             [
              1,
              "#f0f921"
             ]
            ],
            "type": "heatmap"
           }
          ],
          "histogram": [
           {
            "marker": {
             "pattern": {
              "fillmode": "overlay",
              "size": 10,
              "solidity": 0.2
             }
            },
            "type": "histogram"
           }
          ],
          "histogram2d": [
           {
            "colorbar": {
             "outlinewidth": 0,
             "ticks": ""
            },
            "colorscale": [
             [
              0,
              "#0d0887"
             ],
             [
              0.1111111111111111,
              "#46039f"
             ],
             [
              0.2222222222222222,
              "#7201a8"
             ],
             [
              0.3333333333333333,
              "#9c179e"
             ],
             [
              0.4444444444444444,
              "#bd3786"
             ],
             [
              0.5555555555555556,
              "#d8576b"
             ],
             [
              0.6666666666666666,
              "#ed7953"
             ],
             [
              0.7777777777777778,
              "#fb9f3a"
             ],
             [
              0.8888888888888888,
              "#fdca26"
             ],
             [
              1,
              "#f0f921"
             ]
            ],
            "type": "histogram2d"
           }
          ],
          "histogram2dcontour": [
           {
            "colorbar": {
             "outlinewidth": 0,
             "ticks": ""
            },
            "colorscale": [
             [
              0,
              "#0d0887"
             ],
             [
              0.1111111111111111,
              "#46039f"
             ],
             [
              0.2222222222222222,
              "#7201a8"
             ],
             [
              0.3333333333333333,
              "#9c179e"
             ],
             [
              0.4444444444444444,
              "#bd3786"
             ],
             [
              0.5555555555555556,
              "#d8576b"
             ],
             [
              0.6666666666666666,
              "#ed7953"
             ],
             [
              0.7777777777777778,
              "#fb9f3a"
             ],
             [
              0.8888888888888888,
              "#fdca26"
             ],
             [
              1,
              "#f0f921"
             ]
            ],
            "type": "histogram2dcontour"
           }
          ],
          "mesh3d": [
           {
            "colorbar": {
             "outlinewidth": 0,
             "ticks": ""
            },
            "type": "mesh3d"
           }
          ],
          "parcoords": [
           {
            "line": {
             "colorbar": {
              "outlinewidth": 0,
              "ticks": ""
             }
            },
            "type": "parcoords"
           }
          ],
          "pie": [
           {
            "automargin": true,
            "type": "pie"
           }
          ],
          "scatter": [
           {
            "fillpattern": {
             "fillmode": "overlay",
             "size": 10,
             "solidity": 0.2
            },
            "type": "scatter"
           }
          ],
          "scatter3d": [
           {
            "line": {
             "colorbar": {
              "outlinewidth": 0,
              "ticks": ""
             }
            },
            "marker": {
             "colorbar": {
              "outlinewidth": 0,
              "ticks": ""
             }
            },
            "type": "scatter3d"
           }
          ],
          "scattercarpet": [
           {
            "marker": {
             "colorbar": {
              "outlinewidth": 0,
              "ticks": ""
             }
            },
            "type": "scattercarpet"
           }
          ],
          "scattergeo": [
           {
            "marker": {
             "colorbar": {
              "outlinewidth": 0,
              "ticks": ""
             }
            },
            "type": "scattergeo"
           }
          ],
          "scattergl": [
           {
            "marker": {
             "colorbar": {
              "outlinewidth": 0,
              "ticks": ""
             }
            },
            "type": "scattergl"
           }
          ],
          "scattermap": [
           {
            "marker": {
             "colorbar": {
              "outlinewidth": 0,
              "ticks": ""
             }
            },
            "type": "scattermap"
           }
          ],
          "scattermapbox": [
           {
            "marker": {
             "colorbar": {
              "outlinewidth": 0,
              "ticks": ""
             }
            },
            "type": "scattermapbox"
           }
          ],
          "scatterpolar": [
           {
            "marker": {
             "colorbar": {
              "outlinewidth": 0,
              "ticks": ""
             }
            },
            "type": "scatterpolar"
           }
          ],
          "scatterpolargl": [
           {
            "marker": {
             "colorbar": {
              "outlinewidth": 0,
              "ticks": ""
             }
            },
            "type": "scatterpolargl"
           }
          ],
          "scatterternary": [
           {
            "marker": {
             "colorbar": {
              "outlinewidth": 0,
              "ticks": ""
             }
            },
            "type": "scatterternary"
           }
          ],
          "surface": [
           {
            "colorbar": {
             "outlinewidth": 0,
             "ticks": ""
            },
            "colorscale": [
             [
              0,
              "#0d0887"
             ],
             [
              0.1111111111111111,
              "#46039f"
             ],
             [
              0.2222222222222222,
              "#7201a8"
             ],
             [
              0.3333333333333333,
              "#9c179e"
             ],
             [
              0.4444444444444444,
              "#bd3786"
             ],
             [
              0.5555555555555556,
              "#d8576b"
             ],
             [
              0.6666666666666666,
              "#ed7953"
             ],
             [
              0.7777777777777778,
              "#fb9f3a"
             ],
             [
              0.8888888888888888,
              "#fdca26"
             ],
             [
              1,
              "#f0f921"
             ]
            ],
            "type": "surface"
           }
          ],
          "table": [
           {
            "cells": {
             "fill": {
              "color": "#EBF0F8"
             },
             "line": {
              "color": "white"
             }
            },
            "header": {
             "fill": {
              "color": "#C8D4E3"
             },
             "line": {
              "color": "white"
             }
            },
            "type": "table"
           }
          ]
         },
         "layout": {
          "annotationdefaults": {
           "arrowcolor": "#2a3f5f",
           "arrowhead": 0,
           "arrowwidth": 1
          },
          "autotypenumbers": "strict",
          "coloraxis": {
           "colorbar": {
            "outlinewidth": 0,
            "ticks": ""
           }
          },
          "colorscale": {
           "diverging": [
            [
             0,
             "#8e0152"
            ],
            [
             0.1,
             "#c51b7d"
            ],
            [
             0.2,
             "#de77ae"
            ],
            [
             0.3,
             "#f1b6da"
            ],
            [
             0.4,
             "#fde0ef"
            ],
            [
             0.5,
             "#f7f7f7"
            ],
            [
             0.6,
             "#e6f5d0"
            ],
            [
             0.7,
             "#b8e186"
            ],
            [
             0.8,
             "#7fbc41"
            ],
            [
             0.9,
             "#4d9221"
            ],
            [
             1,
             "#276419"
            ]
           ],
           "sequential": [
            [
             0,
             "#0d0887"
            ],
            [
             0.1111111111111111,
             "#46039f"
            ],
            [
             0.2222222222222222,
             "#7201a8"
            ],
            [
             0.3333333333333333,
             "#9c179e"
            ],
            [
             0.4444444444444444,
             "#bd3786"
            ],
            [
             0.5555555555555556,
             "#d8576b"
            ],
            [
             0.6666666666666666,
             "#ed7953"
            ],
            [
             0.7777777777777778,
             "#fb9f3a"
            ],
            [
             0.8888888888888888,
             "#fdca26"
            ],
            [
             1,
             "#f0f921"
            ]
           ],
           "sequentialminus": [
            [
             0,
             "#0d0887"
            ],
            [
             0.1111111111111111,
             "#46039f"
            ],
            [
             0.2222222222222222,
             "#7201a8"
            ],
            [
             0.3333333333333333,
             "#9c179e"
            ],
            [
             0.4444444444444444,
             "#bd3786"
            ],
            [
             0.5555555555555556,
             "#d8576b"
            ],
            [
             0.6666666666666666,
             "#ed7953"
            ],
            [
             0.7777777777777778,
             "#fb9f3a"
            ],
            [
             0.8888888888888888,
             "#fdca26"
            ],
            [
             1,
             "#f0f921"
            ]
           ]
          },
          "colorway": [
           "#636efa",
           "#EF553B",
           "#00cc96",
           "#ab63fa",
           "#FFA15A",
           "#19d3f3",
           "#FF6692",
           "#B6E880",
           "#FF97FF",
           "#FECB52"
          ],
          "font": {
           "color": "#2a3f5f"
          },
          "geo": {
           "bgcolor": "white",
           "lakecolor": "white",
           "landcolor": "#E5ECF6",
           "showlakes": true,
           "showland": true,
           "subunitcolor": "white"
          },
          "hoverlabel": {
           "align": "left"
          },
          "hovermode": "closest",
          "mapbox": {
           "style": "light"
          },
          "paper_bgcolor": "white",
          "plot_bgcolor": "#E5ECF6",
          "polar": {
           "angularaxis": {
            "gridcolor": "white",
            "linecolor": "white",
            "ticks": ""
           },
           "bgcolor": "#E5ECF6",
           "radialaxis": {
            "gridcolor": "white",
            "linecolor": "white",
            "ticks": ""
           }
          },
          "scene": {
           "xaxis": {
            "backgroundcolor": "#E5ECF6",
            "gridcolor": "white",
            "gridwidth": 2,
            "linecolor": "white",
            "showbackground": true,
            "ticks": "",
            "zerolinecolor": "white"
           },
           "yaxis": {
            "backgroundcolor": "#E5ECF6",
            "gridcolor": "white",
            "gridwidth": 2,
            "linecolor": "white",
            "showbackground": true,
            "ticks": "",
            "zerolinecolor": "white"
           },
           "zaxis": {
            "backgroundcolor": "#E5ECF6",
            "gridcolor": "white",
            "gridwidth": 2,
            "linecolor": "white",
            "showbackground": true,
            "ticks": "",
            "zerolinecolor": "white"
           }
          },
          "shapedefaults": {
           "line": {
            "color": "#2a3f5f"
           }
          },
          "ternary": {
           "aaxis": {
            "gridcolor": "white",
            "linecolor": "white",
            "ticks": ""
           },
           "baxis": {
            "gridcolor": "white",
            "linecolor": "white",
            "ticks": ""
           },
           "bgcolor": "#E5ECF6",
           "caxis": {
            "gridcolor": "white",
            "linecolor": "white",
            "ticks": ""
           }
          },
          "title": {
           "x": 0.05
          },
          "xaxis": {
           "automargin": true,
           "gridcolor": "white",
           "linecolor": "white",
           "ticks": "",
           "title": {
            "standoff": 15
           },
           "zerolinecolor": "white",
           "zerolinewidth": 2
          },
          "yaxis": {
           "automargin": true,
           "gridcolor": "white",
           "linecolor": "white",
           "ticks": "",
           "title": {
            "standoff": 15
           },
           "zerolinecolor": "white",
           "zerolinewidth": 2
          }
         }
        },
        "xaxis": {
         "linecolor": "lightgray",
         "range": [
          -0.5,
          2.5
         ],
         "showgrid": false,
         "tickcolor": "lightgray",
         "tickfont": {
          "color": "black",
          "family": "Times New Roman",
          "size": 26
         },
         "tickmode": "array",
         "ticktext": [
          "P",
          "Q",
          "R"
         ],
         "tickvals": [
          0,
          1,
          2
         ]
        },
        "yaxis": {
         "dtick": 0.1,
         "gridcolor": "lightgray",
         "linecolor": "lightgray",
         "range": [
          0,
          0.9
         ],
         "showgrid": true,
         "tickcolor": "lightgray",
         "tickfont": {
          "color": "black",
          "family": "Times New Roman",
          "size": 25
         },
         "ticks": "outside",
         "title": {
          "font": {
           "color": "black",
           "family": "Times New Roman",
           "size": 25
          }
         }
        }
       }
      }
     },
     "metadata": {},
     "output_type": "display_data"
    }
   ],
   "source": [
    "# Load JSON\n",
    "with open(PREFIX +\"attributions/syn/attribution.json\", \"r\") as f:\n",
    "    data = json.load(f)\n",
    "global_explanations = data['global_explanations']    \n",
    "generate_attr_plot(global_explanations,config)"
   ]
  },
  {
   "cell_type": "code",
   "execution_count": 11,
   "id": "65d7e825",
   "metadata": {},
   "outputs": [
    {
     "name": "stdout",
     "output_type": "stream",
     "text": [
      "{'shap': {'pgi': {'k=1': [0.00820283591747284], 'k=2': [0.0243816077709198], 'k=3': [0.05584235489368439]}, 'pgu': {'k=1': [0.05084645003080368], 'k=2': [0.036981046199798584], 'k=3': [1.410643246657628e-08]}}, 'lime': {'pgi': {'k=1': [0.03696630150079727], 'k=2': [0.040460389107465744], 'k=3': [0.055902350693941116]}, 'pgu': {'k=1': [0.02444577030837536], 'k=2': [0.015607663430273533], 'k=3': [1.410643246657628e-08]}}, 'sp_lime': {'pgi': {'k=1': [0.008191952481865883], 'k=2': [0.04043359309434891], 'k=3': [0.055893540382385254]}, 'pgu': {'k=1': [0.050810545682907104], 'k=2': [0.015613099560141563], 'k=3': [1.410643246657628e-08]}}, 'pfi': {'pgi': {'k=1': [0.03700951859354973], 'k=2': [0.04042484611272812], 'k=3': [0.055911317467689514]}, 'pgu': {'k=1': [0.024393396452069283], 'k=2': [0.015585404820740223], 'k=3': [1.410643246657628e-08]}}, 'ig': {'pgi': {'k=1': [0.015590312890708447], 'k=2': [0.024419108405709267], 'k=3': [0.055896926671266556]}, 'pgu': {'k=1': [0.04048353433609009], 'k=2': [0.03695504367351532], 'k=3': [1.410643246657628e-08]}}, 'sg': {'pgi': {'k=1': [0.015609128400683403], 'k=2': [0.024419518187642097], 'k=3': [0.05583750829100609]}, 'pgu': {'k=1': [0.040444184094667435], 'k=2': [0.03696683421730995], 'k=3': [1.410643246657628e-08]}}, 'itg': {'pgi': {'k=1': [0.03691335394978523], 'k=2': [0.040545929223299026], 'k=3': [0.055862896144390106]}, 'pgu': {'k=1': [0.02438376285135746], 'k=2': [0.015585334971547127], 'k=3': [1.410643246657628e-08]}}, 'icc_topo': {'pgi': {'k=1': [0.036908041685819626], 'k=2': [0.05087164789438248], 'k=3': [0.05584375932812691]}, 'pgu': {'k=1': [0.02440732531249523], 'k=2': [0.008209604769945145], 'k=3': [1.410643246657628e-08]}}, 'icc_shap': {'pgi': {'k=1': [0.03690939396619797], 'k=2': [0.05081458017230034], 'k=3': [0.05584358796477318]}, 'pgu': {'k=1': [0.024436701089143753], 'k=2': [0.008218379691243172], 'k=3': [1.410643246657628e-08]}}}\n"
     ]
    }
   ],
   "source": [
    "ge_dict = data[\"ge_dict\"]\n",
    "evaluation_metrics,evaluation_metrics_per_sample = evaluate_exp(ge_dict,config,mlp_model.to('cpu'))\n",
    "print(evaluation_metrics)\n"
   ]
  },
  {
   "cell_type": "code",
   "execution_count": 12,
   "id": "69dd49d6",
   "metadata": {},
   "outputs": [
    {
     "name": "stdout",
     "output_type": "stream",
     "text": [
      "shap: PGI AUC = 0.02820210188658287 +- 3.9031915729876e-05, PGU AUC = 0.031202139204988877 +- 2.7871654229467406e-05\n",
      "lime: PGI AUC = 0.043447356641292574 +- 4.380799708438205e-05, PGU AUC = 0.013915278320976844 +- 2.9956640466214713e-05\n",
      "sp_lime: PGI AUC = 0.036238169092684985 +- 4.2895265275679185e-05, PGU AUC = 0.020509190280611315 +- 3.345991697232605e-05\n",
      "pfi: PGI AUC = 0.0434426319686075 +- 4.4184797321083684e-05, PGU AUC = 0.013891055805298189 +- 2.9710514444322555e-05\n",
      "ig: PGI AUC = 0.030081364828472335 +- 4.1821093732860285e-05, PGU AUC = 0.028598410855357845 +- 2.8000463763153076e-05\n",
      "sg: PGI AUC = 0.03007141756825149 +- 4.143222274114141e-05, PGU AUC = 0.02859446599831184 +- 2.8131021027048164e-05\n",
      "itg: PGI AUC = 0.04346702910338839 +- 4.4839172586310005e-05, PGU AUC = 0.013888611432630569 +- 2.991858363098976e-05\n",
      "icc_topo: PGI AUC = 0.04862377510095636 +- 4.230141616437587e-05, PGU AUC = 0.010206636927012975 +- 2.5285428056484958e-05\n",
      "icc_shap: PGI AUC = 0.048595535981158414 +- 4.306170875326451e-05, PGU AUC = 0.010218367820295195 +- 2.5284474578538926e-05\n"
     ]
    }
   ],
   "source": [
    "auc_results,auc_show,sum_results,sum_show = aggregate_auc_or_sum(evaluation_metrics_per_sample,config)\n",
    "\n",
    "# Print results nicely\n",
    "for method, vals in auc_show.items():\n",
    "    print(f\"{method}: PGI AUC = {vals['pgi_auc']}, PGU AUC = {vals['pgu_auc']}\")\n"
   ]
  },
  {
   "cell_type": "code",
   "execution_count": 13,
   "id": "0e7113c6",
   "metadata": {},
   "outputs": [
    {
     "name": "stdout",
     "output_type": "stream",
     "text": [
      "shap: PGI SUM = 0.08842679858207703 +- 0.00011286104288096126, PGU SUM0= 0.08782751113176346 +- 7.659825663988258e-05\n",
      "lime: PGI SUM = 0.13332903385162354 +- 0.00012385037188691582, PGU SUM0= 0.04005345329642296 +- 7.822201238732559e-05\n",
      "sp_lime: PGI SUM = 0.1045190840959549 +- 0.00011797956374373816, PGU SUM0= 0.06642366200685501 +- 9.250985582322124e-05\n",
      "pfi: PGI SUM = 0.13334567844867706 +- 0.00012373823035573747, PGU SUM0= 0.039978817105293274 +- 7.757552433535884e-05\n",
      "ig: PGI SUM = 0.09590635448694229 +- 0.00012841786386860518, PGU SUM0= 0.0774386003613472 +- 7.831632333088332e-05\n",
      "sg: PGI SUM = 0.09586615115404129 +- 0.00012807750764853477, PGU SUM0= 0.07741102576255798 +- 7.823041668991954e-05\n",
      "itg: PGI SUM = 0.13332217931747437 +- 0.000126362128170166, PGU SUM0= 0.03996911272406578 +- 7.782551927339096e-05\n",
      "icc_topo: PGI SUM = 0.1436234414577484 +- 0.00012008736042963335, PGU SUM0= 0.03261693939566612 +- 7.16107659483056e-05\n",
      "icc_shap: PGI SUM = 0.14356756210327148 +- 0.00012110735901412085, PGU SUM0= 0.03265509381890297 +- 7.162630609294459e-05\n"
     ]
    }
   ],
   "source": [
    "for method, vals in sum_show.items():\n",
    "    print(f\"{method}: PGI SUM = {vals['pgi_sum']}, PGU SUM0= {vals['pgu_sum']}\")"
   ]
  },
  {
   "cell_type": "code",
   "execution_count": null,
   "id": "6730b8b7",
   "metadata": {},
   "outputs": [],
   "source": [
    "##Misc\n",
    "#WD dimensionwise\n",
    "\n",
    "#Syn\n",
    "P = [0.0709,0.0872,0.0870]\n",
    "Q = [0.0119,0.0636,0.0192]\n",
    "R = [0.0603,0.0481,0.0627] \n",
    "\n",
    "#German\n",
    "gender = [0.0351,0.0460,0.0650]\n",
    "age = [0.0545,0.0594,0.0183]\n",
    "amount = [0.0505,0.0393,0.0707]\n",
    "duration = [0.1791,0.1075,0.2515]\n",
    "\n",
    "#Cancer\n",
    "asia = [0.0443,0.0401,0.0515]\n",
    "tub = [0.0351,0.0419,0.0401]\n",
    "smoke = [0.0251,0.0191,0.0146]\n",
    "lung = [0.0305,0.0313,0.0369]\n",
    "bronc = [0.0499,0.0392,0.0455]\n",
    "either = [0.0286,0.0285,0.0295]\n",
    "xray  = [0.0646,0.0687,0.0633]\n"
   ]
  },
  {
   "cell_type": "markdown",
   "id": "1314c3c3",
   "metadata": {},
   "source": [
    "## Test"
   ]
  },
  {
   "cell_type": "code",
   "execution_count": 2,
   "id": "9cdf7d7f",
   "metadata": {},
   "outputs": [
    {
     "name": "stdout",
     "output_type": "stream",
     "text": [
      "Max Iterations:  100\n",
      "Starting Iteration:  1\n",
      "Max Iterations:  100\n",
      "Starting Iteration:  1\n",
      "Max Iterations:  100\n",
      "Starting Iteration:  1\n",
      "Max Iterations:  100\n",
      "Starting Iteration:  1\n",
      "Max Iterations:  100\n",
      "Starting Iteration:  1\n"
     ]
    }
   ],
   "source": [
    "config = CONFIG['syn']\n",
    "mlp_path = '/home/dhruv/Files/Thesis/Dissertation/Code/models/syn_ann/syn_ann_seed_10/logs/version_0/checkpoints/epoch=161-step=5184.ckpt'\n",
    "scm_path = '/home/dhruv/Files/Thesis/Dissertation/Code/models/syn_nf/syn_nf_seed_10/logs/version_0/checkpoints/epoch=19-step=640.ckpt'\n",
    "mlp_model = MLPLightning.load_from_checkpoint(mlp_path,model = MLP(config['num_features'],config['hidden_layers_ann'],classification=False))\n",
    "scm_model = CausalNF.load_from_checkpoint(scm_path,flow = flow(config['num_features'],config['gd_adjacency'],config['hidden_layers_flow']))\n",
    "ge_dict, evaluation_metrics, time_dict, global_explanations = generate_global_exps(config,mlp_model,scm_model)"
   ]
  },
  {
   "cell_type": "code",
   "execution_count": 3,
   "id": "d8d7c267",
   "metadata": {},
   "outputs": [
    {
     "data": {
      "text/plain": [
       "{'ig': {'W': [0.008685602410414437],\n",
       "  'Z': [0.5541948194138167],\n",
       "  'X': [0.4371195781757688]},\n",
       " 'itg': {'W': [0.008485306748260027],\n",
       "  'Z': [0.497316907775009],\n",
       "  'X': [0.49419778547673104]},\n",
       " 'sg': {'W': [0.13136424456458626],\n",
       "  'Z': [0.3860659244300918],\n",
       "  'X': [0.48256983100532197]},\n",
       " 'shap': {'W': [0.5803365821763931],\n",
       "  'Z': [0.3543153621348831],\n",
       "  'X': [0.06534805568872387]},\n",
       " 'lime': {'W': [0.2837432524861816],\n",
       "  'Z': [0.293367905107146],\n",
       "  'X': [0.4228888424066725]},\n",
       " 'sp_lime': {'X': [0.41602805243460733],\n",
       "  'W': [0.2947343644233361],\n",
       "  'Z': [0.2892375831420565]},\n",
       " 'pfi': {'W': [0.2555289566516876],\n",
       "  'Z': [0.2728649377822876],\n",
       "  'X': [0.47160604596138]},\n",
       " 'icc_topo': {'W': [0.07992755621671677],\n",
       "  'Z': [0.6083893179893494],\n",
       "  'X': [0.31013962626457214]},\n",
       " 'icc_shap': {'W': [0.1287594437599182],\n",
       "  'Z': [0.6630550622940063],\n",
       "  'X': [0.20664207637310028]}}"
      ]
     },
     "execution_count": 3,
     "metadata": {},
     "output_type": "execute_result"
    }
   ],
   "source": [
    "ge_dict"
   ]
  },
  {
   "cell_type": "code",
   "execution_count": 9,
   "id": "0d220fd6",
   "metadata": {},
   "outputs": [
    {
     "data": {
      "application/vnd.plotly.v1+json": {
       "config": {
        "plotlyServerURL": "https://plot.ly"
       },
       "data": [
        {
         "marker": {
          "color": "#E69F00",
          "line": {
           "width": 0.05
          }
         },
         "name": "IG",
         "type": "bar",
         "width": 0.06,
         "x": [
          "W",
          "Z",
          "X"
         ],
         "y": {
          "bdata": "X+tj0sHJgT/I1h/G9rvhPxMzLWXE+ds/",
          "dtype": "f8"
         }
        },
        {
         "marker": {
          "color": "#56B4E9",
          "line": {
           "width": 0.05
          }
         },
         "name": "IxG",
         "type": "bar",
         "width": 0.06,
         "x": [
          "W",
          "Z",
          "X"
         ],
         "y": {
          "bdata": "G6rXl75ggT+HDqlLCtTfPyk0mL/voN8/",
          "dtype": "f8"
         }
        },
        {
         "marker": {
          "color": "#009E73",
          "line": {
           "width": 0.05
          }
         },
         "name": "SG",
         "type": "bar",
         "width": 0.06,
         "x": [
          "W",
          "Z",
          "X"
         ],
         "y": {
          "bdata": "62IiJ4vQwD9+vuHZTbXYPw0QjZJs4t4/",
          "dtype": "f8"
         }
        },
        {
         "marker": {
          "color": "#F5C710",
          "line": {
           "width": 0.05
          }
         },
         "name": "SHAP",
         "type": "bar",
         "width": 0.06,
         "x": [
          "W",
          "Z",
          "X"
         ],
         "y": {
          "bdata": "PtcjBh6S4j/4vTVXGq3WPzROCnKmurA/",
          "dtype": "f8"
         }
        },
        {
         "marker": {
          "color": "#0072B2",
          "line": {
           "width": 0.05
          }
         },
         "name": "LIME",
         "type": "bar",
         "width": 0.06,
         "x": [
          "W",
          "Z",
          "X"
         ],
         "y": {
          "bdata": "cOJ4ddko0j/3ZYgtisbSP5u3/lycENs/",
          "dtype": "f8"
         }
        },
        {
         "marker": {
          "color": "#999999",
          "line": {
           "width": 0.05
          }
         },
         "name": "SP LIME",
         "type": "bar",
         "width": 0.06,
         "x": [
          "W",
          "Z",
          "X"
         ],
         "y": {
          "bdata": "IigNhu3c0j8yoRda3oLSP6s22x80oNo/",
          "dtype": "f8"
         }
        },
        {
         "marker": {
          "color": "#000000",
          "line": {
           "width": 0.05
          }
         },
         "name": "PFI",
         "type": "bar",
         "width": 0.06,
         "x": [
          "W",
          "Z",
          "X"
         ],
         "y": {
          "bdata": "AAAAIJZa0D8AAACAnnbRPwAAACDLLt4/",
          "dtype": "f8"
         }
        },
        {
         "marker": {
          "color": "#D55E00",
          "line": {
           "width": 0.05
          }
         },
         "name": "ICC TOPO",
         "type": "bar",
         "width": 0.06,
         "x": [
          "W",
          "Z",
          "X"
         ],
         "y": {
          "bdata": "AAAA4CF2tD8AAADg7HfjPwAAAOBT2dM/",
          "dtype": "f8"
         }
        },
        {
         "marker": {
          "color": "#CC79A7",
          "line": {
           "width": 0.05
          }
         },
         "name": "ICC SHAP",
         "type": "bar",
         "width": 0.06,
         "x": [
          "W",
          "Z",
          "X"
         ],
         "y": {
          "bdata": "AAAAgDB7wD8AAABAvzflPwAAAGA/c8o/",
          "dtype": "f8"
         }
        }
       ],
       "layout": {
        "bargap": 0.45,
        "bargroupgap": 1,
        "barmode": "group",
        "font": {
         "size": 14
        },
        "legend": {
         "font": {
          "color": "black",
          "family": "Times New Roman",
          "size": 25
         },
         "title": {
          "font": {
           "color": "black",
           "family": "Times New Roman",
           "size": 25
          },
          "text": "Method"
         }
        },
        "plot_bgcolor": "rgba(0,0,0,0)",
        "showlegend": true,
        "template": {
         "data": {
          "bar": [
           {
            "error_x": {
             "color": "#2a3f5f"
            },
            "error_y": {
             "color": "#2a3f5f"
            },
            "marker": {
             "line": {
              "color": "#E5ECF6",
              "width": 0.5
             },
             "pattern": {
              "fillmode": "overlay",
              "size": 10,
              "solidity": 0.2
             }
            },
            "type": "bar"
           }
          ],
          "barpolar": [
           {
            "marker": {
             "line": {
              "color": "#E5ECF6",
              "width": 0.5
             },
             "pattern": {
              "fillmode": "overlay",
              "size": 10,
              "solidity": 0.2
             }
            },
            "type": "barpolar"
           }
          ],
          "carpet": [
           {
            "aaxis": {
             "endlinecolor": "#2a3f5f",
             "gridcolor": "white",
             "linecolor": "white",
             "minorgridcolor": "white",
             "startlinecolor": "#2a3f5f"
            },
            "baxis": {
             "endlinecolor": "#2a3f5f",
             "gridcolor": "white",
             "linecolor": "white",
             "minorgridcolor": "white",
             "startlinecolor": "#2a3f5f"
            },
            "type": "carpet"
           }
          ],
          "choropleth": [
           {
            "colorbar": {
             "outlinewidth": 0,
             "ticks": ""
            },
            "type": "choropleth"
           }
          ],
          "contour": [
           {
            "colorbar": {
             "outlinewidth": 0,
             "ticks": ""
            },
            "colorscale": [
             [
              0,
              "#0d0887"
             ],
             [
              0.1111111111111111,
              "#46039f"
             ],
             [
              0.2222222222222222,
              "#7201a8"
             ],
             [
              0.3333333333333333,
              "#9c179e"
             ],
             [
              0.4444444444444444,
              "#bd3786"
             ],
             [
              0.5555555555555556,
              "#d8576b"
             ],
             [
              0.6666666666666666,
              "#ed7953"
             ],
             [
              0.7777777777777778,
              "#fb9f3a"
             ],
             [
              0.8888888888888888,
              "#fdca26"
             ],
             [
              1,
              "#f0f921"
             ]
            ],
            "type": "contour"
           }
          ],
          "contourcarpet": [
           {
            "colorbar": {
             "outlinewidth": 0,
             "ticks": ""
            },
            "type": "contourcarpet"
           }
          ],
          "heatmap": [
           {
            "colorbar": {
             "outlinewidth": 0,
             "ticks": ""
            },
            "colorscale": [
             [
              0,
              "#0d0887"
             ],
             [
              0.1111111111111111,
              "#46039f"
             ],
             [
              0.2222222222222222,
              "#7201a8"
             ],
             [
              0.3333333333333333,
              "#9c179e"
             ],
             [
              0.4444444444444444,
              "#bd3786"
             ],
             [
              0.5555555555555556,
              "#d8576b"
             ],
             [
              0.6666666666666666,
              "#ed7953"
             ],
             [
              0.7777777777777778,
              "#fb9f3a"
             ],
             [
              0.8888888888888888,
              "#fdca26"
             ],
             [
              1,
              "#f0f921"
             ]
            ],
            "type": "heatmap"
           }
          ],
          "histogram": [
           {
            "marker": {
             "pattern": {
              "fillmode": "overlay",
              "size": 10,
              "solidity": 0.2
             }
            },
            "type": "histogram"
           }
          ],
          "histogram2d": [
           {
            "colorbar": {
             "outlinewidth": 0,
             "ticks": ""
            },
            "colorscale": [
             [
              0,
              "#0d0887"
             ],
             [
              0.1111111111111111,
              "#46039f"
             ],
             [
              0.2222222222222222,
              "#7201a8"
             ],
             [
              0.3333333333333333,
              "#9c179e"
             ],
             [
              0.4444444444444444,
              "#bd3786"
             ],
             [
              0.5555555555555556,
              "#d8576b"
             ],
             [
              0.6666666666666666,
              "#ed7953"
             ],
             [
              0.7777777777777778,
              "#fb9f3a"
             ],
             [
              0.8888888888888888,
              "#fdca26"
             ],
             [
              1,
              "#f0f921"
             ]
            ],
            "type": "histogram2d"
           }
          ],
          "histogram2dcontour": [
           {
            "colorbar": {
             "outlinewidth": 0,
             "ticks": ""
            },
            "colorscale": [
             [
              0,
              "#0d0887"
             ],
             [
              0.1111111111111111,
              "#46039f"
             ],
             [
              0.2222222222222222,
              "#7201a8"
             ],
             [
              0.3333333333333333,
              "#9c179e"
             ],
             [
              0.4444444444444444,
              "#bd3786"
             ],
             [
              0.5555555555555556,
              "#d8576b"
             ],
             [
              0.6666666666666666,
              "#ed7953"
             ],
             [
              0.7777777777777778,
              "#fb9f3a"
             ],
             [
              0.8888888888888888,
              "#fdca26"
             ],
             [
              1,
              "#f0f921"
             ]
            ],
            "type": "histogram2dcontour"
           }
          ],
          "mesh3d": [
           {
            "colorbar": {
             "outlinewidth": 0,
             "ticks": ""
            },
            "type": "mesh3d"
           }
          ],
          "parcoords": [
           {
            "line": {
             "colorbar": {
              "outlinewidth": 0,
              "ticks": ""
             }
            },
            "type": "parcoords"
           }
          ],
          "pie": [
           {
            "automargin": true,
            "type": "pie"
           }
          ],
          "scatter": [
           {
            "fillpattern": {
             "fillmode": "overlay",
             "size": 10,
             "solidity": 0.2
            },
            "type": "scatter"
           }
          ],
          "scatter3d": [
           {
            "line": {
             "colorbar": {
              "outlinewidth": 0,
              "ticks": ""
             }
            },
            "marker": {
             "colorbar": {
              "outlinewidth": 0,
              "ticks": ""
             }
            },
            "type": "scatter3d"
           }
          ],
          "scattercarpet": [
           {
            "marker": {
             "colorbar": {
              "outlinewidth": 0,
              "ticks": ""
             }
            },
            "type": "scattercarpet"
           }
          ],
          "scattergeo": [
           {
            "marker": {
             "colorbar": {
              "outlinewidth": 0,
              "ticks": ""
             }
            },
            "type": "scattergeo"
           }
          ],
          "scattergl": [
           {
            "marker": {
             "colorbar": {
              "outlinewidth": 0,
              "ticks": ""
             }
            },
            "type": "scattergl"
           }
          ],
          "scattermap": [
           {
            "marker": {
             "colorbar": {
              "outlinewidth": 0,
              "ticks": ""
             }
            },
            "type": "scattermap"
           }
          ],
          "scattermapbox": [
           {
            "marker": {
             "colorbar": {
              "outlinewidth": 0,
              "ticks": ""
             }
            },
            "type": "scattermapbox"
           }
          ],
          "scatterpolar": [
           {
            "marker": {
             "colorbar": {
              "outlinewidth": 0,
              "ticks": ""
             }
            },
            "type": "scatterpolar"
           }
          ],
          "scatterpolargl": [
           {
            "marker": {
             "colorbar": {
              "outlinewidth": 0,
              "ticks": ""
             }
            },
            "type": "scatterpolargl"
           }
          ],
          "scatterternary": [
           {
            "marker": {
             "colorbar": {
              "outlinewidth": 0,
              "ticks": ""
             }
            },
            "type": "scatterternary"
           }
          ],
          "surface": [
           {
            "colorbar": {
             "outlinewidth": 0,
             "ticks": ""
            },
            "colorscale": [
             [
              0,
              "#0d0887"
             ],
             [
              0.1111111111111111,
              "#46039f"
             ],
             [
              0.2222222222222222,
              "#7201a8"
             ],
             [
              0.3333333333333333,
              "#9c179e"
             ],
             [
              0.4444444444444444,
              "#bd3786"
             ],
             [
              0.5555555555555556,
              "#d8576b"
             ],
             [
              0.6666666666666666,
              "#ed7953"
             ],
             [
              0.7777777777777778,
              "#fb9f3a"
             ],
             [
              0.8888888888888888,
              "#fdca26"
             ],
             [
              1,
              "#f0f921"
             ]
            ],
            "type": "surface"
           }
          ],
          "table": [
           {
            "cells": {
             "fill": {
              "color": "#EBF0F8"
             },
             "line": {
              "color": "white"
             }
            },
            "header": {
             "fill": {
              "color": "#C8D4E3"
             },
             "line": {
              "color": "white"
             }
            },
            "type": "table"
           }
          ]
         },
         "layout": {
          "annotationdefaults": {
           "arrowcolor": "#2a3f5f",
           "arrowhead": 0,
           "arrowwidth": 1
          },
          "autotypenumbers": "strict",
          "coloraxis": {
           "colorbar": {
            "outlinewidth": 0,
            "ticks": ""
           }
          },
          "colorscale": {
           "diverging": [
            [
             0,
             "#8e0152"
            ],
            [
             0.1,
             "#c51b7d"
            ],
            [
             0.2,
             "#de77ae"
            ],
            [
             0.3,
             "#f1b6da"
            ],
            [
             0.4,
             "#fde0ef"
            ],
            [
             0.5,
             "#f7f7f7"
            ],
            [
             0.6,
             "#e6f5d0"
            ],
            [
             0.7,
             "#b8e186"
            ],
            [
             0.8,
             "#7fbc41"
            ],
            [
             0.9,
             "#4d9221"
            ],
            [
             1,
             "#276419"
            ]
           ],
           "sequential": [
            [
             0,
             "#0d0887"
            ],
            [
             0.1111111111111111,
             "#46039f"
            ],
            [
             0.2222222222222222,
             "#7201a8"
            ],
            [
             0.3333333333333333,
             "#9c179e"
            ],
            [
             0.4444444444444444,
             "#bd3786"
            ],
            [
             0.5555555555555556,
             "#d8576b"
            ],
            [
             0.6666666666666666,
             "#ed7953"
            ],
            [
             0.7777777777777778,
             "#fb9f3a"
            ],
            [
             0.8888888888888888,
             "#fdca26"
            ],
            [
             1,
             "#f0f921"
            ]
           ],
           "sequentialminus": [
            [
             0,
             "#0d0887"
            ],
            [
             0.1111111111111111,
             "#46039f"
            ],
            [
             0.2222222222222222,
             "#7201a8"
            ],
            [
             0.3333333333333333,
             "#9c179e"
            ],
            [
             0.4444444444444444,
             "#bd3786"
            ],
            [
             0.5555555555555556,
             "#d8576b"
            ],
            [
             0.6666666666666666,
             "#ed7953"
            ],
            [
             0.7777777777777778,
             "#fb9f3a"
            ],
            [
             0.8888888888888888,
             "#fdca26"
            ],
            [
             1,
             "#f0f921"
            ]
           ]
          },
          "colorway": [
           "#636efa",
           "#EF553B",
           "#00cc96",
           "#ab63fa",
           "#FFA15A",
           "#19d3f3",
           "#FF6692",
           "#B6E880",
           "#FF97FF",
           "#FECB52"
          ],
          "font": {
           "color": "#2a3f5f"
          },
          "geo": {
           "bgcolor": "white",
           "lakecolor": "white",
           "landcolor": "#E5ECF6",
           "showlakes": true,
           "showland": true,
           "subunitcolor": "white"
          },
          "hoverlabel": {
           "align": "left"
          },
          "hovermode": "closest",
          "mapbox": {
           "style": "light"
          },
          "paper_bgcolor": "white",
          "plot_bgcolor": "#E5ECF6",
          "polar": {
           "angularaxis": {
            "gridcolor": "white",
            "linecolor": "white",
            "ticks": ""
           },
           "bgcolor": "#E5ECF6",
           "radialaxis": {
            "gridcolor": "white",
            "linecolor": "white",
            "ticks": ""
           }
          },
          "scene": {
           "xaxis": {
            "backgroundcolor": "#E5ECF6",
            "gridcolor": "white",
            "gridwidth": 2,
            "linecolor": "white",
            "showbackground": true,
            "ticks": "",
            "zerolinecolor": "white"
           },
           "yaxis": {
            "backgroundcolor": "#E5ECF6",
            "gridcolor": "white",
            "gridwidth": 2,
            "linecolor": "white",
            "showbackground": true,
            "ticks": "",
            "zerolinecolor": "white"
           },
           "zaxis": {
            "backgroundcolor": "#E5ECF6",
            "gridcolor": "white",
            "gridwidth": 2,
            "linecolor": "white",
            "showbackground": true,
            "ticks": "",
            "zerolinecolor": "white"
           }
          },
          "shapedefaults": {
           "line": {
            "color": "#2a3f5f"
           }
          },
          "ternary": {
           "aaxis": {
            "gridcolor": "white",
            "linecolor": "white",
            "ticks": ""
           },
           "baxis": {
            "gridcolor": "white",
            "linecolor": "white",
            "ticks": ""
           },
           "bgcolor": "#E5ECF6",
           "caxis": {
            "gridcolor": "white",
            "linecolor": "white",
            "ticks": ""
           }
          },
          "title": {
           "x": 0.05
          },
          "xaxis": {
           "automargin": true,
           "gridcolor": "white",
           "linecolor": "white",
           "ticks": "",
           "title": {
            "standoff": 15
           },
           "zerolinecolor": "white",
           "zerolinewidth": 2
          },
          "yaxis": {
           "automargin": true,
           "gridcolor": "white",
           "linecolor": "white",
           "ticks": "",
           "title": {
            "standoff": 15
           },
           "zerolinecolor": "white",
           "zerolinewidth": 2
          }
         }
        },
        "xaxis": {
         "linecolor": "lightgray",
         "range": [
          -0.5,
          2.5
         ],
         "showgrid": false,
         "tickcolor": "lightgray",
         "tickfont": {
          "color": "black",
          "family": "Times New Roman",
          "size": 26
         },
         "tickmode": "array",
         "ticktext": [
          "W",
          "Z",
          "X"
         ],
         "tickvals": [
          0,
          1,
          2
         ]
        },
        "yaxis": {
         "dtick": 0.1,
         "gridcolor": "lightgray",
         "linecolor": "lightgray",
         "range": [
          0,
          0.9
         ],
         "showgrid": true,
         "tickcolor": "lightgray",
         "tickfont": {
          "color": "black",
          "family": "Times New Roman",
          "size": 25
         },
         "ticks": "outside",
         "title": {
          "font": {
           "color": "black",
           "family": "Times New Roman",
           "size": 25
          },
          "text": "Attributions"
         }
        }
       }
      }
     },
     "metadata": {},
     "output_type": "display_data"
    }
   ],
   "source": [
    "generate_attr_plot(global_explanations,config)"
   ]
  },
  {
   "cell_type": "code",
   "execution_count": 7,
   "id": "3964b8ca",
   "metadata": {},
   "outputs": [
    {
     "name": "stdout",
     "output_type": "stream",
     "text": [
      "ig: PGU Sum = 0.128419, PGI Sum = 0.000436\n",
      "itg: PGU Sum = 0.128419, PGI Sum = 0.000436\n",
      "sg: PGU Sum = 0.128418, PGI Sum = 0.000437\n",
      "shap: PGU Sum = 0.128420, PGI Sum = 0.000435\n",
      "lime: PGU Sum = 0.128418, PGI Sum = 0.000437\n",
      "sp_lime: PGU Sum = 0.128420, PGI Sum = 0.000435\n",
      "pfi: PGU Sum = 0.128418, PGI Sum = 0.000437\n",
      "icc_topo: PGU Sum = 0.128419, PGI Sum = 0.000436\n",
      "icc_shap: PGU Sum = 0.128419, PGI Sum = 0.000436\n"
     ]
    }
   ],
   "source": [
    "# Load JSON\n",
    "with open(\"/home/dhruv/Files/Thesis/Dissertation/Code/attributions/syn/attribution.json\", \"r\") as f:\n",
    "    data = json.load(f)\n",
    "\n",
    "# Call the function\n",
    "summary = compute_pgu_pgi_sums(data[\"evaluation_metrics\"])\n",
    "\n",
    "# Display the results\n",
    "for method, scores in summary.items():\n",
    "    print(f\"{method}: PGU Sum = {scores['pgu_sum']:.6f}, PGI Sum = {scores['pgi_sum']:.6f}\")\n"
   ]
  }
 ],
 "metadata": {
  "kernelspec": {
   "display_name": "Dhruv",
   "language": "python",
   "name": "python3"
  },
  "language_info": {
   "codemirror_mode": {
    "name": "ipython",
    "version": 3
   },
   "file_extension": ".py",
   "mimetype": "text/x-python",
   "name": "python",
   "nbconvert_exporter": "python",
   "pygments_lexer": "ipython3",
   "version": "3.12.2"
  }
 },
 "nbformat": 4,
 "nbformat_minor": 5
}
