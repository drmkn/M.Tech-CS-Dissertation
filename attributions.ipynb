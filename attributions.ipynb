{
 "cells": [
  {
   "cell_type": "code",
   "execution_count": 5,
   "id": "470b0957",
   "metadata": {},
   "outputs": [
    {
     "name": "stdout",
     "output_type": "stream",
     "text": [
      "The autoreload extension is already loaded. To reload it, use:\n",
      "  %reload_ext autoreload\n"
     ]
    }
   ],
   "source": [
    "%reset -f\n",
    "%load_ext autoreload\n",
    "%autoreload 2\n",
    "# import sys\n",
    "# sys.path.append('/home/saptarshi/Dhruv/Dissertation/ICC/')\n",
    "from generate_attributions import *\n",
    "from utils import CONFIG,compute_pgu_pgi_sums,evaluate_exp,PREFIX,compute_auc,compute_pgu_pgi_sums"
   ]
  },
  {
   "cell_type": "markdown",
   "id": "8aa845c1",
   "metadata": {},
   "source": [
    "## German Credit Dataset"
   ]
  },
  {
   "cell_type": "code",
   "execution_count": 6,
   "id": "c2e8843d",
   "metadata": {},
   "outputs": [],
   "source": [
    "config = CONFIG['german']\n",
    "mlp_path = PREFIX + 'models/german_mlp/german_mlp_seed_10/logs/version_1/checkpoints/epoch=62-step=819.ckpt'\n",
    "scm_path = PREFIX + 'models/german_nf/german_nf_seed_20/logs/version_0/checkpoints/epoch=509-step=6630.ckpt'\n",
    "mlp_model = MLPLightning.load_from_checkpoint(mlp_path,model = MLP(config['num_features'],config['hidden_layers_mlp'],classification=config['classification']))\n",
    "scm_model = CausalNF.load_from_checkpoint(scm_path,flow = flow(config['num_features'],config['gd_adjacency'],config['hidden_layers_flow']))"
   ]
  },
  {
   "cell_type": "code",
   "execution_count": null,
   "id": "2f3cbfff",
   "metadata": {},
   "outputs": [
    {
     "name": "stdout",
     "output_type": "stream",
     "text": [
      "Max Iterations:  100\n",
      "Starting Iteration:  1\n",
      "Max Iterations:  100\n",
      "Starting Iteration:  1\n",
      "Max Iterations:  100\n",
      "Starting Iteration:  1\n",
      "Max Iterations:  100\n",
      "Starting Iteration:  1\n",
      "Max Iterations:  100\n",
      "Starting Iteration:  1\n"
     ]
    }
   ],
   "source": [
    "##generate attributions\n",
    "ge_dict, time_dict, global_explanations = generate_global_exps(config,mlp_model.to('cpu'),scm_model.to('cpu'))"
   ]
  },
  {
   "cell_type": "code",
   "execution_count": 9,
   "id": "a7a49264",
   "metadata": {},
   "outputs": [
    {
     "data": {
      "application/vnd.plotly.v1+json": {
       "config": {
        "plotlyServerURL": "https://plot.ly"
       },
       "data": [
        {
         "marker": {
          "color": "#E69F00",
          "line": {
           "width": 0.05
          }
         },
         "name": "IG",
         "type": "bar",
         "width": 0.06,
         "x": [
          "gender",
          "age",
          "credit amount",
          "repayment duration"
         ],
         "y": {
          "bdata": "SuWSZab2wj9tJeMbWWfLPzCbKPDfTc0/DK0wRxAq2j8=",
          "dtype": "f8"
         }
        },
        {
         "marker": {
          "color": "#56B4E9",
          "line": {
           "width": 0.05
          }
         },
         "name": "IxG",
         "type": "bar",
         "width": 0.06,
         "x": [
          "gender",
          "age",
          "credit amount",
          "repayment duration"
         ],
         "y": {
          "bdata": "TouObFX92D/E0hLV4CLbP2CS7K9M6cY/IzAWmtnIej8=",
          "dtype": "f8"
         }
        },
        {
         "marker": {
          "color": "#009E73",
          "line": {
           "width": 0.05
          }
         },
         "name": "SG",
         "type": "bar",
         "width": 0.06,
         "x": [
          "gender",
          "age",
          "credit amount",
          "repayment duration"
         ],
         "y": {
          "bdata": "3O/RfI6kzj9Lrkd6lNDRPxtfep+6pq0/4w1g80wo2z8=",
          "dtype": "f8"
         }
        },
        {
         "marker": {
          "color": "#F5C710",
          "line": {
           "width": 0.05
          }
         },
         "name": "SHAP",
         "type": "bar",
         "width": 0.06,
         "x": [
          "gender",
          "age",
          "credit amount",
          "repayment duration"
         ],
         "y": {
          "bdata": "ePopeyoT1D+s3l3r+VXRPxobECYfEJU/LSUXp9lF2T8=",
          "dtype": "f8"
         }
        },
        {
         "marker": {
          "color": "#0072B2",
          "line": {
           "width": 0.05
          }
         },
         "name": "LIME",
         "type": "bar",
         "width": 0.06,
         "x": [
          "gender",
          "age",
          "credit amount",
          "repayment duration"
         ],
         "y": {
          "bdata": "dh/7EJcb0D/vzoySFjnSP82k8ZkJR44/dYSoDxq53D8=",
          "dtype": "f8"
         }
        },
        {
         "marker": {
          "color": "#999999",
          "line": {
           "width": 0.05
          }
         },
         "name": "SP LIME",
         "type": "bar",
         "width": 0.06,
         "x": [
          "gender",
          "age",
          "credit amount",
          "repayment duration"
         ],
         "y": {
          "bdata": "7bAee9kpzD/Tdt4sbqbNP36e+/JbaZ4/HNloNqOY4D8=",
          "dtype": "f8"
         }
        },
        {
         "marker": {
          "color": "#000000",
          "line": {
           "width": 0.05
          }
         },
         "name": "PFI",
         "type": "bar",
         "width": 0.06,
         "x": [
          "gender",
          "age",
          "credit amount",
          "repayment duration"
         ],
         "y": {
          "bdata": "AAAAAOOKzT8AAABAherNPwAAAKDL8Mk/AAAAwOVM1T8=",
          "dtype": "f8"
         }
        },
        {
         "marker": {
          "color": "#D55E00",
          "line": {
           "width": 0.05
          }
         },
         "name": "ICC TOPO",
         "type": "bar",
         "width": 0.06,
         "x": [
          "gender",
          "age",
          "credit amount",
          "repayment duration"
         ],
         "y": {
          "bdata": "AAAAwNlQ1D8AAAAAKe/DPwAAACADBro/AAAAABE22z8=",
          "dtype": "f8"
         }
        },
        {
         "marker": {
          "color": "#CC79A7",
          "line": {
           "width": 0.05
          }
         },
         "name": "ICC SHAP",
         "type": "bar",
         "width": 0.06,
         "x": [
          "gender",
          "age",
          "credit amount",
          "repayment duration"
         ],
         "y": {
          "bdata": "AAAAADqY1T8AAADgsJHGPwAAAADEMbk/AAAAwHzS2D8=",
          "dtype": "f8"
         }
        }
       ],
       "layout": {
        "bargap": 0.45,
        "bargroupgap": 1,
        "barmode": "group",
        "font": {
         "size": 14
        },
        "legend": {
         "font": {
          "color": "black",
          "family": "Times New Roman",
          "size": 25
         },
         "title": {
          "font": {
           "color": "black",
           "family": "Times New Roman",
           "size": 25
          },
          "text": "Method"
         }
        },
        "plot_bgcolor": "rgba(0,0,0,0)",
        "showlegend": true,
        "template": {
         "data": {
          "bar": [
           {
            "error_x": {
             "color": "#2a3f5f"
            },
            "error_y": {
             "color": "#2a3f5f"
            },
            "marker": {
             "line": {
              "color": "#E5ECF6",
              "width": 0.5
             },
             "pattern": {
              "fillmode": "overlay",
              "size": 10,
              "solidity": 0.2
             }
            },
            "type": "bar"
           }
          ],
          "barpolar": [
           {
            "marker": {
             "line": {
              "color": "#E5ECF6",
              "width": 0.5
             },
             "pattern": {
              "fillmode": "overlay",
              "size": 10,
              "solidity": 0.2
             }
            },
            "type": "barpolar"
           }
          ],
          "carpet": [
           {
            "aaxis": {
             "endlinecolor": "#2a3f5f",
             "gridcolor": "white",
             "linecolor": "white",
             "minorgridcolor": "white",
             "startlinecolor": "#2a3f5f"
            },
            "baxis": {
             "endlinecolor": "#2a3f5f",
             "gridcolor": "white",
             "linecolor": "white",
             "minorgridcolor": "white",
             "startlinecolor": "#2a3f5f"
            },
            "type": "carpet"
           }
          ],
          "choropleth": [
           {
            "colorbar": {
             "outlinewidth": 0,
             "ticks": ""
            },
            "type": "choropleth"
           }
          ],
          "contour": [
           {
            "colorbar": {
             "outlinewidth": 0,
             "ticks": ""
            },
            "colorscale": [
             [
              0,
              "#0d0887"
             ],
             [
              0.1111111111111111,
              "#46039f"
             ],
             [
              0.2222222222222222,
              "#7201a8"
             ],
             [
              0.3333333333333333,
              "#9c179e"
             ],
             [
              0.4444444444444444,
              "#bd3786"
             ],
             [
              0.5555555555555556,
              "#d8576b"
             ],
             [
              0.6666666666666666,
              "#ed7953"
             ],
             [
              0.7777777777777778,
              "#fb9f3a"
             ],
             [
              0.8888888888888888,
              "#fdca26"
             ],
             [
              1,
              "#f0f921"
             ]
            ],
            "type": "contour"
           }
          ],
          "contourcarpet": [
           {
            "colorbar": {
             "outlinewidth": 0,
             "ticks": ""
            },
            "type": "contourcarpet"
           }
          ],
          "heatmap": [
           {
            "colorbar": {
             "outlinewidth": 0,
             "ticks": ""
            },
            "colorscale": [
             [
              0,
              "#0d0887"
             ],
             [
              0.1111111111111111,
              "#46039f"
             ],
             [
              0.2222222222222222,
              "#7201a8"
             ],
             [
              0.3333333333333333,
              "#9c179e"
             ],
             [
              0.4444444444444444,
              "#bd3786"
             ],
             [
              0.5555555555555556,
              "#d8576b"
             ],
             [
              0.6666666666666666,
              "#ed7953"
             ],
             [
              0.7777777777777778,
              "#fb9f3a"
             ],
             [
              0.8888888888888888,
              "#fdca26"
             ],
             [
              1,
              "#f0f921"
             ]
            ],
            "type": "heatmap"
           }
          ],
          "histogram": [
           {
            "marker": {
             "pattern": {
              "fillmode": "overlay",
              "size": 10,
              "solidity": 0.2
             }
            },
            "type": "histogram"
           }
          ],
          "histogram2d": [
           {
            "colorbar": {
             "outlinewidth": 0,
             "ticks": ""
            },
            "colorscale": [
             [
              0,
              "#0d0887"
             ],
             [
              0.1111111111111111,
              "#46039f"
             ],
             [
              0.2222222222222222,
              "#7201a8"
             ],
             [
              0.3333333333333333,
              "#9c179e"
             ],
             [
              0.4444444444444444,
              "#bd3786"
             ],
             [
              0.5555555555555556,
              "#d8576b"
             ],
             [
              0.6666666666666666,
              "#ed7953"
             ],
             [
              0.7777777777777778,
              "#fb9f3a"
             ],
             [
              0.8888888888888888,
              "#fdca26"
             ],
             [
              1,
              "#f0f921"
             ]
            ],
            "type": "histogram2d"
           }
          ],
          "histogram2dcontour": [
           {
            "colorbar": {
             "outlinewidth": 0,
             "ticks": ""
            },
            "colorscale": [
             [
              0,
              "#0d0887"
             ],
             [
              0.1111111111111111,
              "#46039f"
             ],
             [
              0.2222222222222222,
              "#7201a8"
             ],
             [
              0.3333333333333333,
              "#9c179e"
             ],
             [
              0.4444444444444444,
              "#bd3786"
             ],
             [
              0.5555555555555556,
              "#d8576b"
             ],
             [
              0.6666666666666666,
              "#ed7953"
             ],
             [
              0.7777777777777778,
              "#fb9f3a"
             ],
             [
              0.8888888888888888,
              "#fdca26"
             ],
             [
              1,
              "#f0f921"
             ]
            ],
            "type": "histogram2dcontour"
           }
          ],
          "mesh3d": [
           {
            "colorbar": {
             "outlinewidth": 0,
             "ticks": ""
            },
            "type": "mesh3d"
           }
          ],
          "parcoords": [
           {
            "line": {
             "colorbar": {
              "outlinewidth": 0,
              "ticks": ""
             }
            },
            "type": "parcoords"
           }
          ],
          "pie": [
           {
            "automargin": true,
            "type": "pie"
           }
          ],
          "scatter": [
           {
            "fillpattern": {
             "fillmode": "overlay",
             "size": 10,
             "solidity": 0.2
            },
            "type": "scatter"
           }
          ],
          "scatter3d": [
           {
            "line": {
             "colorbar": {
              "outlinewidth": 0,
              "ticks": ""
             }
            },
            "marker": {
             "colorbar": {
              "outlinewidth": 0,
              "ticks": ""
             }
            },
            "type": "scatter3d"
           }
          ],
          "scattercarpet": [
           {
            "marker": {
             "colorbar": {
              "outlinewidth": 0,
              "ticks": ""
             }
            },
            "type": "scattercarpet"
           }
          ],
          "scattergeo": [
           {
            "marker": {
             "colorbar": {
              "outlinewidth": 0,
              "ticks": ""
             }
            },
            "type": "scattergeo"
           }
          ],
          "scattergl": [
           {
            "marker": {
             "colorbar": {
              "outlinewidth": 0,
              "ticks": ""
             }
            },
            "type": "scattergl"
           }
          ],
          "scattermap": [
           {
            "marker": {
             "colorbar": {
              "outlinewidth": 0,
              "ticks": ""
             }
            },
            "type": "scattermap"
           }
          ],
          "scattermapbox": [
           {
            "marker": {
             "colorbar": {
              "outlinewidth": 0,
              "ticks": ""
             }
            },
            "type": "scattermapbox"
           }
          ],
          "scatterpolar": [
           {
            "marker": {
             "colorbar": {
              "outlinewidth": 0,
              "ticks": ""
             }
            },
            "type": "scatterpolar"
           }
          ],
          "scatterpolargl": [
           {
            "marker": {
             "colorbar": {
              "outlinewidth": 0,
              "ticks": ""
             }
            },
            "type": "scatterpolargl"
           }
          ],
          "scatterternary": [
           {
            "marker": {
             "colorbar": {
              "outlinewidth": 0,
              "ticks": ""
             }
            },
            "type": "scatterternary"
           }
          ],
          "surface": [
           {
            "colorbar": {
             "outlinewidth": 0,
             "ticks": ""
            },
            "colorscale": [
             [
              0,
              "#0d0887"
             ],
             [
              0.1111111111111111,
              "#46039f"
             ],
             [
              0.2222222222222222,
              "#7201a8"
             ],
             [
              0.3333333333333333,
              "#9c179e"
             ],
             [
              0.4444444444444444,
              "#bd3786"
             ],
             [
              0.5555555555555556,
              "#d8576b"
             ],
             [
              0.6666666666666666,
              "#ed7953"
             ],
             [
              0.7777777777777778,
              "#fb9f3a"
             ],
             [
              0.8888888888888888,
              "#fdca26"
             ],
             [
              1,
              "#f0f921"
             ]
            ],
            "type": "surface"
           }
          ],
          "table": [
           {
            "cells": {
             "fill": {
              "color": "#EBF0F8"
             },
             "line": {
              "color": "white"
             }
            },
            "header": {
             "fill": {
              "color": "#C8D4E3"
             },
             "line": {
              "color": "white"
             }
            },
            "type": "table"
           }
          ]
         },
         "layout": {
          "annotationdefaults": {
           "arrowcolor": "#2a3f5f",
           "arrowhead": 0,
           "arrowwidth": 1
          },
          "autotypenumbers": "strict",
          "coloraxis": {
           "colorbar": {
            "outlinewidth": 0,
            "ticks": ""
           }
          },
          "colorscale": {
           "diverging": [
            [
             0,
             "#8e0152"
            ],
            [
             0.1,
             "#c51b7d"
            ],
            [
             0.2,
             "#de77ae"
            ],
            [
             0.3,
             "#f1b6da"
            ],
            [
             0.4,
             "#fde0ef"
            ],
            [
             0.5,
             "#f7f7f7"
            ],
            [
             0.6,
             "#e6f5d0"
            ],
            [
             0.7,
             "#b8e186"
            ],
            [
             0.8,
             "#7fbc41"
            ],
            [
             0.9,
             "#4d9221"
            ],
            [
             1,
             "#276419"
            ]
           ],
           "sequential": [
            [
             0,
             "#0d0887"
            ],
            [
             0.1111111111111111,
             "#46039f"
            ],
            [
             0.2222222222222222,
             "#7201a8"
            ],
            [
             0.3333333333333333,
             "#9c179e"
            ],
            [
             0.4444444444444444,
             "#bd3786"
            ],
            [
             0.5555555555555556,
             "#d8576b"
            ],
            [
             0.6666666666666666,
             "#ed7953"
            ],
            [
             0.7777777777777778,
             "#fb9f3a"
            ],
            [
             0.8888888888888888,
             "#fdca26"
            ],
            [
             1,
             "#f0f921"
            ]
           ],
           "sequentialminus": [
            [
             0,
             "#0d0887"
            ],
            [
             0.1111111111111111,
             "#46039f"
            ],
            [
             0.2222222222222222,
             "#7201a8"
            ],
            [
             0.3333333333333333,
             "#9c179e"
            ],
            [
             0.4444444444444444,
             "#bd3786"
            ],
            [
             0.5555555555555556,
             "#d8576b"
            ],
            [
             0.6666666666666666,
             "#ed7953"
            ],
            [
             0.7777777777777778,
             "#fb9f3a"
            ],
            [
             0.8888888888888888,
             "#fdca26"
            ],
            [
             1,
             "#f0f921"
            ]
           ]
          },
          "colorway": [
           "#636efa",
           "#EF553B",
           "#00cc96",
           "#ab63fa",
           "#FFA15A",
           "#19d3f3",
           "#FF6692",
           "#B6E880",
           "#FF97FF",
           "#FECB52"
          ],
          "font": {
           "color": "#2a3f5f"
          },
          "geo": {
           "bgcolor": "white",
           "lakecolor": "white",
           "landcolor": "#E5ECF6",
           "showlakes": true,
           "showland": true,
           "subunitcolor": "white"
          },
          "hoverlabel": {
           "align": "left"
          },
          "hovermode": "closest",
          "mapbox": {
           "style": "light"
          },
          "paper_bgcolor": "white",
          "plot_bgcolor": "#E5ECF6",
          "polar": {
           "angularaxis": {
            "gridcolor": "white",
            "linecolor": "white",
            "ticks": ""
           },
           "bgcolor": "#E5ECF6",
           "radialaxis": {
            "gridcolor": "white",
            "linecolor": "white",
            "ticks": ""
           }
          },
          "scene": {
           "xaxis": {
            "backgroundcolor": "#E5ECF6",
            "gridcolor": "white",
            "gridwidth": 2,
            "linecolor": "white",
            "showbackground": true,
            "ticks": "",
            "zerolinecolor": "white"
           },
           "yaxis": {
            "backgroundcolor": "#E5ECF6",
            "gridcolor": "white",
            "gridwidth": 2,
            "linecolor": "white",
            "showbackground": true,
            "ticks": "",
            "zerolinecolor": "white"
           },
           "zaxis": {
            "backgroundcolor": "#E5ECF6",
            "gridcolor": "white",
            "gridwidth": 2,
            "linecolor": "white",
            "showbackground": true,
            "ticks": "",
            "zerolinecolor": "white"
           }
          },
          "shapedefaults": {
           "line": {
            "color": "#2a3f5f"
           }
          },
          "ternary": {
           "aaxis": {
            "gridcolor": "white",
            "linecolor": "white",
            "ticks": ""
           },
           "baxis": {
            "gridcolor": "white",
            "linecolor": "white",
            "ticks": ""
           },
           "bgcolor": "#E5ECF6",
           "caxis": {
            "gridcolor": "white",
            "linecolor": "white",
            "ticks": ""
           }
          },
          "title": {
           "x": 0.05
          },
          "xaxis": {
           "automargin": true,
           "gridcolor": "white",
           "linecolor": "white",
           "ticks": "",
           "title": {
            "standoff": 15
           },
           "zerolinecolor": "white",
           "zerolinewidth": 2
          },
          "yaxis": {
           "automargin": true,
           "gridcolor": "white",
           "linecolor": "white",
           "ticks": "",
           "title": {
            "standoff": 15
           },
           "zerolinecolor": "white",
           "zerolinewidth": 2
          }
         }
        },
        "xaxis": {
         "linecolor": "lightgray",
         "range": [
          -0.5,
          3.5
         ],
         "showgrid": false,
         "tickcolor": "lightgray",
         "tickfont": {
          "color": "black",
          "family": "Times New Roman",
          "size": 26
         },
         "tickmode": "array",
         "ticktext": [
          "gender",
          "age",
          "credit amount",
          "repayment duration"
         ],
         "tickvals": [
          0,
          1,
          2,
          3
         ]
        },
        "yaxis": {
         "dtick": 0.1,
         "gridcolor": "lightgray",
         "linecolor": "lightgray",
         "range": [
          0,
          0.9
         ],
         "showgrid": true,
         "tickcolor": "lightgray",
         "tickfont": {
          "color": "black",
          "family": "Times New Roman",
          "size": 25
         },
         "ticks": "outside",
         "title": {
          "font": {
           "color": "black",
           "family": "Times New Roman",
           "size": 25
          },
          "text": "Attributions"
         }
        }
       }
      }
     },
     "metadata": {},
     "output_type": "display_data"
    }
   ],
   "source": [
    "# Load JSON\n",
    "with open(PREFIX + \"attributions/german/attribution.json\", \"r\") as f:\n",
    "    data = json.load(f)\n",
    "global_explanations = data['global_explanations']    \n",
    "generate_attr_plot(global_explanations,config)"
   ]
  },
  {
   "cell_type": "code",
   "execution_count": 10,
   "id": "58f8dd3e",
   "metadata": {},
   "outputs": [
    {
     "name": "stdout",
     "output_type": "stream",
     "text": [
      "{'ig': {'pgi': {'k=1': [0.2710515260696411], 'k=2': [0.38441479206085205], 'k=3': [0.4239215552806854], 'k=4': [0.3952651619911194]}, 'pgu': {'k=1': [0.3510115444660187], 'k=2': [0.23916801810264587], 'k=3': [0.13131259381771088], 'k=4': [1.4081970256540899e-08]}}, 'itg': {'pgi': {'k=1': [0.22782570123672485], 'k=2': [0.23931904137134552], 'k=3': [0.35263949632644653], 'k=4': [0.3949895203113556]}, 'pgu': {'k=1': [0.3647838234901428], 'k=2': [0.3855058550834656], 'k=3': [0.27076393365859985], 'k=4': [1.4081970256540899e-08]}}, 'sg': {'pgi': {'k=1': [0.27131354808807373], 'k=2': [0.3362196683883667], 'k=3': [0.3156304955482483], 'k=4': [0.3953288793563843]}, 'pgu': {'k=1': [0.3524555563926697], 'k=2': [0.2752402126789093], 'k=3': [0.24017396569252014], 'k=4': [1.4081970256540899e-08]}}, 'shap': {'pgi': {'k=1': [0.27070534229278564], 'k=2': [0.27204689383506775], 'k=3': [0.3160041868686676], 'k=4': [0.3943582773208618]}, 'pgu': {'k=1': [0.3518504798412323], 'k=2': [0.3693719506263733], 'k=3': [0.23979832231998444], 'k=4': [1.4081970256540899e-08]}}, 'lime': {'pgi': {'k=1': [0.27143770456314087], 'k=2': [0.33609265089035034], 'k=3': [0.31581124663352966], 'k=4': [0.3950144946575165]}, 'pgu': {'k=1': [0.35150694847106934], 'k=2': [0.2756766676902771], 'k=3': [0.24066531658172607], 'k=4': [1.4081970256540899e-08]}}, 'sp_lime': {'pgi': {'k=1': [0.13115745782852173], 'k=2': [0.24000848829746246], 'k=3': [0.35313501954078674], 'k=4': [0.39524635672569275]}, 'pgu': {'k=1': [0.42482706904411316], 'k=2': [0.3845754563808441], 'k=3': [0.27108901739120483], 'k=4': [1.4081970256540899e-08]}}, 'pfi': {'pgi': {'k=1': [0.270835280418396], 'k=2': [0.3352850079536438], 'k=3': [0.3167019188404083], 'k=4': [0.3946670591831207]}, 'pgu': {'k=1': [0.3528556525707245], 'k=2': [0.27510902285575867], 'k=3': [0.24060985445976257], 'k=4': [1.4081970256540899e-08]}}, 'icc_topo': {'pgi': {'k=1': [0.27125710248947144], 'k=2': [0.2721332609653473], 'k=3': [0.31667956709861755], 'k=4': [0.3950332999229431]}, 'pgu': {'k=1': [0.3525913953781128], 'k=2': [0.3689553439617157], 'k=3': [0.2402961701154709], 'k=4': [1.4081970256540899e-08]}}, 'icc_shap': {'pgi': {'k=1': [0.2697806656360626], 'k=2': [0.2722153067588806], 'k=3': [0.31673067808151245], 'k=4': [0.39524611830711365]}, 'pgu': {'k=1': [0.353251188993454], 'k=2': [0.3688684105873108], 'k=3': [0.24037498235702515], 'k=4': [1.4081970256540899e-08]}}}\n",
      "ig: PGU Sum = 0.721492, PGI Sum = 1.474653\n",
      "itg: PGU Sum = 1.021054, PGI Sum = 1.214774\n",
      "sg: PGU Sum = 0.867870, PGI Sum = 1.318493\n",
      "shap: PGU Sum = 0.961021, PGI Sum = 1.253115\n",
      "lime: PGU Sum = 0.867849, PGI Sum = 1.318356\n",
      "sp_lime: PGU Sum = 1.080492, PGI Sum = 1.119547\n",
      "pfi: PGU Sum = 0.868575, PGI Sum = 1.317489\n",
      "icc_topo: PGU Sum = 0.961843, PGI Sum = 1.255103\n",
      "icc_shap: PGU Sum = 0.962495, PGI Sum = 1.253973\n"
     ]
    }
   ],
   "source": [
    "ge_dict = data[\"ge_dict\"]\n",
    "evaluation_metrics = evaluate_exp(ge_dict,config,mlp_model)\n",
    "print(evaluation_metrics)\n",
    "# Display the results\n",
    "agg_scores = compute_pgu_pgi_sums(evaluation_metrics)\n",
    "for method, scores in agg_scores.items():\n",
    "    print(f\"{method}: PGU Sum = {scores['pgu_sum']:.6f}, PGI Sum = {scores['pgi_sum']:.6f}\")\n"
   ]
  },
  {
   "cell_type": "code",
   "execution_count": 14,
   "id": "f3ab98aa",
   "metadata": {},
   "outputs": [
    {
     "name": "stdout",
     "output_type": "stream",
     "text": [
      "ig: PGI AUC = 0.380498, PGU AUC = 0.181995\n",
      "itg: PGI AUC = 0.301122, PGU AUC = 0.279554\n",
      "sg: PGI AUC = 0.328390, PGU AUC = 0.230547\n",
      "shap: PGI AUC = 0.306861, PGU AUC = 0.261699\n",
      "lime: PGI AUC = 0.328377, PGU AUC = 0.230698\n",
      "sp_lime: PGI AUC = 0.285448, PGU AUC = 0.289359\n",
      "pfi: PGI AUC = 0.328246, PGU AUC = 0.230716\n",
      "icc_topo: PGI AUC = 0.307319, PGU AUC = 0.261849\n",
      "icc_shap: PGI AUC = 0.307153, PGU AUC = 0.261956\n"
     ]
    }
   ],
   "source": [
    "auc_results = compute_auc(evaluation_metrics,config)\n",
    "\n",
    "# Print results nicely\n",
    "for method, vals in auc_results.items():\n",
    "    print(f\"{method}: PGI AUC = {vals['pgi_auc']:.6f}, PGU AUC = {vals['pgu_auc']:.6f}\")\n"
   ]
  },
  {
   "cell_type": "markdown",
   "id": "bd98ca54",
   "metadata": {},
   "source": [
    "## Lung Cancer Dataset"
   ]
  },
  {
   "cell_type": "code",
   "execution_count": 19,
   "id": "12bfa2e6",
   "metadata": {},
   "outputs": [],
   "source": [
    "config = CONFIG['cancer']\n",
    "mlp_path = PREFIX + 'models/cancer_mlp/cancer_mlp_seed_20/logs/version_0/checkpoints/epoch=62-step=2394.ckpt'\n",
    "scm_path = PREFIX + 'models/cancer_nf/cancer_nf_seed_10/logs/version_0/checkpoints/epoch=203-step=7752.ckpt'\n",
    "mlp_model = MLPLightning.load_from_checkpoint(mlp_path,model = MLP(config['num_features'],config['hidden_layers_mlp'],classification=config['classification']))\n",
    "scm_model = CausalNF.load_from_checkpoint(scm_path,flow = flow(config['num_features'],config['gd_adjacency'],config['hidden_layers_flow']))"
   ]
  },
  {
   "cell_type": "code",
   "execution_count": null,
   "id": "92dd6e64",
   "metadata": {},
   "outputs": [],
   "source": [
    "##generate attributions\n",
    "ge_dict, time_dict, global_explanations = generate_global_exps(config,mlp_model.to('cpu'),scm_model.to('cpu'))"
   ]
  },
  {
   "cell_type": "code",
   "execution_count": 20,
   "id": "be50d952",
   "metadata": {},
   "outputs": [
    {
     "data": {
      "application/vnd.plotly.v1+json": {
       "config": {
        "plotlyServerURL": "https://plot.ly"
       },
       "data": [
        {
         "marker": {
          "color": "#E69F00",
          "line": {
           "width": 0.05
          }
         },
         "name": "IG",
         "type": "bar",
         "width": 0.06,
         "x": [
          "asia",
          "tub",
          "smoke",
          "lung",
          "bronc",
          "either",
          "xray"
         ],
         "y": {
          "bdata": "yiHh3kCHuT9jSft79XmEPx1qA8qnMrs/rv7x1NnYtz+yk2OdQtnkPxL4fjxi+no/bf6Kh4fIoD8=",
          "dtype": "f8"
         }
        },
        {
         "marker": {
          "color": "#56B4E9",
          "line": {
           "width": 0.05
          }
         },
         "name": "IxG",
         "type": "bar",
         "width": 0.06,
         "x": [
          "asia",
          "tub",
          "smoke",
          "lung",
          "bronc",
          "either",
          "xray"
         ],
         "y": {
          "bdata": "JxFtDWnDmD/6vUQ3xaK2P2K3lGYBPMA/CYcqeLa7yz8DMQz7KxVFP3ooqBwM/8o/5cWmjStF1T8=",
          "dtype": "f8"
         }
        },
        {
         "marker": {
          "color": "#009E73",
          "line": {
           "width": 0.05
          }
         },
         "name": "SG",
         "type": "bar",
         "width": 0.06,
         "x": [
          "asia",
          "tub",
          "smoke",
          "lung",
          "bronc",
          "either",
          "xray"
         ],
         "y": {
          "bdata": "khQugkL4kj/26c/Q4FbCP/kRblciHbk/QCEb8AfM0z8LmZfqopaCPyOfmzCKdMk/R++3c4GFzD8=",
          "dtype": "f8"
         }
        },
        {
         "marker": {
          "color": "#F5C710",
          "line": {
           "width": 0.05
          }
         },
         "name": "SHAP",
         "type": "bar",
         "width": 0.06,
         "x": [
          "asia",
          "tub",
          "smoke",
          "lung",
          "bronc",
          "either",
          "xray"
         ],
         "y": {
          "bdata": "EGREKSgNsD8H14N1KHRRP5qumuZ5Z6c/lsB9lhyL0j8K2naGy2/QP2IgjtT2bMQ//sRUEt6Zxz8=",
          "dtype": "f8"
         }
        },
        {
         "marker": {
          "color": "#0072B2",
          "line": {
           "width": 0.05
          }
         },
         "name": "LIME",
         "type": "bar",
         "width": 0.06,
         "x": [
          "asia",
          "tub",
          "smoke",
          "lung",
          "bronc",
          "either",
          "xray"
         ],
         "y": {
          "bdata": "k4WV6DZEmT86c7P3S2P7Pq3ajrZ/drA/max5rQGGpj/jByXnIfDnP2cBUtoCo7A/4WOq4FKfqz8=",
          "dtype": "f8"
         }
        },
        {
         "marker": {
          "color": "#999999",
          "line": {
           "width": 0.05
          }
         },
         "name": "SP LIME",
         "type": "bar",
         "width": 0.06,
         "x": [
          "asia",
          "tub",
          "smoke",
          "lung",
          "bronc",
          "either",
          "xray"
         ],
         "y": {
          "bdata": "m1v4crlymT/2CBTrOeiQP8PLIOTfuao/hqA8RqjtiT+NbisKGYDpP3cWOPZcn7E/K4hFmOO5nD8=",
          "dtype": "f8"
         }
        },
        {
         "marker": {
          "color": "#000000",
          "line": {
           "width": 0.05
          }
         },
         "name": "PFI",
         "type": "bar",
         "width": 0.06,
         "x": [
          "asia",
          "tub",
          "smoke",
          "lung",
          "bronc",
          "either",
          "xray"
         ],
         "y": {
          "bdata": "AAAAwMPepj8AAAAgCxakPwAAAICBlbE/AAAAgGg3vD8AAACgqVDjPwAAAADH37E/AAAAgJlTsD8=",
          "dtype": "f8"
         }
        },
        {
         "marker": {
          "color": "#D55E00",
          "line": {
           "width": 0.05
          }
         },
         "name": "ICC TOPO",
         "type": "bar",
         "width": 0.06,
         "x": [
          "asia",
          "tub",
          "smoke",
          "lung",
          "bronc",
          "either",
          "xray"
         ],
         "y": {
          "bdata": "AAAAoDrmWz8AAAAglTZhPwAAACCo/3Y/AAAAoJQegj8AAACASLHuPwAAACDay4M/AAAAoBk9fD8=",
          "dtype": "f8"
         }
        },
        {
         "marker": {
          "color": "#CC79A7",
          "line": {
           "width": 0.05
          }
         },
         "name": "ICC SHAP",
         "type": "bar",
         "width": 0.06,
         "x": [
          "asia",
          "tub",
          "smoke",
          "lung",
          "bronc",
          "either",
          "xray"
         ],
         "y": {
          "bdata": "AAAAwFWUYT8AAACgrT1iPwAAAKADoYI/AAAAYJNjij8AAABAaJPuPwAAAIAVfX4/AAAAgA0ncz8=",
          "dtype": "f8"
         }
        }
       ],
       "layout": {
        "bargap": 0.45,
        "bargroupgap": 1,
        "barmode": "group",
        "font": {
         "size": 14
        },
        "legend": {
         "font": {
          "color": "black",
          "family": "Times New Roman",
          "size": 25
         },
         "title": {
          "font": {
           "color": "black",
           "family": "Times New Roman",
           "size": 25
          },
          "text": "Method"
         }
        },
        "plot_bgcolor": "rgba(0,0,0,0)",
        "showlegend": true,
        "template": {
         "data": {
          "bar": [
           {
            "error_x": {
             "color": "#2a3f5f"
            },
            "error_y": {
             "color": "#2a3f5f"
            },
            "marker": {
             "line": {
              "color": "#E5ECF6",
              "width": 0.5
             },
             "pattern": {
              "fillmode": "overlay",
              "size": 10,
              "solidity": 0.2
             }
            },
            "type": "bar"
           }
          ],
          "barpolar": [
           {
            "marker": {
             "line": {
              "color": "#E5ECF6",
              "width": 0.5
             },
             "pattern": {
              "fillmode": "overlay",
              "size": 10,
              "solidity": 0.2
             }
            },
            "type": "barpolar"
           }
          ],
          "carpet": [
           {
            "aaxis": {
             "endlinecolor": "#2a3f5f",
             "gridcolor": "white",
             "linecolor": "white",
             "minorgridcolor": "white",
             "startlinecolor": "#2a3f5f"
            },
            "baxis": {
             "endlinecolor": "#2a3f5f",
             "gridcolor": "white",
             "linecolor": "white",
             "minorgridcolor": "white",
             "startlinecolor": "#2a3f5f"
            },
            "type": "carpet"
           }
          ],
          "choropleth": [
           {
            "colorbar": {
             "outlinewidth": 0,
             "ticks": ""
            },
            "type": "choropleth"
           }
          ],
          "contour": [
           {
            "colorbar": {
             "outlinewidth": 0,
             "ticks": ""
            },
            "colorscale": [
             [
              0,
              "#0d0887"
             ],
             [
              0.1111111111111111,
              "#46039f"
             ],
             [
              0.2222222222222222,
              "#7201a8"
             ],
             [
              0.3333333333333333,
              "#9c179e"
             ],
             [
              0.4444444444444444,
              "#bd3786"
             ],
             [
              0.5555555555555556,
              "#d8576b"
             ],
             [
              0.6666666666666666,
              "#ed7953"
             ],
             [
              0.7777777777777778,
              "#fb9f3a"
             ],
             [
              0.8888888888888888,
              "#fdca26"
             ],
             [
              1,
              "#f0f921"
             ]
            ],
            "type": "contour"
           }
          ],
          "contourcarpet": [
           {
            "colorbar": {
             "outlinewidth": 0,
             "ticks": ""
            },
            "type": "contourcarpet"
           }
          ],
          "heatmap": [
           {
            "colorbar": {
             "outlinewidth": 0,
             "ticks": ""
            },
            "colorscale": [
             [
              0,
              "#0d0887"
             ],
             [
              0.1111111111111111,
              "#46039f"
             ],
             [
              0.2222222222222222,
              "#7201a8"
             ],
             [
              0.3333333333333333,
              "#9c179e"
             ],
             [
              0.4444444444444444,
              "#bd3786"
             ],
             [
              0.5555555555555556,
              "#d8576b"
             ],
             [
              0.6666666666666666,
              "#ed7953"
             ],
             [
              0.7777777777777778,
              "#fb9f3a"
             ],
             [
              0.8888888888888888,
              "#fdca26"
             ],
             [
              1,
              "#f0f921"
             ]
            ],
            "type": "heatmap"
           }
          ],
          "histogram": [
           {
            "marker": {
             "pattern": {
              "fillmode": "overlay",
              "size": 10,
              "solidity": 0.2
             }
            },
            "type": "histogram"
           }
          ],
          "histogram2d": [
           {
            "colorbar": {
             "outlinewidth": 0,
             "ticks": ""
            },
            "colorscale": [
             [
              0,
              "#0d0887"
             ],
             [
              0.1111111111111111,
              "#46039f"
             ],
             [
              0.2222222222222222,
              "#7201a8"
             ],
             [
              0.3333333333333333,
              "#9c179e"
             ],
             [
              0.4444444444444444,
              "#bd3786"
             ],
             [
              0.5555555555555556,
              "#d8576b"
             ],
             [
              0.6666666666666666,
              "#ed7953"
             ],
             [
              0.7777777777777778,
              "#fb9f3a"
             ],
             [
              0.8888888888888888,
              "#fdca26"
             ],
             [
              1,
              "#f0f921"
             ]
            ],
            "type": "histogram2d"
           }
          ],
          "histogram2dcontour": [
           {
            "colorbar": {
             "outlinewidth": 0,
             "ticks": ""
            },
            "colorscale": [
             [
              0,
              "#0d0887"
             ],
             [
              0.1111111111111111,
              "#46039f"
             ],
             [
              0.2222222222222222,
              "#7201a8"
             ],
             [
              0.3333333333333333,
              "#9c179e"
             ],
             [
              0.4444444444444444,
              "#bd3786"
             ],
             [
              0.5555555555555556,
              "#d8576b"
             ],
             [
              0.6666666666666666,
              "#ed7953"
             ],
             [
              0.7777777777777778,
              "#fb9f3a"
             ],
             [
              0.8888888888888888,
              "#fdca26"
             ],
             [
              1,
              "#f0f921"
             ]
            ],
            "type": "histogram2dcontour"
           }
          ],
          "mesh3d": [
           {
            "colorbar": {
             "outlinewidth": 0,
             "ticks": ""
            },
            "type": "mesh3d"
           }
          ],
          "parcoords": [
           {
            "line": {
             "colorbar": {
              "outlinewidth": 0,
              "ticks": ""
             }
            },
            "type": "parcoords"
           }
          ],
          "pie": [
           {
            "automargin": true,
            "type": "pie"
           }
          ],
          "scatter": [
           {
            "fillpattern": {
             "fillmode": "overlay",
             "size": 10,
             "solidity": 0.2
            },
            "type": "scatter"
           }
          ],
          "scatter3d": [
           {
            "line": {
             "colorbar": {
              "outlinewidth": 0,
              "ticks": ""
             }
            },
            "marker": {
             "colorbar": {
              "outlinewidth": 0,
              "ticks": ""
             }
            },
            "type": "scatter3d"
           }
          ],
          "scattercarpet": [
           {
            "marker": {
             "colorbar": {
              "outlinewidth": 0,
              "ticks": ""
             }
            },
            "type": "scattercarpet"
           }
          ],
          "scattergeo": [
           {
            "marker": {
             "colorbar": {
              "outlinewidth": 0,
              "ticks": ""
             }
            },
            "type": "scattergeo"
           }
          ],
          "scattergl": [
           {
            "marker": {
             "colorbar": {
              "outlinewidth": 0,
              "ticks": ""
             }
            },
            "type": "scattergl"
           }
          ],
          "scattermap": [
           {
            "marker": {
             "colorbar": {
              "outlinewidth": 0,
              "ticks": ""
             }
            },
            "type": "scattermap"
           }
          ],
          "scattermapbox": [
           {
            "marker": {
             "colorbar": {
              "outlinewidth": 0,
              "ticks": ""
             }
            },
            "type": "scattermapbox"
           }
          ],
          "scatterpolar": [
           {
            "marker": {
             "colorbar": {
              "outlinewidth": 0,
              "ticks": ""
             }
            },
            "type": "scatterpolar"
           }
          ],
          "scatterpolargl": [
           {
            "marker": {
             "colorbar": {
              "outlinewidth": 0,
              "ticks": ""
             }
            },
            "type": "scatterpolargl"
           }
          ],
          "scatterternary": [
           {
            "marker": {
             "colorbar": {
              "outlinewidth": 0,
              "ticks": ""
             }
            },
            "type": "scatterternary"
           }
          ],
          "surface": [
           {
            "colorbar": {
             "outlinewidth": 0,
             "ticks": ""
            },
            "colorscale": [
             [
              0,
              "#0d0887"
             ],
             [
              0.1111111111111111,
              "#46039f"
             ],
             [
              0.2222222222222222,
              "#7201a8"
             ],
             [
              0.3333333333333333,
              "#9c179e"
             ],
             [
              0.4444444444444444,
              "#bd3786"
             ],
             [
              0.5555555555555556,
              "#d8576b"
             ],
             [
              0.6666666666666666,
              "#ed7953"
             ],
             [
              0.7777777777777778,
              "#fb9f3a"
             ],
             [
              0.8888888888888888,
              "#fdca26"
             ],
             [
              1,
              "#f0f921"
             ]
            ],
            "type": "surface"
           }
          ],
          "table": [
           {
            "cells": {
             "fill": {
              "color": "#EBF0F8"
             },
             "line": {
              "color": "white"
             }
            },
            "header": {
             "fill": {
              "color": "#C8D4E3"
             },
             "line": {
              "color": "white"
             }
            },
            "type": "table"
           }
          ]
         },
         "layout": {
          "annotationdefaults": {
           "arrowcolor": "#2a3f5f",
           "arrowhead": 0,
           "arrowwidth": 1
          },
          "autotypenumbers": "strict",
          "coloraxis": {
           "colorbar": {
            "outlinewidth": 0,
            "ticks": ""
           }
          },
          "colorscale": {
           "diverging": [
            [
             0,
             "#8e0152"
            ],
            [
             0.1,
             "#c51b7d"
            ],
            [
             0.2,
             "#de77ae"
            ],
            [
             0.3,
             "#f1b6da"
            ],
            [
             0.4,
             "#fde0ef"
            ],
            [
             0.5,
             "#f7f7f7"
            ],
            [
             0.6,
             "#e6f5d0"
            ],
            [
             0.7,
             "#b8e186"
            ],
            [
             0.8,
             "#7fbc41"
            ],
            [
             0.9,
             "#4d9221"
            ],
            [
             1,
             "#276419"
            ]
           ],
           "sequential": [
            [
             0,
             "#0d0887"
            ],
            [
             0.1111111111111111,
             "#46039f"
            ],
            [
             0.2222222222222222,
             "#7201a8"
            ],
            [
             0.3333333333333333,
             "#9c179e"
            ],
            [
             0.4444444444444444,
             "#bd3786"
            ],
            [
             0.5555555555555556,
             "#d8576b"
            ],
            [
             0.6666666666666666,
             "#ed7953"
            ],
            [
             0.7777777777777778,
             "#fb9f3a"
            ],
            [
             0.8888888888888888,
             "#fdca26"
            ],
            [
             1,
             "#f0f921"
            ]
           ],
           "sequentialminus": [
            [
             0,
             "#0d0887"
            ],
            [
             0.1111111111111111,
             "#46039f"
            ],
            [
             0.2222222222222222,
             "#7201a8"
            ],
            [
             0.3333333333333333,
             "#9c179e"
            ],
            [
             0.4444444444444444,
             "#bd3786"
            ],
            [
             0.5555555555555556,
             "#d8576b"
            ],
            [
             0.6666666666666666,
             "#ed7953"
            ],
            [
             0.7777777777777778,
             "#fb9f3a"
            ],
            [
             0.8888888888888888,
             "#fdca26"
            ],
            [
             1,
             "#f0f921"
            ]
           ]
          },
          "colorway": [
           "#636efa",
           "#EF553B",
           "#00cc96",
           "#ab63fa",
           "#FFA15A",
           "#19d3f3",
           "#FF6692",
           "#B6E880",
           "#FF97FF",
           "#FECB52"
          ],
          "font": {
           "color": "#2a3f5f"
          },
          "geo": {
           "bgcolor": "white",
           "lakecolor": "white",
           "landcolor": "#E5ECF6",
           "showlakes": true,
           "showland": true,
           "subunitcolor": "white"
          },
          "hoverlabel": {
           "align": "left"
          },
          "hovermode": "closest",
          "mapbox": {
           "style": "light"
          },
          "paper_bgcolor": "white",
          "plot_bgcolor": "#E5ECF6",
          "polar": {
           "angularaxis": {
            "gridcolor": "white",
            "linecolor": "white",
            "ticks": ""
           },
           "bgcolor": "#E5ECF6",
           "radialaxis": {
            "gridcolor": "white",
            "linecolor": "white",
            "ticks": ""
           }
          },
          "scene": {
           "xaxis": {
            "backgroundcolor": "#E5ECF6",
            "gridcolor": "white",
            "gridwidth": 2,
            "linecolor": "white",
            "showbackground": true,
            "ticks": "",
            "zerolinecolor": "white"
           },
           "yaxis": {
            "backgroundcolor": "#E5ECF6",
            "gridcolor": "white",
            "gridwidth": 2,
            "linecolor": "white",
            "showbackground": true,
            "ticks": "",
            "zerolinecolor": "white"
           },
           "zaxis": {
            "backgroundcolor": "#E5ECF6",
            "gridcolor": "white",
            "gridwidth": 2,
            "linecolor": "white",
            "showbackground": true,
            "ticks": "",
            "zerolinecolor": "white"
           }
          },
          "shapedefaults": {
           "line": {
            "color": "#2a3f5f"
           }
          },
          "ternary": {
           "aaxis": {
            "gridcolor": "white",
            "linecolor": "white",
            "ticks": ""
           },
           "baxis": {
            "gridcolor": "white",
            "linecolor": "white",
            "ticks": ""
           },
           "bgcolor": "#E5ECF6",
           "caxis": {
            "gridcolor": "white",
            "linecolor": "white",
            "ticks": ""
           }
          },
          "title": {
           "x": 0.05
          },
          "xaxis": {
           "automargin": true,
           "gridcolor": "white",
           "linecolor": "white",
           "ticks": "",
           "title": {
            "standoff": 15
           },
           "zerolinecolor": "white",
           "zerolinewidth": 2
          },
          "yaxis": {
           "automargin": true,
           "gridcolor": "white",
           "linecolor": "white",
           "ticks": "",
           "title": {
            "standoff": 15
           },
           "zerolinecolor": "white",
           "zerolinewidth": 2
          }
         }
        },
        "xaxis": {
         "linecolor": "lightgray",
         "range": [
          -0.5,
          6.5
         ],
         "showgrid": false,
         "tickcolor": "lightgray",
         "tickfont": {
          "color": "black",
          "family": "Times New Roman",
          "size": 26
         },
         "tickmode": "array",
         "ticktext": [
          "asia",
          "tub",
          "smoke",
          "lung",
          "bronc",
          "either",
          "xray"
         ],
         "tickvals": [
          0,
          1,
          2,
          3,
          4,
          5,
          6
         ]
        },
        "yaxis": {
         "dtick": 0.1,
         "gridcolor": "lightgray",
         "linecolor": "lightgray",
         "range": [
          0,
          0.9
         ],
         "showgrid": true,
         "tickcolor": "lightgray",
         "tickfont": {
          "color": "black",
          "family": "Times New Roman",
          "size": 25
         },
         "ticks": "outside",
         "title": {
          "font": {
           "color": "black",
           "family": "Times New Roman",
           "size": 25
          },
          "text": "Attributions"
         }
        }
       }
      }
     },
     "metadata": {},
     "output_type": "display_data"
    }
   ],
   "source": [
    "# Load JSON\n",
    "with open(PREFIX +\"attributions/cancer/attribution.json\", \"r\") as f:\n",
    "    data = json.load(f)\n",
    "global_explanations = data['global_explanations']    \n",
    "generate_attr_plot(global_explanations,config)"
   ]
  },
  {
   "cell_type": "code",
   "execution_count": 21,
   "id": "cd182777",
   "metadata": {},
   "outputs": [
    {
     "name": "stdout",
     "output_type": "stream",
     "text": [
      "{'ig': {'pgi': {'k=1': [0.29632842540740967], 'k=2': [0.3059897720813751], 'k=3': [0.34692874550819397], 'k=4': [0.4179578423500061], 'k=5': [0.4467124044895172], 'k=6': [0.4612525999546051], 'k=7': [0.46797043085098267]}, 'pgu': {'k=1': [0.4187425673007965], 'k=2': [0.4037628173828125], 'k=3': [0.37662848830223083], 'k=4': [0.30643293261528015], 'k=5': [0.2416532337665558], 'k=6': [0.13601255416870117], 'k=7': [1.783449299352924e-08]}}, 'itg': {'pgi': {'k=1': [0.14735865592956543], 'k=2': [0.30135613679885864], 'k=3': [0.3315041661262512], 'k=4': [0.3526589572429657], 'k=5': [0.39535462856292725], 'k=6': [0.419208824634552], 'k=7': [0.467991441488266]}, 'pgu': {'k=1': [0.45067164301872253], 'k=2': [0.4137524664402008], 'k=3': [0.3870377242565155], 'k=4': [0.3780052661895752], 'k=5': [0.335883766412735], 'k=6': [0.2964792549610138], 'k=7': [1.783449299352924e-08]}}, 'sg': {'pgi': {'k=1': [0.214140847325325], 'k=2': [0.30123406648635864], 'k=3': [0.33047375082969666], 'k=4': [0.3768020272254944], 'k=5': [0.3961849510669708], 'k=6': [0.4191087484359741], 'k=7': [0.46864044666290283]}, 'pgu': {'k=1': [0.43947702646255493], 'k=2': [0.41459280252456665], 'k=3': [0.38739487528800964], 'k=4': [0.34651869535446167], 'k=5': [0.3363105058670044], 'k=6': [0.2964303195476532], 'k=7': [1.783449299352924e-08]}}, 'shap': {'pgi': {'k=1': [0.21344342827796936], 'k=2': [0.39582428336143494], 'k=3': [0.42707559466362], 'k=4': [0.43869248032569885], 'k=5': [0.45354390144348145], 'k=6': [0.45476654171943665], 'k=7': [0.4682619869709015]}, 'pgu': {'k=1': [0.4389816224575043], 'k=2': [0.3755650818347931], 'k=3': [0.3367648124694824], 'k=4': [0.2975100576877594], 'k=5': [0.22967897355556488], 'k=6': [0.16946597397327423], 'k=7': [1.783449299352924e-08]}}, 'lime': {'pgi': {'k=1': [0.2958465814590454], 'k=2': [0.3471488654613495], 'k=3': [0.3535325527191162], 'k=4': [0.39272379875183105], 'k=5': [0.4412667751312256], 'k=6': [0.45510920882225037], 'k=7': [0.4689483642578125]}, 'pgu': {'k=1': [0.419462651014328], 'k=2': [0.4077241122722626], 'k=3': [0.39020416140556335], 'k=4': [0.3377794623374939], 'k=5': [0.24798709154129028], 'k=6': [0.16915659606456757], 'k=7': [1.783449299352924e-08]}}, 'sp_lime': {'pgi': {'k=1': [0.12636661529541016], 'k=2': [0.24782811105251312], 'k=3': [0.2982443869113922], 'k=4': [0.36815232038497925], 'k=5': [0.4381258189678192], 'k=6': [0.45022210478782654], 'k=7': [0.46804332733154297]}, 'pgu': {'k=1': [0.457325279712677], 'k=2': [0.4410947561264038], 'k=3': [0.4395953416824341], 'k=4': [0.3872816860675812], 'k=5': [0.22593876719474792], 'k=6': [0.14720763266086578], 'k=7': [1.783449299352924e-08]}}, 'pfi': {'pgi': {'k=1': [0.2963092029094696], 'k=2': [0.3959086835384369], 'k=3': [0.41279760003089905], 'k=4': [0.41545355319976807], 'k=5': [0.44149714708328247], 'k=6': [0.4560942053794861], 'k=7': [0.4677857458591461]}, 'pgu': {'k=1': [0.41990911960601807], 'k=2': [0.37509864568710327], 'k=3': [0.35203030705451965], 'k=4': [0.32153695821762085], 'k=5': [0.24848373234272003], 'k=6': [0.16937607526779175], 'k=7': [1.783449299352924e-08]}}, 'icc_topo': {'pgi': {'k=1': [0.2964361608028412], 'k=2': [0.34714221954345703], 'k=3': [0.4131051301956177], 'k=4': [0.4383516311645508], 'k=5': [0.4413684010505676], 'k=6': [0.45722365379333496], 'k=7': [0.4680069088935852]}, 'pgu': {'k=1': [0.41983383893966675], 'k=2': [0.40800175070762634], 'k=3': [0.3516938388347626], 'k=4': [0.29773375391960144], 'k=5': [0.24777567386627197], 'k=6': [0.12599298357963562], 'k=7': [1.783449299352924e-08]}}, 'icc_shap': {'pgi': {'k=1': [0.2962910830974579], 'k=2': [0.3959822952747345], 'k=3': [0.3977186381816864], 'k=4': [0.4155159890651703], 'k=5': [0.44178852438926697], 'k=6': [0.4571690261363983], 'k=7': [0.46834880113601685]}, 'pgu': {'k=1': [0.41915789246559143], 'k=2': [0.37510111927986145], 'k=3': [0.35103821754455566], 'k=4': [0.320935994386673], 'k=5': [0.24802853167057037], 'k=6': [0.12610918283462524], 'k=7': [1.783449299352924e-08]}}}\n",
      "ig: PGU Sum = 1.883233, PGI Sum = 2.743140\n",
      "itg: PGU Sum = 2.261830, PGI Sum = 2.415433\n",
      "sg: PGU Sum = 2.220724, PGI Sum = 2.506585\n",
      "shap: PGU Sum = 1.847967, PGI Sum = 2.851608\n",
      "lime: PGU Sum = 1.972314, PGI Sum = 2.754576\n",
      "sp_lime: PGU Sum = 2.098443, PGI Sum = 2.396983\n",
      "pfi: PGU Sum = 1.886435, PGI Sum = 2.885846\n",
      "icc_topo: PGU Sum = 1.851032, PGI Sum = 2.861634\n",
      "icc_shap: PGU Sum = 1.840371, PGI Sum = 2.872814\n"
     ]
    }
   ],
   "source": [
    "# Call the function\n",
    "ge_dict = data[\"ge_dict\"]\n",
    "evaluation_metrics = evaluate_exp(ge_dict,config,mlp_model)\n",
    "print(evaluation_metrics)\n",
    "# Display the results\n",
    "agg_scores = compute_pgu_pgi_sums(evaluation_metrics)\n",
    "for method, scores in agg_scores.items():\n",
    "    print(f\"{method}: PGU Sum = {scores['pgu_sum']:.6f}, PGI Sum = {scores['pgi_sum']:.6f}\")"
   ]
  },
  {
   "cell_type": "code",
   "execution_count": 22,
   "id": "d0f10a47",
   "metadata": {},
   "outputs": [
    {
     "name": "stdout",
     "output_type": "stream",
     "text": [
      "ig: PGI AUC = 0.393498, PGU AUC = 0.278977\n",
      "itg: PGI AUC = 0.351293, PGU AUC = 0.339416\n",
      "sg: PGI AUC = 0.360866, PGU AUC = 0.333498\n",
      "shap: PGI AUC = 0.418459, PGU AUC = 0.271413\n",
      "lime: PGI AUC = 0.395363, PGU AUC = 0.293764\n",
      "sp_lime: PGI AUC = 0.349963, PGU AUC = 0.311630\n",
      "pfi: PGI AUC = 0.417300, PGU AUC = 0.279413\n",
      "icc_topo: PGI AUC = 0.413235, PGU AUC = 0.273519\n",
      "icc_shap: PGI AUC = 0.415082, PGU AUC = 0.271799\n"
     ]
    }
   ],
   "source": [
    "auc_results = compute_auc(evaluation_metrics,config)\n",
    "for method, vals in auc_results.items():\n",
    "    print(f\"{method}: PGI AUC = {vals['pgi_auc']:.6f}, PGU AUC = {vals['pgu_auc']:.6f}\")\n"
   ]
  },
  {
   "cell_type": "markdown",
   "id": "5786275b",
   "metadata": {},
   "source": [
    "## Synthetic Data"
   ]
  },
  {
   "cell_type": "code",
   "execution_count": 8,
   "id": "3188a479",
   "metadata": {},
   "outputs": [],
   "source": [
    "config = CONFIG['syn']\n",
    "mlp_path = PREFIX + 'models/syn_mlp/syn_mlp_seed_30/logs/version_1/checkpoints/epoch=251-step=8064.ckpt'\n",
    "scm_path = PREFIX + 'models/syn_nf/syn_nf_seed_20/logs/version_0/checkpoints/epoch=118-step=3808.ckpt'\n",
    "mlp_model = MLPLightning.load_from_checkpoint(mlp_path,model = MLP(config['num_features'],config['hidden_layers_mlp'],classification=config['classification']))\n",
    "scm_model = CausalNF.load_from_checkpoint(scm_path,flow = flow(config['num_features'],config['gd_adjacency'],config['hidden_layers_flow']))"
   ]
  },
  {
   "cell_type": "code",
   "execution_count": 9,
   "id": "eb04e8ba",
   "metadata": {},
   "outputs": [
    {
     "name": "stdout",
     "output_type": "stream",
     "text": [
      "Max Iterations:  100\n",
      "Starting Iteration:  1\n",
      "Max Iterations:  100\n",
      "Starting Iteration:  1\n",
      "Max Iterations:  100\n",
      "Starting Iteration:  1\n",
      "Max Iterations:  100\n",
      "Starting Iteration:  1\n",
      "Max Iterations:  100\n",
      "Starting Iteration:  1\n"
     ]
    }
   ],
   "source": [
    "##generate attributions\n",
    "ge_dict, time_dict, global_explanations = generate_global_exps(config,mlp_model.to('cpu'),scm_model.to('cpu'))"
   ]
  },
  {
   "cell_type": "code",
   "execution_count": 10,
   "id": "7e0f586e",
   "metadata": {},
   "outputs": [
    {
     "data": {
      "application/vnd.plotly.v1+json": {
       "config": {
        "plotlyServerURL": "https://plot.ly"
       },
       "data": [
        {
         "marker": {
          "color": "#E69F00",
          "line": {
           "width": 0.05
          }
         },
         "name": "IG",
         "type": "bar",
         "width": 0.06,
         "x": [
          "W",
          "Z",
          "X"
         ],
         "y": {
          "bdata": "xn/e0xBH2T+MZY01vVnjPyeE1BoE0zU/",
          "dtype": "f8"
         }
        },
        {
         "marker": {
          "color": "#56B4E9",
          "line": {
           "width": 0.05
          }
         },
         "name": "IxG",
         "type": "bar",
         "width": 0.06,
         "x": [
          "W",
          "Z",
          "X"
         ],
         "y": {
          "bdata": "3mGEM6L92T8utvE6y0/iP1Mcg2l1LJY/",
          "dtype": "f8"
         }
        },
        {
         "marker": {
          "color": "#009E73",
          "line": {
           "width": 0.05
          }
         },
         "name": "SG",
         "type": "bar",
         "width": 0.06,
         "x": [
          "W",
          "Z",
          "X"
         ],
         "y": {
          "bdata": "K/GRV6jBhT8SimDOjFjlP1BcgiDZoNQ/",
          "dtype": "f8"
         }
        },
        {
         "marker": {
          "color": "#F5C710",
          "line": {
           "width": 0.05
          }
         },
         "name": "SHAP",
         "type": "bar",
         "width": 0.06,
         "x": [
          "W",
          "Z",
          "X"
         ],
         "y": {
          "bdata": "GxURDylzYj8j+oD80k7gP4/p37RzPd8/",
          "dtype": "f8"
         }
        },
        {
         "marker": {
          "color": "#0072B2",
          "line": {
           "width": 0.05
          }
         },
         "name": "LIME",
         "type": "bar",
         "width": 0.06,
         "x": [
          "W",
          "Z",
          "X"
         ],
         "y": {
          "bdata": "d6CYylqDzj8lXqtCMN3kP/DNc1XID7w/",
          "dtype": "f8"
         }
        },
        {
         "marker": {
          "color": "#999999",
          "line": {
           "width": 0.05
          }
         },
         "name": "SP LIME",
         "type": "bar",
         "width": 0.06,
         "x": [
          "W",
          "Z",
          "X"
         ],
         "y": {
          "bdata": "j0k9pTI7xz8eGYAm1S3lP/pRwsB4DcQ/",
          "dtype": "f8"
         }
        },
        {
         "marker": {
          "color": "#000000",
          "line": {
           "width": 0.05
          }
         },
         "name": "PFI",
         "type": "bar",
         "width": 0.06,
         "x": [
          "W",
          "Z",
          "X"
         ],
         "y": {
          "bdata": "AAAAIAyy1j8AAABA8zTiPwAAAIA2kLM/",
          "dtype": "f8"
         }
        },
        {
         "marker": {
          "color": "#D55E00",
          "line": {
           "width": 0.05
          }
         },
         "name": "ICC TOPO",
         "type": "bar",
         "width": 0.06,
         "x": [
          "W",
          "Z",
          "X"
         ],
         "y": {
          "bdata": "AAAAgIxDqj8AAADAHjznPwAAAKBFcsw/",
          "dtype": "f8"
         }
        },
        {
         "marker": {
          "color": "#CC79A7",
          "line": {
           "width": 0.05
          }
         },
         "name": "ICC SHAP",
         "type": "bar",
         "width": 0.06,
         "x": [
          "W",
          "Z",
          "X"
         ],
         "y": {
          "bdata": "AAAAQCAwwD8AAABAZbbnPwAAAODu6cA/",
          "dtype": "f8"
         }
        }
       ],
       "layout": {
        "bargap": 0.45,
        "bargroupgap": 1,
        "barmode": "group",
        "font": {
         "size": 14
        },
        "legend": {
         "font": {
          "color": "black",
          "family": "Times New Roman",
          "size": 25
         },
         "title": {
          "font": {
           "color": "black",
           "family": "Times New Roman",
           "size": 25
          },
          "text": "Method"
         }
        },
        "plot_bgcolor": "rgba(0,0,0,0)",
        "showlegend": true,
        "template": {
         "data": {
          "bar": [
           {
            "error_x": {
             "color": "#2a3f5f"
            },
            "error_y": {
             "color": "#2a3f5f"
            },
            "marker": {
             "line": {
              "color": "#E5ECF6",
              "width": 0.5
             },
             "pattern": {
              "fillmode": "overlay",
              "size": 10,
              "solidity": 0.2
             }
            },
            "type": "bar"
           }
          ],
          "barpolar": [
           {
            "marker": {
             "line": {
              "color": "#E5ECF6",
              "width": 0.5
             },
             "pattern": {
              "fillmode": "overlay",
              "size": 10,
              "solidity": 0.2
             }
            },
            "type": "barpolar"
           }
          ],
          "carpet": [
           {
            "aaxis": {
             "endlinecolor": "#2a3f5f",
             "gridcolor": "white",
             "linecolor": "white",
             "minorgridcolor": "white",
             "startlinecolor": "#2a3f5f"
            },
            "baxis": {
             "endlinecolor": "#2a3f5f",
             "gridcolor": "white",
             "linecolor": "white",
             "minorgridcolor": "white",
             "startlinecolor": "#2a3f5f"
            },
            "type": "carpet"
           }
          ],
          "choropleth": [
           {
            "colorbar": {
             "outlinewidth": 0,
             "ticks": ""
            },
            "type": "choropleth"
           }
          ],
          "contour": [
           {
            "colorbar": {
             "outlinewidth": 0,
             "ticks": ""
            },
            "colorscale": [
             [
              0,
              "#0d0887"
             ],
             [
              0.1111111111111111,
              "#46039f"
             ],
             [
              0.2222222222222222,
              "#7201a8"
             ],
             [
              0.3333333333333333,
              "#9c179e"
             ],
             [
              0.4444444444444444,
              "#bd3786"
             ],
             [
              0.5555555555555556,
              "#d8576b"
             ],
             [
              0.6666666666666666,
              "#ed7953"
             ],
             [
              0.7777777777777778,
              "#fb9f3a"
             ],
             [
              0.8888888888888888,
              "#fdca26"
             ],
             [
              1,
              "#f0f921"
             ]
            ],
            "type": "contour"
           }
          ],
          "contourcarpet": [
           {
            "colorbar": {
             "outlinewidth": 0,
             "ticks": ""
            },
            "type": "contourcarpet"
           }
          ],
          "heatmap": [
           {
            "colorbar": {
             "outlinewidth": 0,
             "ticks": ""
            },
            "colorscale": [
             [
              0,
              "#0d0887"
             ],
             [
              0.1111111111111111,
              "#46039f"
             ],
             [
              0.2222222222222222,
              "#7201a8"
             ],
             [
              0.3333333333333333,
              "#9c179e"
             ],
             [
              0.4444444444444444,
              "#bd3786"
             ],
             [
              0.5555555555555556,
              "#d8576b"
             ],
             [
              0.6666666666666666,
              "#ed7953"
             ],
             [
              0.7777777777777778,
              "#fb9f3a"
             ],
             [
              0.8888888888888888,
              "#fdca26"
             ],
             [
              1,
              "#f0f921"
             ]
            ],
            "type": "heatmap"
           }
          ],
          "histogram": [
           {
            "marker": {
             "pattern": {
              "fillmode": "overlay",
              "size": 10,
              "solidity": 0.2
             }
            },
            "type": "histogram"
           }
          ],
          "histogram2d": [
           {
            "colorbar": {
             "outlinewidth": 0,
             "ticks": ""
            },
            "colorscale": [
             [
              0,
              "#0d0887"
             ],
             [
              0.1111111111111111,
              "#46039f"
             ],
             [
              0.2222222222222222,
              "#7201a8"
             ],
             [
              0.3333333333333333,
              "#9c179e"
             ],
             [
              0.4444444444444444,
              "#bd3786"
             ],
             [
              0.5555555555555556,
              "#d8576b"
             ],
             [
              0.6666666666666666,
              "#ed7953"
             ],
             [
              0.7777777777777778,
              "#fb9f3a"
             ],
             [
              0.8888888888888888,
              "#fdca26"
             ],
             [
              1,
              "#f0f921"
             ]
            ],
            "type": "histogram2d"
           }
          ],
          "histogram2dcontour": [
           {
            "colorbar": {
             "outlinewidth": 0,
             "ticks": ""
            },
            "colorscale": [
             [
              0,
              "#0d0887"
             ],
             [
              0.1111111111111111,
              "#46039f"
             ],
             [
              0.2222222222222222,
              "#7201a8"
             ],
             [
              0.3333333333333333,
              "#9c179e"
             ],
             [
              0.4444444444444444,
              "#bd3786"
             ],
             [
              0.5555555555555556,
              "#d8576b"
             ],
             [
              0.6666666666666666,
              "#ed7953"
             ],
             [
              0.7777777777777778,
              "#fb9f3a"
             ],
             [
              0.8888888888888888,
              "#fdca26"
             ],
             [
              1,
              "#f0f921"
             ]
            ],
            "type": "histogram2dcontour"
           }
          ],
          "mesh3d": [
           {
            "colorbar": {
             "outlinewidth": 0,
             "ticks": ""
            },
            "type": "mesh3d"
           }
          ],
          "parcoords": [
           {
            "line": {
             "colorbar": {
              "outlinewidth": 0,
              "ticks": ""
             }
            },
            "type": "parcoords"
           }
          ],
          "pie": [
           {
            "automargin": true,
            "type": "pie"
           }
          ],
          "scatter": [
           {
            "fillpattern": {
             "fillmode": "overlay",
             "size": 10,
             "solidity": 0.2
            },
            "type": "scatter"
           }
          ],
          "scatter3d": [
           {
            "line": {
             "colorbar": {
              "outlinewidth": 0,
              "ticks": ""
             }
            },
            "marker": {
             "colorbar": {
              "outlinewidth": 0,
              "ticks": ""
             }
            },
            "type": "scatter3d"
           }
          ],
          "scattercarpet": [
           {
            "marker": {
             "colorbar": {
              "outlinewidth": 0,
              "ticks": ""
             }
            },
            "type": "scattercarpet"
           }
          ],
          "scattergeo": [
           {
            "marker": {
             "colorbar": {
              "outlinewidth": 0,
              "ticks": ""
             }
            },
            "type": "scattergeo"
           }
          ],
          "scattergl": [
           {
            "marker": {
             "colorbar": {
              "outlinewidth": 0,
              "ticks": ""
             }
            },
            "type": "scattergl"
           }
          ],
          "scattermap": [
           {
            "marker": {
             "colorbar": {
              "outlinewidth": 0,
              "ticks": ""
             }
            },
            "type": "scattermap"
           }
          ],
          "scattermapbox": [
           {
            "marker": {
             "colorbar": {
              "outlinewidth": 0,
              "ticks": ""
             }
            },
            "type": "scattermapbox"
           }
          ],
          "scatterpolar": [
           {
            "marker": {
             "colorbar": {
              "outlinewidth": 0,
              "ticks": ""
             }
            },
            "type": "scatterpolar"
           }
          ],
          "scatterpolargl": [
           {
            "marker": {
             "colorbar": {
              "outlinewidth": 0,
              "ticks": ""
             }
            },
            "type": "scatterpolargl"
           }
          ],
          "scatterternary": [
           {
            "marker": {
             "colorbar": {
              "outlinewidth": 0,
              "ticks": ""
             }
            },
            "type": "scatterternary"
           }
          ],
          "surface": [
           {
            "colorbar": {
             "outlinewidth": 0,
             "ticks": ""
            },
            "colorscale": [
             [
              0,
              "#0d0887"
             ],
             [
              0.1111111111111111,
              "#46039f"
             ],
             [
              0.2222222222222222,
              "#7201a8"
             ],
             [
              0.3333333333333333,
              "#9c179e"
             ],
             [
              0.4444444444444444,
              "#bd3786"
             ],
             [
              0.5555555555555556,
              "#d8576b"
             ],
             [
              0.6666666666666666,
              "#ed7953"
             ],
             [
              0.7777777777777778,
              "#fb9f3a"
             ],
             [
              0.8888888888888888,
              "#fdca26"
             ],
             [
              1,
              "#f0f921"
             ]
            ],
            "type": "surface"
           }
          ],
          "table": [
           {
            "cells": {
             "fill": {
              "color": "#EBF0F8"
             },
             "line": {
              "color": "white"
             }
            },
            "header": {
             "fill": {
              "color": "#C8D4E3"
             },
             "line": {
              "color": "white"
             }
            },
            "type": "table"
           }
          ]
         },
         "layout": {
          "annotationdefaults": {
           "arrowcolor": "#2a3f5f",
           "arrowhead": 0,
           "arrowwidth": 1
          },
          "autotypenumbers": "strict",
          "coloraxis": {
           "colorbar": {
            "outlinewidth": 0,
            "ticks": ""
           }
          },
          "colorscale": {
           "diverging": [
            [
             0,
             "#8e0152"
            ],
            [
             0.1,
             "#c51b7d"
            ],
            [
             0.2,
             "#de77ae"
            ],
            [
             0.3,
             "#f1b6da"
            ],
            [
             0.4,
             "#fde0ef"
            ],
            [
             0.5,
             "#f7f7f7"
            ],
            [
             0.6,
             "#e6f5d0"
            ],
            [
             0.7,
             "#b8e186"
            ],
            [
             0.8,
             "#7fbc41"
            ],
            [
             0.9,
             "#4d9221"
            ],
            [
             1,
             "#276419"
            ]
           ],
           "sequential": [
            [
             0,
             "#0d0887"
            ],
            [
             0.1111111111111111,
             "#46039f"
            ],
            [
             0.2222222222222222,
             "#7201a8"
            ],
            [
             0.3333333333333333,
             "#9c179e"
            ],
            [
             0.4444444444444444,
             "#bd3786"
            ],
            [
             0.5555555555555556,
             "#d8576b"
            ],
            [
             0.6666666666666666,
             "#ed7953"
            ],
            [
             0.7777777777777778,
             "#fb9f3a"
            ],
            [
             0.8888888888888888,
             "#fdca26"
            ],
            [
             1,
             "#f0f921"
            ]
           ],
           "sequentialminus": [
            [
             0,
             "#0d0887"
            ],
            [
             0.1111111111111111,
             "#46039f"
            ],
            [
             0.2222222222222222,
             "#7201a8"
            ],
            [
             0.3333333333333333,
             "#9c179e"
            ],
            [
             0.4444444444444444,
             "#bd3786"
            ],
            [
             0.5555555555555556,
             "#d8576b"
            ],
            [
             0.6666666666666666,
             "#ed7953"
            ],
            [
             0.7777777777777778,
             "#fb9f3a"
            ],
            [
             0.8888888888888888,
             "#fdca26"
            ],
            [
             1,
             "#f0f921"
            ]
           ]
          },
          "colorway": [
           "#636efa",
           "#EF553B",
           "#00cc96",
           "#ab63fa",
           "#FFA15A",
           "#19d3f3",
           "#FF6692",
           "#B6E880",
           "#FF97FF",
           "#FECB52"
          ],
          "font": {
           "color": "#2a3f5f"
          },
          "geo": {
           "bgcolor": "white",
           "lakecolor": "white",
           "landcolor": "#E5ECF6",
           "showlakes": true,
           "showland": true,
           "subunitcolor": "white"
          },
          "hoverlabel": {
           "align": "left"
          },
          "hovermode": "closest",
          "mapbox": {
           "style": "light"
          },
          "paper_bgcolor": "white",
          "plot_bgcolor": "#E5ECF6",
          "polar": {
           "angularaxis": {
            "gridcolor": "white",
            "linecolor": "white",
            "ticks": ""
           },
           "bgcolor": "#E5ECF6",
           "radialaxis": {
            "gridcolor": "white",
            "linecolor": "white",
            "ticks": ""
           }
          },
          "scene": {
           "xaxis": {
            "backgroundcolor": "#E5ECF6",
            "gridcolor": "white",
            "gridwidth": 2,
            "linecolor": "white",
            "showbackground": true,
            "ticks": "",
            "zerolinecolor": "white"
           },
           "yaxis": {
            "backgroundcolor": "#E5ECF6",
            "gridcolor": "white",
            "gridwidth": 2,
            "linecolor": "white",
            "showbackground": true,
            "ticks": "",
            "zerolinecolor": "white"
           },
           "zaxis": {
            "backgroundcolor": "#E5ECF6",
            "gridcolor": "white",
            "gridwidth": 2,
            "linecolor": "white",
            "showbackground": true,
            "ticks": "",
            "zerolinecolor": "white"
           }
          },
          "shapedefaults": {
           "line": {
            "color": "#2a3f5f"
           }
          },
          "ternary": {
           "aaxis": {
            "gridcolor": "white",
            "linecolor": "white",
            "ticks": ""
           },
           "baxis": {
            "gridcolor": "white",
            "linecolor": "white",
            "ticks": ""
           },
           "bgcolor": "#E5ECF6",
           "caxis": {
            "gridcolor": "white",
            "linecolor": "white",
            "ticks": ""
           }
          },
          "title": {
           "x": 0.05
          },
          "xaxis": {
           "automargin": true,
           "gridcolor": "white",
           "linecolor": "white",
           "ticks": "",
           "title": {
            "standoff": 15
           },
           "zerolinecolor": "white",
           "zerolinewidth": 2
          },
          "yaxis": {
           "automargin": true,
           "gridcolor": "white",
           "linecolor": "white",
           "ticks": "",
           "title": {
            "standoff": 15
           },
           "zerolinecolor": "white",
           "zerolinewidth": 2
          }
         }
        },
        "xaxis": {
         "linecolor": "lightgray",
         "range": [
          -0.5,
          2.5
         ],
         "showgrid": false,
         "tickcolor": "lightgray",
         "tickfont": {
          "color": "black",
          "family": "Times New Roman",
          "size": 26
         },
         "tickmode": "array",
         "ticktext": [
          "W",
          "Z",
          "X"
         ],
         "tickvals": [
          0,
          1,
          2
         ]
        },
        "yaxis": {
         "dtick": 0.1,
         "gridcolor": "lightgray",
         "linecolor": "lightgray",
         "range": [
          0,
          0.9
         ],
         "showgrid": true,
         "tickcolor": "lightgray",
         "tickfont": {
          "color": "black",
          "family": "Times New Roman",
          "size": 25
         },
         "ticks": "outside",
         "title": {
          "font": {
           "color": "black",
           "family": "Times New Roman",
           "size": 25
          },
          "text": "Attributions"
         }
        }
       }
      }
     },
     "metadata": {},
     "output_type": "display_data"
    }
   ],
   "source": [
    "# Load JSON\n",
    "with open(PREFIX +\"attributions/syn/attribution.json\", \"r\") as f:\n",
    "    data = json.load(f)\n",
    "global_explanations = data['global_explanations']    \n",
    "generate_attr_plot(global_explanations,config)"
   ]
  },
  {
   "cell_type": "code",
   "execution_count": 11,
   "id": "65d7e825",
   "metadata": {},
   "outputs": [
    {
     "name": "stdout",
     "output_type": "stream",
     "text": [
      "{'ig': {'pgi': {'k=1': [0.01924695074558258], 'k=2': [0.023772092536091805], 'k=3': [0.031158024445176125]}, 'pgu': {'k=1': [0.015870701521635056], 'k=2': [0.010435132309794426], 'k=3': [2.46800491154886e-09]}}, 'itg': {'pgi': {'k=1': [0.019202031195163727], 'k=2': [0.023762447759509087], 'k=3': [0.031152067705988884]}, 'pgu': {'k=1': [0.015857240185141563], 'k=2': [0.010436446405947208], 'k=3': [2.46800491154886e-09]}}, 'sg': {'pgi': {'k=1': [0.019269410520792007], 'k=2': [0.02861427329480648], 'k=3': [0.031247831881046295]}, 'pgu': {'k=1': [0.015856651589274406], 'k=2': [0.007872041314840317], 'k=3': [2.46800491154886e-09]}}, 'shap': {'pgi': {'k=1': [0.019236573949456215], 'k=2': [0.02866903319954872], 'k=3': [0.0311428289860487]}, 'pgu': {'k=1': [0.015867454931139946], 'k=2': [0.007820969447493553], 'k=3': [2.46800491154886e-09]}}, 'lime': {'pgi': {'k=1': [0.019243085756897926], 'k=2': [0.023823710158467293], 'k=3': [0.03120136260986328]}, 'pgu': {'k=1': [0.015902578830718994], 'k=2': [0.010448602959513664], 'k=3': [2.46800491154886e-09]}}, 'sp_lime': {'pgi': {'k=1': [0.007820763625204563], 'k=2': [0.023776059970259666], 'k=3': [0.031230725347995758]}, 'pgu': {'k=1': [0.028754154220223427], 'k=2': [0.01044811587780714], 'k=3': [2.46800491154886e-09]}}, 'pfi': {'pgi': {'k=1': [0.019262246787548065], 'k=2': [0.023737642914056778], 'k=3': [0.031140515580773354]}, 'pgu': {'k=1': [0.01591816544532776], 'k=2': [0.010452858172357082], 'k=3': [2.46800491154886e-09]}}, 'icc_topo': {'pgi': {'k=1': [0.01922120340168476], 'k=2': [0.028779154643416405], 'k=3': [0.031152617186307907]}, 'pgu': {'k=1': [0.01590135134756565], 'k=2': [0.007843023166060448], 'k=3': [2.46800491154886e-09]}}, 'icc_shap': {'pgi': {'k=1': [0.019246913492679596], 'k=2': [0.02863140031695366], 'k=3': [0.031243210658431053]}, 'pgu': {'k=1': [0.015904782339930534], 'k=2': [0.007813558913767338], 'k=3': [2.46800491154886e-09]}}}\n",
      "ig: PGU Sum = 0.026306, PGI Sum = 0.074177\n",
      "itg: PGU Sum = 0.026294, PGI Sum = 0.074117\n",
      "sg: PGU Sum = 0.023729, PGI Sum = 0.079132\n",
      "shap: PGU Sum = 0.023688, PGI Sum = 0.079048\n",
      "lime: PGU Sum = 0.026351, PGI Sum = 0.074268\n",
      "sp_lime: PGU Sum = 0.039202, PGI Sum = 0.062828\n",
      "pfi: PGU Sum = 0.026371, PGI Sum = 0.074140\n",
      "icc_topo: PGU Sum = 0.023744, PGI Sum = 0.079153\n",
      "icc_shap: PGU Sum = 0.023718, PGI Sum = 0.079122\n"
     ]
    }
   ],
   "source": [
    "# Call the function\n",
    "ge_dict = data[\"ge_dict\"]\n",
    "evaluation_metrics = evaluate_exp(ge_dict,config,mlp_model)\n",
    "print(evaluation_metrics)\n",
    "# Display the results\n",
    "agg_scores = compute_pgu_pgi_sums(evaluation_metrics)\n",
    "for method, scores in agg_scores.items():\n",
    "    print(f\"{method}: PGU Sum = {scores['pgu_sum']:.6f}, PGI Sum = {scores['pgi_sum']:.6f}\")"
   ]
  },
  {
   "cell_type": "code",
   "execution_count": 12,
   "id": "0e7113c6",
   "metadata": {},
   "outputs": [
    {
     "name": "stdout",
     "output_type": "stream",
     "text": [
      "ig: PGI AUC = 0.024487, PGU AUC = 0.009185\n",
      "itg: PGI AUC = 0.024470, PGU AUC = 0.009183\n",
      "sg: PGI AUC = 0.026936, PGU AUC = 0.007900\n",
      "shap: PGI AUC = 0.026929, PGU AUC = 0.007877\n",
      "lime: PGI AUC = 0.024523, PGU AUC = 0.009200\n",
      "sp_lime: PGI AUC = 0.021651, PGU AUC = 0.012413\n",
      "pfi: PGI AUC = 0.024470, PGU AUC = 0.009206\n",
      "icc_topo: PGI AUC = 0.026983, PGU AUC = 0.007897\n",
      "icc_shap: PGI AUC = 0.026938, PGU AUC = 0.007883\n"
     ]
    }
   ],
   "source": [
    "auc_results = compute_auc(evaluation_metrics,config)\n",
    "for method, vals in auc_results.items():\n",
    "    print(f\"{method}: PGI AUC = {vals['pgi_auc']:.6f}, PGU AUC = {vals['pgu_auc']:.6f}\")\n"
   ]
  },
  {
   "cell_type": "markdown",
   "id": "1314c3c3",
   "metadata": {},
   "source": [
    "## Test"
   ]
  },
  {
   "cell_type": "code",
   "execution_count": 2,
   "id": "9cdf7d7f",
   "metadata": {},
   "outputs": [
    {
     "name": "stdout",
     "output_type": "stream",
     "text": [
      "Max Iterations:  100\n",
      "Starting Iteration:  1\n",
      "Max Iterations:  100\n",
      "Starting Iteration:  1\n",
      "Max Iterations:  100\n",
      "Starting Iteration:  1\n",
      "Max Iterations:  100\n",
      "Starting Iteration:  1\n",
      "Max Iterations:  100\n",
      "Starting Iteration:  1\n"
     ]
    }
   ],
   "source": [
    "config = CONFIG['syn']\n",
    "mlp_path = '/home/dhruv/Files/Thesis/Dissertation/Code/models/syn_ann/syn_ann_seed_10/logs/version_0/checkpoints/epoch=161-step=5184.ckpt'\n",
    "scm_path = '/home/dhruv/Files/Thesis/Dissertation/Code/models/syn_nf/syn_nf_seed_10/logs/version_0/checkpoints/epoch=19-step=640.ckpt'\n",
    "mlp_model = MLPLightning.load_from_checkpoint(mlp_path,model = MLP(config['num_features'],config['hidden_layers_ann'],classification=False))\n",
    "scm_model = CausalNF.load_from_checkpoint(scm_path,flow = flow(config['num_features'],config['gd_adjacency'],config['hidden_layers_flow']))\n",
    "ge_dict, evaluation_metrics, time_dict, global_explanations = generate_global_exps(config,mlp_model,scm_model)"
   ]
  },
  {
   "cell_type": "code",
   "execution_count": 3,
   "id": "d8d7c267",
   "metadata": {},
   "outputs": [
    {
     "data": {
      "text/plain": [
       "{'ig': {'W': [0.008685602410414437],\n",
       "  'Z': [0.5541948194138167],\n",
       "  'X': [0.4371195781757688]},\n",
       " 'itg': {'W': [0.008485306748260027],\n",
       "  'Z': [0.497316907775009],\n",
       "  'X': [0.49419778547673104]},\n",
       " 'sg': {'W': [0.13136424456458626],\n",
       "  'Z': [0.3860659244300918],\n",
       "  'X': [0.48256983100532197]},\n",
       " 'shap': {'W': [0.5803365821763931],\n",
       "  'Z': [0.3543153621348831],\n",
       "  'X': [0.06534805568872387]},\n",
       " 'lime': {'W': [0.2837432524861816],\n",
       "  'Z': [0.293367905107146],\n",
       "  'X': [0.4228888424066725]},\n",
       " 'sp_lime': {'X': [0.41602805243460733],\n",
       "  'W': [0.2947343644233361],\n",
       "  'Z': [0.2892375831420565]},\n",
       " 'pfi': {'W': [0.2555289566516876],\n",
       "  'Z': [0.2728649377822876],\n",
       "  'X': [0.47160604596138]},\n",
       " 'icc_topo': {'W': [0.07992755621671677],\n",
       "  'Z': [0.6083893179893494],\n",
       "  'X': [0.31013962626457214]},\n",
       " 'icc_shap': {'W': [0.1287594437599182],\n",
       "  'Z': [0.6630550622940063],\n",
       "  'X': [0.20664207637310028]}}"
      ]
     },
     "execution_count": 3,
     "metadata": {},
     "output_type": "execute_result"
    }
   ],
   "source": [
    "ge_dict"
   ]
  },
  {
   "cell_type": "code",
   "execution_count": 9,
   "id": "0d220fd6",
   "metadata": {},
   "outputs": [
    {
     "data": {
      "application/vnd.plotly.v1+json": {
       "config": {
        "plotlyServerURL": "https://plot.ly"
       },
       "data": [
        {
         "marker": {
          "color": "#E69F00",
          "line": {
           "width": 0.05
          }
         },
         "name": "IG",
         "type": "bar",
         "width": 0.06,
         "x": [
          "W",
          "Z",
          "X"
         ],
         "y": {
          "bdata": "X+tj0sHJgT/I1h/G9rvhPxMzLWXE+ds/",
          "dtype": "f8"
         }
        },
        {
         "marker": {
          "color": "#56B4E9",
          "line": {
           "width": 0.05
          }
         },
         "name": "IxG",
         "type": "bar",
         "width": 0.06,
         "x": [
          "W",
          "Z",
          "X"
         ],
         "y": {
          "bdata": "G6rXl75ggT+HDqlLCtTfPyk0mL/voN8/",
          "dtype": "f8"
         }
        },
        {
         "marker": {
          "color": "#009E73",
          "line": {
           "width": 0.05
          }
         },
         "name": "SG",
         "type": "bar",
         "width": 0.06,
         "x": [
          "W",
          "Z",
          "X"
         ],
         "y": {
          "bdata": "62IiJ4vQwD9+vuHZTbXYPw0QjZJs4t4/",
          "dtype": "f8"
         }
        },
        {
         "marker": {
          "color": "#F5C710",
          "line": {
           "width": 0.05
          }
         },
         "name": "SHAP",
         "type": "bar",
         "width": 0.06,
         "x": [
          "W",
          "Z",
          "X"
         ],
         "y": {
          "bdata": "PtcjBh6S4j/4vTVXGq3WPzROCnKmurA/",
          "dtype": "f8"
         }
        },
        {
         "marker": {
          "color": "#0072B2",
          "line": {
           "width": 0.05
          }
         },
         "name": "LIME",
         "type": "bar",
         "width": 0.06,
         "x": [
          "W",
          "Z",
          "X"
         ],
         "y": {
          "bdata": "cOJ4ddko0j/3ZYgtisbSP5u3/lycENs/",
          "dtype": "f8"
         }
        },
        {
         "marker": {
          "color": "#999999",
          "line": {
           "width": 0.05
          }
         },
         "name": "SP LIME",
         "type": "bar",
         "width": 0.06,
         "x": [
          "W",
          "Z",
          "X"
         ],
         "y": {
          "bdata": "IigNhu3c0j8yoRda3oLSP6s22x80oNo/",
          "dtype": "f8"
         }
        },
        {
         "marker": {
          "color": "#000000",
          "line": {
           "width": 0.05
          }
         },
         "name": "PFI",
         "type": "bar",
         "width": 0.06,
         "x": [
          "W",
          "Z",
          "X"
         ],
         "y": {
          "bdata": "AAAAIJZa0D8AAACAnnbRPwAAACDLLt4/",
          "dtype": "f8"
         }
        },
        {
         "marker": {
          "color": "#D55E00",
          "line": {
           "width": 0.05
          }
         },
         "name": "ICC TOPO",
         "type": "bar",
         "width": 0.06,
         "x": [
          "W",
          "Z",
          "X"
         ],
         "y": {
          "bdata": "AAAA4CF2tD8AAADg7HfjPwAAAOBT2dM/",
          "dtype": "f8"
         }
        },
        {
         "marker": {
          "color": "#CC79A7",
          "line": {
           "width": 0.05
          }
         },
         "name": "ICC SHAP",
         "type": "bar",
         "width": 0.06,
         "x": [
          "W",
          "Z",
          "X"
         ],
         "y": {
          "bdata": "AAAAgDB7wD8AAABAvzflPwAAAGA/c8o/",
          "dtype": "f8"
         }
        }
       ],
       "layout": {
        "bargap": 0.45,
        "bargroupgap": 1,
        "barmode": "group",
        "font": {
         "size": 14
        },
        "legend": {
         "font": {
          "color": "black",
          "family": "Times New Roman",
          "size": 25
         },
         "title": {
          "font": {
           "color": "black",
           "family": "Times New Roman",
           "size": 25
          },
          "text": "Method"
         }
        },
        "plot_bgcolor": "rgba(0,0,0,0)",
        "showlegend": true,
        "template": {
         "data": {
          "bar": [
           {
            "error_x": {
             "color": "#2a3f5f"
            },
            "error_y": {
             "color": "#2a3f5f"
            },
            "marker": {
             "line": {
              "color": "#E5ECF6",
              "width": 0.5
             },
             "pattern": {
              "fillmode": "overlay",
              "size": 10,
              "solidity": 0.2
             }
            },
            "type": "bar"
           }
          ],
          "barpolar": [
           {
            "marker": {
             "line": {
              "color": "#E5ECF6",
              "width": 0.5
             },
             "pattern": {
              "fillmode": "overlay",
              "size": 10,
              "solidity": 0.2
             }
            },
            "type": "barpolar"
           }
          ],
          "carpet": [
           {
            "aaxis": {
             "endlinecolor": "#2a3f5f",
             "gridcolor": "white",
             "linecolor": "white",
             "minorgridcolor": "white",
             "startlinecolor": "#2a3f5f"
            },
            "baxis": {
             "endlinecolor": "#2a3f5f",
             "gridcolor": "white",
             "linecolor": "white",
             "minorgridcolor": "white",
             "startlinecolor": "#2a3f5f"
            },
            "type": "carpet"
           }
          ],
          "choropleth": [
           {
            "colorbar": {
             "outlinewidth": 0,
             "ticks": ""
            },
            "type": "choropleth"
           }
          ],
          "contour": [
           {
            "colorbar": {
             "outlinewidth": 0,
             "ticks": ""
            },
            "colorscale": [
             [
              0,
              "#0d0887"
             ],
             [
              0.1111111111111111,
              "#46039f"
             ],
             [
              0.2222222222222222,
              "#7201a8"
             ],
             [
              0.3333333333333333,
              "#9c179e"
             ],
             [
              0.4444444444444444,
              "#bd3786"
             ],
             [
              0.5555555555555556,
              "#d8576b"
             ],
             [
              0.6666666666666666,
              "#ed7953"
             ],
             [
              0.7777777777777778,
              "#fb9f3a"
             ],
             [
              0.8888888888888888,
              "#fdca26"
             ],
             [
              1,
              "#f0f921"
             ]
            ],
            "type": "contour"
           }
          ],
          "contourcarpet": [
           {
            "colorbar": {
             "outlinewidth": 0,
             "ticks": ""
            },
            "type": "contourcarpet"
           }
          ],
          "heatmap": [
           {
            "colorbar": {
             "outlinewidth": 0,
             "ticks": ""
            },
            "colorscale": [
             [
              0,
              "#0d0887"
             ],
             [
              0.1111111111111111,
              "#46039f"
             ],
             [
              0.2222222222222222,
              "#7201a8"
             ],
             [
              0.3333333333333333,
              "#9c179e"
             ],
             [
              0.4444444444444444,
              "#bd3786"
             ],
             [
              0.5555555555555556,
              "#d8576b"
             ],
             [
              0.6666666666666666,
              "#ed7953"
             ],
             [
              0.7777777777777778,
              "#fb9f3a"
             ],
             [
              0.8888888888888888,
              "#fdca26"
             ],
             [
              1,
              "#f0f921"
             ]
            ],
            "type": "heatmap"
           }
          ],
          "histogram": [
           {
            "marker": {
             "pattern": {
              "fillmode": "overlay",
              "size": 10,
              "solidity": 0.2
             }
            },
            "type": "histogram"
           }
          ],
          "histogram2d": [
           {
            "colorbar": {
             "outlinewidth": 0,
             "ticks": ""
            },
            "colorscale": [
             [
              0,
              "#0d0887"
             ],
             [
              0.1111111111111111,
              "#46039f"
             ],
             [
              0.2222222222222222,
              "#7201a8"
             ],
             [
              0.3333333333333333,
              "#9c179e"
             ],
             [
              0.4444444444444444,
              "#bd3786"
             ],
             [
              0.5555555555555556,
              "#d8576b"
             ],
             [
              0.6666666666666666,
              "#ed7953"
             ],
             [
              0.7777777777777778,
              "#fb9f3a"
             ],
             [
              0.8888888888888888,
              "#fdca26"
             ],
             [
              1,
              "#f0f921"
             ]
            ],
            "type": "histogram2d"
           }
          ],
          "histogram2dcontour": [
           {
            "colorbar": {
             "outlinewidth": 0,
             "ticks": ""
            },
            "colorscale": [
             [
              0,
              "#0d0887"
             ],
             [
              0.1111111111111111,
              "#46039f"
             ],
             [
              0.2222222222222222,
              "#7201a8"
             ],
             [
              0.3333333333333333,
              "#9c179e"
             ],
             [
              0.4444444444444444,
              "#bd3786"
             ],
             [
              0.5555555555555556,
              "#d8576b"
             ],
             [
              0.6666666666666666,
              "#ed7953"
             ],
             [
              0.7777777777777778,
              "#fb9f3a"
             ],
             [
              0.8888888888888888,
              "#fdca26"
             ],
             [
              1,
              "#f0f921"
             ]
            ],
            "type": "histogram2dcontour"
           }
          ],
          "mesh3d": [
           {
            "colorbar": {
             "outlinewidth": 0,
             "ticks": ""
            },
            "type": "mesh3d"
           }
          ],
          "parcoords": [
           {
            "line": {
             "colorbar": {
              "outlinewidth": 0,
              "ticks": ""
             }
            },
            "type": "parcoords"
           }
          ],
          "pie": [
           {
            "automargin": true,
            "type": "pie"
           }
          ],
          "scatter": [
           {
            "fillpattern": {
             "fillmode": "overlay",
             "size": 10,
             "solidity": 0.2
            },
            "type": "scatter"
           }
          ],
          "scatter3d": [
           {
            "line": {
             "colorbar": {
              "outlinewidth": 0,
              "ticks": ""
             }
            },
            "marker": {
             "colorbar": {
              "outlinewidth": 0,
              "ticks": ""
             }
            },
            "type": "scatter3d"
           }
          ],
          "scattercarpet": [
           {
            "marker": {
             "colorbar": {
              "outlinewidth": 0,
              "ticks": ""
             }
            },
            "type": "scattercarpet"
           }
          ],
          "scattergeo": [
           {
            "marker": {
             "colorbar": {
              "outlinewidth": 0,
              "ticks": ""
             }
            },
            "type": "scattergeo"
           }
          ],
          "scattergl": [
           {
            "marker": {
             "colorbar": {
              "outlinewidth": 0,
              "ticks": ""
             }
            },
            "type": "scattergl"
           }
          ],
          "scattermap": [
           {
            "marker": {
             "colorbar": {
              "outlinewidth": 0,
              "ticks": ""
             }
            },
            "type": "scattermap"
           }
          ],
          "scattermapbox": [
           {
            "marker": {
             "colorbar": {
              "outlinewidth": 0,
              "ticks": ""
             }
            },
            "type": "scattermapbox"
           }
          ],
          "scatterpolar": [
           {
            "marker": {
             "colorbar": {
              "outlinewidth": 0,
              "ticks": ""
             }
            },
            "type": "scatterpolar"
           }
          ],
          "scatterpolargl": [
           {
            "marker": {
             "colorbar": {
              "outlinewidth": 0,
              "ticks": ""
             }
            },
            "type": "scatterpolargl"
           }
          ],
          "scatterternary": [
           {
            "marker": {
             "colorbar": {
              "outlinewidth": 0,
              "ticks": ""
             }
            },
            "type": "scatterternary"
           }
          ],
          "surface": [
           {
            "colorbar": {
             "outlinewidth": 0,
             "ticks": ""
            },
            "colorscale": [
             [
              0,
              "#0d0887"
             ],
             [
              0.1111111111111111,
              "#46039f"
             ],
             [
              0.2222222222222222,
              "#7201a8"
             ],
             [
              0.3333333333333333,
              "#9c179e"
             ],
             [
              0.4444444444444444,
              "#bd3786"
             ],
             [
              0.5555555555555556,
              "#d8576b"
             ],
             [
              0.6666666666666666,
              "#ed7953"
             ],
             [
              0.7777777777777778,
              "#fb9f3a"
             ],
             [
              0.8888888888888888,
              "#fdca26"
             ],
             [
              1,
              "#f0f921"
             ]
            ],
            "type": "surface"
           }
          ],
          "table": [
           {
            "cells": {
             "fill": {
              "color": "#EBF0F8"
             },
             "line": {
              "color": "white"
             }
            },
            "header": {
             "fill": {
              "color": "#C8D4E3"
             },
             "line": {
              "color": "white"
             }
            },
            "type": "table"
           }
          ]
         },
         "layout": {
          "annotationdefaults": {
           "arrowcolor": "#2a3f5f",
           "arrowhead": 0,
           "arrowwidth": 1
          },
          "autotypenumbers": "strict",
          "coloraxis": {
           "colorbar": {
            "outlinewidth": 0,
            "ticks": ""
           }
          },
          "colorscale": {
           "diverging": [
            [
             0,
             "#8e0152"
            ],
            [
             0.1,
             "#c51b7d"
            ],
            [
             0.2,
             "#de77ae"
            ],
            [
             0.3,
             "#f1b6da"
            ],
            [
             0.4,
             "#fde0ef"
            ],
            [
             0.5,
             "#f7f7f7"
            ],
            [
             0.6,
             "#e6f5d0"
            ],
            [
             0.7,
             "#b8e186"
            ],
            [
             0.8,
             "#7fbc41"
            ],
            [
             0.9,
             "#4d9221"
            ],
            [
             1,
             "#276419"
            ]
           ],
           "sequential": [
            [
             0,
             "#0d0887"
            ],
            [
             0.1111111111111111,
             "#46039f"
            ],
            [
             0.2222222222222222,
             "#7201a8"
            ],
            [
             0.3333333333333333,
             "#9c179e"
            ],
            [
             0.4444444444444444,
             "#bd3786"
            ],
            [
             0.5555555555555556,
             "#d8576b"
            ],
            [
             0.6666666666666666,
             "#ed7953"
            ],
            [
             0.7777777777777778,
             "#fb9f3a"
            ],
            [
             0.8888888888888888,
             "#fdca26"
            ],
            [
             1,
             "#f0f921"
            ]
           ],
           "sequentialminus": [
            [
             0,
             "#0d0887"
            ],
            [
             0.1111111111111111,
             "#46039f"
            ],
            [
             0.2222222222222222,
             "#7201a8"
            ],
            [
             0.3333333333333333,
             "#9c179e"
            ],
            [
             0.4444444444444444,
             "#bd3786"
            ],
            [
             0.5555555555555556,
             "#d8576b"
            ],
            [
             0.6666666666666666,
             "#ed7953"
            ],
            [
             0.7777777777777778,
             "#fb9f3a"
            ],
            [
             0.8888888888888888,
             "#fdca26"
            ],
            [
             1,
             "#f0f921"
            ]
           ]
          },
          "colorway": [
           "#636efa",
           "#EF553B",
           "#00cc96",
           "#ab63fa",
           "#FFA15A",
           "#19d3f3",
           "#FF6692",
           "#B6E880",
           "#FF97FF",
           "#FECB52"
          ],
          "font": {
           "color": "#2a3f5f"
          },
          "geo": {
           "bgcolor": "white",
           "lakecolor": "white",
           "landcolor": "#E5ECF6",
           "showlakes": true,
           "showland": true,
           "subunitcolor": "white"
          },
          "hoverlabel": {
           "align": "left"
          },
          "hovermode": "closest",
          "mapbox": {
           "style": "light"
          },
          "paper_bgcolor": "white",
          "plot_bgcolor": "#E5ECF6",
          "polar": {
           "angularaxis": {
            "gridcolor": "white",
            "linecolor": "white",
            "ticks": ""
           },
           "bgcolor": "#E5ECF6",
           "radialaxis": {
            "gridcolor": "white",
            "linecolor": "white",
            "ticks": ""
           }
          },
          "scene": {
           "xaxis": {
            "backgroundcolor": "#E5ECF6",
            "gridcolor": "white",
            "gridwidth": 2,
            "linecolor": "white",
            "showbackground": true,
            "ticks": "",
            "zerolinecolor": "white"
           },
           "yaxis": {
            "backgroundcolor": "#E5ECF6",
            "gridcolor": "white",
            "gridwidth": 2,
            "linecolor": "white",
            "showbackground": true,
            "ticks": "",
            "zerolinecolor": "white"
           },
           "zaxis": {
            "backgroundcolor": "#E5ECF6",
            "gridcolor": "white",
            "gridwidth": 2,
            "linecolor": "white",
            "showbackground": true,
            "ticks": "",
            "zerolinecolor": "white"
           }
          },
          "shapedefaults": {
           "line": {
            "color": "#2a3f5f"
           }
          },
          "ternary": {
           "aaxis": {
            "gridcolor": "white",
            "linecolor": "white",
            "ticks": ""
           },
           "baxis": {
            "gridcolor": "white",
            "linecolor": "white",
            "ticks": ""
           },
           "bgcolor": "#E5ECF6",
           "caxis": {
            "gridcolor": "white",
            "linecolor": "white",
            "ticks": ""
           }
          },
          "title": {
           "x": 0.05
          },
          "xaxis": {
           "automargin": true,
           "gridcolor": "white",
           "linecolor": "white",
           "ticks": "",
           "title": {
            "standoff": 15
           },
           "zerolinecolor": "white",
           "zerolinewidth": 2
          },
          "yaxis": {
           "automargin": true,
           "gridcolor": "white",
           "linecolor": "white",
           "ticks": "",
           "title": {
            "standoff": 15
           },
           "zerolinecolor": "white",
           "zerolinewidth": 2
          }
         }
        },
        "xaxis": {
         "linecolor": "lightgray",
         "range": [
          -0.5,
          2.5
         ],
         "showgrid": false,
         "tickcolor": "lightgray",
         "tickfont": {
          "color": "black",
          "family": "Times New Roman",
          "size": 26
         },
         "tickmode": "array",
         "ticktext": [
          "W",
          "Z",
          "X"
         ],
         "tickvals": [
          0,
          1,
          2
         ]
        },
        "yaxis": {
         "dtick": 0.1,
         "gridcolor": "lightgray",
         "linecolor": "lightgray",
         "range": [
          0,
          0.9
         ],
         "showgrid": true,
         "tickcolor": "lightgray",
         "tickfont": {
          "color": "black",
          "family": "Times New Roman",
          "size": 25
         },
         "ticks": "outside",
         "title": {
          "font": {
           "color": "black",
           "family": "Times New Roman",
           "size": 25
          },
          "text": "Attributions"
         }
        }
       }
      }
     },
     "metadata": {},
     "output_type": "display_data"
    }
   ],
   "source": [
    "generate_attr_plot(global_explanations,config)"
   ]
  },
  {
   "cell_type": "code",
   "execution_count": 7,
   "id": "3964b8ca",
   "metadata": {},
   "outputs": [
    {
     "name": "stdout",
     "output_type": "stream",
     "text": [
      "ig: PGU Sum = 0.128419, PGI Sum = 0.000436\n",
      "itg: PGU Sum = 0.128419, PGI Sum = 0.000436\n",
      "sg: PGU Sum = 0.128418, PGI Sum = 0.000437\n",
      "shap: PGU Sum = 0.128420, PGI Sum = 0.000435\n",
      "lime: PGU Sum = 0.128418, PGI Sum = 0.000437\n",
      "sp_lime: PGU Sum = 0.128420, PGI Sum = 0.000435\n",
      "pfi: PGU Sum = 0.128418, PGI Sum = 0.000437\n",
      "icc_topo: PGU Sum = 0.128419, PGI Sum = 0.000436\n",
      "icc_shap: PGU Sum = 0.128419, PGI Sum = 0.000436\n"
     ]
    }
   ],
   "source": [
    "# Load JSON\n",
    "with open(\"/home/dhruv/Files/Thesis/Dissertation/Code/attributions/syn/attribution.json\", \"r\") as f:\n",
    "    data = json.load(f)\n",
    "\n",
    "# Call the function\n",
    "summary = compute_pgu_pgi_sums(data[\"evaluation_metrics\"])\n",
    "\n",
    "# Display the results\n",
    "for method, scores in summary.items():\n",
    "    print(f\"{method}: PGU Sum = {scores['pgu_sum']:.6f}, PGI Sum = {scores['pgi_sum']:.6f}\")\n"
   ]
  }
 ],
 "metadata": {
  "kernelspec": {
   "display_name": "Dhruv",
   "language": "python",
   "name": "python3"
  },
  "language_info": {
   "codemirror_mode": {
    "name": "ipython",
    "version": 3
   },
   "file_extension": ".py",
   "mimetype": "text/x-python",
   "name": "python",
   "nbconvert_exporter": "python",
   "pygments_lexer": "ipython3",
   "version": "3.12.2"
  }
 },
 "nbformat": 4,
 "nbformat_minor": 5
}
