{
 "cells": [
  {
   "cell_type": "code",
   "execution_count": 1,
   "id": "470b0957",
   "metadata": {},
   "outputs": [
    {
     "name": "stderr",
     "output_type": "stream",
     "text": [
      "/home/saptarshi/anaconda3/envs/Dhruv/lib/python3.12/site-packages/tqdm/auto.py:21: TqdmWarning: IProgress not found. Please update jupyter and ipywidgets. See https://ipywidgets.readthedocs.io/en/stable/user_install.html\n",
      "  from .autonotebook import tqdm as notebook_tqdm\n"
     ]
    }
   ],
   "source": [
    "%reset -f\n",
    "%load_ext autoreload\n",
    "%autoreload 2\n",
    "# import sys\n",
    "# sys.path.append('/home/saptarshi/Dhruv/Dissertation/ICC/')\n",
    "from generate_attributions import *\n",
    "from utils import CONFIG,evaluate_exp,PREFIX,aggregate_auc_or_sum"
   ]
  },
  {
   "cell_type": "markdown",
   "id": "8aa845c1",
   "metadata": {},
   "source": [
    "## German Credit Dataset"
   ]
  },
  {
   "cell_type": "code",
   "execution_count": 2,
   "id": "c2e8843d",
   "metadata": {},
   "outputs": [],
   "source": [
    "config = CONFIG['german']\n",
    "mlp_path = PREFIX + 'models/german_mlp/german_mlp_seed_20/logs/version_2/checkpoints/epoch=69-step=910.ckpt'\n",
    "scm_path = PREFIX + 'models/german_nf/german_nf_seed_20/logs/version_1/checkpoints/epoch=4-step=65.ckpt'\n",
    "mlp_model = MLPLightning.load_from_checkpoint(mlp_path,model = MLP(config['num_features'],config['hidden_layers_mlp'],classification=config['classification']))\n",
    "scm_model = CausalNF.load_from_checkpoint(scm_path,flow = flow(config['num_features'],config['gd_adjacency'],config['hidden_layers_flow']))"
   ]
  },
  {
   "cell_type": "code",
   "execution_count": 3,
   "id": "2f3cbfff",
   "metadata": {},
   "outputs": [
    {
     "name": "stdout",
     "output_type": "stream",
     "text": [
      "Max Iterations:  100\n",
      "Starting Iteration:  1\n",
      "Max Iterations:  100\n",
      "Starting Iteration:  1\n",
      "Max Iterations:  100\n",
      "Starting Iteration:  1\n",
      "Max Iterations:  100\n",
      "Starting Iteration:  1\n",
      "Max Iterations:  100\n",
      "Starting Iteration:  1\n"
     ]
    }
   ],
   "source": [
    "##generate attributions\n",
    "ge_dict, time_dict, global_explanations = generate_global_exps(config,mlp_model.to('cpu'),scm_model.to('cpu'))"
   ]
  },
  {
   "cell_type": "code",
   "execution_count": 4,
   "id": "a7a49264",
   "metadata": {},
   "outputs": [
    {
     "data": {
      "application/vnd.plotly.v1+json": {
       "config": {
        "plotlyServerURL": "https://plot.ly"
       },
       "data": [
        {
         "marker": {
          "color": "#75bea7",
          "line": {
           "width": 0.05
          }
         },
         "name": "SHAP",
         "type": "bar",
         "width": 0.06,
         "x": [
          "gender",
          "age",
          "credit amount",
          "repayment duration"
         ],
         "y": {
          "bdata": "RDK/orglpD/9p7kaATrXP+SoEkoiYcY/Rx3lq7YQ2z8=",
          "dtype": "f8"
         }
        },
        {
         "marker": {
          "color": "#ef6128",
          "line": {
           "width": 0.05
          }
         },
         "name": "LIME",
         "type": "bar",
         "width": 0.06,
         "x": [
          "gender",
          "age",
          "credit amount",
          "repayment duration"
         ],
         "y": {
          "bdata": "uOsHzsVUyj9HNUmJPbXOP43Bptp7frU/H7+tXV8b3j8=",
          "dtype": "f8"
         }
        },
        {
         "marker": {
          "color": "#5f5d5d",
          "line": {
           "width": 0.05
          }
         },
         "name": "SP LIME",
         "type": "bar",
         "width": 0.06,
         "x": [
          "gender",
          "age",
          "credit amount",
          "repayment duration"
         ],
         "y": {
          "bdata": "jzkwQ4ydxj9jpR7ShYXHP2b3QU3PN8A/acpbp0dp4D8=",
          "dtype": "f8"
         }
        },
        {
         "marker": {
          "color": "#AA7A33",
          "line": {
           "width": 0.05
          }
         },
         "name": "PFI",
         "type": "bar",
         "width": 0.06,
         "x": [
          "gender",
          "age",
          "credit amount",
          "repayment duration"
         ],
         "y": {
          "bdata": "AAAAQLV7yT8AAABAU5jGPwAAAOAnM9A/AAAAINTC1z8=",
          "dtype": "f8"
         }
        },
        {
         "marker": {
          "color": "#df52a9",
          "line": {
           "width": 0.05
          }
         },
         "name": "IG",
         "type": "bar",
         "width": 0.06,
         "x": [
          "gender",
          "age",
          "credit amount",
          "repayment duration"
         ],
         "y": {
          "bdata": "LPorxLS4cz/NVvZJ76fMP+4YaKvJUNU/xAuM3FsM3D8=",
          "dtype": "f8"
         }
        },
        {
         "marker": {
          "color": "#92dc1d",
          "line": {
           "width": 0.05
          }
         },
         "name": "SG",
         "type": "bar",
         "width": 0.06,
         "x": [
          "gender",
          "age",
          "credit amount",
          "repayment duration"
         ],
         "y": {
          "bdata": "9JRI7wed0j+QzwbaTInIP8J7TgTWd0M/Au5Y3EqK4D8=",
          "dtype": "f8"
         }
        },
        {
         "marker": {
          "color": "#e6cf6a",
          "line": {
           "width": 0.05
          }
         },
         "name": "IxG",
         "type": "bar",
         "width": 0.06,
         "x": [
          "gender",
          "age",
          "credit amount",
          "repayment duration"
         ],
         "y": {
          "bdata": "Sdqbk3M50T9YjNos+HbPP8WLENSjbaU/Es5021td3D8=",
          "dtype": "f8"
         }
        },
        {
         "marker": {
          "color": "#435d97",
          "line": {
           "width": 0.05
          }
         },
         "name": "ICC TOPO",
         "type": "bar",
         "width": 0.06,
         "x": [
          "gender",
          "age",
          "credit amount",
          "repayment duration"
         ],
         "y": {
          "bdata": "AAAAgGMqrD8AAABgM69/PwAAAACBbrE/AAAAQCvQ6z8=",
          "dtype": "f8"
         }
        },
        {
         "marker": {
          "color": "#56B4E9",
          "line": {
           "width": 0.05
          }
         },
         "name": "ICC SHAP",
         "type": "bar",
         "width": 0.06,
         "x": [
          "gender",
          "age",
          "credit amount",
          "repayment duration"
         ],
         "y": {
          "bdata": "AAAAAPWvsD8AAACAf1ScPwAAAABzBLI/AAAAAM/G6j8=",
          "dtype": "f8"
         }
        }
       ],
       "layout": {
        "bargap": 0.45,
        "bargroupgap": 1,
        "barmode": "group",
        "font": {
         "size": 14
        },
        "legend": {
         "font": {
          "color": "black",
          "family": "Times New Roman",
          "size": 25
         },
         "title": {
          "font": {
           "color": "black",
           "family": "Times New Roman",
           "size": 25
          },
          "text": "Method"
         }
        },
        "plot_bgcolor": "rgba(0,0,0,0)",
        "showlegend": true,
        "template": {
         "data": {
          "bar": [
           {
            "error_x": {
             "color": "#2a3f5f"
            },
            "error_y": {
             "color": "#2a3f5f"
            },
            "marker": {
             "line": {
              "color": "#E5ECF6",
              "width": 0.5
             },
             "pattern": {
              "fillmode": "overlay",
              "size": 10,
              "solidity": 0.2
             }
            },
            "type": "bar"
           }
          ],
          "barpolar": [
           {
            "marker": {
             "line": {
              "color": "#E5ECF6",
              "width": 0.5
             },
             "pattern": {
              "fillmode": "overlay",
              "size": 10,
              "solidity": 0.2
             }
            },
            "type": "barpolar"
           }
          ],
          "carpet": [
           {
            "aaxis": {
             "endlinecolor": "#2a3f5f",
             "gridcolor": "white",
             "linecolor": "white",
             "minorgridcolor": "white",
             "startlinecolor": "#2a3f5f"
            },
            "baxis": {
             "endlinecolor": "#2a3f5f",
             "gridcolor": "white",
             "linecolor": "white",
             "minorgridcolor": "white",
             "startlinecolor": "#2a3f5f"
            },
            "type": "carpet"
           }
          ],
          "choropleth": [
           {
            "colorbar": {
             "outlinewidth": 0,
             "ticks": ""
            },
            "type": "choropleth"
           }
          ],
          "contour": [
           {
            "colorbar": {
             "outlinewidth": 0,
             "ticks": ""
            },
            "colorscale": [
             [
              0,
              "#0d0887"
             ],
             [
              0.1111111111111111,
              "#46039f"
             ],
             [
              0.2222222222222222,
              "#7201a8"
             ],
             [
              0.3333333333333333,
              "#9c179e"
             ],
             [
              0.4444444444444444,
              "#bd3786"
             ],
             [
              0.5555555555555556,
              "#d8576b"
             ],
             [
              0.6666666666666666,
              "#ed7953"
             ],
             [
              0.7777777777777778,
              "#fb9f3a"
             ],
             [
              0.8888888888888888,
              "#fdca26"
             ],
             [
              1,
              "#f0f921"
             ]
            ],
            "type": "contour"
           }
          ],
          "contourcarpet": [
           {
            "colorbar": {
             "outlinewidth": 0,
             "ticks": ""
            },
            "type": "contourcarpet"
           }
          ],
          "heatmap": [
           {
            "colorbar": {
             "outlinewidth": 0,
             "ticks": ""
            },
            "colorscale": [
             [
              0,
              "#0d0887"
             ],
             [
              0.1111111111111111,
              "#46039f"
             ],
             [
              0.2222222222222222,
              "#7201a8"
             ],
             [
              0.3333333333333333,
              "#9c179e"
             ],
             [
              0.4444444444444444,
              "#bd3786"
             ],
             [
              0.5555555555555556,
              "#d8576b"
             ],
             [
              0.6666666666666666,
              "#ed7953"
             ],
             [
              0.7777777777777778,
              "#fb9f3a"
             ],
             [
              0.8888888888888888,
              "#fdca26"
             ],
             [
              1,
              "#f0f921"
             ]
            ],
            "type": "heatmap"
           }
          ],
          "histogram": [
           {
            "marker": {
             "pattern": {
              "fillmode": "overlay",
              "size": 10,
              "solidity": 0.2
             }
            },
            "type": "histogram"
           }
          ],
          "histogram2d": [
           {
            "colorbar": {
             "outlinewidth": 0,
             "ticks": ""
            },
            "colorscale": [
             [
              0,
              "#0d0887"
             ],
             [
              0.1111111111111111,
              "#46039f"
             ],
             [
              0.2222222222222222,
              "#7201a8"
             ],
             [
              0.3333333333333333,
              "#9c179e"
             ],
             [
              0.4444444444444444,
              "#bd3786"
             ],
             [
              0.5555555555555556,
              "#d8576b"
             ],
             [
              0.6666666666666666,
              "#ed7953"
             ],
             [
              0.7777777777777778,
              "#fb9f3a"
             ],
             [
              0.8888888888888888,
              "#fdca26"
             ],
             [
              1,
              "#f0f921"
             ]
            ],
            "type": "histogram2d"
           }
          ],
          "histogram2dcontour": [
           {
            "colorbar": {
             "outlinewidth": 0,
             "ticks": ""
            },
            "colorscale": [
             [
              0,
              "#0d0887"
             ],
             [
              0.1111111111111111,
              "#46039f"
             ],
             [
              0.2222222222222222,
              "#7201a8"
             ],
             [
              0.3333333333333333,
              "#9c179e"
             ],
             [
              0.4444444444444444,
              "#bd3786"
             ],
             [
              0.5555555555555556,
              "#d8576b"
             ],
             [
              0.6666666666666666,
              "#ed7953"
             ],
             [
              0.7777777777777778,
              "#fb9f3a"
             ],
             [
              0.8888888888888888,
              "#fdca26"
             ],
             [
              1,
              "#f0f921"
             ]
            ],
            "type": "histogram2dcontour"
           }
          ],
          "mesh3d": [
           {
            "colorbar": {
             "outlinewidth": 0,
             "ticks": ""
            },
            "type": "mesh3d"
           }
          ],
          "parcoords": [
           {
            "line": {
             "colorbar": {
              "outlinewidth": 0,
              "ticks": ""
             }
            },
            "type": "parcoords"
           }
          ],
          "pie": [
           {
            "automargin": true,
            "type": "pie"
           }
          ],
          "scatter": [
           {
            "fillpattern": {
             "fillmode": "overlay",
             "size": 10,
             "solidity": 0.2
            },
            "type": "scatter"
           }
          ],
          "scatter3d": [
           {
            "line": {
             "colorbar": {
              "outlinewidth": 0,
              "ticks": ""
             }
            },
            "marker": {
             "colorbar": {
              "outlinewidth": 0,
              "ticks": ""
             }
            },
            "type": "scatter3d"
           }
          ],
          "scattercarpet": [
           {
            "marker": {
             "colorbar": {
              "outlinewidth": 0,
              "ticks": ""
             }
            },
            "type": "scattercarpet"
           }
          ],
          "scattergeo": [
           {
            "marker": {
             "colorbar": {
              "outlinewidth": 0,
              "ticks": ""
             }
            },
            "type": "scattergeo"
           }
          ],
          "scattergl": [
           {
            "marker": {
             "colorbar": {
              "outlinewidth": 0,
              "ticks": ""
             }
            },
            "type": "scattergl"
           }
          ],
          "scattermap": [
           {
            "marker": {
             "colorbar": {
              "outlinewidth": 0,
              "ticks": ""
             }
            },
            "type": "scattermap"
           }
          ],
          "scattermapbox": [
           {
            "marker": {
             "colorbar": {
              "outlinewidth": 0,
              "ticks": ""
             }
            },
            "type": "scattermapbox"
           }
          ],
          "scatterpolar": [
           {
            "marker": {
             "colorbar": {
              "outlinewidth": 0,
              "ticks": ""
             }
            },
            "type": "scatterpolar"
           }
          ],
          "scatterpolargl": [
           {
            "marker": {
             "colorbar": {
              "outlinewidth": 0,
              "ticks": ""
             }
            },
            "type": "scatterpolargl"
           }
          ],
          "scatterternary": [
           {
            "marker": {
             "colorbar": {
              "outlinewidth": 0,
              "ticks": ""
             }
            },
            "type": "scatterternary"
           }
          ],
          "surface": [
           {
            "colorbar": {
             "outlinewidth": 0,
             "ticks": ""
            },
            "colorscale": [
             [
              0,
              "#0d0887"
             ],
             [
              0.1111111111111111,
              "#46039f"
             ],
             [
              0.2222222222222222,
              "#7201a8"
             ],
             [
              0.3333333333333333,
              "#9c179e"
             ],
             [
              0.4444444444444444,
              "#bd3786"
             ],
             [
              0.5555555555555556,
              "#d8576b"
             ],
             [
              0.6666666666666666,
              "#ed7953"
             ],
             [
              0.7777777777777778,
              "#fb9f3a"
             ],
             [
              0.8888888888888888,
              "#fdca26"
             ],
             [
              1,
              "#f0f921"
             ]
            ],
            "type": "surface"
           }
          ],
          "table": [
           {
            "cells": {
             "fill": {
              "color": "#EBF0F8"
             },
             "line": {
              "color": "white"
             }
            },
            "header": {
             "fill": {
              "color": "#C8D4E3"
             },
             "line": {
              "color": "white"
             }
            },
            "type": "table"
           }
          ]
         },
         "layout": {
          "annotationdefaults": {
           "arrowcolor": "#2a3f5f",
           "arrowhead": 0,
           "arrowwidth": 1
          },
          "autotypenumbers": "strict",
          "coloraxis": {
           "colorbar": {
            "outlinewidth": 0,
            "ticks": ""
           }
          },
          "colorscale": {
           "diverging": [
            [
             0,
             "#8e0152"
            ],
            [
             0.1,
             "#c51b7d"
            ],
            [
             0.2,
             "#de77ae"
            ],
            [
             0.3,
             "#f1b6da"
            ],
            [
             0.4,
             "#fde0ef"
            ],
            [
             0.5,
             "#f7f7f7"
            ],
            [
             0.6,
             "#e6f5d0"
            ],
            [
             0.7,
             "#b8e186"
            ],
            [
             0.8,
             "#7fbc41"
            ],
            [
             0.9,
             "#4d9221"
            ],
            [
             1,
             "#276419"
            ]
           ],
           "sequential": [
            [
             0,
             "#0d0887"
            ],
            [
             0.1111111111111111,
             "#46039f"
            ],
            [
             0.2222222222222222,
             "#7201a8"
            ],
            [
             0.3333333333333333,
             "#9c179e"
            ],
            [
             0.4444444444444444,
             "#bd3786"
            ],
            [
             0.5555555555555556,
             "#d8576b"
            ],
            [
             0.6666666666666666,
             "#ed7953"
            ],
            [
             0.7777777777777778,
             "#fb9f3a"
            ],
            [
             0.8888888888888888,
             "#fdca26"
            ],
            [
             1,
             "#f0f921"
            ]
           ],
           "sequentialminus": [
            [
             0,
             "#0d0887"
            ],
            [
             0.1111111111111111,
             "#46039f"
            ],
            [
             0.2222222222222222,
             "#7201a8"
            ],
            [
             0.3333333333333333,
             "#9c179e"
            ],
            [
             0.4444444444444444,
             "#bd3786"
            ],
            [
             0.5555555555555556,
             "#d8576b"
            ],
            [
             0.6666666666666666,
             "#ed7953"
            ],
            [
             0.7777777777777778,
             "#fb9f3a"
            ],
            [
             0.8888888888888888,
             "#fdca26"
            ],
            [
             1,
             "#f0f921"
            ]
           ]
          },
          "colorway": [
           "#636efa",
           "#EF553B",
           "#00cc96",
           "#ab63fa",
           "#FFA15A",
           "#19d3f3",
           "#FF6692",
           "#B6E880",
           "#FF97FF",
           "#FECB52"
          ],
          "font": {
           "color": "#2a3f5f"
          },
          "geo": {
           "bgcolor": "white",
           "lakecolor": "white",
           "landcolor": "#E5ECF6",
           "showlakes": true,
           "showland": true,
           "subunitcolor": "white"
          },
          "hoverlabel": {
           "align": "left"
          },
          "hovermode": "closest",
          "mapbox": {
           "style": "light"
          },
          "paper_bgcolor": "white",
          "plot_bgcolor": "#E5ECF6",
          "polar": {
           "angularaxis": {
            "gridcolor": "white",
            "linecolor": "white",
            "ticks": ""
           },
           "bgcolor": "#E5ECF6",
           "radialaxis": {
            "gridcolor": "white",
            "linecolor": "white",
            "ticks": ""
           }
          },
          "scene": {
           "xaxis": {
            "backgroundcolor": "#E5ECF6",
            "gridcolor": "white",
            "gridwidth": 2,
            "linecolor": "white",
            "showbackground": true,
            "ticks": "",
            "zerolinecolor": "white"
           },
           "yaxis": {
            "backgroundcolor": "#E5ECF6",
            "gridcolor": "white",
            "gridwidth": 2,
            "linecolor": "white",
            "showbackground": true,
            "ticks": "",
            "zerolinecolor": "white"
           },
           "zaxis": {
            "backgroundcolor": "#E5ECF6",
            "gridcolor": "white",
            "gridwidth": 2,
            "linecolor": "white",
            "showbackground": true,
            "ticks": "",
            "zerolinecolor": "white"
           }
          },
          "shapedefaults": {
           "line": {
            "color": "#2a3f5f"
           }
          },
          "ternary": {
           "aaxis": {
            "gridcolor": "white",
            "linecolor": "white",
            "ticks": ""
           },
           "baxis": {
            "gridcolor": "white",
            "linecolor": "white",
            "ticks": ""
           },
           "bgcolor": "#E5ECF6",
           "caxis": {
            "gridcolor": "white",
            "linecolor": "white",
            "ticks": ""
           }
          },
          "title": {
           "x": 0.05
          },
          "xaxis": {
           "automargin": true,
           "gridcolor": "white",
           "linecolor": "white",
           "ticks": "",
           "title": {
            "standoff": 15
           },
           "zerolinecolor": "white",
           "zerolinewidth": 2
          },
          "yaxis": {
           "automargin": true,
           "gridcolor": "white",
           "linecolor": "white",
           "ticks": "",
           "title": {
            "standoff": 15
           },
           "zerolinecolor": "white",
           "zerolinewidth": 2
          }
         }
        },
        "xaxis": {
         "linecolor": "lightgray",
         "range": [
          -0.5,
          3.5
         ],
         "showgrid": false,
         "tickcolor": "lightgray",
         "tickfont": {
          "color": "black",
          "family": "Times New Roman",
          "size": 26
         },
         "tickmode": "array",
         "ticktext": [
          "gender",
          "age",
          "credit amount",
          "repayment duration"
         ],
         "tickvals": [
          0,
          1,
          2,
          3
         ]
        },
        "yaxis": {
         "dtick": 0.1,
         "gridcolor": "lightgray",
         "linecolor": "lightgray",
         "range": [
          0,
          0.9
         ],
         "showgrid": true,
         "tickcolor": "lightgray",
         "tickfont": {
          "color": "black",
          "family": "Times New Roman",
          "size": 25
         },
         "ticks": "outside",
         "title": {
          "font": {
           "color": "black",
           "family": "Times New Roman",
           "size": 25
          },
          "text": "Attributions"
         }
        }
       }
      }
     },
     "metadata": {},
     "output_type": "display_data"
    }
   ],
   "source": [
    "# Load JSON\n",
    "with open(PREFIX + \"attributions/german/attribution.json\", \"r\") as f:\n",
    "    data = json.load(f)\n",
    "global_explanations = data['global_explanations']    \n",
    "generate_attr_plot(global_explanations,config)"
   ]
  },
  {
   "cell_type": "code",
   "execution_count": 5,
   "id": "58f8dd3e",
   "metadata": {},
   "outputs": [
    {
     "name": "stdout",
     "output_type": "stream",
     "text": [
      "{'shap': {'pgi': {'k=1': [0.28330445289611816], 'k=2': [0.3505825400352478], 'k=3': [0.4646214246749878], 'k=4': [0.43991902470588684]}, 'pgu': {'k=1': [0.3754216432571411], 'k=2': [0.3217795193195343], 'k=3': [0.0998459905385971], 'k=4': [1.5497953143039922e-08]}}, 'lime': {'pgi': {'k=1': [0.28334569931030273], 'k=2': [0.3502984941005707], 'k=3': [0.33242443203926086], 'k=4': [0.4406302571296692]}, 'pgu': {'k=1': [0.37505313754081726], 'k=2': [0.3213956952095032], 'k=3': [0.36289605498313904], 'k=4': [1.5497953143039922e-08]}}, 'sp_lime': {'pgi': {'k=1': [0.09983356297016144], 'k=2': [0.21640270948410034], 'k=3': [0.3759300112724304], 'k=4': [0.44078755378723145]}, 'pgu': {'k=1': [0.46373602747917175], 'k=2': [0.43144139647483826], 'k=3': [0.2824808359146118], 'k=4': [1.5497953143039922e-08]}}, 'pfi': {'pgi': {'k=1': [0.28304028511047363], 'k=2': [0.4300941228866577], 'k=3': [0.4073118567466736], 'k=4': [0.440280556678772]}, 'pgu': {'k=1': [0.37520164251327515], 'k=2': [0.21527233719825745], 'k=3': [0.20917388796806335], 'k=4': [1.5497953143039922e-08]}}, 'ig': {'pgi': {'k=1': [0.2829567492008209], 'k=2': [0.43053358793258667], 'k=3': [0.4638254940509796], 'k=4': [0.43908926844596863]}, 'pgu': {'k=1': [0.37550124526023865], 'k=2': [0.21558773517608643], 'k=3': [0.10000713169574738], 'k=4': [1.5497953143039922e-08]}}, 'sg': {'pgi': {'k=1': [0.2839430868625641], 'k=2': [0.27849796414375305], 'k=3': [0.3328385055065155], 'k=4': [0.439554363489151]}, 'pgu': {'k=1': [0.3762964606285095], 'k=2': [0.4102306663990021], 'k=3': [0.36312946677207947], 'k=4': [1.5497953143039922e-08]}}, 'itg': {'pgi': {'k=1': [0.2837117910385132], 'k=2': [0.278524786233902], 'k=3': [0.3331076502799988], 'k=4': [0.4395541846752167]}, 'pgu': {'k=1': [0.37585657835006714], 'k=2': [0.41003066301345825], 'k=3': [0.3621165454387665], 'k=4': [1.5497953143039922e-08]}}, 'icc_topo': {'pgi': {'k=1': [0.2835583984851837], 'k=2': [0.43149733543395996], 'k=3': [0.40782105922698975], 'k=4': [0.43863800168037415]}, 'pgu': {'k=1': [0.37509071826934814], 'k=2': [0.21517705917358398], 'k=3': [0.20939895510673523], 'k=4': [1.5497953143039922e-08]}}, 'icc_shap': {'pgi': {'k=1': [0.2829642593860626], 'k=2': [0.4314654469490051], 'k=3': [0.40719074010849], 'k=4': [0.43977490067481995]}, 'pgu': {'k=1': [0.3760254681110382], 'k=2': [0.2156645804643631], 'k=3': [0.20930008590221405], 'k=4': [1.5497953143039922e-08]}}}\n"
     ]
    }
   ],
   "source": [
    "ge_dict = data[\"ge_dict\"]\n",
    "evaluation_metrics,evaluation_metrics_per_sample = evaluate_exp(ge_dict,config,mlp_model.to('cpu'))\n",
    "print(evaluation_metrics)\n"
   ]
  },
  {
   "cell_type": "code",
   "execution_count": 6,
   "id": "f3ab98aa",
   "metadata": {},
   "outputs": [
    {
     "name": "stdout",
     "output_type": "stream",
     "text": [
      "shap: PGI AUC = 0.39227190220107633 +- 0.003540652656901855, PGU AUC = 0.20311211489140987 +- 0.0013519982998672383\n",
      "lime: PGI AUC = 0.3482369937002659 +- 0.0028659059268991835, PGU AUC = 0.29060610953718424 +- 0.0030001524486968625\n",
      "sp_lime: PGI AUC = 0.28754775900393725 +- 0.0020622096854759665, PGU AUC = 0.3152634181175381 +- 0.0027867276616399465\n",
      "pfi: PGI AUC = 0.39968878393371904 +- 0.0032872440753583688, PGU AUC = 0.20401567661048225 +- 0.002363729275284718\n",
      "ig: PGI AUC = 0.41846068248152735 +- 0.003855116180274921, PGU AUC = 0.16778183474205435 +- 0.0014410008553312871\n",
      "sg: PGI AUC = 0.3243617471555869 +- 0.0024550322658796024, PGU AUC = 0.3205028007738292 +- 0.003611566061694538\n",
      "itg: PGI AUC = 0.3244218061243494 +- 0.0024528432568287906, PGU AUC = 0.32002518477539227 +- 0.003631169078078209\n",
      "icc_topo: PGI AUC = 0.4001388462384542 +- 0.003293728170951571, PGU AUC = 0.20404045618604869 +- 0.0023374039917381842\n",
      "icc_shap: PGI AUC = 0.4000085904200872 +- 0.003301149364439707, PGU AUC = 0.20432580030678466 +- 0.002367318526868646\n"
     ]
    }
   ],
   "source": [
    "auc_results,auc_show,sum_results,sum_show = aggregate_auc_or_sum(evaluation_metrics_per_sample,config)\n",
    "\n",
    "# Print results nicely\n",
    "for method, vals in auc_show.items():\n",
    "    print(f\"{method}: PGI AUC = {vals['pgi_auc']}, PGU AUC = {vals['pgu_auc']}\")\n"
   ]
  },
  {
   "cell_type": "code",
   "execution_count": 7,
   "id": "db808448",
   "metadata": {},
   "outputs": [
    {
     "name": "stdout",
     "output_type": "stream",
     "text": [
      "shap: PGI SUM = 1.538427472114563 +- 0.013579691409443376, PGU SUM = 0.7970471978187561 +- 0.00560321962414369\n",
      "lime: PGI SUM = 1.4066989421844482 +- 0.011600049720201832, PGU SUM = 1.0593448877334595 +- 0.010801035034488368\n",
      "sp_lime: PGI SUM = 1.1329537630081177 +- 0.007471109471394204, PGU SUM = 1.1776583194732666 +- 0.010612462658552138\n",
      "pfi: PGI SUM = 1.5607267618179321 +- 0.012703864092318806, PGU SUM = 0.7996478080749512 +- 0.008232324229185068\n",
      "ig: PGI SUM = 1.6164050102233887 +- 0.01442082449454499, PGU SUM = 0.6910961270332336 +- 0.004963811365891736\n",
      "sg: PGI SUM = 1.3348339796066284 +- 0.010256751686489894, PGU SUM = 1.1496567726135254 +- 0.012626634207107443\n",
      "itg: PGI SUM = 1.3348983526229858 +- 0.010231023142816419, PGU SUM = 1.1480038166046143 +- 0.012716881146481396\n",
      "icc_topo: PGI SUM = 1.5615147352218628 +- 0.012668638810004613, PGU SUM = 0.7996667623519897 +- 0.008202870957774442\n",
      "icc_shap: PGI SUM = 1.561395287513733 +- 0.012738282262484016, PGU SUM = 0.8009902238845825 +- 0.008245676877628925\n"
     ]
    }
   ],
   "source": [
    "for method, vals in sum_show.items():\n",
    "    print(f\"{method}: PGI SUM = {vals['pgi_sum']}, PGU SUM = {vals['pgu_sum']}\")"
   ]
  },
  {
   "cell_type": "markdown",
   "id": "bd98ca54",
   "metadata": {},
   "source": [
    "## Lung Cancer Dataset"
   ]
  },
  {
   "cell_type": "code",
   "execution_count": 8,
   "id": "12bfa2e6",
   "metadata": {},
   "outputs": [],
   "source": [
    "config = CONFIG['cancer']\n",
    "mlp_path = PREFIX + 'models/cancer_mlp/cancer_mlp_seed_20/logs/version_1/checkpoints/epoch=62-step=2394.ckpt'\n",
    "scm_path = PREFIX + 'models/cancer_nf/cancer_nf_seed_30/logs/version_1/checkpoints/epoch=143-step=5472.ckpt'\n",
    "mlp_model = MLPLightning.load_from_checkpoint(mlp_path,model = MLP(config['num_features'],config['hidden_layers_mlp'],classification=config['classification']))\n",
    "scm_model = CausalNF.load_from_checkpoint(scm_path,flow = flow(config['num_features'],config['gd_adjacency'],config['hidden_layers_flow']))"
   ]
  },
  {
   "cell_type": "code",
   "execution_count": 9,
   "id": "92dd6e64",
   "metadata": {},
   "outputs": [
    {
     "name": "stdout",
     "output_type": "stream",
     "text": [
      "Max Iterations:  100\n",
      "Starting Iteration:  1\n",
      "Max Iterations:  100\n",
      "Starting Iteration:  1\n",
      "Max Iterations:  100\n",
      "Starting Iteration:  1\n",
      "Max Iterations:  100\n",
      "Starting Iteration:  1\n",
      "Max Iterations:  100\n",
      "Starting Iteration:  1\n"
     ]
    }
   ],
   "source": [
    "##generate attributions\n",
    "ge_dict, time_dict, global_explanations = generate_global_exps(config,mlp_model.to('cpu'),scm_model.to('cpu'))"
   ]
  },
  {
   "cell_type": "code",
   "execution_count": 10,
   "id": "be50d952",
   "metadata": {},
   "outputs": [
    {
     "data": {
      "application/vnd.plotly.v1+json": {
       "config": {
        "plotlyServerURL": "https://plot.ly"
       },
       "data": [
        {
         "marker": {
          "color": "#75bea7",
          "line": {
           "width": 0.05
          }
         },
         "name": "SHAP",
         "type": "bar",
         "width": 0.06,
         "x": [
          "asia",
          "tub",
          "smoke",
          "lung",
          "bronc",
          "either",
          "xray"
         ],
         "y": {
          "bdata": "l9pgUx99vz85YmJDZr7JP7hOYRszfsU/ylLgPtaK0D+0CYDs56NiP3hzxIIWRL0/SwK3mI8CwT8=",
          "dtype": "f8"
         }
        },
        {
         "marker": {
          "color": "#ef6128",
          "line": {
           "width": 0.05
          }
         },
         "name": "LIME",
         "type": "bar",
         "width": 0.06,
         "x": [
          "asia",
          "tub",
          "smoke",
          "lung",
          "bronc",
          "either",
          "xray"
         ],
         "y": {
          "bdata": "jNmnoqSnlz/7WWN4XOidP0hvZYbnh7Q/rGWCfdVheT9e/B76hvfnP8oeLlubp7E/lTezXU80pj8=",
          "dtype": "f8"
         }
        },
        {
         "marker": {
          "color": "#5f5d5d",
          "line": {
           "width": 0.05
          }
         },
         "name": "SP LIME",
         "type": "bar",
         "width": 0.06,
         "x": [
          "asia",
          "tub",
          "smoke",
          "lung",
          "bronc",
          "either",
          "xray"
         ],
         "y": {
          "bdata": "2GpKU6fumj80InTXTCOQP5Tc/485KqU/TZATZmxrkT8VsT22Kq7pP0Ru8t6ZsK8/IZXJ5NADoj8=",
          "dtype": "f8"
         }
        },
        {
         "marker": {
          "color": "#AA7A33",
          "line": {
           "width": 0.05
          }
         },
         "name": "PFI",
         "type": "bar",
         "width": 0.06,
         "x": [
          "asia",
          "tub",
          "smoke",
          "lung",
          "bronc",
          "either",
          "xray"
         ],
         "y": {
          "bdata": "AAAAIFbLpz8AAAAAV9ejPwAAAEBTg7E/AAAAYC9KuD8AAACAho7jPwAAACBDPrM/AAAAYK+usD8=",
          "dtype": "f8"
         }
        },
        {
         "marker": {
          "color": "#df52a9",
          "line": {
           "width": 0.05
          }
         },
         "name": "IG",
         "type": "bar",
         "width": 0.06,
         "x": [
          "asia",
          "tub",
          "smoke",
          "lung",
          "bronc",
          "either",
          "xray"
         ],
         "y": {
          "bdata": "z0jOMXJCsz/g5GZoHxGzP4EqRfIb0I4/tDXmH+YmuT/ThTd4S/nkP5MFJVn274M/DCi7Oipjsj8=",
          "dtype": "f8"
         }
        },
        {
         "marker": {
          "color": "#92dc1d",
          "line": {
           "width": 0.05
          }
         },
         "name": "SG",
         "type": "bar",
         "width": 0.06,
         "x": [
          "asia",
          "tub",
          "smoke",
          "lung",
          "bronc",
          "either",
          "xray"
         ],
         "y": {
          "bdata": "daWMjzgghz+zsdaoNIHDP3R+AfH3/bU/Ss1eQzaf0z8fuD5/72ZzP9l6IIEB/Ms/ibnXUSY4zD8=",
          "dtype": "f8"
         }
        },
        {
         "marker": {
          "color": "#e6cf6a",
          "line": {
           "width": 0.05
          }
         },
         "name": "IxG",
         "type": "bar",
         "width": 0.06,
         "x": [
          "asia",
          "tub",
          "smoke",
          "lung",
          "bronc",
          "either",
          "xray"
         ],
         "y": {
          "bdata": "TJVZanVa0D/rDKYTG2LEP/Yty7oZNKw/3FW1BRjL0j80n9cewalIP/IQZdrlWMk/x6IVCNBQoz8=",
          "dtype": "f8"
         }
        },
        {
         "marker": {
          "color": "#435d97",
          "line": {
           "width": 0.05
          }
         },
         "name": "ICC TOPO",
         "type": "bar",
         "width": 0.06,
         "x": [
          "asia",
          "tub",
          "smoke",
          "lung",
          "bronc",
          "either",
          "xray"
         ],
         "y": {
          "bdata": "AAAAgI3lZz8AAADANb5dPwAAAKBOwkc/AAAA4H7okj8AAAAg/2HuPwAAAGAwe4U/AAAAIBv2jz8=",
          "dtype": "f8"
         }
        },
        {
         "marker": {
          "color": "#56B4E9",
          "line": {
           "width": 0.05
          }
         },
         "name": "ICC SHAP",
         "type": "bar",
         "width": 0.06,
         "x": [
          "asia",
          "tub",
          "smoke",
          "lung",
          "bronc",
          "either",
          "xray"
         ],
         "y": {
          "bdata": "AAAAQPw/ZD8AAABAfF5mPwAAACCIJoA/AAAAwMunlT8AAACAejXuPwAAACCxO38/AAAAwOGXhT8=",
          "dtype": "f8"
         }
        }
       ],
       "layout": {
        "bargap": 0.45,
        "bargroupgap": 1,
        "barmode": "group",
        "font": {
         "size": 14
        },
        "legend": {
         "font": {
          "color": "black",
          "family": "Times New Roman",
          "size": 25
         },
         "title": {
          "font": {
           "color": "black",
           "family": "Times New Roman",
           "size": 25
          },
          "text": "Method"
         }
        },
        "plot_bgcolor": "rgba(0,0,0,0)",
        "showlegend": true,
        "template": {
         "data": {
          "bar": [
           {
            "error_x": {
             "color": "#2a3f5f"
            },
            "error_y": {
             "color": "#2a3f5f"
            },
            "marker": {
             "line": {
              "color": "#E5ECF6",
              "width": 0.5
             },
             "pattern": {
              "fillmode": "overlay",
              "size": 10,
              "solidity": 0.2
             }
            },
            "type": "bar"
           }
          ],
          "barpolar": [
           {
            "marker": {
             "line": {
              "color": "#E5ECF6",
              "width": 0.5
             },
             "pattern": {
              "fillmode": "overlay",
              "size": 10,
              "solidity": 0.2
             }
            },
            "type": "barpolar"
           }
          ],
          "carpet": [
           {
            "aaxis": {
             "endlinecolor": "#2a3f5f",
             "gridcolor": "white",
             "linecolor": "white",
             "minorgridcolor": "white",
             "startlinecolor": "#2a3f5f"
            },
            "baxis": {
             "endlinecolor": "#2a3f5f",
             "gridcolor": "white",
             "linecolor": "white",
             "minorgridcolor": "white",
             "startlinecolor": "#2a3f5f"
            },
            "type": "carpet"
           }
          ],
          "choropleth": [
           {
            "colorbar": {
             "outlinewidth": 0,
             "ticks": ""
            },
            "type": "choropleth"
           }
          ],
          "contour": [
           {
            "colorbar": {
             "outlinewidth": 0,
             "ticks": ""
            },
            "colorscale": [
             [
              0,
              "#0d0887"
             ],
             [
              0.1111111111111111,
              "#46039f"
             ],
             [
              0.2222222222222222,
              "#7201a8"
             ],
             [
              0.3333333333333333,
              "#9c179e"
             ],
             [
              0.4444444444444444,
              "#bd3786"
             ],
             [
              0.5555555555555556,
              "#d8576b"
             ],
             [
              0.6666666666666666,
              "#ed7953"
             ],
             [
              0.7777777777777778,
              "#fb9f3a"
             ],
             [
              0.8888888888888888,
              "#fdca26"
             ],
             [
              1,
              "#f0f921"
             ]
            ],
            "type": "contour"
           }
          ],
          "contourcarpet": [
           {
            "colorbar": {
             "outlinewidth": 0,
             "ticks": ""
            },
            "type": "contourcarpet"
           }
          ],
          "heatmap": [
           {
            "colorbar": {
             "outlinewidth": 0,
             "ticks": ""
            },
            "colorscale": [
             [
              0,
              "#0d0887"
             ],
             [
              0.1111111111111111,
              "#46039f"
             ],
             [
              0.2222222222222222,
              "#7201a8"
             ],
             [
              0.3333333333333333,
              "#9c179e"
             ],
             [
              0.4444444444444444,
              "#bd3786"
             ],
             [
              0.5555555555555556,
              "#d8576b"
             ],
             [
              0.6666666666666666,
              "#ed7953"
             ],
             [
              0.7777777777777778,
              "#fb9f3a"
             ],
             [
              0.8888888888888888,
              "#fdca26"
             ],
             [
              1,
              "#f0f921"
             ]
            ],
            "type": "heatmap"
           }
          ],
          "histogram": [
           {
            "marker": {
             "pattern": {
              "fillmode": "overlay",
              "size": 10,
              "solidity": 0.2
             }
            },
            "type": "histogram"
           }
          ],
          "histogram2d": [
           {
            "colorbar": {
             "outlinewidth": 0,
             "ticks": ""
            },
            "colorscale": [
             [
              0,
              "#0d0887"
             ],
             [
              0.1111111111111111,
              "#46039f"
             ],
             [
              0.2222222222222222,
              "#7201a8"
             ],
             [
              0.3333333333333333,
              "#9c179e"
             ],
             [
              0.4444444444444444,
              "#bd3786"
             ],
             [
              0.5555555555555556,
              "#d8576b"
             ],
             [
              0.6666666666666666,
              "#ed7953"
             ],
             [
              0.7777777777777778,
              "#fb9f3a"
             ],
             [
              0.8888888888888888,
              "#fdca26"
             ],
             [
              1,
              "#f0f921"
             ]
            ],
            "type": "histogram2d"
           }
          ],
          "histogram2dcontour": [
           {
            "colorbar": {
             "outlinewidth": 0,
             "ticks": ""
            },
            "colorscale": [
             [
              0,
              "#0d0887"
             ],
             [
              0.1111111111111111,
              "#46039f"
             ],
             [
              0.2222222222222222,
              "#7201a8"
             ],
             [
              0.3333333333333333,
              "#9c179e"
             ],
             [
              0.4444444444444444,
              "#bd3786"
             ],
             [
              0.5555555555555556,
              "#d8576b"
             ],
             [
              0.6666666666666666,
              "#ed7953"
             ],
             [
              0.7777777777777778,
              "#fb9f3a"
             ],
             [
              0.8888888888888888,
              "#fdca26"
             ],
             [
              1,
              "#f0f921"
             ]
            ],
            "type": "histogram2dcontour"
           }
          ],
          "mesh3d": [
           {
            "colorbar": {
             "outlinewidth": 0,
             "ticks": ""
            },
            "type": "mesh3d"
           }
          ],
          "parcoords": [
           {
            "line": {
             "colorbar": {
              "outlinewidth": 0,
              "ticks": ""
             }
            },
            "type": "parcoords"
           }
          ],
          "pie": [
           {
            "automargin": true,
            "type": "pie"
           }
          ],
          "scatter": [
           {
            "fillpattern": {
             "fillmode": "overlay",
             "size": 10,
             "solidity": 0.2
            },
            "type": "scatter"
           }
          ],
          "scatter3d": [
           {
            "line": {
             "colorbar": {
              "outlinewidth": 0,
              "ticks": ""
             }
            },
            "marker": {
             "colorbar": {
              "outlinewidth": 0,
              "ticks": ""
             }
            },
            "type": "scatter3d"
           }
          ],
          "scattercarpet": [
           {
            "marker": {
             "colorbar": {
              "outlinewidth": 0,
              "ticks": ""
             }
            },
            "type": "scattercarpet"
           }
          ],
          "scattergeo": [
           {
            "marker": {
             "colorbar": {
              "outlinewidth": 0,
              "ticks": ""
             }
            },
            "type": "scattergeo"
           }
          ],
          "scattergl": [
           {
            "marker": {
             "colorbar": {
              "outlinewidth": 0,
              "ticks": ""
             }
            },
            "type": "scattergl"
           }
          ],
          "scattermap": [
           {
            "marker": {
             "colorbar": {
              "outlinewidth": 0,
              "ticks": ""
             }
            },
            "type": "scattermap"
           }
          ],
          "scattermapbox": [
           {
            "marker": {
             "colorbar": {
              "outlinewidth": 0,
              "ticks": ""
             }
            },
            "type": "scattermapbox"
           }
          ],
          "scatterpolar": [
           {
            "marker": {
             "colorbar": {
              "outlinewidth": 0,
              "ticks": ""
             }
            },
            "type": "scatterpolar"
           }
          ],
          "scatterpolargl": [
           {
            "marker": {
             "colorbar": {
              "outlinewidth": 0,
              "ticks": ""
             }
            },
            "type": "scatterpolargl"
           }
          ],
          "scatterternary": [
           {
            "marker": {
             "colorbar": {
              "outlinewidth": 0,
              "ticks": ""
             }
            },
            "type": "scatterternary"
           }
          ],
          "surface": [
           {
            "colorbar": {
             "outlinewidth": 0,
             "ticks": ""
            },
            "colorscale": [
             [
              0,
              "#0d0887"
             ],
             [
              0.1111111111111111,
              "#46039f"
             ],
             [
              0.2222222222222222,
              "#7201a8"
             ],
             [
              0.3333333333333333,
              "#9c179e"
             ],
             [
              0.4444444444444444,
              "#bd3786"
             ],
             [
              0.5555555555555556,
              "#d8576b"
             ],
             [
              0.6666666666666666,
              "#ed7953"
             ],
             [
              0.7777777777777778,
              "#fb9f3a"
             ],
             [
              0.8888888888888888,
              "#fdca26"
             ],
             [
              1,
              "#f0f921"
             ]
            ],
            "type": "surface"
           }
          ],
          "table": [
           {
            "cells": {
             "fill": {
              "color": "#EBF0F8"
             },
             "line": {
              "color": "white"
             }
            },
            "header": {
             "fill": {
              "color": "#C8D4E3"
             },
             "line": {
              "color": "white"
             }
            },
            "type": "table"
           }
          ]
         },
         "layout": {
          "annotationdefaults": {
           "arrowcolor": "#2a3f5f",
           "arrowhead": 0,
           "arrowwidth": 1
          },
          "autotypenumbers": "strict",
          "coloraxis": {
           "colorbar": {
            "outlinewidth": 0,
            "ticks": ""
           }
          },
          "colorscale": {
           "diverging": [
            [
             0,
             "#8e0152"
            ],
            [
             0.1,
             "#c51b7d"
            ],
            [
             0.2,
             "#de77ae"
            ],
            [
             0.3,
             "#f1b6da"
            ],
            [
             0.4,
             "#fde0ef"
            ],
            [
             0.5,
             "#f7f7f7"
            ],
            [
             0.6,
             "#e6f5d0"
            ],
            [
             0.7,
             "#b8e186"
            ],
            [
             0.8,
             "#7fbc41"
            ],
            [
             0.9,
             "#4d9221"
            ],
            [
             1,
             "#276419"
            ]
           ],
           "sequential": [
            [
             0,
             "#0d0887"
            ],
            [
             0.1111111111111111,
             "#46039f"
            ],
            [
             0.2222222222222222,
             "#7201a8"
            ],
            [
             0.3333333333333333,
             "#9c179e"
            ],
            [
             0.4444444444444444,
             "#bd3786"
            ],
            [
             0.5555555555555556,
             "#d8576b"
            ],
            [
             0.6666666666666666,
             "#ed7953"
            ],
            [
             0.7777777777777778,
             "#fb9f3a"
            ],
            [
             0.8888888888888888,
             "#fdca26"
            ],
            [
             1,
             "#f0f921"
            ]
           ],
           "sequentialminus": [
            [
             0,
             "#0d0887"
            ],
            [
             0.1111111111111111,
             "#46039f"
            ],
            [
             0.2222222222222222,
             "#7201a8"
            ],
            [
             0.3333333333333333,
             "#9c179e"
            ],
            [
             0.4444444444444444,
             "#bd3786"
            ],
            [
             0.5555555555555556,
             "#d8576b"
            ],
            [
             0.6666666666666666,
             "#ed7953"
            ],
            [
             0.7777777777777778,
             "#fb9f3a"
            ],
            [
             0.8888888888888888,
             "#fdca26"
            ],
            [
             1,
             "#f0f921"
            ]
           ]
          },
          "colorway": [
           "#636efa",
           "#EF553B",
           "#00cc96",
           "#ab63fa",
           "#FFA15A",
           "#19d3f3",
           "#FF6692",
           "#B6E880",
           "#FF97FF",
           "#FECB52"
          ],
          "font": {
           "color": "#2a3f5f"
          },
          "geo": {
           "bgcolor": "white",
           "lakecolor": "white",
           "landcolor": "#E5ECF6",
           "showlakes": true,
           "showland": true,
           "subunitcolor": "white"
          },
          "hoverlabel": {
           "align": "left"
          },
          "hovermode": "closest",
          "mapbox": {
           "style": "light"
          },
          "paper_bgcolor": "white",
          "plot_bgcolor": "#E5ECF6",
          "polar": {
           "angularaxis": {
            "gridcolor": "white",
            "linecolor": "white",
            "ticks": ""
           },
           "bgcolor": "#E5ECF6",
           "radialaxis": {
            "gridcolor": "white",
            "linecolor": "white",
            "ticks": ""
           }
          },
          "scene": {
           "xaxis": {
            "backgroundcolor": "#E5ECF6",
            "gridcolor": "white",
            "gridwidth": 2,
            "linecolor": "white",
            "showbackground": true,
            "ticks": "",
            "zerolinecolor": "white"
           },
           "yaxis": {
            "backgroundcolor": "#E5ECF6",
            "gridcolor": "white",
            "gridwidth": 2,
            "linecolor": "white",
            "showbackground": true,
            "ticks": "",
            "zerolinecolor": "white"
           },
           "zaxis": {
            "backgroundcolor": "#E5ECF6",
            "gridcolor": "white",
            "gridwidth": 2,
            "linecolor": "white",
            "showbackground": true,
            "ticks": "",
            "zerolinecolor": "white"
           }
          },
          "shapedefaults": {
           "line": {
            "color": "#2a3f5f"
           }
          },
          "ternary": {
           "aaxis": {
            "gridcolor": "white",
            "linecolor": "white",
            "ticks": ""
           },
           "baxis": {
            "gridcolor": "white",
            "linecolor": "white",
            "ticks": ""
           },
           "bgcolor": "#E5ECF6",
           "caxis": {
            "gridcolor": "white",
            "linecolor": "white",
            "ticks": ""
           }
          },
          "title": {
           "x": 0.05
          },
          "xaxis": {
           "automargin": true,
           "gridcolor": "white",
           "linecolor": "white",
           "ticks": "",
           "title": {
            "standoff": 15
           },
           "zerolinecolor": "white",
           "zerolinewidth": 2
          },
          "yaxis": {
           "automargin": true,
           "gridcolor": "white",
           "linecolor": "white",
           "ticks": "",
           "title": {
            "standoff": 15
           },
           "zerolinecolor": "white",
           "zerolinewidth": 2
          }
         }
        },
        "xaxis": {
         "linecolor": "lightgray",
         "range": [
          -0.5,
          6.5
         ],
         "showgrid": false,
         "tickcolor": "lightgray",
         "tickfont": {
          "color": "black",
          "family": "Times New Roman",
          "size": 26
         },
         "tickmode": "array",
         "ticktext": [
          "asia",
          "tub",
          "smoke",
          "lung",
          "bronc",
          "either",
          "xray"
         ],
         "tickvals": [
          0,
          1,
          2,
          3,
          4,
          5,
          6
         ]
        },
        "yaxis": {
         "dtick": 0.1,
         "gridcolor": "lightgray",
         "linecolor": "lightgray",
         "range": [
          0,
          0.9
         ],
         "showgrid": true,
         "tickcolor": "lightgray",
         "tickfont": {
          "color": "black",
          "family": "Times New Roman",
          "size": 25
         },
         "ticks": "outside",
         "title": {
          "font": {
           "color": "black",
           "family": "Times New Roman",
           "size": 25
          },
          "text": "Attributions"
         }
        }
       }
      }
     },
     "metadata": {},
     "output_type": "display_data"
    }
   ],
   "source": [
    "# Load JSON\n",
    "with open(PREFIX +\"attributions/cancer/attribution.json\", \"r\") as f:\n",
    "    data = json.load(f)\n",
    "global_explanations = data['global_explanations']    \n",
    "generate_attr_plot(global_explanations,config)"
   ]
  },
  {
   "cell_type": "code",
   "execution_count": 11,
   "id": "cd182777",
   "metadata": {},
   "outputs": [
    {
     "name": "stdout",
     "output_type": "stream",
     "text": [
      "{'shap': {'pgi': {'k=1': [0.2134249359369278], 'k=2': [0.29935744404792786], 'k=3': [0.3327498733997345], 'k=4': [0.3791840672492981], 'k=5': [0.4066338837146759], 'k=6': [0.41710737347602844], 'k=7': [0.46727004647254944]}, 'pgu': {'k=1': [0.4375058114528656], 'k=2': [0.4146712124347687], 'k=3': [0.41035526990890503], 'k=4': [0.37464219331741333], 'k=5': [0.3473282754421234], 'k=6': [0.29170188307762146], 'k=7': [1.732276899701901e-08]}}, 'lime': {'pgi': {'k=1': [0.29096922278404236], 'k=2': [0.30258649587631226], 'k=3': [0.353669136762619], 'k=4': [0.3920283615589142], 'k=5': [0.419399619102478], 'k=6': [0.43815872073173523], 'k=7': [0.46740299463272095]}, 'pgu': {'k=1': [0.4173593521118164], 'k=2': [0.40230390429496765], 'k=3': [0.387849897146225], 'k=4': [0.3360205590724945], 'k=5': [0.2688675820827484], 'k=6': [0.21395662426948547], 'k=7': [1.732276899701901e-08]}}, 'sp_lime': {'pgi': {'k=1': [0.1240033432841301], 'k=2': [0.2449956238269806], 'k=3': [0.29447701573371887], 'k=4': [0.36644184589385986], 'k=5': [0.43684738874435425], 'k=6': [0.45040446519851685], 'k=7': [0.46676522493362427]}, 'pgu': {'k=1': [0.45701858401298523], 'k=2': [0.4404570460319519], 'k=3': [0.43729567527770996], 'k=4': [0.3862830102443695], 'k=5': [0.2254229038953781], 'k=6': [0.14526598155498505], 'k=7': [1.732276899701901e-08]}}, 'pfi': {'pgi': {'k=1': [0.29206231236457825], 'k=2': [0.39385998249053955], 'k=3': [0.4124484658241272], 'k=4': [0.415763795375824], 'k=5': [0.4406464099884033], 'k=6': [0.45382604002952576], 'k=7': [0.46716856956481934]}, 'pgu': {'k=1': [0.41702303290367126], 'k=2': [0.3735170364379883], 'k=3': [0.34885933995246887], 'k=4': [0.3180195093154907], 'k=5': [0.2440957874059677], 'k=6': [0.16772960126399994], 'k=7': [1.732276899701901e-08]}}, 'ig': {'pgi': {'k=1': [0.2912409007549286], 'k=2': [0.3933330178260803], 'k=3': [0.41277992725372314], 'k=4': [0.43269413709640503], 'k=5': [0.4577041566371918], 'k=6': [0.4597095847129822], 'k=7': [0.4672994911670685]}, 'pgu': {'k=1': [0.4180368483066559], 'k=2': [0.37352603673934937], 'k=3': [0.3351251482963562], 'k=4': [0.2630324065685272], 'k=5': [0.18662463128566742], 'k=6': [0.13742883503437042], 'k=7': [1.732276899701901e-08]}}, 'sg': {'pgi': {'k=1': [0.21414940059185028], 'k=2': [0.298022985458374], 'k=3': [0.32879403233528137], 'k=4': [0.3756304383277893], 'k=5': [0.3937638998031616], 'k=6': [0.4171917140483856], 'k=7': [0.46685612201690674]}, 'pgu': {'k=1': [0.43744754791259766], 'k=2': [0.4124237895011902], 'k=3': [0.3833785355091095], 'k=4': [0.34388068318367004], 'k=5': [0.3313802182674408], 'k=6': [0.2915467321872711], 'k=7': [1.732276899701901e-08]}}, 'itg': {'pgi': {'k=1': [0.21403838694095612], 'k=2': [0.26871931552886963], 'k=3': [0.31011465191841125], 'k=4': [0.3628411889076233], 'k=5': [0.38607656955718994], 'k=6': [0.41701215505599976], 'k=7': [0.46797677874565125]}, 'pgu': {'k=1': [0.4373762011528015], 'k=2': [0.41980230808258057], 'k=3': [0.3993366062641144], 'k=4': [0.36506322026252747], 'k=5': [0.35898828506469727], 'k=6': [0.29156622290611267], 'k=7': [1.732276899701901e-08]}}, 'icc_topo': {'pgi': {'k=1': [0.2912916839122772], 'k=2': [0.3935859203338623], 'k=3': [0.42425623536109924], 'k=4': [0.43754491209983826], 'k=5': [0.4506014585494995], 'k=6': [0.46532994508743286], 'k=7': [0.46644994616508484]}, 'pgu': {'k=1': [0.41768524050712585], 'k=2': [0.3734237253665924], 'k=3': [0.3348981738090515], 'k=4': [0.2949686050415039], 'k=5': [0.22787298262119293], 'k=6': [0.08631150424480438], 'k=7': [1.732276899701901e-08]}}, 'icc_shap': {'pgi': {'k=1': [0.29111549258232117], 'k=2': [0.3936963379383087], 'k=3': [0.4241105616092682], 'k=4': [0.4283827841281891], 'k=5': [0.440483957529068], 'k=6': [0.456503301858902], 'k=7': [0.4678518772125244]}, 'pgu': {'k=1': [0.41690918803215027], 'k=2': [0.37358519434928894], 'k=3': [0.3349387049674988], 'k=4': [0.2983075678348541], 'k=5': [0.2440960705280304], 'k=6': [0.12490132451057434], 'k=7': [1.732276899701901e-08]}}}\n"
     ]
    }
   ],
   "source": [
    "ge_dict = data[\"ge_dict\"]\n",
    "evaluation_metrics,evaluation_metrics_per_sample = evaluate_exp(ge_dict,config,mlp_model.to('cpu'))\n",
    "print(evaluation_metrics)\n"
   ]
  },
  {
   "cell_type": "code",
   "execution_count": 12,
   "id": "d0f10a47",
   "metadata": {},
   "outputs": [
    {
     "name": "stdout",
     "output_type": "stream",
     "text": [
      "shap: PGI AUC = 0.3625633541329039 +- 0.005434405297235846, PGU AUC = 0.3429086207996847 +- 0.003786609893473744\n",
      "lime: PGI AUC = 0.3808380662197144 +- 0.004233050825645996, PGU AUC = 0.30294636474404896 +- 0.0048819548680504475\n",
      "sp_lime: PGI AUC = 0.3480917841608688 +- 0.004916477859525521, PGU AUC = 0.3105389919873819 +- 0.0038085373972594114\n",
      "pfi: PGI AUC = 0.41602669455111024 +- 0.005130484205305648, PGU AUC = 0.27678879071744933 +- 0.004258752647857307\n",
      "ig: PGI AUC = 0.422581837479439 +- 0.005494635877927833, PGU AUC = 0.25079258081322126 +- 0.0032929148033632965\n",
      "sg: PGI AUC = 0.3589843003017207 +- 0.005542195933280121, PGU AUC = 0.3302222847351287 +- 0.0037773637735847966\n",
      "itg: PGI AUC = 0.34762859535351803 +- 0.0054549638024604325, PGU AUC = 0.34224078832828025 +- 0.003782746217289304\n",
      "icc_topo: PGI AUC = 0.42503153905065527 +- 0.005425998826980188, PGU AUC = 0.2543862634777583 +- 0.0033561569825395553\n",
      "icc_shap: PGI AUC = 0.42044343039807347 +- 0.005222422671933947, PGU AUC = 0.2640472442660636 +- 0.00404238605649609\n"
     ]
    }
   ],
   "source": [
    "auc_results,auc_show,sum_results,sum_show = aggregate_auc_or_sum(evaluation_metrics_per_sample,config)\n",
    "\n",
    "# Print results nicely\n",
    "for method, vals in auc_show.items():\n",
    "    print(f\"{method}: PGI AUC = {vals['pgi_auc']}, PGU AUC = {vals['pgu_auc']}\")\n"
   ]
  },
  {
   "cell_type": "code",
   "execution_count": 13,
   "id": "049d49e6",
   "metadata": {},
   "outputs": [
    {
     "name": "stdout",
     "output_type": "stream",
     "text": [
      "shap: PGI SUM = 2.5157275199890137 +- 0.03761018707705641, PGU SUM = 2.2762045860290527 +- 0.02577621504553081\n",
      "lime: PGI SUM = 2.6642143726348877 +- 0.029630891182910676, PGU SUM = 2.026357889175415 +- 0.032575742833868854\n",
      "sp_lime: PGI SUM = 2.3839352130889893 +- 0.033556874192084724, PGU SUM = 2.0917434692382812 +- 0.025993595883807546\n",
      "pfi: PGI SUM = 2.8757758140563965 +- 0.03499480850602114, PGU SUM = 1.8692442178726196 +- 0.028746006094831144\n",
      "ig: PGI SUM = 2.9147613048553467 +- 0.03718131167278216, PGU SUM = 1.7137739658355713 +- 0.02292105178798616\n",
      "sg: PGI SUM = 2.49440860748291 +- 0.03826398426950129, PGU SUM = 2.2000572681427 +- 0.02565349150021045\n",
      "itg: PGI SUM = 2.426779270172119 +- 0.03775068623998722, PGU SUM = 2.2721328735351562 +- 0.025723693631361903\n",
      "icc_topo: PGI SUM = 2.929060220718384 +- 0.036736378595597384, PGU SUM = 1.7351601123809814 +- 0.02327675880814974\n",
      "icc_shap: PGI SUM = 2.902144193649292 +- 0.03555577828428349, PGU SUM = 1.7927380800247192 +- 0.027451904632549193\n"
     ]
    }
   ],
   "source": [
    "for method, vals in sum_show.items():\n",
    "    print(f\"{method}: PGI SUM = {vals['pgi_sum']}, PGU SUM = {vals['pgu_sum']}\")"
   ]
  },
  {
   "cell_type": "markdown",
   "id": "5786275b",
   "metadata": {},
   "source": [
    "## Synthetic Data"
   ]
  },
  {
   "cell_type": "code",
   "execution_count": 14,
   "id": "3188a479",
   "metadata": {},
   "outputs": [],
   "source": [
    "config = CONFIG['syn']\n",
    "mlp_path = PREFIX + 'models/syn_mlp/syn_mlp_seed_20/logs/version_3/checkpoints/epoch=12-step=416.ckpt'\n",
    "scm_path = PREFIX + 'models/syn_nf/syn_nf_seed_20/logs/version_1/checkpoints/epoch=3-step=128.ckpt'\n",
    "mlp_model = MLPLightning.load_from_checkpoint(mlp_path,model = MLP(config['num_features'],config['hidden_layers_mlp'],classification=config['classification']))\n",
    "scm_model = CausalNF.load_from_checkpoint(scm_path,flow = flow(config['num_features'],config['gd_adjacency'],config['hidden_layers_flow']))"
   ]
  },
  {
   "cell_type": "code",
   "execution_count": 15,
   "id": "eb04e8ba",
   "metadata": {},
   "outputs": [
    {
     "name": "stdout",
     "output_type": "stream",
     "text": [
      "Max Iterations:  100\n",
      "Starting Iteration:  1\n",
      "Max Iterations:  100\n",
      "Starting Iteration:  1\n",
      "Max Iterations:  100\n",
      "Starting Iteration:  1\n",
      "Max Iterations:  100\n",
      "Starting Iteration:  1\n",
      "Max Iterations:  100\n",
      "Starting Iteration:  1\n"
     ]
    }
   ],
   "source": [
    "##generate attributions\n",
    "ge_dict, time_dict, global_explanations = generate_global_exps(config,mlp_model.to('cpu'),scm_model.to('cpu'))"
   ]
  },
  {
   "cell_type": "code",
   "execution_count": 16,
   "id": "7e0f586e",
   "metadata": {},
   "outputs": [
    {
     "data": {
      "application/vnd.plotly.v1+json": {
       "config": {
        "plotlyServerURL": "https://plot.ly"
       },
       "data": [
        {
         "marker": {
          "color": "#75bea7",
          "line": {
           "width": 0.05
          }
         },
         "name": "SHAP",
         "type": "bar",
         "width": 0.06,
         "x": [
          "P",
          "Q",
          "R"
         ],
         "y": {
          "bdata": "UXz+d/S3hz/j7JUfmJziP1YyFB0QCdo/",
          "dtype": "f8"
         }
        },
        {
         "marker": {
          "color": "#ef6128",
          "line": {
           "width": 0.05
          }
         },
         "name": "LIME",
         "type": "bar",
         "width": 0.06,
         "x": [
          "P",
          "Q",
          "R"
         ],
         "y": {
          "bdata": "9bGHvlr+tj9JhP0AORDmP+IVxpzuP8w/",
          "dtype": "f8"
         }
        },
        {
         "marker": {
          "color": "#5f5d5d",
          "line": {
           "width": 0.05
          }
         },
         "name": "SP LIME",
         "type": "bar",
         "width": 0.06,
         "x": [
          "P",
          "Q",
          "R"
         ],
         "y": {
          "bdata": "DzHnDKRqxz8j1QTnrBrhPzG9gitUFdI/",
          "dtype": "f8"
         }
        },
        {
         "marker": {
          "color": "#AA7A33",
          "line": {
           "width": 0.05
          }
         },
         "name": "PFI",
         "type": "bar",
         "width": 0.06,
         "x": [
          "P",
          "Q",
          "R"
         ],
         "y": {
          "bdata": "AAAAwJiv0D8AAADAvY3hPwAAAIDXacg/",
          "dtype": "f8"
         }
        },
        {
         "marker": {
          "color": "#df52a9",
          "line": {
           "width": 0.05
          }
         },
         "name": "IG",
         "type": "bar",
         "width": 0.06,
         "x": [
          "P",
          "Q",
          "R"
         ],
         "y": {
          "bdata": "QmVPMJ9Xoj+aUG8HBjrmPyNyFwsAQdE/",
          "dtype": "f8"
         }
        },
        {
         "marker": {
          "color": "#92dc1d",
          "line": {
           "width": 0.05
          }
         },
         "name": "SG",
         "type": "bar",
         "width": 0.06,
         "x": [
          "P",
          "Q",
          "R"
         ],
         "y": {
          "bdata": "HXLqL4euiz99x6RZ8T/jP3YdNxOpotg/",
          "dtype": "f8"
         }
        },
        {
         "marker": {
          "color": "#e6cf6a",
          "line": {
           "width": 0.05
          }
         },
         "name": "IxG",
         "type": "bar",
         "width": 0.06,
         "x": [
          "P",
          "Q",
          "R"
         ],
         "y": {
          "bdata": "1th0VygW2j/6AsYAme2FP4l7QnA1neI/",
          "dtype": "f8"
         }
        },
        {
         "marker": {
          "color": "#435d97",
          "line": {
           "width": 0.05
          }
         },
         "name": "ICC TOPO",
         "type": "bar",
         "width": 0.06,
         "x": [
          "P",
          "Q",
          "R"
         ],
         "y": {
          "bdata": "AAAAACsWdj8AAADAZEvgPwAAAKDi1Nw/",
          "dtype": "f8"
         }
        },
        {
         "marker": {
          "color": "#56B4E9",
          "line": {
           "width": 0.05
          }
         },
         "name": "ICC SHAP",
         "type": "bar",
         "width": 0.06,
         "x": [
          "P",
          "Q",
          "R"
         ],
         "y": {
          "bdata": "AAAAQIrjuj8AAADga/PfPwAAAIC2F9c/",
          "dtype": "f8"
         }
        }
       ],
       "layout": {
        "bargap": 0.45,
        "bargroupgap": 1,
        "barmode": "group",
        "font": {
         "size": 14
        },
        "legend": {
         "font": {
          "color": "black",
          "family": "Times New Roman",
          "size": 25
         },
         "title": {
          "font": {
           "color": "black",
           "family": "Times New Roman",
           "size": 25
          },
          "text": "Method"
         }
        },
        "plot_bgcolor": "rgba(0,0,0,0)",
        "showlegend": true,
        "template": {
         "data": {
          "bar": [
           {
            "error_x": {
             "color": "#2a3f5f"
            },
            "error_y": {
             "color": "#2a3f5f"
            },
            "marker": {
             "line": {
              "color": "#E5ECF6",
              "width": 0.5
             },
             "pattern": {
              "fillmode": "overlay",
              "size": 10,
              "solidity": 0.2
             }
            },
            "type": "bar"
           }
          ],
          "barpolar": [
           {
            "marker": {
             "line": {
              "color": "#E5ECF6",
              "width": 0.5
             },
             "pattern": {
              "fillmode": "overlay",
              "size": 10,
              "solidity": 0.2
             }
            },
            "type": "barpolar"
           }
          ],
          "carpet": [
           {
            "aaxis": {
             "endlinecolor": "#2a3f5f",
             "gridcolor": "white",
             "linecolor": "white",
             "minorgridcolor": "white",
             "startlinecolor": "#2a3f5f"
            },
            "baxis": {
             "endlinecolor": "#2a3f5f",
             "gridcolor": "white",
             "linecolor": "white",
             "minorgridcolor": "white",
             "startlinecolor": "#2a3f5f"
            },
            "type": "carpet"
           }
          ],
          "choropleth": [
           {
            "colorbar": {
             "outlinewidth": 0,
             "ticks": ""
            },
            "type": "choropleth"
           }
          ],
          "contour": [
           {
            "colorbar": {
             "outlinewidth": 0,
             "ticks": ""
            },
            "colorscale": [
             [
              0,
              "#0d0887"
             ],
             [
              0.1111111111111111,
              "#46039f"
             ],
             [
              0.2222222222222222,
              "#7201a8"
             ],
             [
              0.3333333333333333,
              "#9c179e"
             ],
             [
              0.4444444444444444,
              "#bd3786"
             ],
             [
              0.5555555555555556,
              "#d8576b"
             ],
             [
              0.6666666666666666,
              "#ed7953"
             ],
             [
              0.7777777777777778,
              "#fb9f3a"
             ],
             [
              0.8888888888888888,
              "#fdca26"
             ],
             [
              1,
              "#f0f921"
             ]
            ],
            "type": "contour"
           }
          ],
          "contourcarpet": [
           {
            "colorbar": {
             "outlinewidth": 0,
             "ticks": ""
            },
            "type": "contourcarpet"
           }
          ],
          "heatmap": [
           {
            "colorbar": {
             "outlinewidth": 0,
             "ticks": ""
            },
            "colorscale": [
             [
              0,
              "#0d0887"
             ],
             [
              0.1111111111111111,
              "#46039f"
             ],
             [
              0.2222222222222222,
              "#7201a8"
             ],
             [
              0.3333333333333333,
              "#9c179e"
             ],
             [
              0.4444444444444444,
              "#bd3786"
             ],
             [
              0.5555555555555556,
              "#d8576b"
             ],
             [
              0.6666666666666666,
              "#ed7953"
             ],
             [
              0.7777777777777778,
              "#fb9f3a"
             ],
             [
              0.8888888888888888,
              "#fdca26"
             ],
             [
              1,
              "#f0f921"
             ]
            ],
            "type": "heatmap"
           }
          ],
          "histogram": [
           {
            "marker": {
             "pattern": {
              "fillmode": "overlay",
              "size": 10,
              "solidity": 0.2
             }
            },
            "type": "histogram"
           }
          ],
          "histogram2d": [
           {
            "colorbar": {
             "outlinewidth": 0,
             "ticks": ""
            },
            "colorscale": [
             [
              0,
              "#0d0887"
             ],
             [
              0.1111111111111111,
              "#46039f"
             ],
             [
              0.2222222222222222,
              "#7201a8"
             ],
             [
              0.3333333333333333,
              "#9c179e"
             ],
             [
              0.4444444444444444,
              "#bd3786"
             ],
             [
              0.5555555555555556,
              "#d8576b"
             ],
             [
              0.6666666666666666,
              "#ed7953"
             ],
             [
              0.7777777777777778,
              "#fb9f3a"
             ],
             [
              0.8888888888888888,
              "#fdca26"
             ],
             [
              1,
              "#f0f921"
             ]
            ],
            "type": "histogram2d"
           }
          ],
          "histogram2dcontour": [
           {
            "colorbar": {
             "outlinewidth": 0,
             "ticks": ""
            },
            "colorscale": [
             [
              0,
              "#0d0887"
             ],
             [
              0.1111111111111111,
              "#46039f"
             ],
             [
              0.2222222222222222,
              "#7201a8"
             ],
             [
              0.3333333333333333,
              "#9c179e"
             ],
             [
              0.4444444444444444,
              "#bd3786"
             ],
             [
              0.5555555555555556,
              "#d8576b"
             ],
             [
              0.6666666666666666,
              "#ed7953"
             ],
             [
              0.7777777777777778,
              "#fb9f3a"
             ],
             [
              0.8888888888888888,
              "#fdca26"
             ],
             [
              1,
              "#f0f921"
             ]
            ],
            "type": "histogram2dcontour"
           }
          ],
          "mesh3d": [
           {
            "colorbar": {
             "outlinewidth": 0,
             "ticks": ""
            },
            "type": "mesh3d"
           }
          ],
          "parcoords": [
           {
            "line": {
             "colorbar": {
              "outlinewidth": 0,
              "ticks": ""
             }
            },
            "type": "parcoords"
           }
          ],
          "pie": [
           {
            "automargin": true,
            "type": "pie"
           }
          ],
          "scatter": [
           {
            "fillpattern": {
             "fillmode": "overlay",
             "size": 10,
             "solidity": 0.2
            },
            "type": "scatter"
           }
          ],
          "scatter3d": [
           {
            "line": {
             "colorbar": {
              "outlinewidth": 0,
              "ticks": ""
             }
            },
            "marker": {
             "colorbar": {
              "outlinewidth": 0,
              "ticks": ""
             }
            },
            "type": "scatter3d"
           }
          ],
          "scattercarpet": [
           {
            "marker": {
             "colorbar": {
              "outlinewidth": 0,
              "ticks": ""
             }
            },
            "type": "scattercarpet"
           }
          ],
          "scattergeo": [
           {
            "marker": {
             "colorbar": {
              "outlinewidth": 0,
              "ticks": ""
             }
            },
            "type": "scattergeo"
           }
          ],
          "scattergl": [
           {
            "marker": {
             "colorbar": {
              "outlinewidth": 0,
              "ticks": ""
             }
            },
            "type": "scattergl"
           }
          ],
          "scattermap": [
           {
            "marker": {
             "colorbar": {
              "outlinewidth": 0,
              "ticks": ""
             }
            },
            "type": "scattermap"
           }
          ],
          "scattermapbox": [
           {
            "marker": {
             "colorbar": {
              "outlinewidth": 0,
              "ticks": ""
             }
            },
            "type": "scattermapbox"
           }
          ],
          "scatterpolar": [
           {
            "marker": {
             "colorbar": {
              "outlinewidth": 0,
              "ticks": ""
             }
            },
            "type": "scatterpolar"
           }
          ],
          "scatterpolargl": [
           {
            "marker": {
             "colorbar": {
              "outlinewidth": 0,
              "ticks": ""
             }
            },
            "type": "scatterpolargl"
           }
          ],
          "scatterternary": [
           {
            "marker": {
             "colorbar": {
              "outlinewidth": 0,
              "ticks": ""
             }
            },
            "type": "scatterternary"
           }
          ],
          "surface": [
           {
            "colorbar": {
             "outlinewidth": 0,
             "ticks": ""
            },
            "colorscale": [
             [
              0,
              "#0d0887"
             ],
             [
              0.1111111111111111,
              "#46039f"
             ],
             [
              0.2222222222222222,
              "#7201a8"
             ],
             [
              0.3333333333333333,
              "#9c179e"
             ],
             [
              0.4444444444444444,
              "#bd3786"
             ],
             [
              0.5555555555555556,
              "#d8576b"
             ],
             [
              0.6666666666666666,
              "#ed7953"
             ],
             [
              0.7777777777777778,
              "#fb9f3a"
             ],
             [
              0.8888888888888888,
              "#fdca26"
             ],
             [
              1,
              "#f0f921"
             ]
            ],
            "type": "surface"
           }
          ],
          "table": [
           {
            "cells": {
             "fill": {
              "color": "#EBF0F8"
             },
             "line": {
              "color": "white"
             }
            },
            "header": {
             "fill": {
              "color": "#C8D4E3"
             },
             "line": {
              "color": "white"
             }
            },
            "type": "table"
           }
          ]
         },
         "layout": {
          "annotationdefaults": {
           "arrowcolor": "#2a3f5f",
           "arrowhead": 0,
           "arrowwidth": 1
          },
          "autotypenumbers": "strict",
          "coloraxis": {
           "colorbar": {
            "outlinewidth": 0,
            "ticks": ""
           }
          },
          "colorscale": {
           "diverging": [
            [
             0,
             "#8e0152"
            ],
            [
             0.1,
             "#c51b7d"
            ],
            [
             0.2,
             "#de77ae"
            ],
            [
             0.3,
             "#f1b6da"
            ],
            [
             0.4,
             "#fde0ef"
            ],
            [
             0.5,
             "#f7f7f7"
            ],
            [
             0.6,
             "#e6f5d0"
            ],
            [
             0.7,
             "#b8e186"
            ],
            [
             0.8,
             "#7fbc41"
            ],
            [
             0.9,
             "#4d9221"
            ],
            [
             1,
             "#276419"
            ]
           ],
           "sequential": [
            [
             0,
             "#0d0887"
            ],
            [
             0.1111111111111111,
             "#46039f"
            ],
            [
             0.2222222222222222,
             "#7201a8"
            ],
            [
             0.3333333333333333,
             "#9c179e"
            ],
            [
             0.4444444444444444,
             "#bd3786"
            ],
            [
             0.5555555555555556,
             "#d8576b"
            ],
            [
             0.6666666666666666,
             "#ed7953"
            ],
            [
             0.7777777777777778,
             "#fb9f3a"
            ],
            [
             0.8888888888888888,
             "#fdca26"
            ],
            [
             1,
             "#f0f921"
            ]
           ],
           "sequentialminus": [
            [
             0,
             "#0d0887"
            ],
            [
             0.1111111111111111,
             "#46039f"
            ],
            [
             0.2222222222222222,
             "#7201a8"
            ],
            [
             0.3333333333333333,
             "#9c179e"
            ],
            [
             0.4444444444444444,
             "#bd3786"
            ],
            [
             0.5555555555555556,
             "#d8576b"
            ],
            [
             0.6666666666666666,
             "#ed7953"
            ],
            [
             0.7777777777777778,
             "#fb9f3a"
            ],
            [
             0.8888888888888888,
             "#fdca26"
            ],
            [
             1,
             "#f0f921"
            ]
           ]
          },
          "colorway": [
           "#636efa",
           "#EF553B",
           "#00cc96",
           "#ab63fa",
           "#FFA15A",
           "#19d3f3",
           "#FF6692",
           "#B6E880",
           "#FF97FF",
           "#FECB52"
          ],
          "font": {
           "color": "#2a3f5f"
          },
          "geo": {
           "bgcolor": "white",
           "lakecolor": "white",
           "landcolor": "#E5ECF6",
           "showlakes": true,
           "showland": true,
           "subunitcolor": "white"
          },
          "hoverlabel": {
           "align": "left"
          },
          "hovermode": "closest",
          "mapbox": {
           "style": "light"
          },
          "paper_bgcolor": "white",
          "plot_bgcolor": "#E5ECF6",
          "polar": {
           "angularaxis": {
            "gridcolor": "white",
            "linecolor": "white",
            "ticks": ""
           },
           "bgcolor": "#E5ECF6",
           "radialaxis": {
            "gridcolor": "white",
            "linecolor": "white",
            "ticks": ""
           }
          },
          "scene": {
           "xaxis": {
            "backgroundcolor": "#E5ECF6",
            "gridcolor": "white",
            "gridwidth": 2,
            "linecolor": "white",
            "showbackground": true,
            "ticks": "",
            "zerolinecolor": "white"
           },
           "yaxis": {
            "backgroundcolor": "#E5ECF6",
            "gridcolor": "white",
            "gridwidth": 2,
            "linecolor": "white",
            "showbackground": true,
            "ticks": "",
            "zerolinecolor": "white"
           },
           "zaxis": {
            "backgroundcolor": "#E5ECF6",
            "gridcolor": "white",
            "gridwidth": 2,
            "linecolor": "white",
            "showbackground": true,
            "ticks": "",
            "zerolinecolor": "white"
           }
          },
          "shapedefaults": {
           "line": {
            "color": "#2a3f5f"
           }
          },
          "ternary": {
           "aaxis": {
            "gridcolor": "white",
            "linecolor": "white",
            "ticks": ""
           },
           "baxis": {
            "gridcolor": "white",
            "linecolor": "white",
            "ticks": ""
           },
           "bgcolor": "#E5ECF6",
           "caxis": {
            "gridcolor": "white",
            "linecolor": "white",
            "ticks": ""
           }
          },
          "title": {
           "x": 0.05
          },
          "xaxis": {
           "automargin": true,
           "gridcolor": "white",
           "linecolor": "white",
           "ticks": "",
           "title": {
            "standoff": 15
           },
           "zerolinecolor": "white",
           "zerolinewidth": 2
          },
          "yaxis": {
           "automargin": true,
           "gridcolor": "white",
           "linecolor": "white",
           "ticks": "",
           "title": {
            "standoff": 15
           },
           "zerolinecolor": "white",
           "zerolinewidth": 2
          }
         }
        },
        "xaxis": {
         "linecolor": "lightgray",
         "range": [
          -0.5,
          2.5
         ],
         "showgrid": false,
         "tickcolor": "lightgray",
         "tickfont": {
          "color": "black",
          "family": "Times New Roman",
          "size": 26
         },
         "tickmode": "array",
         "ticktext": [
          "P",
          "Q",
          "R"
         ],
         "tickvals": [
          0,
          1,
          2
         ]
        },
        "yaxis": {
         "dtick": 0.1,
         "gridcolor": "lightgray",
         "linecolor": "lightgray",
         "range": [
          0,
          0.9
         ],
         "showgrid": true,
         "tickcolor": "lightgray",
         "tickfont": {
          "color": "black",
          "family": "Times New Roman",
          "size": 25
         },
         "ticks": "outside",
         "title": {
          "font": {
           "color": "black",
           "family": "Times New Roman",
           "size": 25
          },
          "text": "Attributions"
         }
        }
       }
      }
     },
     "metadata": {},
     "output_type": "display_data"
    }
   ],
   "source": [
    "# Load JSON\n",
    "with open(PREFIX +\"attributions/syn/attribution.json\", \"r\") as f:\n",
    "    data = json.load(f)\n",
    "global_explanations = data['global_explanations']    \n",
    "generate_attr_plot(global_explanations,config)"
   ]
  },
  {
   "cell_type": "code",
   "execution_count": 17,
   "id": "65d7e825",
   "metadata": {},
   "outputs": [
    {
     "name": "stdout",
     "output_type": "stream",
     "text": [
      "{'shap': {'pgi': {'k=1': [0.029673971235752106], 'k=2': [0.04707258939743042], 'k=3': [0.06591856479644775]}, 'pgu': {'k=1': [0.04495923966169357], 'k=2': [0.024510297924280167], 'k=3': [1.8179417082819782e-08]}}, 'lime': {'pgi': {'k=1': [0.029624709859490395], 'k=2': [0.047130610793828964], 'k=3': [0.06602416932582855]}, 'pgu': {'k=1': [0.04484935477375984], 'k=2': [0.024553637951612473], 'k=3': [1.8179417082819782e-08]}}, 'sp_lime': {'pgi': {'k=1': [0.024534326046705246], 'k=2': [0.049360908567905426], 'k=3': [0.06593552976846695]}, 'pgu': {'k=1': [0.04707634076476097], 'k=2': [0.025295674800872803], 'k=3': [1.8179417082819782e-08]}}, 'pfi': {'pgi': {'k=1': [0.029754795134067535], 'k=2': [0.04940441623330116], 'k=3': [0.06606392562389374]}, 'pgu': {'k=1': [0.044876210391521454], 'k=2': [0.02522917464375496], 'k=3': [1.8179417082819782e-08]}}, 'ig': {'pgi': {'k=1': [0.029794491827487946], 'k=2': [0.047061506658792496], 'k=3': [0.06594599038362503]}, 'pgu': {'k=1': [0.04484673961997032], 'k=2': [0.024671092629432678], 'k=3': [1.8179417082819782e-08]}}, 'sg': {'pgi': {'k=1': [0.029764601960778236], 'k=2': [0.04712411388754845], 'k=3': [0.06594882905483246]}, 'pgu': {'k=1': [0.04484664276242256], 'k=2': [0.024607012048363686], 'k=3': [1.8179417082819782e-08]}}, 'itg': {'pgi': {'k=1': [0.02526133880019188], 'k=2': [0.04495494067668915], 'k=3': [0.0659102350473404]}, 'pgu': {'k=1': [0.04933886229991913], 'k=2': [0.029691310599446297], 'k=3': [1.8179417082819782e-08]}}, 'icc_topo': {'pgi': {'k=1': [0.02969679795205593], 'k=2': [0.0471419058740139], 'k=3': [0.06602437049150467]}, 'pgu': {'k=1': [0.04480249434709549], 'k=2': [0.024478822946548462], 'k=3': [1.8179417082819782e-08]}}, 'icc_shap': {'pgi': {'k=1': [0.029670801013708115], 'k=2': [0.04709930717945099], 'k=3': [0.06594563275575638]}, 'pgu': {'k=1': [0.04494333639740944], 'k=2': [0.024605408310890198], 'k=3': [1.8179417082819782e-08]}}}\n"
     ]
    }
   ],
   "source": [
    "ge_dict = data[\"ge_dict\"]\n",
    "evaluation_metrics,evaluation_metrics_per_sample = evaluate_exp(ge_dict,config,mlp_model.to('cpu'))\n",
    "print(evaluation_metrics)\n"
   ]
  },
  {
   "cell_type": "code",
   "execution_count": 18,
   "id": "69dd49d6",
   "metadata": {},
   "outputs": [
    {
     "name": "stdout",
     "output_type": "stream",
     "text": [
      "shap: PGI AUC = 0.04743443028690914 +- 0.00013928067187151286, PGU AUC = 0.023494963405731446 +- 0.0001143035625090633\n",
      "lime: PGI AUC = 0.047477524693434435 +- 0.0001389063196778517, PGU AUC = 0.02348916217723551 +- 0.00011513451062266266\n",
      "sp_lime: PGI AUC = 0.04729791758116335 +- 0.0001440316099778863, PGU AUC = 0.024416926212919254 +- 0.00010197038146697334\n",
      "pfi: PGI AUC = 0.04865689010359347 +- 0.0001328717747295558, PGU AUC = 0.023833643932982037 +- 0.00010814747816156605\n",
      "ig: PGI AUC = 0.04746587418330212 +- 0.00013850168800928604, PGU AUC = 0.023547237147577105 +- 0.0001138199178110556\n",
      "sg: PGI AUC = 0.047490415507927534 +- 0.00013774286276957003, PGU AUC = 0.023515172407884772 +- 0.00011310415767934398\n",
      "itg: PGI AUC = 0.04527036550454795 +- 0.00016699114319644885, PGU AUC = 0.02718037526666497 +- 7.710363740944899e-05\n",
      "icc_topo: PGI AUC = 0.047501243685061735 +- 0.00014022401694885426, PGU AUC = 0.023440039810181286 +- 0.00011441043975770566\n",
      "icc_shap: PGI AUC = 0.0474537610138456 +- 0.0001393453316125417, PGU AUC = 0.023538542033250755 +- 0.00011266371619398773\n"
     ]
    }
   ],
   "source": [
    "auc_results,auc_show,sum_results,sum_show = aggregate_auc_or_sum(evaluation_metrics_per_sample,config)\n",
    "\n",
    "# Print results nicely\n",
    "for method, vals in auc_show.items():\n",
    "    print(f\"{method}: PGI AUC = {vals['pgi_auc']}, PGU AUC = {vals['pgu_auc']}\")\n"
   ]
  },
  {
   "cell_type": "code",
   "execution_count": 19,
   "id": "0e7113c6",
   "metadata": {},
   "outputs": [
    {
     "name": "stdout",
     "output_type": "stream",
     "text": [
      "shap: PGI SUM = 0.14266513288021088 +- 0.0004090698789623142, PGU SUM = 0.06946955621242523 +- 0.0003170963803254705\n",
      "lime: PGI SUM = 0.14277948439121246 +- 0.00040584059613778137, PGU SUM = 0.0694030150771141 +- 0.0003183779760445929\n",
      "sp_lime: PGI SUM = 0.13983075320720673 +- 0.0004403169752886709, PGU SUM = 0.07237202674150467 +- 0.00027899729517408966\n",
      "pfi: PGI SUM = 0.14522314071655273 +- 0.00039258062871714525, PGU SUM = 0.0701054036617279 +- 0.00030408600231663236\n",
      "ig: PGI SUM = 0.14280197024345398 +- 0.00040127236278756094, PGU SUM = 0.06951785832643509 +- 0.00031656121454502083\n",
      "sg: PGI SUM = 0.1428375542163849 +- 0.0004011643068642873, PGU SUM = 0.06945367902517319 +- 0.00031337788020158446\n",
      "itg: PGI SUM = 0.13612650334835052 +- 0.00048805773230604444, PGU SUM = 0.07903019338846207 +- 0.0002218846829196859\n",
      "icc_topo: PGI SUM = 0.14286306500434875 +- 0.0004094366683683032, PGU SUM = 0.06928133964538574 +- 0.00031674708061853353\n",
      "icc_shap: PGI SUM = 0.14271573722362518 +- 0.0004060860602618681, PGU SUM = 0.06954875588417053 +- 0.00031207240724114753\n"
     ]
    }
   ],
   "source": [
    "for method, vals in sum_show.items():\n",
    "    print(f\"{method}: PGI SUM = {vals['pgi_sum']}, PGU SUM = {vals['pgu_sum']}\")"
   ]
  },
  {
   "cell_type": "markdown",
   "id": "1314c3c3",
   "metadata": {},
   "source": [
    "## Test"
   ]
  },
  {
   "cell_type": "code",
   "execution_count": 2,
   "id": "9cdf7d7f",
   "metadata": {},
   "outputs": [
    {
     "name": "stdout",
     "output_type": "stream",
     "text": [
      "Max Iterations:  100\n",
      "Starting Iteration:  1\n",
      "Max Iterations:  100\n",
      "Starting Iteration:  1\n",
      "Max Iterations:  100\n",
      "Starting Iteration:  1\n",
      "Max Iterations:  100\n",
      "Starting Iteration:  1\n",
      "Max Iterations:  100\n",
      "Starting Iteration:  1\n"
     ]
    }
   ],
   "source": [
    "config = CONFIG['syn']\n",
    "mlp_path = '/home/dhruv/Files/Thesis/Dissertation/Code/models/syn_ann/syn_ann_seed_10/logs/version_0/checkpoints/epoch=161-step=5184.ckpt'\n",
    "scm_path = '/home/dhruv/Files/Thesis/Dissertation/Code/models/syn_nf/syn_nf_seed_10/logs/version_0/checkpoints/epoch=19-step=640.ckpt'\n",
    "mlp_model = MLPLightning.load_from_checkpoint(mlp_path,model = MLP(config['num_features'],config['hidden_layers_ann'],classification=False))\n",
    "scm_model = CausalNF.load_from_checkpoint(scm_path,flow = flow(config['num_features'],config['gd_adjacency'],config['hidden_layers_flow']))\n",
    "ge_dict, evaluation_metrics, time_dict, global_explanations = generate_global_exps(config,mlp_model,scm_model)"
   ]
  },
  {
   "cell_type": "code",
   "execution_count": 3,
   "id": "d8d7c267",
   "metadata": {},
   "outputs": [
    {
     "data": {
      "text/plain": [
       "{'ig': {'W': [0.008685602410414437],\n",
       "  'Z': [0.5541948194138167],\n",
       "  'X': [0.4371195781757688]},\n",
       " 'itg': {'W': [0.008485306748260027],\n",
       "  'Z': [0.497316907775009],\n",
       "  'X': [0.49419778547673104]},\n",
       " 'sg': {'W': [0.13136424456458626],\n",
       "  'Z': [0.3860659244300918],\n",
       "  'X': [0.48256983100532197]},\n",
       " 'shap': {'W': [0.5803365821763931],\n",
       "  'Z': [0.3543153621348831],\n",
       "  'X': [0.06534805568872387]},\n",
       " 'lime': {'W': [0.2837432524861816],\n",
       "  'Z': [0.293367905107146],\n",
       "  'X': [0.4228888424066725]},\n",
       " 'sp_lime': {'X': [0.41602805243460733],\n",
       "  'W': [0.2947343644233361],\n",
       "  'Z': [0.2892375831420565]},\n",
       " 'pfi': {'W': [0.2555289566516876],\n",
       "  'Z': [0.2728649377822876],\n",
       "  'X': [0.47160604596138]},\n",
       " 'icc_topo': {'W': [0.07992755621671677],\n",
       "  'Z': [0.6083893179893494],\n",
       "  'X': [0.31013962626457214]},\n",
       " 'icc_shap': {'W': [0.1287594437599182],\n",
       "  'Z': [0.6630550622940063],\n",
       "  'X': [0.20664207637310028]}}"
      ]
     },
     "execution_count": 3,
     "metadata": {},
     "output_type": "execute_result"
    }
   ],
   "source": [
    "ge_dict"
   ]
  },
  {
   "cell_type": "code",
   "execution_count": 9,
   "id": "0d220fd6",
   "metadata": {},
   "outputs": [
    {
     "data": {
      "application/vnd.plotly.v1+json": {
       "config": {
        "plotlyServerURL": "https://plot.ly"
       },
       "data": [
        {
         "marker": {
          "color": "#E69F00",
          "line": {
           "width": 0.05
          }
         },
         "name": "IG",
         "type": "bar",
         "width": 0.06,
         "x": [
          "W",
          "Z",
          "X"
         ],
         "y": {
          "bdata": "X+tj0sHJgT/I1h/G9rvhPxMzLWXE+ds/",
          "dtype": "f8"
         }
        },
        {
         "marker": {
          "color": "#56B4E9",
          "line": {
           "width": 0.05
          }
         },
         "name": "IxG",
         "type": "bar",
         "width": 0.06,
         "x": [
          "W",
          "Z",
          "X"
         ],
         "y": {
          "bdata": "G6rXl75ggT+HDqlLCtTfPyk0mL/voN8/",
          "dtype": "f8"
         }
        },
        {
         "marker": {
          "color": "#009E73",
          "line": {
           "width": 0.05
          }
         },
         "name": "SG",
         "type": "bar",
         "width": 0.06,
         "x": [
          "W",
          "Z",
          "X"
         ],
         "y": {
          "bdata": "62IiJ4vQwD9+vuHZTbXYPw0QjZJs4t4/",
          "dtype": "f8"
         }
        },
        {
         "marker": {
          "color": "#F5C710",
          "line": {
           "width": 0.05
          }
         },
         "name": "SHAP",
         "type": "bar",
         "width": 0.06,
         "x": [
          "W",
          "Z",
          "X"
         ],
         "y": {
          "bdata": "PtcjBh6S4j/4vTVXGq3WPzROCnKmurA/",
          "dtype": "f8"
         }
        },
        {
         "marker": {
          "color": "#0072B2",
          "line": {
           "width": 0.05
          }
         },
         "name": "LIME",
         "type": "bar",
         "width": 0.06,
         "x": [
          "W",
          "Z",
          "X"
         ],
         "y": {
          "bdata": "cOJ4ddko0j/3ZYgtisbSP5u3/lycENs/",
          "dtype": "f8"
         }
        },
        {
         "marker": {
          "color": "#999999",
          "line": {
           "width": 0.05
          }
         },
         "name": "SP LIME",
         "type": "bar",
         "width": 0.06,
         "x": [
          "W",
          "Z",
          "X"
         ],
         "y": {
          "bdata": "IigNhu3c0j8yoRda3oLSP6s22x80oNo/",
          "dtype": "f8"
         }
        },
        {
         "marker": {
          "color": "#000000",
          "line": {
           "width": 0.05
          }
         },
         "name": "PFI",
         "type": "bar",
         "width": 0.06,
         "x": [
          "W",
          "Z",
          "X"
         ],
         "y": {
          "bdata": "AAAAIJZa0D8AAACAnnbRPwAAACDLLt4/",
          "dtype": "f8"
         }
        },
        {
         "marker": {
          "color": "#D55E00",
          "line": {
           "width": 0.05
          }
         },
         "name": "ICC TOPO",
         "type": "bar",
         "width": 0.06,
         "x": [
          "W",
          "Z",
          "X"
         ],
         "y": {
          "bdata": "AAAA4CF2tD8AAADg7HfjPwAAAOBT2dM/",
          "dtype": "f8"
         }
        },
        {
         "marker": {
          "color": "#CC79A7",
          "line": {
           "width": 0.05
          }
         },
         "name": "ICC SHAP",
         "type": "bar",
         "width": 0.06,
         "x": [
          "W",
          "Z",
          "X"
         ],
         "y": {
          "bdata": "AAAAgDB7wD8AAABAvzflPwAAAGA/c8o/",
          "dtype": "f8"
         }
        }
       ],
       "layout": {
        "bargap": 0.45,
        "bargroupgap": 1,
        "barmode": "group",
        "font": {
         "size": 14
        },
        "legend": {
         "font": {
          "color": "black",
          "family": "Times New Roman",
          "size": 25
         },
         "title": {
          "font": {
           "color": "black",
           "family": "Times New Roman",
           "size": 25
          },
          "text": "Method"
         }
        },
        "plot_bgcolor": "rgba(0,0,0,0)",
        "showlegend": true,
        "template": {
         "data": {
          "bar": [
           {
            "error_x": {
             "color": "#2a3f5f"
            },
            "error_y": {
             "color": "#2a3f5f"
            },
            "marker": {
             "line": {
              "color": "#E5ECF6",
              "width": 0.5
             },
             "pattern": {
              "fillmode": "overlay",
              "size": 10,
              "solidity": 0.2
             }
            },
            "type": "bar"
           }
          ],
          "barpolar": [
           {
            "marker": {
             "line": {
              "color": "#E5ECF6",
              "width": 0.5
             },
             "pattern": {
              "fillmode": "overlay",
              "size": 10,
              "solidity": 0.2
             }
            },
            "type": "barpolar"
           }
          ],
          "carpet": [
           {
            "aaxis": {
             "endlinecolor": "#2a3f5f",
             "gridcolor": "white",
             "linecolor": "white",
             "minorgridcolor": "white",
             "startlinecolor": "#2a3f5f"
            },
            "baxis": {
             "endlinecolor": "#2a3f5f",
             "gridcolor": "white",
             "linecolor": "white",
             "minorgridcolor": "white",
             "startlinecolor": "#2a3f5f"
            },
            "type": "carpet"
           }
          ],
          "choropleth": [
           {
            "colorbar": {
             "outlinewidth": 0,
             "ticks": ""
            },
            "type": "choropleth"
           }
          ],
          "contour": [
           {
            "colorbar": {
             "outlinewidth": 0,
             "ticks": ""
            },
            "colorscale": [
             [
              0,
              "#0d0887"
             ],
             [
              0.1111111111111111,
              "#46039f"
             ],
             [
              0.2222222222222222,
              "#7201a8"
             ],
             [
              0.3333333333333333,
              "#9c179e"
             ],
             [
              0.4444444444444444,
              "#bd3786"
             ],
             [
              0.5555555555555556,
              "#d8576b"
             ],
             [
              0.6666666666666666,
              "#ed7953"
             ],
             [
              0.7777777777777778,
              "#fb9f3a"
             ],
             [
              0.8888888888888888,
              "#fdca26"
             ],
             [
              1,
              "#f0f921"
             ]
            ],
            "type": "contour"
           }
          ],
          "contourcarpet": [
           {
            "colorbar": {
             "outlinewidth": 0,
             "ticks": ""
            },
            "type": "contourcarpet"
           }
          ],
          "heatmap": [
           {
            "colorbar": {
             "outlinewidth": 0,
             "ticks": ""
            },
            "colorscale": [
             [
              0,
              "#0d0887"
             ],
             [
              0.1111111111111111,
              "#46039f"
             ],
             [
              0.2222222222222222,
              "#7201a8"
             ],
             [
              0.3333333333333333,
              "#9c179e"
             ],
             [
              0.4444444444444444,
              "#bd3786"
             ],
             [
              0.5555555555555556,
              "#d8576b"
             ],
             [
              0.6666666666666666,
              "#ed7953"
             ],
             [
              0.7777777777777778,
              "#fb9f3a"
             ],
             [
              0.8888888888888888,
              "#fdca26"
             ],
             [
              1,
              "#f0f921"
             ]
            ],
            "type": "heatmap"
           }
          ],
          "histogram": [
           {
            "marker": {
             "pattern": {
              "fillmode": "overlay",
              "size": 10,
              "solidity": 0.2
             }
            },
            "type": "histogram"
           }
          ],
          "histogram2d": [
           {
            "colorbar": {
             "outlinewidth": 0,
             "ticks": ""
            },
            "colorscale": [
             [
              0,
              "#0d0887"
             ],
             [
              0.1111111111111111,
              "#46039f"
             ],
             [
              0.2222222222222222,
              "#7201a8"
             ],
             [
              0.3333333333333333,
              "#9c179e"
             ],
             [
              0.4444444444444444,
              "#bd3786"
             ],
             [
              0.5555555555555556,
              "#d8576b"
             ],
             [
              0.6666666666666666,
              "#ed7953"
             ],
             [
              0.7777777777777778,
              "#fb9f3a"
             ],
             [
              0.8888888888888888,
              "#fdca26"
             ],
             [
              1,
              "#f0f921"
             ]
            ],
            "type": "histogram2d"
           }
          ],
          "histogram2dcontour": [
           {
            "colorbar": {
             "outlinewidth": 0,
             "ticks": ""
            },
            "colorscale": [
             [
              0,
              "#0d0887"
             ],
             [
              0.1111111111111111,
              "#46039f"
             ],
             [
              0.2222222222222222,
              "#7201a8"
             ],
             [
              0.3333333333333333,
              "#9c179e"
             ],
             [
              0.4444444444444444,
              "#bd3786"
             ],
             [
              0.5555555555555556,
              "#d8576b"
             ],
             [
              0.6666666666666666,
              "#ed7953"
             ],
             [
              0.7777777777777778,
              "#fb9f3a"
             ],
             [
              0.8888888888888888,
              "#fdca26"
             ],
             [
              1,
              "#f0f921"
             ]
            ],
            "type": "histogram2dcontour"
           }
          ],
          "mesh3d": [
           {
            "colorbar": {
             "outlinewidth": 0,
             "ticks": ""
            },
            "type": "mesh3d"
           }
          ],
          "parcoords": [
           {
            "line": {
             "colorbar": {
              "outlinewidth": 0,
              "ticks": ""
             }
            },
            "type": "parcoords"
           }
          ],
          "pie": [
           {
            "automargin": true,
            "type": "pie"
           }
          ],
          "scatter": [
           {
            "fillpattern": {
             "fillmode": "overlay",
             "size": 10,
             "solidity": 0.2
            },
            "type": "scatter"
           }
          ],
          "scatter3d": [
           {
            "line": {
             "colorbar": {
              "outlinewidth": 0,
              "ticks": ""
             }
            },
            "marker": {
             "colorbar": {
              "outlinewidth": 0,
              "ticks": ""
             }
            },
            "type": "scatter3d"
           }
          ],
          "scattercarpet": [
           {
            "marker": {
             "colorbar": {
              "outlinewidth": 0,
              "ticks": ""
             }
            },
            "type": "scattercarpet"
           }
          ],
          "scattergeo": [
           {
            "marker": {
             "colorbar": {
              "outlinewidth": 0,
              "ticks": ""
             }
            },
            "type": "scattergeo"
           }
          ],
          "scattergl": [
           {
            "marker": {
             "colorbar": {
              "outlinewidth": 0,
              "ticks": ""
             }
            },
            "type": "scattergl"
           }
          ],
          "scattermap": [
           {
            "marker": {
             "colorbar": {
              "outlinewidth": 0,
              "ticks": ""
             }
            },
            "type": "scattermap"
           }
          ],
          "scattermapbox": [
           {
            "marker": {
             "colorbar": {
              "outlinewidth": 0,
              "ticks": ""
             }
            },
            "type": "scattermapbox"
           }
          ],
          "scatterpolar": [
           {
            "marker": {
             "colorbar": {
              "outlinewidth": 0,
              "ticks": ""
             }
            },
            "type": "scatterpolar"
           }
          ],
          "scatterpolargl": [
           {
            "marker": {
             "colorbar": {
              "outlinewidth": 0,
              "ticks": ""
             }
            },
            "type": "scatterpolargl"
           }
          ],
          "scatterternary": [
           {
            "marker": {
             "colorbar": {
              "outlinewidth": 0,
              "ticks": ""
             }
            },
            "type": "scatterternary"
           }
          ],
          "surface": [
           {
            "colorbar": {
             "outlinewidth": 0,
             "ticks": ""
            },
            "colorscale": [
             [
              0,
              "#0d0887"
             ],
             [
              0.1111111111111111,
              "#46039f"
             ],
             [
              0.2222222222222222,
              "#7201a8"
             ],
             [
              0.3333333333333333,
              "#9c179e"
             ],
             [
              0.4444444444444444,
              "#bd3786"
             ],
             [
              0.5555555555555556,
              "#d8576b"
             ],
             [
              0.6666666666666666,
              "#ed7953"
             ],
             [
              0.7777777777777778,
              "#fb9f3a"
             ],
             [
              0.8888888888888888,
              "#fdca26"
             ],
             [
              1,
              "#f0f921"
             ]
            ],
            "type": "surface"
           }
          ],
          "table": [
           {
            "cells": {
             "fill": {
              "color": "#EBF0F8"
             },
             "line": {
              "color": "white"
             }
            },
            "header": {
             "fill": {
              "color": "#C8D4E3"
             },
             "line": {
              "color": "white"
             }
            },
            "type": "table"
           }
          ]
         },
         "layout": {
          "annotationdefaults": {
           "arrowcolor": "#2a3f5f",
           "arrowhead": 0,
           "arrowwidth": 1
          },
          "autotypenumbers": "strict",
          "coloraxis": {
           "colorbar": {
            "outlinewidth": 0,
            "ticks": ""
           }
          },
          "colorscale": {
           "diverging": [
            [
             0,
             "#8e0152"
            ],
            [
             0.1,
             "#c51b7d"
            ],
            [
             0.2,
             "#de77ae"
            ],
            [
             0.3,
             "#f1b6da"
            ],
            [
             0.4,
             "#fde0ef"
            ],
            [
             0.5,
             "#f7f7f7"
            ],
            [
             0.6,
             "#e6f5d0"
            ],
            [
             0.7,
             "#b8e186"
            ],
            [
             0.8,
             "#7fbc41"
            ],
            [
             0.9,
             "#4d9221"
            ],
            [
             1,
             "#276419"
            ]
           ],
           "sequential": [
            [
             0,
             "#0d0887"
            ],
            [
             0.1111111111111111,
             "#46039f"
            ],
            [
             0.2222222222222222,
             "#7201a8"
            ],
            [
             0.3333333333333333,
             "#9c179e"
            ],
            [
             0.4444444444444444,
             "#bd3786"
            ],
            [
             0.5555555555555556,
             "#d8576b"
            ],
            [
             0.6666666666666666,
             "#ed7953"
            ],
            [
             0.7777777777777778,
             "#fb9f3a"
            ],
            [
             0.8888888888888888,
             "#fdca26"
            ],
            [
             1,
             "#f0f921"
            ]
           ],
           "sequentialminus": [
            [
             0,
             "#0d0887"
            ],
            [
             0.1111111111111111,
             "#46039f"
            ],
            [
             0.2222222222222222,
             "#7201a8"
            ],
            [
             0.3333333333333333,
             "#9c179e"
            ],
            [
             0.4444444444444444,
             "#bd3786"
            ],
            [
             0.5555555555555556,
             "#d8576b"
            ],
            [
             0.6666666666666666,
             "#ed7953"
            ],
            [
             0.7777777777777778,
             "#fb9f3a"
            ],
            [
             0.8888888888888888,
             "#fdca26"
            ],
            [
             1,
             "#f0f921"
            ]
           ]
          },
          "colorway": [
           "#636efa",
           "#EF553B",
           "#00cc96",
           "#ab63fa",
           "#FFA15A",
           "#19d3f3",
           "#FF6692",
           "#B6E880",
           "#FF97FF",
           "#FECB52"
          ],
          "font": {
           "color": "#2a3f5f"
          },
          "geo": {
           "bgcolor": "white",
           "lakecolor": "white",
           "landcolor": "#E5ECF6",
           "showlakes": true,
           "showland": true,
           "subunitcolor": "white"
          },
          "hoverlabel": {
           "align": "left"
          },
          "hovermode": "closest",
          "mapbox": {
           "style": "light"
          },
          "paper_bgcolor": "white",
          "plot_bgcolor": "#E5ECF6",
          "polar": {
           "angularaxis": {
            "gridcolor": "white",
            "linecolor": "white",
            "ticks": ""
           },
           "bgcolor": "#E5ECF6",
           "radialaxis": {
            "gridcolor": "white",
            "linecolor": "white",
            "ticks": ""
           }
          },
          "scene": {
           "xaxis": {
            "backgroundcolor": "#E5ECF6",
            "gridcolor": "white",
            "gridwidth": 2,
            "linecolor": "white",
            "showbackground": true,
            "ticks": "",
            "zerolinecolor": "white"
           },
           "yaxis": {
            "backgroundcolor": "#E5ECF6",
            "gridcolor": "white",
            "gridwidth": 2,
            "linecolor": "white",
            "showbackground": true,
            "ticks": "",
            "zerolinecolor": "white"
           },
           "zaxis": {
            "backgroundcolor": "#E5ECF6",
            "gridcolor": "white",
            "gridwidth": 2,
            "linecolor": "white",
            "showbackground": true,
            "ticks": "",
            "zerolinecolor": "white"
           }
          },
          "shapedefaults": {
           "line": {
            "color": "#2a3f5f"
           }
          },
          "ternary": {
           "aaxis": {
            "gridcolor": "white",
            "linecolor": "white",
            "ticks": ""
           },
           "baxis": {
            "gridcolor": "white",
            "linecolor": "white",
            "ticks": ""
           },
           "bgcolor": "#E5ECF6",
           "caxis": {
            "gridcolor": "white",
            "linecolor": "white",
            "ticks": ""
           }
          },
          "title": {
           "x": 0.05
          },
          "xaxis": {
           "automargin": true,
           "gridcolor": "white",
           "linecolor": "white",
           "ticks": "",
           "title": {
            "standoff": 15
           },
           "zerolinecolor": "white",
           "zerolinewidth": 2
          },
          "yaxis": {
           "automargin": true,
           "gridcolor": "white",
           "linecolor": "white",
           "ticks": "",
           "title": {
            "standoff": 15
           },
           "zerolinecolor": "white",
           "zerolinewidth": 2
          }
         }
        },
        "xaxis": {
         "linecolor": "lightgray",
         "range": [
          -0.5,
          2.5
         ],
         "showgrid": false,
         "tickcolor": "lightgray",
         "tickfont": {
          "color": "black",
          "family": "Times New Roman",
          "size": 26
         },
         "tickmode": "array",
         "ticktext": [
          "W",
          "Z",
          "X"
         ],
         "tickvals": [
          0,
          1,
          2
         ]
        },
        "yaxis": {
         "dtick": 0.1,
         "gridcolor": "lightgray",
         "linecolor": "lightgray",
         "range": [
          0,
          0.9
         ],
         "showgrid": true,
         "tickcolor": "lightgray",
         "tickfont": {
          "color": "black",
          "family": "Times New Roman",
          "size": 25
         },
         "ticks": "outside",
         "title": {
          "font": {
           "color": "black",
           "family": "Times New Roman",
           "size": 25
          },
          "text": "Attributions"
         }
        }
       }
      }
     },
     "metadata": {},
     "output_type": "display_data"
    }
   ],
   "source": [
    "generate_attr_plot(global_explanations,config)"
   ]
  },
  {
   "cell_type": "code",
   "execution_count": 7,
   "id": "3964b8ca",
   "metadata": {},
   "outputs": [
    {
     "name": "stdout",
     "output_type": "stream",
     "text": [
      "ig: PGU Sum = 0.128419, PGI Sum = 0.000436\n",
      "itg: PGU Sum = 0.128419, PGI Sum = 0.000436\n",
      "sg: PGU Sum = 0.128418, PGI Sum = 0.000437\n",
      "shap: PGU Sum = 0.128420, PGI Sum = 0.000435\n",
      "lime: PGU Sum = 0.128418, PGI Sum = 0.000437\n",
      "sp_lime: PGU Sum = 0.128420, PGI Sum = 0.000435\n",
      "pfi: PGU Sum = 0.128418, PGI Sum = 0.000437\n",
      "icc_topo: PGU Sum = 0.128419, PGI Sum = 0.000436\n",
      "icc_shap: PGU Sum = 0.128419, PGI Sum = 0.000436\n"
     ]
    }
   ],
   "source": [
    "# Load JSON\n",
    "with open(\"/home/dhruv/Files/Thesis/Dissertation/Code/attributions/syn/attribution.json\", \"r\") as f:\n",
    "    data = json.load(f)\n",
    "\n",
    "# Call the function\n",
    "summary = compute_pgu_pgi_sums(data[\"evaluation_metrics\"])\n",
    "\n",
    "# Display the results\n",
    "for method, scores in summary.items():\n",
    "    print(f\"{method}: PGU Sum = {scores['pgu_sum']:.6f}, PGI Sum = {scores['pgi_sum']:.6f}\")\n"
   ]
  }
 ],
 "metadata": {
  "kernelspec": {
   "display_name": "Dhruv",
   "language": "python",
   "name": "python3"
  },
  "language_info": {
   "codemirror_mode": {
    "name": "ipython",
    "version": 3
   },
   "file_extension": ".py",
   "mimetype": "text/x-python",
   "name": "python",
   "nbconvert_exporter": "python",
   "pygments_lexer": "ipython3",
   "version": "3.12.2"
  }
 },
 "nbformat": 4,
 "nbformat_minor": 5
}
